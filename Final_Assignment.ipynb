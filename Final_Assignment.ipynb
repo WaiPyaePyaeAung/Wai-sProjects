{
  "cells": [
    {
      "cell_type": "markdown",
      "metadata": {
        "id": "XwZTUew7-0h8"
      },
      "source": [
        "<center>\n",
        "    <img src=\"https://s3-api.us-geo.objectstorage.softlayer.net/cf-courses-data/CognitiveClass/Logos/organization_logo/organization_logo.png\" width=\"300\" alt=\"cognitiveclass.ai logo\"  />\n",
        "</center>\n"
      ]
    },
    {
      "cell_type": "markdown",
      "metadata": {
        "id": "2VLPnyau-0iM"
      },
      "source": [
        "<h1>Extracting and Visualizing Stock Data</h1>\n",
        "<h2>Description</h2>\n"
      ]
    },
    {
      "cell_type": "markdown",
      "metadata": {
        "id": "KqKjBm6t-0iO"
      },
      "source": [
        "Extracting essential data from a dataset and displaying it is a necessary part of data science; therefore individuals can make correct decisions based on the data. In this assignment, you will extract some stock data, you will then display this data in a graph.\n"
      ]
    },
    {
      "cell_type": "markdown",
      "metadata": {
        "id": "F70bURn9-0iQ"
      },
      "source": [
        "<h2>Table of Contents</h2>\n",
        "<div class=\"alert alert-block alert-info\" style=\"margin-top: 20px\">\n",
        "    <ul>\n",
        "        <li>Define a Function that Makes a Graph</li>\n",
        "        <li>Question 1: Use yfinance to Extract Stock Data</li>\n",
        "        <li>Question 2: Use Webscraping to Extract Tesla Revenue Data</li>\n",
        "        <li>Question 3: Use yfinance to Extract Stock Data</li>\n",
        "        <li>Question 4: Use Webscraping to Extract GME Revenue Data</li>\n",
        "        <li>Question 5: Plot Tesla Stock Graph</li>\n",
        "        <li>Question 6: Plot GameStop Stock Graph</li>\n",
        "    </ul>\n",
        "<p>\n",
        "    Estimated Time Needed: <strong>30 min</strong></p>\n",
        "</div>\n",
        "\n",
        "<hr>\n"
      ]
    },
    {
      "cell_type": "code",
      "execution_count": 1,
      "metadata": {
        "colab": {
          "base_uri": "https://localhost:8080/"
        },
        "id": "vdJz8Z96-0iS",
        "outputId": "ec2b2b54-a759-4bb8-dabf-9badce1d5deb"
      },
      "outputs": [
        {
          "output_type": "stream",
          "name": "stdout",
          "text": [
            "Looking in indexes: https://pypi.org/simple, https://us-python.pkg.dev/colab-wheels/public/simple/\n",
            "Collecting yfinance==0.1.67\n",
            "  Downloading yfinance-0.1.67-py2.py3-none-any.whl (25 kB)\n",
            "Requirement already satisfied: multitasking>=0.0.7 in /usr/local/lib/python3.7/dist-packages (from yfinance==0.1.67) (0.0.11)\n",
            "Requirement already satisfied: pandas>=0.24 in /usr/local/lib/python3.7/dist-packages (from yfinance==0.1.67) (1.3.5)\n",
            "Requirement already satisfied: numpy>=1.15 in /usr/local/lib/python3.7/dist-packages (from yfinance==0.1.67) (1.21.6)\n",
            "Collecting lxml>=4.5.1\n",
            "  Downloading lxml-4.9.1-cp37-cp37m-manylinux_2_17_x86_64.manylinux2014_x86_64.manylinux_2_24_x86_64.whl (6.4 MB)\n",
            "\u001b[K     |████████████████████████████████| 6.4 MB 6.1 MB/s \n",
            "\u001b[?25hRequirement already satisfied: requests>=2.20 in /usr/local/lib/python3.7/dist-packages (from yfinance==0.1.67) (2.23.0)\n",
            "Requirement already satisfied: python-dateutil>=2.7.3 in /usr/local/lib/python3.7/dist-packages (from pandas>=0.24->yfinance==0.1.67) (2.8.2)\n",
            "Requirement already satisfied: pytz>=2017.3 in /usr/local/lib/python3.7/dist-packages (from pandas>=0.24->yfinance==0.1.67) (2022.1)\n",
            "Requirement already satisfied: six>=1.5 in /usr/local/lib/python3.7/dist-packages (from python-dateutil>=2.7.3->pandas>=0.24->yfinance==0.1.67) (1.15.0)\n",
            "Requirement already satisfied: certifi>=2017.4.17 in /usr/local/lib/python3.7/dist-packages (from requests>=2.20->yfinance==0.1.67) (2022.6.15)\n",
            "Requirement already satisfied: urllib3!=1.25.0,!=1.25.1,<1.26,>=1.21.1 in /usr/local/lib/python3.7/dist-packages (from requests>=2.20->yfinance==0.1.67) (1.24.3)\n",
            "Requirement already satisfied: chardet<4,>=3.0.2 in /usr/local/lib/python3.7/dist-packages (from requests>=2.20->yfinance==0.1.67) (3.0.4)\n",
            "Requirement already satisfied: idna<3,>=2.5 in /usr/local/lib/python3.7/dist-packages (from requests>=2.20->yfinance==0.1.67) (2.10)\n",
            "Installing collected packages: lxml, yfinance\n",
            "  Attempting uninstall: lxml\n",
            "    Found existing installation: lxml 4.2.6\n",
            "    Uninstalling lxml-4.2.6:\n",
            "      Successfully uninstalled lxml-4.2.6\n",
            "Successfully installed lxml-4.9.1 yfinance-0.1.67\n",
            "/bin/bash: mamba: command not found\n"
          ]
        }
      ],
      "source": [
        "!pip install yfinance==0.1.67\n",
        "#!pip install pandas==1.3.3\n",
        "#!pip install requests==2.26.0\n",
        "!mamba install bs4==4.10.0 -y\n",
        "#!pip install plotly==5.3.1"
      ]
    },
    {
      "cell_type": "code",
      "execution_count": 2,
      "metadata": {
        "id": "kfKaI7-M-0iU"
      },
      "outputs": [],
      "source": [
        "import yfinance as yf\n",
        "import pandas as pd\n",
        "import requests\n",
        "from bs4 import BeautifulSoup\n",
        "import plotly.graph_objects as go\n",
        "from plotly.subplots import make_subplots"
      ]
    },
    {
      "cell_type": "markdown",
      "metadata": {
        "id": "O3l1U_cb-0iV"
      },
      "source": [
        "## Define Graphing Function\n"
      ]
    },
    {
      "cell_type": "markdown",
      "metadata": {
        "id": "9fIdWnwu-0iW"
      },
      "source": [
        "In this section, we define the function `make_graph`. You don't have to know how the function works, you should only care about the inputs. It takes a dataframe with stock data (dataframe must contain Date and Close columns), a dataframe with revenue data (dataframe must contain Date and Revenue columns), and the name of the stock.\n"
      ]
    },
    {
      "cell_type": "code",
      "execution_count": 3,
      "metadata": {
        "id": "XIrWXrO6-0iX"
      },
      "outputs": [],
      "source": [
        "def make_graph(stock_data, revenue_data, stock):\n",
        "    fig = make_subplots(rows=2, cols=1, shared_xaxes=True, subplot_titles=(\"Historical Share Price\", \"Historical Revenue\"), vertical_spacing = .3)\n",
        "    stock_data_specific = stock_data[stock_data.Date <= '2021--06-14']\n",
        "    revenue_data_specific = revenue_data[revenue_data.Date <= '2021-04-30']\n",
        "    fig.add_trace(go.Scatter(x=pd.to_datetime(stock_data_specific.Date, infer_datetime_format=True), y=stock_data_specific.Close.astype(\"float\"), name=\"Share Price\"), row=1, col=1)\n",
        "    fig.add_trace(go.Scatter(x=pd.to_datetime(revenue_data_specific.Date, infer_datetime_format=True), y=revenue_data_specific.Revenue.astype(\"float\"), name=\"Revenue\"), row=2, col=1)\n",
        "    fig.update_xaxes(title_text=\"Date\", row=1, col=1)\n",
        "    fig.update_xaxes(title_text=\"Date\", row=2, col=1)\n",
        "    fig.update_yaxes(title_text=\"Price ($US)\", row=1, col=1)\n",
        "    fig.update_yaxes(title_text=\"Revenue ($US Millions)\", row=2, col=1)\n",
        "    fig.update_layout(showlegend=False,\n",
        "    height=900,\n",
        "    title=stock,\n",
        "    xaxis_rangeslider_visible=True)\n",
        "    fig.show()"
      ]
    },
    {
      "cell_type": "markdown",
      "metadata": {
        "id": "oTXRrRnh-0iZ"
      },
      "source": [
        "## Question 1: Use yfinance to Extract Stock Data\n"
      ]
    },
    {
      "cell_type": "markdown",
      "metadata": {
        "id": "nzG0pDG8-0ia"
      },
      "source": [
        "Using the `Ticker` function enter the ticker symbol of the stock we want to extract data on to create a ticker object. The stock is Tesla and its ticker symbol is `TSLA`.\n"
      ]
    },
    {
      "cell_type": "code",
      "execution_count": 5,
      "metadata": {
        "colab": {
          "base_uri": "https://localhost:8080/"
        },
        "id": "9Op6TUhK-0ib",
        "outputId": "f086caf7-9c5d-4e04-f8a3-49fb36dd2ad0"
      },
      "outputs": [
        {
          "output_type": "execute_result",
          "data": {
            "text/plain": [
              "yfinance.Ticker object <TSLA>"
            ]
          },
          "metadata": {},
          "execution_count": 5
        }
      ],
      "source": [
        "Tesla=yf.Ticker(\"TSLA\")\n",
        "Tesla"
      ]
    },
    {
      "cell_type": "markdown",
      "metadata": {
        "id": "o7h7ehv3-0ic"
      },
      "source": [
        "Using the ticker object and the function `history` extract stock information and save it in a dataframe named `tesla_data`. Set the `period` parameter to `max` so we get information for the maximum amount of time.\n"
      ]
    },
    {
      "cell_type": "code",
      "execution_count": 7,
      "metadata": {
        "colab": {
          "base_uri": "https://localhost:8080/",
          "height": 455
        },
        "id": "RkttvBoN-0ic",
        "outputId": "e56f8f10-251c-4758-ead8-ebe8c1a64bd7"
      },
      "outputs": [
        {
          "output_type": "execute_result",
          "data": {
            "text/plain": [
              "                  Open        High         Low       Close    Volume  \\\n",
              "Date                                                                   \n",
              "2010-06-29    3.800000    5.000000    3.508000    4.778000  93831500   \n",
              "2010-06-30    5.158000    6.084000    4.660000    4.766000  85935500   \n",
              "2010-07-01    5.000000    5.184000    4.054000    4.392000  41094000   \n",
              "2010-07-02    4.600000    4.620000    3.742000    3.840000  25699000   \n",
              "2010-07-06    4.000000    4.000000    3.166000    3.222000  34334500   \n",
              "...                ...         ...         ...         ...       ...   \n",
              "2022-07-25  816.650024  822.440002  802.200012  805.299988  21357800   \n",
              "2022-07-26  799.539978  801.929993  768.789978  776.580017  22273600   \n",
              "2022-07-27  791.429993  827.780029  785.369995  824.460022  29370000   \n",
              "2022-07-28  840.200012  849.900024  818.400024  842.700012  28241000   \n",
              "2022-07-29  842.099976  894.960022  837.299988  891.450012  31699000   \n",
              "\n",
              "            Dividends  Stock Splits  \n",
              "Date                                 \n",
              "2010-06-29          0           0.0  \n",
              "2010-06-30          0           0.0  \n",
              "2010-07-01          0           0.0  \n",
              "2010-07-02          0           0.0  \n",
              "2010-07-06          0           0.0  \n",
              "...               ...           ...  \n",
              "2022-07-25          0           0.0  \n",
              "2022-07-26          0           0.0  \n",
              "2022-07-27          0           0.0  \n",
              "2022-07-28          0           0.0  \n",
              "2022-07-29          0           0.0  \n",
              "\n",
              "[3043 rows x 7 columns]"
            ],
            "text/html": [
              "\n",
              "  <div id=\"df-5aa19be7-4c3c-45b6-a6b3-c8a458b38583\">\n",
              "    <div class=\"colab-df-container\">\n",
              "      <div>\n",
              "<style scoped>\n",
              "    .dataframe tbody tr th:only-of-type {\n",
              "        vertical-align: middle;\n",
              "    }\n",
              "\n",
              "    .dataframe tbody tr th {\n",
              "        vertical-align: top;\n",
              "    }\n",
              "\n",
              "    .dataframe thead th {\n",
              "        text-align: right;\n",
              "    }\n",
              "</style>\n",
              "<table border=\"1\" class=\"dataframe\">\n",
              "  <thead>\n",
              "    <tr style=\"text-align: right;\">\n",
              "      <th></th>\n",
              "      <th>Open</th>\n",
              "      <th>High</th>\n",
              "      <th>Low</th>\n",
              "      <th>Close</th>\n",
              "      <th>Volume</th>\n",
              "      <th>Dividends</th>\n",
              "      <th>Stock Splits</th>\n",
              "    </tr>\n",
              "    <tr>\n",
              "      <th>Date</th>\n",
              "      <th></th>\n",
              "      <th></th>\n",
              "      <th></th>\n",
              "      <th></th>\n",
              "      <th></th>\n",
              "      <th></th>\n",
              "      <th></th>\n",
              "    </tr>\n",
              "  </thead>\n",
              "  <tbody>\n",
              "    <tr>\n",
              "      <th>2010-06-29</th>\n",
              "      <td>3.800000</td>\n",
              "      <td>5.000000</td>\n",
              "      <td>3.508000</td>\n",
              "      <td>4.778000</td>\n",
              "      <td>93831500</td>\n",
              "      <td>0</td>\n",
              "      <td>0.0</td>\n",
              "    </tr>\n",
              "    <tr>\n",
              "      <th>2010-06-30</th>\n",
              "      <td>5.158000</td>\n",
              "      <td>6.084000</td>\n",
              "      <td>4.660000</td>\n",
              "      <td>4.766000</td>\n",
              "      <td>85935500</td>\n",
              "      <td>0</td>\n",
              "      <td>0.0</td>\n",
              "    </tr>\n",
              "    <tr>\n",
              "      <th>2010-07-01</th>\n",
              "      <td>5.000000</td>\n",
              "      <td>5.184000</td>\n",
              "      <td>4.054000</td>\n",
              "      <td>4.392000</td>\n",
              "      <td>41094000</td>\n",
              "      <td>0</td>\n",
              "      <td>0.0</td>\n",
              "    </tr>\n",
              "    <tr>\n",
              "      <th>2010-07-02</th>\n",
              "      <td>4.600000</td>\n",
              "      <td>4.620000</td>\n",
              "      <td>3.742000</td>\n",
              "      <td>3.840000</td>\n",
              "      <td>25699000</td>\n",
              "      <td>0</td>\n",
              "      <td>0.0</td>\n",
              "    </tr>\n",
              "    <tr>\n",
              "      <th>2010-07-06</th>\n",
              "      <td>4.000000</td>\n",
              "      <td>4.000000</td>\n",
              "      <td>3.166000</td>\n",
              "      <td>3.222000</td>\n",
              "      <td>34334500</td>\n",
              "      <td>0</td>\n",
              "      <td>0.0</td>\n",
              "    </tr>\n",
              "    <tr>\n",
              "      <th>...</th>\n",
              "      <td>...</td>\n",
              "      <td>...</td>\n",
              "      <td>...</td>\n",
              "      <td>...</td>\n",
              "      <td>...</td>\n",
              "      <td>...</td>\n",
              "      <td>...</td>\n",
              "    </tr>\n",
              "    <tr>\n",
              "      <th>2022-07-25</th>\n",
              "      <td>816.650024</td>\n",
              "      <td>822.440002</td>\n",
              "      <td>802.200012</td>\n",
              "      <td>805.299988</td>\n",
              "      <td>21357800</td>\n",
              "      <td>0</td>\n",
              "      <td>0.0</td>\n",
              "    </tr>\n",
              "    <tr>\n",
              "      <th>2022-07-26</th>\n",
              "      <td>799.539978</td>\n",
              "      <td>801.929993</td>\n",
              "      <td>768.789978</td>\n",
              "      <td>776.580017</td>\n",
              "      <td>22273600</td>\n",
              "      <td>0</td>\n",
              "      <td>0.0</td>\n",
              "    </tr>\n",
              "    <tr>\n",
              "      <th>2022-07-27</th>\n",
              "      <td>791.429993</td>\n",
              "      <td>827.780029</td>\n",
              "      <td>785.369995</td>\n",
              "      <td>824.460022</td>\n",
              "      <td>29370000</td>\n",
              "      <td>0</td>\n",
              "      <td>0.0</td>\n",
              "    </tr>\n",
              "    <tr>\n",
              "      <th>2022-07-28</th>\n",
              "      <td>840.200012</td>\n",
              "      <td>849.900024</td>\n",
              "      <td>818.400024</td>\n",
              "      <td>842.700012</td>\n",
              "      <td>28241000</td>\n",
              "      <td>0</td>\n",
              "      <td>0.0</td>\n",
              "    </tr>\n",
              "    <tr>\n",
              "      <th>2022-07-29</th>\n",
              "      <td>842.099976</td>\n",
              "      <td>894.960022</td>\n",
              "      <td>837.299988</td>\n",
              "      <td>891.450012</td>\n",
              "      <td>31699000</td>\n",
              "      <td>0</td>\n",
              "      <td>0.0</td>\n",
              "    </tr>\n",
              "  </tbody>\n",
              "</table>\n",
              "<p>3043 rows × 7 columns</p>\n",
              "</div>\n",
              "      <button class=\"colab-df-convert\" onclick=\"convertToInteractive('df-5aa19be7-4c3c-45b6-a6b3-c8a458b38583')\"\n",
              "              title=\"Convert this dataframe to an interactive table.\"\n",
              "              style=\"display:none;\">\n",
              "        \n",
              "  <svg xmlns=\"http://www.w3.org/2000/svg\" height=\"24px\"viewBox=\"0 0 24 24\"\n",
              "       width=\"24px\">\n",
              "    <path d=\"M0 0h24v24H0V0z\" fill=\"none\"/>\n",
              "    <path d=\"M18.56 5.44l.94 2.06.94-2.06 2.06-.94-2.06-.94-.94-2.06-.94 2.06-2.06.94zm-11 1L8.5 8.5l.94-2.06 2.06-.94-2.06-.94L8.5 2.5l-.94 2.06-2.06.94zm10 10l.94 2.06.94-2.06 2.06-.94-2.06-.94-.94-2.06-.94 2.06-2.06.94z\"/><path d=\"M17.41 7.96l-1.37-1.37c-.4-.4-.92-.59-1.43-.59-.52 0-1.04.2-1.43.59L10.3 9.45l-7.72 7.72c-.78.78-.78 2.05 0 2.83L4 21.41c.39.39.9.59 1.41.59.51 0 1.02-.2 1.41-.59l7.78-7.78 2.81-2.81c.8-.78.8-2.07 0-2.86zM5.41 20L4 18.59l7.72-7.72 1.47 1.35L5.41 20z\"/>\n",
              "  </svg>\n",
              "      </button>\n",
              "      \n",
              "  <style>\n",
              "    .colab-df-container {\n",
              "      display:flex;\n",
              "      flex-wrap:wrap;\n",
              "      gap: 12px;\n",
              "    }\n",
              "\n",
              "    .colab-df-convert {\n",
              "      background-color: #E8F0FE;\n",
              "      border: none;\n",
              "      border-radius: 50%;\n",
              "      cursor: pointer;\n",
              "      display: none;\n",
              "      fill: #1967D2;\n",
              "      height: 32px;\n",
              "      padding: 0 0 0 0;\n",
              "      width: 32px;\n",
              "    }\n",
              "\n",
              "    .colab-df-convert:hover {\n",
              "      background-color: #E2EBFA;\n",
              "      box-shadow: 0px 1px 2px rgba(60, 64, 67, 0.3), 0px 1px 3px 1px rgba(60, 64, 67, 0.15);\n",
              "      fill: #174EA6;\n",
              "    }\n",
              "\n",
              "    [theme=dark] .colab-df-convert {\n",
              "      background-color: #3B4455;\n",
              "      fill: #D2E3FC;\n",
              "    }\n",
              "\n",
              "    [theme=dark] .colab-df-convert:hover {\n",
              "      background-color: #434B5C;\n",
              "      box-shadow: 0px 1px 3px 1px rgba(0, 0, 0, 0.15);\n",
              "      filter: drop-shadow(0px 1px 2px rgba(0, 0, 0, 0.3));\n",
              "      fill: #FFFFFF;\n",
              "    }\n",
              "  </style>\n",
              "\n",
              "      <script>\n",
              "        const buttonEl =\n",
              "          document.querySelector('#df-5aa19be7-4c3c-45b6-a6b3-c8a458b38583 button.colab-df-convert');\n",
              "        buttonEl.style.display =\n",
              "          google.colab.kernel.accessAllowed ? 'block' : 'none';\n",
              "\n",
              "        async function convertToInteractive(key) {\n",
              "          const element = document.querySelector('#df-5aa19be7-4c3c-45b6-a6b3-c8a458b38583');\n",
              "          const dataTable =\n",
              "            await google.colab.kernel.invokeFunction('convertToInteractive',\n",
              "                                                     [key], {});\n",
              "          if (!dataTable) return;\n",
              "\n",
              "          const docLinkHtml = 'Like what you see? Visit the ' +\n",
              "            '<a target=\"_blank\" href=https://colab.research.google.com/notebooks/data_table.ipynb>data table notebook</a>'\n",
              "            + ' to learn more about interactive tables.';\n",
              "          element.innerHTML = '';\n",
              "          dataTable['output_type'] = 'display_data';\n",
              "          await google.colab.output.renderOutput(dataTable, element);\n",
              "          const docLink = document.createElement('div');\n",
              "          docLink.innerHTML = docLinkHtml;\n",
              "          element.appendChild(docLink);\n",
              "        }\n",
              "      </script>\n",
              "    </div>\n",
              "  </div>\n",
              "  "
            ]
          },
          "metadata": {},
          "execution_count": 7
        }
      ],
      "source": [
        "tesla_data=Tesla.history(period=\"max\")\n",
        "tesla_data"
      ]
    },
    {
      "cell_type": "markdown",
      "metadata": {
        "id": "O2gvHJP6-0id"
      },
      "source": [
        "**Reset the index** using the `reset_index(inplace=True)` function on the tesla_data DataFrame and display the first five rows of the `tesla_data` dataframe using the `head` function. Take a screenshot of the results and code from the beginning of Question 1 to the results below.\n"
      ]
    },
    {
      "cell_type": "code",
      "execution_count": 9,
      "metadata": {
        "colab": {
          "base_uri": "https://localhost:8080/",
          "height": 206
        },
        "id": "4X5zQJqx-0id",
        "outputId": "af4b5c5d-6dd5-4dc0-a7f8-61c7a50fbba9"
      },
      "outputs": [
        {
          "output_type": "execute_result",
          "data": {
            "text/plain": [
              "        Date   Open   High    Low  Close    Volume  Dividends  Stock Splits\n",
              "0 2010-06-29  3.800  5.000  3.508  4.778  93831500          0           0.0\n",
              "1 2010-06-30  5.158  6.084  4.660  4.766  85935500          0           0.0\n",
              "2 2010-07-01  5.000  5.184  4.054  4.392  41094000          0           0.0\n",
              "3 2010-07-02  4.600  4.620  3.742  3.840  25699000          0           0.0\n",
              "4 2010-07-06  4.000  4.000  3.166  3.222  34334500          0           0.0"
            ],
            "text/html": [
              "\n",
              "  <div id=\"df-14302053-8fdd-4dc6-9fcd-7c87b71201e5\">\n",
              "    <div class=\"colab-df-container\">\n",
              "      <div>\n",
              "<style scoped>\n",
              "    .dataframe tbody tr th:only-of-type {\n",
              "        vertical-align: middle;\n",
              "    }\n",
              "\n",
              "    .dataframe tbody tr th {\n",
              "        vertical-align: top;\n",
              "    }\n",
              "\n",
              "    .dataframe thead th {\n",
              "        text-align: right;\n",
              "    }\n",
              "</style>\n",
              "<table border=\"1\" class=\"dataframe\">\n",
              "  <thead>\n",
              "    <tr style=\"text-align: right;\">\n",
              "      <th></th>\n",
              "      <th>Date</th>\n",
              "      <th>Open</th>\n",
              "      <th>High</th>\n",
              "      <th>Low</th>\n",
              "      <th>Close</th>\n",
              "      <th>Volume</th>\n",
              "      <th>Dividends</th>\n",
              "      <th>Stock Splits</th>\n",
              "    </tr>\n",
              "  </thead>\n",
              "  <tbody>\n",
              "    <tr>\n",
              "      <th>0</th>\n",
              "      <td>2010-06-29</td>\n",
              "      <td>3.800</td>\n",
              "      <td>5.000</td>\n",
              "      <td>3.508</td>\n",
              "      <td>4.778</td>\n",
              "      <td>93831500</td>\n",
              "      <td>0</td>\n",
              "      <td>0.0</td>\n",
              "    </tr>\n",
              "    <tr>\n",
              "      <th>1</th>\n",
              "      <td>2010-06-30</td>\n",
              "      <td>5.158</td>\n",
              "      <td>6.084</td>\n",
              "      <td>4.660</td>\n",
              "      <td>4.766</td>\n",
              "      <td>85935500</td>\n",
              "      <td>0</td>\n",
              "      <td>0.0</td>\n",
              "    </tr>\n",
              "    <tr>\n",
              "      <th>2</th>\n",
              "      <td>2010-07-01</td>\n",
              "      <td>5.000</td>\n",
              "      <td>5.184</td>\n",
              "      <td>4.054</td>\n",
              "      <td>4.392</td>\n",
              "      <td>41094000</td>\n",
              "      <td>0</td>\n",
              "      <td>0.0</td>\n",
              "    </tr>\n",
              "    <tr>\n",
              "      <th>3</th>\n",
              "      <td>2010-07-02</td>\n",
              "      <td>4.600</td>\n",
              "      <td>4.620</td>\n",
              "      <td>3.742</td>\n",
              "      <td>3.840</td>\n",
              "      <td>25699000</td>\n",
              "      <td>0</td>\n",
              "      <td>0.0</td>\n",
              "    </tr>\n",
              "    <tr>\n",
              "      <th>4</th>\n",
              "      <td>2010-07-06</td>\n",
              "      <td>4.000</td>\n",
              "      <td>4.000</td>\n",
              "      <td>3.166</td>\n",
              "      <td>3.222</td>\n",
              "      <td>34334500</td>\n",
              "      <td>0</td>\n",
              "      <td>0.0</td>\n",
              "    </tr>\n",
              "  </tbody>\n",
              "</table>\n",
              "</div>\n",
              "      <button class=\"colab-df-convert\" onclick=\"convertToInteractive('df-14302053-8fdd-4dc6-9fcd-7c87b71201e5')\"\n",
              "              title=\"Convert this dataframe to an interactive table.\"\n",
              "              style=\"display:none;\">\n",
              "        \n",
              "  <svg xmlns=\"http://www.w3.org/2000/svg\" height=\"24px\"viewBox=\"0 0 24 24\"\n",
              "       width=\"24px\">\n",
              "    <path d=\"M0 0h24v24H0V0z\" fill=\"none\"/>\n",
              "    <path d=\"M18.56 5.44l.94 2.06.94-2.06 2.06-.94-2.06-.94-.94-2.06-.94 2.06-2.06.94zm-11 1L8.5 8.5l.94-2.06 2.06-.94-2.06-.94L8.5 2.5l-.94 2.06-2.06.94zm10 10l.94 2.06.94-2.06 2.06-.94-2.06-.94-.94-2.06-.94 2.06-2.06.94z\"/><path d=\"M17.41 7.96l-1.37-1.37c-.4-.4-.92-.59-1.43-.59-.52 0-1.04.2-1.43.59L10.3 9.45l-7.72 7.72c-.78.78-.78 2.05 0 2.83L4 21.41c.39.39.9.59 1.41.59.51 0 1.02-.2 1.41-.59l7.78-7.78 2.81-2.81c.8-.78.8-2.07 0-2.86zM5.41 20L4 18.59l7.72-7.72 1.47 1.35L5.41 20z\"/>\n",
              "  </svg>\n",
              "      </button>\n",
              "      \n",
              "  <style>\n",
              "    .colab-df-container {\n",
              "      display:flex;\n",
              "      flex-wrap:wrap;\n",
              "      gap: 12px;\n",
              "    }\n",
              "\n",
              "    .colab-df-convert {\n",
              "      background-color: #E8F0FE;\n",
              "      border: none;\n",
              "      border-radius: 50%;\n",
              "      cursor: pointer;\n",
              "      display: none;\n",
              "      fill: #1967D2;\n",
              "      height: 32px;\n",
              "      padding: 0 0 0 0;\n",
              "      width: 32px;\n",
              "    }\n",
              "\n",
              "    .colab-df-convert:hover {\n",
              "      background-color: #E2EBFA;\n",
              "      box-shadow: 0px 1px 2px rgba(60, 64, 67, 0.3), 0px 1px 3px 1px rgba(60, 64, 67, 0.15);\n",
              "      fill: #174EA6;\n",
              "    }\n",
              "\n",
              "    [theme=dark] .colab-df-convert {\n",
              "      background-color: #3B4455;\n",
              "      fill: #D2E3FC;\n",
              "    }\n",
              "\n",
              "    [theme=dark] .colab-df-convert:hover {\n",
              "      background-color: #434B5C;\n",
              "      box-shadow: 0px 1px 3px 1px rgba(0, 0, 0, 0.15);\n",
              "      filter: drop-shadow(0px 1px 2px rgba(0, 0, 0, 0.3));\n",
              "      fill: #FFFFFF;\n",
              "    }\n",
              "  </style>\n",
              "\n",
              "      <script>\n",
              "        const buttonEl =\n",
              "          document.querySelector('#df-14302053-8fdd-4dc6-9fcd-7c87b71201e5 button.colab-df-convert');\n",
              "        buttonEl.style.display =\n",
              "          google.colab.kernel.accessAllowed ? 'block' : 'none';\n",
              "\n",
              "        async function convertToInteractive(key) {\n",
              "          const element = document.querySelector('#df-14302053-8fdd-4dc6-9fcd-7c87b71201e5');\n",
              "          const dataTable =\n",
              "            await google.colab.kernel.invokeFunction('convertToInteractive',\n",
              "                                                     [key], {});\n",
              "          if (!dataTable) return;\n",
              "\n",
              "          const docLinkHtml = 'Like what you see? Visit the ' +\n",
              "            '<a target=\"_blank\" href=https://colab.research.google.com/notebooks/data_table.ipynb>data table notebook</a>'\n",
              "            + ' to learn more about interactive tables.';\n",
              "          element.innerHTML = '';\n",
              "          dataTable['output_type'] = 'display_data';\n",
              "          await google.colab.output.renderOutput(dataTable, element);\n",
              "          const docLink = document.createElement('div');\n",
              "          docLink.innerHTML = docLinkHtml;\n",
              "          element.appendChild(docLink);\n",
              "        }\n",
              "      </script>\n",
              "    </div>\n",
              "  </div>\n",
              "  "
            ]
          },
          "metadata": {},
          "execution_count": 9
        }
      ],
      "source": [
        "tesla_data.reset_index(inplace=True)\n",
        "tesla_data.head()"
      ]
    },
    {
      "cell_type": "markdown",
      "metadata": {
        "id": "TZr7XS5d-0id"
      },
      "source": [
        "## Question 2: Use Webscraping to Extract Tesla Revenue Data\n"
      ]
    },
    {
      "cell_type": "markdown",
      "metadata": {
        "id": "lR_lTCUn-0ie"
      },
      "source": [
        "Use the `requests` library to download the webpage [https://www.macrotrends.net/stocks/charts/TSLA/tesla/revenue](https://www.macrotrends.net/stocks/charts/TSLA/tesla/revenue?utm_medium=Exinfluencer&utm_source=Exinfluencer&utm_content=000026UJ&utm_term=10006555&utm_id=NA-SkillsNetwork-Channel-SkillsNetworkCoursesIBMDeveloperSkillsNetworkPY0220ENSkillsNetwork23455606-2022-01-01). Save the text of the response as a variable named `html_data`.\n"
      ]
    },
    {
      "cell_type": "code",
      "execution_count": 10,
      "metadata": {
        "id": "fbJeJIvU-0ie"
      },
      "outputs": [],
      "source": [
        "url=\"https://www.macrotrends.net/stocks/charts/TSLA/tesla/revenue\"\n",
        "html_data=requests.get(url).text"
      ]
    },
    {
      "cell_type": "markdown",
      "metadata": {
        "id": "e0lab4BR-0if"
      },
      "source": [
        "Parse the html data using `beautiful_soup`.\n"
      ]
    },
    {
      "cell_type": "code",
      "execution_count": 23,
      "metadata": {
        "id": "p-Q82ulW-0ig"
      },
      "outputs": [],
      "source": [
        "soup=BeautifulSoup(html_data,\"html.parser\")"
      ]
    },
    {
      "cell_type": "markdown",
      "metadata": {
        "id": "YXFltEU3-0ih"
      },
      "source": [
        "Using `BeautifulSoup` or the `read_html` function extract the table with `Tesla Quarterly Revenue` and store it into a dataframe named `tesla_revenue`. The dataframe should have columns `Date` and `Revenue`.\n"
      ]
    },
    {
      "cell_type": "markdown",
      "metadata": {
        "id": "bPL1y-U1-0ih"
      },
      "source": [
        "<details><summary>Click here if you need help locating the table</summary>\n",
        "\n",
        "```\n",
        "    \n",
        "Below is the code to isolate the table, you will now need to loop through the rows and columns like in the previous lab\n",
        "    \n",
        "soup.find_all(\"tbody\")[1]\n",
        "    \n",
        "If you want to use the read_html function the table is located at index 1\n",
        "\n",
        "\n",
        "```\n",
        "\n",
        "</details>\n"
      ]
    },
    {
      "cell_type": "code",
      "execution_count": null,
      "metadata": {
        "id": "8O6ugZZo-0ii"
      },
      "outputs": [],
      "source": [
        "tesla_revenue=pd.read_html(url)[1]\n",
        "type(tesla_revenue)\n",
        "tesla_revenue.columns\n",
        "tesla_revenue\n"
      ]
    },
    {
      "cell_type": "markdown",
      "metadata": {
        "id": "chDRAiBJ-0ij"
      },
      "source": [
        "Execute the following line to remove the comma and dollar sign from the `Revenue` column.\n"
      ]
    },
    {
      "cell_type": "code",
      "execution_count": null,
      "metadata": {
        "id": "AJLN0zmh-0ik"
      },
      "outputs": [],
      "source": [
        "tesla_revenue[\"Revenue\"] = tesla_revenue['Tesla Quarterly Revenue(Millions of US $).1'].str.replace(',|\\$',\"\")\n",
        "tesla_revenue"
      ]
    },
    {
      "cell_type": "markdown",
      "metadata": {
        "id": "OR8J0SKn-0ik"
      },
      "source": [
        "Execute the following lines to remove an null or empty strings in the Revenue column.\n"
      ]
    },
    {
      "cell_type": "code",
      "execution_count": 111,
      "metadata": {
        "colab": {
          "base_uri": "https://localhost:8080/"
        },
        "id": "AhPWCwZ9-0il",
        "outputId": "ae49ae6a-bc8e-4690-ec52-11500b87d34c"
      },
      "outputs": [
        {
          "output_type": "execute_result",
          "data": {
            "text/plain": [
              "str"
            ]
          },
          "metadata": {},
          "execution_count": 111
        }
      ],
      "source": [
        "tesla_revenue.dropna(inplace=True)\n",
        "tesla_revenue=tesla_revenue.rename(columns={'Tesla Quarterly Revenue(Millions of US $)':'Date'})\n",
        "type(tesla_revenue['Revenue'][1])"
      ]
    },
    {
      "cell_type": "markdown",
      "metadata": {
        "id": "VSAOg08_-0im"
      },
      "source": [
        "Display the last 5 row of the `tesla_revenue` dataframe using the `tail` function. Take a screenshot of the results.\n"
      ]
    },
    {
      "cell_type": "code",
      "execution_count": 112,
      "metadata": {
        "colab": {
          "base_uri": "https://localhost:8080/",
          "height": 206
        },
        "id": "taoSMiaE-0im",
        "outputId": "8acd1e98-9327-4925-8b48-7778ad3ef177"
      },
      "outputs": [
        {
          "output_type": "execute_result",
          "data": {
            "text/plain": [
              "          Date Tesla Quarterly Revenue(Millions of US $).1 Revenue\n",
              "47  2010-09-30                                         $31      31\n",
              "48  2010-06-30                                         $28      28\n",
              "49  2010-03-31                                         $21      21\n",
              "51  2009-09-30                                         $46      46\n",
              "52  2009-06-30                                         $27      27"
            ],
            "text/html": [
              "\n",
              "  <div id=\"df-1b8b46a7-6221-497d-b646-d051c9dee7c3\">\n",
              "    <div class=\"colab-df-container\">\n",
              "      <div>\n",
              "<style scoped>\n",
              "    .dataframe tbody tr th:only-of-type {\n",
              "        vertical-align: middle;\n",
              "    }\n",
              "\n",
              "    .dataframe tbody tr th {\n",
              "        vertical-align: top;\n",
              "    }\n",
              "\n",
              "    .dataframe thead th {\n",
              "        text-align: right;\n",
              "    }\n",
              "</style>\n",
              "<table border=\"1\" class=\"dataframe\">\n",
              "  <thead>\n",
              "    <tr style=\"text-align: right;\">\n",
              "      <th></th>\n",
              "      <th>Date</th>\n",
              "      <th>Tesla Quarterly Revenue(Millions of US $).1</th>\n",
              "      <th>Revenue</th>\n",
              "    </tr>\n",
              "  </thead>\n",
              "  <tbody>\n",
              "    <tr>\n",
              "      <th>47</th>\n",
              "      <td>2010-09-30</td>\n",
              "      <td>$31</td>\n",
              "      <td>31</td>\n",
              "    </tr>\n",
              "    <tr>\n",
              "      <th>48</th>\n",
              "      <td>2010-06-30</td>\n",
              "      <td>$28</td>\n",
              "      <td>28</td>\n",
              "    </tr>\n",
              "    <tr>\n",
              "      <th>49</th>\n",
              "      <td>2010-03-31</td>\n",
              "      <td>$21</td>\n",
              "      <td>21</td>\n",
              "    </tr>\n",
              "    <tr>\n",
              "      <th>51</th>\n",
              "      <td>2009-09-30</td>\n",
              "      <td>$46</td>\n",
              "      <td>46</td>\n",
              "    </tr>\n",
              "    <tr>\n",
              "      <th>52</th>\n",
              "      <td>2009-06-30</td>\n",
              "      <td>$27</td>\n",
              "      <td>27</td>\n",
              "    </tr>\n",
              "  </tbody>\n",
              "</table>\n",
              "</div>\n",
              "      <button class=\"colab-df-convert\" onclick=\"convertToInteractive('df-1b8b46a7-6221-497d-b646-d051c9dee7c3')\"\n",
              "              title=\"Convert this dataframe to an interactive table.\"\n",
              "              style=\"display:none;\">\n",
              "        \n",
              "  <svg xmlns=\"http://www.w3.org/2000/svg\" height=\"24px\"viewBox=\"0 0 24 24\"\n",
              "       width=\"24px\">\n",
              "    <path d=\"M0 0h24v24H0V0z\" fill=\"none\"/>\n",
              "    <path d=\"M18.56 5.44l.94 2.06.94-2.06 2.06-.94-2.06-.94-.94-2.06-.94 2.06-2.06.94zm-11 1L8.5 8.5l.94-2.06 2.06-.94-2.06-.94L8.5 2.5l-.94 2.06-2.06.94zm10 10l.94 2.06.94-2.06 2.06-.94-2.06-.94-.94-2.06-.94 2.06-2.06.94z\"/><path d=\"M17.41 7.96l-1.37-1.37c-.4-.4-.92-.59-1.43-.59-.52 0-1.04.2-1.43.59L10.3 9.45l-7.72 7.72c-.78.78-.78 2.05 0 2.83L4 21.41c.39.39.9.59 1.41.59.51 0 1.02-.2 1.41-.59l7.78-7.78 2.81-2.81c.8-.78.8-2.07 0-2.86zM5.41 20L4 18.59l7.72-7.72 1.47 1.35L5.41 20z\"/>\n",
              "  </svg>\n",
              "      </button>\n",
              "      \n",
              "  <style>\n",
              "    .colab-df-container {\n",
              "      display:flex;\n",
              "      flex-wrap:wrap;\n",
              "      gap: 12px;\n",
              "    }\n",
              "\n",
              "    .colab-df-convert {\n",
              "      background-color: #E8F0FE;\n",
              "      border: none;\n",
              "      border-radius: 50%;\n",
              "      cursor: pointer;\n",
              "      display: none;\n",
              "      fill: #1967D2;\n",
              "      height: 32px;\n",
              "      padding: 0 0 0 0;\n",
              "      width: 32px;\n",
              "    }\n",
              "\n",
              "    .colab-df-convert:hover {\n",
              "      background-color: #E2EBFA;\n",
              "      box-shadow: 0px 1px 2px rgba(60, 64, 67, 0.3), 0px 1px 3px 1px rgba(60, 64, 67, 0.15);\n",
              "      fill: #174EA6;\n",
              "    }\n",
              "\n",
              "    [theme=dark] .colab-df-convert {\n",
              "      background-color: #3B4455;\n",
              "      fill: #D2E3FC;\n",
              "    }\n",
              "\n",
              "    [theme=dark] .colab-df-convert:hover {\n",
              "      background-color: #434B5C;\n",
              "      box-shadow: 0px 1px 3px 1px rgba(0, 0, 0, 0.15);\n",
              "      filter: drop-shadow(0px 1px 2px rgba(0, 0, 0, 0.3));\n",
              "      fill: #FFFFFF;\n",
              "    }\n",
              "  </style>\n",
              "\n",
              "      <script>\n",
              "        const buttonEl =\n",
              "          document.querySelector('#df-1b8b46a7-6221-497d-b646-d051c9dee7c3 button.colab-df-convert');\n",
              "        buttonEl.style.display =\n",
              "          google.colab.kernel.accessAllowed ? 'block' : 'none';\n",
              "\n",
              "        async function convertToInteractive(key) {\n",
              "          const element = document.querySelector('#df-1b8b46a7-6221-497d-b646-d051c9dee7c3');\n",
              "          const dataTable =\n",
              "            await google.colab.kernel.invokeFunction('convertToInteractive',\n",
              "                                                     [key], {});\n",
              "          if (!dataTable) return;\n",
              "\n",
              "          const docLinkHtml = 'Like what you see? Visit the ' +\n",
              "            '<a target=\"_blank\" href=https://colab.research.google.com/notebooks/data_table.ipynb>data table notebook</a>'\n",
              "            + ' to learn more about interactive tables.';\n",
              "          element.innerHTML = '';\n",
              "          dataTable['output_type'] = 'display_data';\n",
              "          await google.colab.output.renderOutput(dataTable, element);\n",
              "          const docLink = document.createElement('div');\n",
              "          docLink.innerHTML = docLinkHtml;\n",
              "          element.appendChild(docLink);\n",
              "        }\n",
              "      </script>\n",
              "    </div>\n",
              "  </div>\n",
              "  "
            ]
          },
          "metadata": {},
          "execution_count": 112
        }
      ],
      "source": [
        "tesla_revenue.tail()"
      ]
    },
    {
      "cell_type": "markdown",
      "metadata": {
        "id": "J4Y28C9X-0in"
      },
      "source": [
        "## Question 3: Use yfinance to Extract Stock Data\n"
      ]
    },
    {
      "cell_type": "markdown",
      "metadata": {
        "id": "Ttr1PD55-0in"
      },
      "source": [
        "Using the `Ticker` function enter the ticker symbol of the stock we want to extract data on to create a ticker object. The stock is GameStop and its ticker symbol is `GME`.\n"
      ]
    },
    {
      "cell_type": "code",
      "execution_count": 49,
      "metadata": {
        "id": "W-RyexcR-0io"
      },
      "outputs": [],
      "source": [
        "GameStop=yf.Ticker(\"GME\")"
      ]
    },
    {
      "cell_type": "markdown",
      "metadata": {
        "id": "0UOIcmGQ-0io"
      },
      "source": [
        "Using the ticker object and the function `history` extract stock information and save it in a dataframe named `gme_data`. Set the `period` parameter to `max` so we get information for the maximum amount of time.\n"
      ]
    },
    {
      "cell_type": "code",
      "execution_count": 97,
      "metadata": {
        "id": "gNCghNz4-0ip"
      },
      "outputs": [],
      "source": [
        "gme_data=GameStop.history(period='max')"
      ]
    },
    {
      "cell_type": "markdown",
      "metadata": {
        "id": "rpVc3V-R-0ip"
      },
      "source": [
        "**Reset the index** using the `reset_index(inplace=True)` function on the gme_data DataFrame and display the first five rows of the `gme_data` dataframe using the `head` function. Take a screenshot of the results and code from the beginning of Question 3 to the results below.\n"
      ]
    },
    {
      "cell_type": "code",
      "execution_count": 98,
      "metadata": {
        "colab": {
          "base_uri": "https://localhost:8080/",
          "height": 424
        },
        "id": "EKAM_W_Z-0iq",
        "outputId": "ef590484-e5f2-46cb-8062-494339d24819"
      },
      "outputs": [
        {
          "output_type": "execute_result",
          "data": {
            "text/plain": [
              "           Date       Open       High        Low      Close    Volume  \\\n",
              "0    2002-02-13   1.620128   1.693350   1.603296   1.691666  76216000   \n",
              "1    2002-02-14   1.712707   1.716074   1.670626   1.683251  11021600   \n",
              "2    2002-02-15   1.683250   1.687458   1.658001   1.674834   8389600   \n",
              "3    2002-02-19   1.666418   1.666418   1.578047   1.607504   7410400   \n",
              "4    2002-02-20   1.615921   1.662210   1.603296   1.662210   6892800   \n",
              "...         ...        ...        ...        ...        ...       ...   \n",
              "5146 2022-07-25  35.000000  35.509998  33.250000  33.980000   5686300   \n",
              "5147 2022-07-26  32.869999  33.310001  32.099998  32.430000   4866100   \n",
              "5148 2022-07-27  32.959999  34.119999  32.160000  33.779999   4251200   \n",
              "5149 2022-07-28  33.389999  34.430000  32.660000  33.840000   3207400   \n",
              "5150 2022-07-29  33.680000  34.790001  33.060001  34.009998   3974900   \n",
              "\n",
              "      Dividends  Stock Splits  \n",
              "0           0.0           0.0  \n",
              "1           0.0           0.0  \n",
              "2           0.0           0.0  \n",
              "3           0.0           0.0  \n",
              "4           0.0           0.0  \n",
              "...         ...           ...  \n",
              "5146        0.0           0.0  \n",
              "5147        0.0           0.0  \n",
              "5148        0.0           0.0  \n",
              "5149        0.0           0.0  \n",
              "5150        0.0           0.0  \n",
              "\n",
              "[5151 rows x 8 columns]"
            ],
            "text/html": [
              "\n",
              "  <div id=\"df-8e1555ad-0877-4be2-9ea2-975dd67b80f4\">\n",
              "    <div class=\"colab-df-container\">\n",
              "      <div>\n",
              "<style scoped>\n",
              "    .dataframe tbody tr th:only-of-type {\n",
              "        vertical-align: middle;\n",
              "    }\n",
              "\n",
              "    .dataframe tbody tr th {\n",
              "        vertical-align: top;\n",
              "    }\n",
              "\n",
              "    .dataframe thead th {\n",
              "        text-align: right;\n",
              "    }\n",
              "</style>\n",
              "<table border=\"1\" class=\"dataframe\">\n",
              "  <thead>\n",
              "    <tr style=\"text-align: right;\">\n",
              "      <th></th>\n",
              "      <th>Date</th>\n",
              "      <th>Open</th>\n",
              "      <th>High</th>\n",
              "      <th>Low</th>\n",
              "      <th>Close</th>\n",
              "      <th>Volume</th>\n",
              "      <th>Dividends</th>\n",
              "      <th>Stock Splits</th>\n",
              "    </tr>\n",
              "  </thead>\n",
              "  <tbody>\n",
              "    <tr>\n",
              "      <th>0</th>\n",
              "      <td>2002-02-13</td>\n",
              "      <td>1.620128</td>\n",
              "      <td>1.693350</td>\n",
              "      <td>1.603296</td>\n",
              "      <td>1.691666</td>\n",
              "      <td>76216000</td>\n",
              "      <td>0.0</td>\n",
              "      <td>0.0</td>\n",
              "    </tr>\n",
              "    <tr>\n",
              "      <th>1</th>\n",
              "      <td>2002-02-14</td>\n",
              "      <td>1.712707</td>\n",
              "      <td>1.716074</td>\n",
              "      <td>1.670626</td>\n",
              "      <td>1.683251</td>\n",
              "      <td>11021600</td>\n",
              "      <td>0.0</td>\n",
              "      <td>0.0</td>\n",
              "    </tr>\n",
              "    <tr>\n",
              "      <th>2</th>\n",
              "      <td>2002-02-15</td>\n",
              "      <td>1.683250</td>\n",
              "      <td>1.687458</td>\n",
              "      <td>1.658001</td>\n",
              "      <td>1.674834</td>\n",
              "      <td>8389600</td>\n",
              "      <td>0.0</td>\n",
              "      <td>0.0</td>\n",
              "    </tr>\n",
              "    <tr>\n",
              "      <th>3</th>\n",
              "      <td>2002-02-19</td>\n",
              "      <td>1.666418</td>\n",
              "      <td>1.666418</td>\n",
              "      <td>1.578047</td>\n",
              "      <td>1.607504</td>\n",
              "      <td>7410400</td>\n",
              "      <td>0.0</td>\n",
              "      <td>0.0</td>\n",
              "    </tr>\n",
              "    <tr>\n",
              "      <th>4</th>\n",
              "      <td>2002-02-20</td>\n",
              "      <td>1.615921</td>\n",
              "      <td>1.662210</td>\n",
              "      <td>1.603296</td>\n",
              "      <td>1.662210</td>\n",
              "      <td>6892800</td>\n",
              "      <td>0.0</td>\n",
              "      <td>0.0</td>\n",
              "    </tr>\n",
              "    <tr>\n",
              "      <th>...</th>\n",
              "      <td>...</td>\n",
              "      <td>...</td>\n",
              "      <td>...</td>\n",
              "      <td>...</td>\n",
              "      <td>...</td>\n",
              "      <td>...</td>\n",
              "      <td>...</td>\n",
              "      <td>...</td>\n",
              "    </tr>\n",
              "    <tr>\n",
              "      <th>5146</th>\n",
              "      <td>2022-07-25</td>\n",
              "      <td>35.000000</td>\n",
              "      <td>35.509998</td>\n",
              "      <td>33.250000</td>\n",
              "      <td>33.980000</td>\n",
              "      <td>5686300</td>\n",
              "      <td>0.0</td>\n",
              "      <td>0.0</td>\n",
              "    </tr>\n",
              "    <tr>\n",
              "      <th>5147</th>\n",
              "      <td>2022-07-26</td>\n",
              "      <td>32.869999</td>\n",
              "      <td>33.310001</td>\n",
              "      <td>32.099998</td>\n",
              "      <td>32.430000</td>\n",
              "      <td>4866100</td>\n",
              "      <td>0.0</td>\n",
              "      <td>0.0</td>\n",
              "    </tr>\n",
              "    <tr>\n",
              "      <th>5148</th>\n",
              "      <td>2022-07-27</td>\n",
              "      <td>32.959999</td>\n",
              "      <td>34.119999</td>\n",
              "      <td>32.160000</td>\n",
              "      <td>33.779999</td>\n",
              "      <td>4251200</td>\n",
              "      <td>0.0</td>\n",
              "      <td>0.0</td>\n",
              "    </tr>\n",
              "    <tr>\n",
              "      <th>5149</th>\n",
              "      <td>2022-07-28</td>\n",
              "      <td>33.389999</td>\n",
              "      <td>34.430000</td>\n",
              "      <td>32.660000</td>\n",
              "      <td>33.840000</td>\n",
              "      <td>3207400</td>\n",
              "      <td>0.0</td>\n",
              "      <td>0.0</td>\n",
              "    </tr>\n",
              "    <tr>\n",
              "      <th>5150</th>\n",
              "      <td>2022-07-29</td>\n",
              "      <td>33.680000</td>\n",
              "      <td>34.790001</td>\n",
              "      <td>33.060001</td>\n",
              "      <td>34.009998</td>\n",
              "      <td>3974900</td>\n",
              "      <td>0.0</td>\n",
              "      <td>0.0</td>\n",
              "    </tr>\n",
              "  </tbody>\n",
              "</table>\n",
              "<p>5151 rows × 8 columns</p>\n",
              "</div>\n",
              "      <button class=\"colab-df-convert\" onclick=\"convertToInteractive('df-8e1555ad-0877-4be2-9ea2-975dd67b80f4')\"\n",
              "              title=\"Convert this dataframe to an interactive table.\"\n",
              "              style=\"display:none;\">\n",
              "        \n",
              "  <svg xmlns=\"http://www.w3.org/2000/svg\" height=\"24px\"viewBox=\"0 0 24 24\"\n",
              "       width=\"24px\">\n",
              "    <path d=\"M0 0h24v24H0V0z\" fill=\"none\"/>\n",
              "    <path d=\"M18.56 5.44l.94 2.06.94-2.06 2.06-.94-2.06-.94-.94-2.06-.94 2.06-2.06.94zm-11 1L8.5 8.5l.94-2.06 2.06-.94-2.06-.94L8.5 2.5l-.94 2.06-2.06.94zm10 10l.94 2.06.94-2.06 2.06-.94-2.06-.94-.94-2.06-.94 2.06-2.06.94z\"/><path d=\"M17.41 7.96l-1.37-1.37c-.4-.4-.92-.59-1.43-.59-.52 0-1.04.2-1.43.59L10.3 9.45l-7.72 7.72c-.78.78-.78 2.05 0 2.83L4 21.41c.39.39.9.59 1.41.59.51 0 1.02-.2 1.41-.59l7.78-7.78 2.81-2.81c.8-.78.8-2.07 0-2.86zM5.41 20L4 18.59l7.72-7.72 1.47 1.35L5.41 20z\"/>\n",
              "  </svg>\n",
              "      </button>\n",
              "      \n",
              "  <style>\n",
              "    .colab-df-container {\n",
              "      display:flex;\n",
              "      flex-wrap:wrap;\n",
              "      gap: 12px;\n",
              "    }\n",
              "\n",
              "    .colab-df-convert {\n",
              "      background-color: #E8F0FE;\n",
              "      border: none;\n",
              "      border-radius: 50%;\n",
              "      cursor: pointer;\n",
              "      display: none;\n",
              "      fill: #1967D2;\n",
              "      height: 32px;\n",
              "      padding: 0 0 0 0;\n",
              "      width: 32px;\n",
              "    }\n",
              "\n",
              "    .colab-df-convert:hover {\n",
              "      background-color: #E2EBFA;\n",
              "      box-shadow: 0px 1px 2px rgba(60, 64, 67, 0.3), 0px 1px 3px 1px rgba(60, 64, 67, 0.15);\n",
              "      fill: #174EA6;\n",
              "    }\n",
              "\n",
              "    [theme=dark] .colab-df-convert {\n",
              "      background-color: #3B4455;\n",
              "      fill: #D2E3FC;\n",
              "    }\n",
              "\n",
              "    [theme=dark] .colab-df-convert:hover {\n",
              "      background-color: #434B5C;\n",
              "      box-shadow: 0px 1px 3px 1px rgba(0, 0, 0, 0.15);\n",
              "      filter: drop-shadow(0px 1px 2px rgba(0, 0, 0, 0.3));\n",
              "      fill: #FFFFFF;\n",
              "    }\n",
              "  </style>\n",
              "\n",
              "      <script>\n",
              "        const buttonEl =\n",
              "          document.querySelector('#df-8e1555ad-0877-4be2-9ea2-975dd67b80f4 button.colab-df-convert');\n",
              "        buttonEl.style.display =\n",
              "          google.colab.kernel.accessAllowed ? 'block' : 'none';\n",
              "\n",
              "        async function convertToInteractive(key) {\n",
              "          const element = document.querySelector('#df-8e1555ad-0877-4be2-9ea2-975dd67b80f4');\n",
              "          const dataTable =\n",
              "            await google.colab.kernel.invokeFunction('convertToInteractive',\n",
              "                                                     [key], {});\n",
              "          if (!dataTable) return;\n",
              "\n",
              "          const docLinkHtml = 'Like what you see? Visit the ' +\n",
              "            '<a target=\"_blank\" href=https://colab.research.google.com/notebooks/data_table.ipynb>data table notebook</a>'\n",
              "            + ' to learn more about interactive tables.';\n",
              "          element.innerHTML = '';\n",
              "          dataTable['output_type'] = 'display_data';\n",
              "          await google.colab.output.renderOutput(dataTable, element);\n",
              "          const docLink = document.createElement('div');\n",
              "          docLink.innerHTML = docLinkHtml;\n",
              "          element.appendChild(docLink);\n",
              "        }\n",
              "      </script>\n",
              "    </div>\n",
              "  </div>\n",
              "  "
            ]
          },
          "metadata": {},
          "execution_count": 98
        }
      ],
      "source": [
        "gme_data.reset_index(inplace=True)\n",
        "gme_data"
      ]
    },
    {
      "cell_type": "markdown",
      "metadata": {
        "id": "Qa5myMUD-0ir"
      },
      "source": [
        "## Question 4: Use Webscraping to Extract GME Revenue Data\n"
      ]
    },
    {
      "cell_type": "markdown",
      "metadata": {
        "id": "DtSbzlyL-0ir"
      },
      "source": [
        "Use the `requests` library to download the webpage <https://cf-courses-data.s3.us.cloud-object-storage.appdomain.cloud/IBMDeveloperSkillsNetwork-PY0220EN-SkillsNetwork/labs/project/stock.html>. Save the text of the response as a variable named `html_data`.\n"
      ]
    },
    {
      "cell_type": "code",
      "execution_count": 52,
      "metadata": {
        "id": "5pE9ogiE-0is"
      },
      "outputs": [],
      "source": [
        "url=' https://cf-courses-data.s3.us.cloud-object-storage.appdomain.cloud/IBMDeveloperSkillsNetwork-PY0220EN-SkillsNetwork/labs/project/stock.html'\n",
        "html_data=requests.get(url).text"
      ]
    },
    {
      "cell_type": "markdown",
      "metadata": {
        "id": "vL_6bYmJ-0is"
      },
      "source": [
        "Parse the html data using `beautiful_soup`.\n"
      ]
    },
    {
      "cell_type": "code",
      "execution_count": 53,
      "metadata": {
        "id": "9y2Dg415-0is"
      },
      "outputs": [],
      "source": [
        "soup=BeautifulSoup(url,\"html.parser\")"
      ]
    },
    {
      "cell_type": "markdown",
      "metadata": {
        "id": "0ShYXpYx-0it"
      },
      "source": [
        "Using `BeautifulSoup` or the `read_html` function extract the table with `GameStop Quarterly Revenue` and store it into a dataframe named `gme_revenue`. The dataframe should have columns `Date` and `Revenue`. Make sure the comma and dollar sign is removed from the `Revenue` column using a method similar to what you did in Question 2.\n"
      ]
    },
    {
      "cell_type": "markdown",
      "metadata": {
        "id": "s5qNinRx-0it"
      },
      "source": [
        "<details><summary>Click here if you need help locating the table</summary>\n",
        "\n",
        "```\n",
        "    \n",
        "Below is the code to isolate the table, you will now need to loop through the rows and columns like in the previous lab\n",
        "    \n",
        "soup.find_all(\"tbody\")[1]\n",
        "    \n",
        "If you want to use the read_html function the table is located at index 1\n",
        "\n",
        "\n",
        "```\n",
        "\n",
        "</details>\n"
      ]
    },
    {
      "cell_type": "code",
      "source": [
        "gme_revenue"
      ],
      "metadata": {
        "colab": {
          "base_uri": "https://localhost:8080/",
          "height": 424
        },
        "id": "-5KCbsljWshV",
        "outputId": "b2f2b506-99ef-4d8d-9f39-75317439519e"
      },
      "execution_count": 128,
      "outputs": [
        {
          "output_type": "execute_result",
          "data": {
            "text/plain": [
              "   GameStop Quarterly Revenue(Millions of US $)  \\\n",
              "0                                    2020-04-30   \n",
              "1                                    2020-01-31   \n",
              "2                                    2019-10-31   \n",
              "3                                    2019-07-31   \n",
              "4                                    2019-04-30   \n",
              "..                                          ...   \n",
              "57                                   2006-01-31   \n",
              "58                                   2005-10-31   \n",
              "59                                   2005-07-31   \n",
              "60                                   2005-04-30   \n",
              "61                                   2005-01-31   \n",
              "\n",
              "   GameStop Quarterly Revenue(Millions of US $).1  \n",
              "0                                          $1,021  \n",
              "1                                          $2,194  \n",
              "2                                          $1,439  \n",
              "3                                          $1,286  \n",
              "4                                          $1,548  \n",
              "..                                            ...  \n",
              "57                                         $1,667  \n",
              "58                                           $534  \n",
              "59                                           $416  \n",
              "60                                           $475  \n",
              "61                                           $709  \n",
              "\n",
              "[62 rows x 2 columns]"
            ],
            "text/html": [
              "\n",
              "  <div id=\"df-b8db3bf3-2be4-431f-9cef-777838a648dc\">\n",
              "    <div class=\"colab-df-container\">\n",
              "      <div>\n",
              "<style scoped>\n",
              "    .dataframe tbody tr th:only-of-type {\n",
              "        vertical-align: middle;\n",
              "    }\n",
              "\n",
              "    .dataframe tbody tr th {\n",
              "        vertical-align: top;\n",
              "    }\n",
              "\n",
              "    .dataframe thead th {\n",
              "        text-align: right;\n",
              "    }\n",
              "</style>\n",
              "<table border=\"1\" class=\"dataframe\">\n",
              "  <thead>\n",
              "    <tr style=\"text-align: right;\">\n",
              "      <th></th>\n",
              "      <th>GameStop Quarterly Revenue(Millions of US $)</th>\n",
              "      <th>GameStop Quarterly Revenue(Millions of US $).1</th>\n",
              "    </tr>\n",
              "  </thead>\n",
              "  <tbody>\n",
              "    <tr>\n",
              "      <th>0</th>\n",
              "      <td>2020-04-30</td>\n",
              "      <td>$1,021</td>\n",
              "    </tr>\n",
              "    <tr>\n",
              "      <th>1</th>\n",
              "      <td>2020-01-31</td>\n",
              "      <td>$2,194</td>\n",
              "    </tr>\n",
              "    <tr>\n",
              "      <th>2</th>\n",
              "      <td>2019-10-31</td>\n",
              "      <td>$1,439</td>\n",
              "    </tr>\n",
              "    <tr>\n",
              "      <th>3</th>\n",
              "      <td>2019-07-31</td>\n",
              "      <td>$1,286</td>\n",
              "    </tr>\n",
              "    <tr>\n",
              "      <th>4</th>\n",
              "      <td>2019-04-30</td>\n",
              "      <td>$1,548</td>\n",
              "    </tr>\n",
              "    <tr>\n",
              "      <th>...</th>\n",
              "      <td>...</td>\n",
              "      <td>...</td>\n",
              "    </tr>\n",
              "    <tr>\n",
              "      <th>57</th>\n",
              "      <td>2006-01-31</td>\n",
              "      <td>$1,667</td>\n",
              "    </tr>\n",
              "    <tr>\n",
              "      <th>58</th>\n",
              "      <td>2005-10-31</td>\n",
              "      <td>$534</td>\n",
              "    </tr>\n",
              "    <tr>\n",
              "      <th>59</th>\n",
              "      <td>2005-07-31</td>\n",
              "      <td>$416</td>\n",
              "    </tr>\n",
              "    <tr>\n",
              "      <th>60</th>\n",
              "      <td>2005-04-30</td>\n",
              "      <td>$475</td>\n",
              "    </tr>\n",
              "    <tr>\n",
              "      <th>61</th>\n",
              "      <td>2005-01-31</td>\n",
              "      <td>$709</td>\n",
              "    </tr>\n",
              "  </tbody>\n",
              "</table>\n",
              "<p>62 rows × 2 columns</p>\n",
              "</div>\n",
              "      <button class=\"colab-df-convert\" onclick=\"convertToInteractive('df-b8db3bf3-2be4-431f-9cef-777838a648dc')\"\n",
              "              title=\"Convert this dataframe to an interactive table.\"\n",
              "              style=\"display:none;\">\n",
              "        \n",
              "  <svg xmlns=\"http://www.w3.org/2000/svg\" height=\"24px\"viewBox=\"0 0 24 24\"\n",
              "       width=\"24px\">\n",
              "    <path d=\"M0 0h24v24H0V0z\" fill=\"none\"/>\n",
              "    <path d=\"M18.56 5.44l.94 2.06.94-2.06 2.06-.94-2.06-.94-.94-2.06-.94 2.06-2.06.94zm-11 1L8.5 8.5l.94-2.06 2.06-.94-2.06-.94L8.5 2.5l-.94 2.06-2.06.94zm10 10l.94 2.06.94-2.06 2.06-.94-2.06-.94-.94-2.06-.94 2.06-2.06.94z\"/><path d=\"M17.41 7.96l-1.37-1.37c-.4-.4-.92-.59-1.43-.59-.52 0-1.04.2-1.43.59L10.3 9.45l-7.72 7.72c-.78.78-.78 2.05 0 2.83L4 21.41c.39.39.9.59 1.41.59.51 0 1.02-.2 1.41-.59l7.78-7.78 2.81-2.81c.8-.78.8-2.07 0-2.86zM5.41 20L4 18.59l7.72-7.72 1.47 1.35L5.41 20z\"/>\n",
              "  </svg>\n",
              "      </button>\n",
              "      \n",
              "  <style>\n",
              "    .colab-df-container {\n",
              "      display:flex;\n",
              "      flex-wrap:wrap;\n",
              "      gap: 12px;\n",
              "    }\n",
              "\n",
              "    .colab-df-convert {\n",
              "      background-color: #E8F0FE;\n",
              "      border: none;\n",
              "      border-radius: 50%;\n",
              "      cursor: pointer;\n",
              "      display: none;\n",
              "      fill: #1967D2;\n",
              "      height: 32px;\n",
              "      padding: 0 0 0 0;\n",
              "      width: 32px;\n",
              "    }\n",
              "\n",
              "    .colab-df-convert:hover {\n",
              "      background-color: #E2EBFA;\n",
              "      box-shadow: 0px 1px 2px rgba(60, 64, 67, 0.3), 0px 1px 3px 1px rgba(60, 64, 67, 0.15);\n",
              "      fill: #174EA6;\n",
              "    }\n",
              "\n",
              "    [theme=dark] .colab-df-convert {\n",
              "      background-color: #3B4455;\n",
              "      fill: #D2E3FC;\n",
              "    }\n",
              "\n",
              "    [theme=dark] .colab-df-convert:hover {\n",
              "      background-color: #434B5C;\n",
              "      box-shadow: 0px 1px 3px 1px rgba(0, 0, 0, 0.15);\n",
              "      filter: drop-shadow(0px 1px 2px rgba(0, 0, 0, 0.3));\n",
              "      fill: #FFFFFF;\n",
              "    }\n",
              "  </style>\n",
              "\n",
              "      <script>\n",
              "        const buttonEl =\n",
              "          document.querySelector('#df-b8db3bf3-2be4-431f-9cef-777838a648dc button.colab-df-convert');\n",
              "        buttonEl.style.display =\n",
              "          google.colab.kernel.accessAllowed ? 'block' : 'none';\n",
              "\n",
              "        async function convertToInteractive(key) {\n",
              "          const element = document.querySelector('#df-b8db3bf3-2be4-431f-9cef-777838a648dc');\n",
              "          const dataTable =\n",
              "            await google.colab.kernel.invokeFunction('convertToInteractive',\n",
              "                                                     [key], {});\n",
              "          if (!dataTable) return;\n",
              "\n",
              "          const docLinkHtml = 'Like what you see? Visit the ' +\n",
              "            '<a target=\"_blank\" href=https://colab.research.google.com/notebooks/data_table.ipynb>data table notebook</a>'\n",
              "            + ' to learn more about interactive tables.';\n",
              "          element.innerHTML = '';\n",
              "          dataTable['output_type'] = 'display_data';\n",
              "          await google.colab.output.renderOutput(dataTable, element);\n",
              "          const docLink = document.createElement('div');\n",
              "          docLink.innerHTML = docLinkHtml;\n",
              "          element.appendChild(docLink);\n",
              "        }\n",
              "      </script>\n",
              "    </div>\n",
              "  </div>\n",
              "  "
            ]
          },
          "metadata": {},
          "execution_count": 128
        }
      ]
    },
    {
      "cell_type": "code",
      "execution_count": 129,
      "metadata": {
        "colab": {
          "base_uri": "https://localhost:8080/",
          "height": 493
        },
        "id": "QhlU-IiR-0it",
        "outputId": "94a7eba3-26e1-4c87-c9ea-f9bc921833f1"
      },
      "outputs": [
        {
          "output_type": "stream",
          "name": "stderr",
          "text": [
            "/usr/local/lib/python3.7/dist-packages/ipykernel_launcher.py:2: FutureWarning:\n",
            "\n",
            "The default value of regex will change from True to False in a future version.\n",
            "\n"
          ]
        },
        {
          "output_type": "execute_result",
          "data": {
            "text/plain": [
              "          Date GameStop Quarterly Revenue(Millions of US $).1 Revenue\n",
              "0   2020-04-30                                         $1,021    1021\n",
              "1   2020-01-31                                         $2,194    2194\n",
              "2   2019-10-31                                         $1,439    1439\n",
              "3   2019-07-31                                         $1,286    1286\n",
              "4   2019-04-30                                         $1,548    1548\n",
              "..         ...                                            ...     ...\n",
              "57  2006-01-31                                         $1,667    1667\n",
              "58  2005-10-31                                           $534     534\n",
              "59  2005-07-31                                           $416     416\n",
              "60  2005-04-30                                           $475     475\n",
              "61  2005-01-31                                           $709     709\n",
              "\n",
              "[62 rows x 3 columns]"
            ],
            "text/html": [
              "\n",
              "  <div id=\"df-a9ef5244-cb07-44c2-b86a-2b6ff826a368\">\n",
              "    <div class=\"colab-df-container\">\n",
              "      <div>\n",
              "<style scoped>\n",
              "    .dataframe tbody tr th:only-of-type {\n",
              "        vertical-align: middle;\n",
              "    }\n",
              "\n",
              "    .dataframe tbody tr th {\n",
              "        vertical-align: top;\n",
              "    }\n",
              "\n",
              "    .dataframe thead th {\n",
              "        text-align: right;\n",
              "    }\n",
              "</style>\n",
              "<table border=\"1\" class=\"dataframe\">\n",
              "  <thead>\n",
              "    <tr style=\"text-align: right;\">\n",
              "      <th></th>\n",
              "      <th>Date</th>\n",
              "      <th>GameStop Quarterly Revenue(Millions of US $).1</th>\n",
              "      <th>Revenue</th>\n",
              "    </tr>\n",
              "  </thead>\n",
              "  <tbody>\n",
              "    <tr>\n",
              "      <th>0</th>\n",
              "      <td>2020-04-30</td>\n",
              "      <td>$1,021</td>\n",
              "      <td>1021</td>\n",
              "    </tr>\n",
              "    <tr>\n",
              "      <th>1</th>\n",
              "      <td>2020-01-31</td>\n",
              "      <td>$2,194</td>\n",
              "      <td>2194</td>\n",
              "    </tr>\n",
              "    <tr>\n",
              "      <th>2</th>\n",
              "      <td>2019-10-31</td>\n",
              "      <td>$1,439</td>\n",
              "      <td>1439</td>\n",
              "    </tr>\n",
              "    <tr>\n",
              "      <th>3</th>\n",
              "      <td>2019-07-31</td>\n",
              "      <td>$1,286</td>\n",
              "      <td>1286</td>\n",
              "    </tr>\n",
              "    <tr>\n",
              "      <th>4</th>\n",
              "      <td>2019-04-30</td>\n",
              "      <td>$1,548</td>\n",
              "      <td>1548</td>\n",
              "    </tr>\n",
              "    <tr>\n",
              "      <th>...</th>\n",
              "      <td>...</td>\n",
              "      <td>...</td>\n",
              "      <td>...</td>\n",
              "    </tr>\n",
              "    <tr>\n",
              "      <th>57</th>\n",
              "      <td>2006-01-31</td>\n",
              "      <td>$1,667</td>\n",
              "      <td>1667</td>\n",
              "    </tr>\n",
              "    <tr>\n",
              "      <th>58</th>\n",
              "      <td>2005-10-31</td>\n",
              "      <td>$534</td>\n",
              "      <td>534</td>\n",
              "    </tr>\n",
              "    <tr>\n",
              "      <th>59</th>\n",
              "      <td>2005-07-31</td>\n",
              "      <td>$416</td>\n",
              "      <td>416</td>\n",
              "    </tr>\n",
              "    <tr>\n",
              "      <th>60</th>\n",
              "      <td>2005-04-30</td>\n",
              "      <td>$475</td>\n",
              "      <td>475</td>\n",
              "    </tr>\n",
              "    <tr>\n",
              "      <th>61</th>\n",
              "      <td>2005-01-31</td>\n",
              "      <td>$709</td>\n",
              "      <td>709</td>\n",
              "    </tr>\n",
              "  </tbody>\n",
              "</table>\n",
              "<p>62 rows × 3 columns</p>\n",
              "</div>\n",
              "      <button class=\"colab-df-convert\" onclick=\"convertToInteractive('df-a9ef5244-cb07-44c2-b86a-2b6ff826a368')\"\n",
              "              title=\"Convert this dataframe to an interactive table.\"\n",
              "              style=\"display:none;\">\n",
              "        \n",
              "  <svg xmlns=\"http://www.w3.org/2000/svg\" height=\"24px\"viewBox=\"0 0 24 24\"\n",
              "       width=\"24px\">\n",
              "    <path d=\"M0 0h24v24H0V0z\" fill=\"none\"/>\n",
              "    <path d=\"M18.56 5.44l.94 2.06.94-2.06 2.06-.94-2.06-.94-.94-2.06-.94 2.06-2.06.94zm-11 1L8.5 8.5l.94-2.06 2.06-.94-2.06-.94L8.5 2.5l-.94 2.06-2.06.94zm10 10l.94 2.06.94-2.06 2.06-.94-2.06-.94-.94-2.06-.94 2.06-2.06.94z\"/><path d=\"M17.41 7.96l-1.37-1.37c-.4-.4-.92-.59-1.43-.59-.52 0-1.04.2-1.43.59L10.3 9.45l-7.72 7.72c-.78.78-.78 2.05 0 2.83L4 21.41c.39.39.9.59 1.41.59.51 0 1.02-.2 1.41-.59l7.78-7.78 2.81-2.81c.8-.78.8-2.07 0-2.86zM5.41 20L4 18.59l7.72-7.72 1.47 1.35L5.41 20z\"/>\n",
              "  </svg>\n",
              "      </button>\n",
              "      \n",
              "  <style>\n",
              "    .colab-df-container {\n",
              "      display:flex;\n",
              "      flex-wrap:wrap;\n",
              "      gap: 12px;\n",
              "    }\n",
              "\n",
              "    .colab-df-convert {\n",
              "      background-color: #E8F0FE;\n",
              "      border: none;\n",
              "      border-radius: 50%;\n",
              "      cursor: pointer;\n",
              "      display: none;\n",
              "      fill: #1967D2;\n",
              "      height: 32px;\n",
              "      padding: 0 0 0 0;\n",
              "      width: 32px;\n",
              "    }\n",
              "\n",
              "    .colab-df-convert:hover {\n",
              "      background-color: #E2EBFA;\n",
              "      box-shadow: 0px 1px 2px rgba(60, 64, 67, 0.3), 0px 1px 3px 1px rgba(60, 64, 67, 0.15);\n",
              "      fill: #174EA6;\n",
              "    }\n",
              "\n",
              "    [theme=dark] .colab-df-convert {\n",
              "      background-color: #3B4455;\n",
              "      fill: #D2E3FC;\n",
              "    }\n",
              "\n",
              "    [theme=dark] .colab-df-convert:hover {\n",
              "      background-color: #434B5C;\n",
              "      box-shadow: 0px 1px 3px 1px rgba(0, 0, 0, 0.15);\n",
              "      filter: drop-shadow(0px 1px 2px rgba(0, 0, 0, 0.3));\n",
              "      fill: #FFFFFF;\n",
              "    }\n",
              "  </style>\n",
              "\n",
              "      <script>\n",
              "        const buttonEl =\n",
              "          document.querySelector('#df-a9ef5244-cb07-44c2-b86a-2b6ff826a368 button.colab-df-convert');\n",
              "        buttonEl.style.display =\n",
              "          google.colab.kernel.accessAllowed ? 'block' : 'none';\n",
              "\n",
              "        async function convertToInteractive(key) {\n",
              "          const element = document.querySelector('#df-a9ef5244-cb07-44c2-b86a-2b6ff826a368');\n",
              "          const dataTable =\n",
              "            await google.colab.kernel.invokeFunction('convertToInteractive',\n",
              "                                                     [key], {});\n",
              "          if (!dataTable) return;\n",
              "\n",
              "          const docLinkHtml = 'Like what you see? Visit the ' +\n",
              "            '<a target=\"_blank\" href=https://colab.research.google.com/notebooks/data_table.ipynb>data table notebook</a>'\n",
              "            + ' to learn more about interactive tables.';\n",
              "          element.innerHTML = '';\n",
              "          dataTable['output_type'] = 'display_data';\n",
              "          await google.colab.output.renderOutput(dataTable, element);\n",
              "          const docLink = document.createElement('div');\n",
              "          docLink.innerHTML = docLinkHtml;\n",
              "          element.appendChild(docLink);\n",
              "        }\n",
              "      </script>\n",
              "    </div>\n",
              "  </div>\n",
              "  "
            ]
          },
          "metadata": {},
          "execution_count": 129
        }
      ],
      "source": [
        "gme_revenue=pd.read_html(html_data)[1]\n",
        "gme_revenue[\"Revenue\"] = gme_revenue['GameStop Quarterly Revenue(Millions of US $).1'].str.replace(',|\\$',\"\")\n",
        "\n",
        "gme_revenue.dropna()\n",
        "gme_revenue=gme_revenue.rename(columns={'GameStop Quarterly Revenue(Millions of US $)':'Date'})\n",
        "gme_revenue\n"
      ]
    },
    {
      "cell_type": "markdown",
      "metadata": {
        "id": "re3eVYbZ-0iu"
      },
      "source": [
        "Display the last five rows of the `gme_revenue` dataframe using the `tail` function. Take a screenshot of the results.\n"
      ]
    },
    {
      "cell_type": "code",
      "execution_count": 108,
      "metadata": {
        "colab": {
          "base_uri": "https://localhost:8080/",
          "height": 206
        },
        "id": "R-VGFtc4-0iu",
        "outputId": "cf0835c9-1993-4678-c06c-fa61d43d9007"
      },
      "outputs": [
        {
          "output_type": "execute_result",
          "data": {
            "text/plain": [
              "          Date GameStop Quarterly Revenue(Millions of US $).1 Revenue\n",
              "57  2006-01-31                                         $1,667   1,667\n",
              "58  2005-10-31                                           $534     534\n",
              "59  2005-07-31                                           $416     416\n",
              "60  2005-04-30                                           $475     475\n",
              "61  2005-01-31                                           $709     709"
            ],
            "text/html": [
              "\n",
              "  <div id=\"df-920256f6-f0b0-455c-9708-dfeca3fc7217\">\n",
              "    <div class=\"colab-df-container\">\n",
              "      <div>\n",
              "<style scoped>\n",
              "    .dataframe tbody tr th:only-of-type {\n",
              "        vertical-align: middle;\n",
              "    }\n",
              "\n",
              "    .dataframe tbody tr th {\n",
              "        vertical-align: top;\n",
              "    }\n",
              "\n",
              "    .dataframe thead th {\n",
              "        text-align: right;\n",
              "    }\n",
              "</style>\n",
              "<table border=\"1\" class=\"dataframe\">\n",
              "  <thead>\n",
              "    <tr style=\"text-align: right;\">\n",
              "      <th></th>\n",
              "      <th>Date</th>\n",
              "      <th>GameStop Quarterly Revenue(Millions of US $).1</th>\n",
              "      <th>Revenue</th>\n",
              "    </tr>\n",
              "  </thead>\n",
              "  <tbody>\n",
              "    <tr>\n",
              "      <th>57</th>\n",
              "      <td>2006-01-31</td>\n",
              "      <td>$1,667</td>\n",
              "      <td>1,667</td>\n",
              "    </tr>\n",
              "    <tr>\n",
              "      <th>58</th>\n",
              "      <td>2005-10-31</td>\n",
              "      <td>$534</td>\n",
              "      <td>534</td>\n",
              "    </tr>\n",
              "    <tr>\n",
              "      <th>59</th>\n",
              "      <td>2005-07-31</td>\n",
              "      <td>$416</td>\n",
              "      <td>416</td>\n",
              "    </tr>\n",
              "    <tr>\n",
              "      <th>60</th>\n",
              "      <td>2005-04-30</td>\n",
              "      <td>$475</td>\n",
              "      <td>475</td>\n",
              "    </tr>\n",
              "    <tr>\n",
              "      <th>61</th>\n",
              "      <td>2005-01-31</td>\n",
              "      <td>$709</td>\n",
              "      <td>709</td>\n",
              "    </tr>\n",
              "  </tbody>\n",
              "</table>\n",
              "</div>\n",
              "      <button class=\"colab-df-convert\" onclick=\"convertToInteractive('df-920256f6-f0b0-455c-9708-dfeca3fc7217')\"\n",
              "              title=\"Convert this dataframe to an interactive table.\"\n",
              "              style=\"display:none;\">\n",
              "        \n",
              "  <svg xmlns=\"http://www.w3.org/2000/svg\" height=\"24px\"viewBox=\"0 0 24 24\"\n",
              "       width=\"24px\">\n",
              "    <path d=\"M0 0h24v24H0V0z\" fill=\"none\"/>\n",
              "    <path d=\"M18.56 5.44l.94 2.06.94-2.06 2.06-.94-2.06-.94-.94-2.06-.94 2.06-2.06.94zm-11 1L8.5 8.5l.94-2.06 2.06-.94-2.06-.94L8.5 2.5l-.94 2.06-2.06.94zm10 10l.94 2.06.94-2.06 2.06-.94-2.06-.94-.94-2.06-.94 2.06-2.06.94z\"/><path d=\"M17.41 7.96l-1.37-1.37c-.4-.4-.92-.59-1.43-.59-.52 0-1.04.2-1.43.59L10.3 9.45l-7.72 7.72c-.78.78-.78 2.05 0 2.83L4 21.41c.39.39.9.59 1.41.59.51 0 1.02-.2 1.41-.59l7.78-7.78 2.81-2.81c.8-.78.8-2.07 0-2.86zM5.41 20L4 18.59l7.72-7.72 1.47 1.35L5.41 20z\"/>\n",
              "  </svg>\n",
              "      </button>\n",
              "      \n",
              "  <style>\n",
              "    .colab-df-container {\n",
              "      display:flex;\n",
              "      flex-wrap:wrap;\n",
              "      gap: 12px;\n",
              "    }\n",
              "\n",
              "    .colab-df-convert {\n",
              "      background-color: #E8F0FE;\n",
              "      border: none;\n",
              "      border-radius: 50%;\n",
              "      cursor: pointer;\n",
              "      display: none;\n",
              "      fill: #1967D2;\n",
              "      height: 32px;\n",
              "      padding: 0 0 0 0;\n",
              "      width: 32px;\n",
              "    }\n",
              "\n",
              "    .colab-df-convert:hover {\n",
              "      background-color: #E2EBFA;\n",
              "      box-shadow: 0px 1px 2px rgba(60, 64, 67, 0.3), 0px 1px 3px 1px rgba(60, 64, 67, 0.15);\n",
              "      fill: #174EA6;\n",
              "    }\n",
              "\n",
              "    [theme=dark] .colab-df-convert {\n",
              "      background-color: #3B4455;\n",
              "      fill: #D2E3FC;\n",
              "    }\n",
              "\n",
              "    [theme=dark] .colab-df-convert:hover {\n",
              "      background-color: #434B5C;\n",
              "      box-shadow: 0px 1px 3px 1px rgba(0, 0, 0, 0.15);\n",
              "      filter: drop-shadow(0px 1px 2px rgba(0, 0, 0, 0.3));\n",
              "      fill: #FFFFFF;\n",
              "    }\n",
              "  </style>\n",
              "\n",
              "      <script>\n",
              "        const buttonEl =\n",
              "          document.querySelector('#df-920256f6-f0b0-455c-9708-dfeca3fc7217 button.colab-df-convert');\n",
              "        buttonEl.style.display =\n",
              "          google.colab.kernel.accessAllowed ? 'block' : 'none';\n",
              "\n",
              "        async function convertToInteractive(key) {\n",
              "          const element = document.querySelector('#df-920256f6-f0b0-455c-9708-dfeca3fc7217');\n",
              "          const dataTable =\n",
              "            await google.colab.kernel.invokeFunction('convertToInteractive',\n",
              "                                                     [key], {});\n",
              "          if (!dataTable) return;\n",
              "\n",
              "          const docLinkHtml = 'Like what you see? Visit the ' +\n",
              "            '<a target=\"_blank\" href=https://colab.research.google.com/notebooks/data_table.ipynb>data table notebook</a>'\n",
              "            + ' to learn more about interactive tables.';\n",
              "          element.innerHTML = '';\n",
              "          dataTable['output_type'] = 'display_data';\n",
              "          await google.colab.output.renderOutput(dataTable, element);\n",
              "          const docLink = document.createElement('div');\n",
              "          docLink.innerHTML = docLinkHtml;\n",
              "          element.appendChild(docLink);\n",
              "        }\n",
              "      </script>\n",
              "    </div>\n",
              "  </div>\n",
              "  "
            ]
          },
          "metadata": {},
          "execution_count": 108
        }
      ],
      "source": [
        "gme_revenue.tail()\n"
      ]
    },
    {
      "cell_type": "markdown",
      "metadata": {
        "id": "MyErU1ke-0iu"
      },
      "source": [
        "## Question 5: Plot Tesla Stock Graph\n"
      ]
    },
    {
      "cell_type": "markdown",
      "metadata": {
        "id": "JddOMglw-0iu"
      },
      "source": [
        "Use the `make_graph` function to graph the Tesla Stock Data, also provide a title for the graph. The structure to call the `make_graph` function is `make_graph(tesla_data, tesla_revenue, 'Tesla')`. Note the graph will only show data upto June 2021.\n"
      ]
    },
    {
      "cell_type": "code",
      "execution_count": 81,
      "metadata": {
        "colab": {
          "base_uri": "https://localhost:8080/",
          "height": 917
        },
        "id": "K6pdbau0-0iv",
        "outputId": "5bf8c137-64d5-445f-fff8-c1244bf2eae5"
      },
      "outputs": [
        {
          "output_type": "display_data",
          "data": {
            "text/html": [
              "<html>\n",
              "<head><meta charset=\"utf-8\" /></head>\n",
              "<body>\n",
              "    <div>            <script src=\"https://cdnjs.cloudflare.com/ajax/libs/mathjax/2.7.5/MathJax.js?config=TeX-AMS-MML_SVG\"></script><script type=\"text/javascript\">if (window.MathJax) {MathJax.Hub.Config({SVG: {font: \"STIX-Web\"}});}</script>                <script type=\"text/javascript\">window.PlotlyConfig = {MathJaxConfig: 'local'};</script>\n",
              "        <script src=\"https://cdn.plot.ly/plotly-2.8.3.min.js\"></script>                <div id=\"f8d0c809-d83b-42a6-95a9-4b00569207f2\" class=\"plotly-graph-div\" style=\"height:900px; width:100%;\"></div>            <script type=\"text/javascript\">                                    window.PLOTLYENV=window.PLOTLYENV || {};                                    if (document.getElementById(\"f8d0c809-d83b-42a6-95a9-4b00569207f2\")) {                    Plotly.newPlot(                        \"f8d0c809-d83b-42a6-95a9-4b00569207f2\",                        [{\"name\":\"Share Price\",\"x\":[\"2010-06-29T00:00:00\",\"2010-06-30T00:00:00\",\"2010-07-01T00:00:00\",\"2010-07-02T00:00:00\",\"2010-07-06T00:00:00\",\"2010-07-07T00:00:00\",\"2010-07-08T00:00:00\",\"2010-07-09T00:00:00\",\"2010-07-12T00:00:00\",\"2010-07-13T00:00:00\",\"2010-07-14T00:00:00\",\"2010-07-15T00:00:00\",\"2010-07-16T00:00:00\",\"2010-07-19T00:00:00\",\"2010-07-20T00:00:00\",\"2010-07-21T00:00:00\",\"2010-07-22T00:00:00\",\"2010-07-23T00:00:00\",\"2010-07-26T00:00:00\",\"2010-07-27T00:00:00\",\"2010-07-28T00:00:00\",\"2010-07-29T00:00:00\",\"2010-07-30T00:00:00\",\"2010-08-02T00:00:00\",\"2010-08-03T00:00:00\",\"2010-08-04T00:00:00\",\"2010-08-05T00:00:00\",\"2010-08-06T00:00:00\",\"2010-08-09T00:00:00\",\"2010-08-10T00:00:00\",\"2010-08-11T00:00:00\",\"2010-08-12T00:00:00\",\"2010-08-13T00:00:00\",\"2010-08-16T00:00:00\",\"2010-08-17T00:00:00\",\"2010-08-18T00:00:00\",\"2010-08-19T00:00:00\",\"2010-08-20T00:00:00\",\"2010-08-23T00:00:00\",\"2010-08-24T00:00:00\",\"2010-08-25T00:00:00\",\"2010-08-26T00:00:00\",\"2010-08-27T00:00:00\",\"2010-08-30T00:00:00\",\"2010-08-31T00:00:00\",\"2010-09-01T00:00:00\",\"2010-09-02T00:00:00\",\"2010-09-03T00:00:00\",\"2010-09-07T00:00:00\",\"2010-09-08T00:00:00\",\"2010-09-09T00:00:00\",\"2010-09-10T00:00:00\",\"2010-09-13T00:00:00\",\"2010-09-14T00:00:00\",\"2010-09-15T00:00:00\",\"2010-09-16T00:00:00\",\"2010-09-17T00:00:00\",\"2010-09-20T00:00:00\",\"2010-09-21T00:00:00\",\"2010-09-22T00:00:00\",\"2010-09-23T00:00:00\",\"2010-09-24T00:00:00\",\"2010-09-27T00:00:00\",\"2010-09-28T00:00:00\",\"2010-09-29T00:00:00\",\"2010-09-30T00:00:00\",\"2010-10-01T00:00:00\",\"2010-10-04T00:00:00\",\"2010-10-05T00:00:00\",\"2010-10-06T00:00:00\",\"2010-10-07T00:00:00\",\"2010-10-08T00:00:00\",\"2010-10-11T00:00:00\",\"2010-10-12T00:00:00\",\"2010-10-13T00:00:00\",\"2010-10-14T00:00:00\",\"2010-10-15T00:00:00\",\"2010-10-18T00:00:00\",\"2010-10-19T00:00:00\",\"2010-10-20T00:00:00\",\"2010-10-21T00:00:00\",\"2010-10-22T00:00:00\",\"2010-10-25T00:00:00\",\"2010-10-26T00:00:00\",\"2010-10-27T00:00:00\",\"2010-10-28T00:00:00\",\"2010-10-29T00:00:00\",\"2010-11-01T00:00:00\",\"2010-11-02T00:00:00\",\"2010-11-03T00:00:00\",\"2010-11-04T00:00:00\",\"2010-11-05T00:00:00\",\"2010-11-08T00:00:00\",\"2010-11-09T00:00:00\",\"2010-11-10T00:00:00\",\"2010-11-11T00:00:00\",\"2010-11-12T00:00:00\",\"2010-11-15T00:00:00\",\"2010-11-16T00:00:00\",\"2010-11-17T00:00:00\",\"2010-11-18T00:00:00\",\"2010-11-19T00:00:00\",\"2010-11-22T00:00:00\",\"2010-11-23T00:00:00\",\"2010-11-24T00:00:00\",\"2010-11-26T00:00:00\",\"2010-11-29T00:00:00\",\"2010-11-30T00:00:00\",\"2010-12-01T00:00:00\",\"2010-12-02T00:00:00\",\"2010-12-03T00:00:00\",\"2010-12-06T00:00:00\",\"2010-12-07T00:00:00\",\"2010-12-08T00:00:00\",\"2010-12-09T00:00:00\",\"2010-12-10T00:00:00\",\"2010-12-13T00:00:00\",\"2010-12-14T00:00:00\",\"2010-12-15T00:00:00\",\"2010-12-16T00:00:00\",\"2010-12-17T00:00:00\",\"2010-12-20T00:00:00\",\"2010-12-21T00:00:00\",\"2010-12-22T00:00:00\",\"2010-12-23T00:00:00\",\"2010-12-27T00:00:00\",\"2010-12-28T00:00:00\",\"2010-12-29T00:00:00\",\"2010-12-30T00:00:00\",\"2010-12-31T00:00:00\",\"2011-01-03T00:00:00\",\"2011-01-04T00:00:00\",\"2011-01-05T00:00:00\",\"2011-01-06T00:00:00\",\"2011-01-07T00:00:00\",\"2011-01-10T00:00:00\",\"2011-01-11T00:00:00\",\"2011-01-12T00:00:00\",\"2011-01-13T00:00:00\",\"2011-01-14T00:00:00\",\"2011-01-18T00:00:00\",\"2011-01-19T00:00:00\",\"2011-01-20T00:00:00\",\"2011-01-21T00:00:00\",\"2011-01-24T00:00:00\",\"2011-01-25T00:00:00\",\"2011-01-26T00:00:00\",\"2011-01-27T00:00:00\",\"2011-01-28T00:00:00\",\"2011-01-31T00:00:00\",\"2011-02-01T00:00:00\",\"2011-02-02T00:00:00\",\"2011-02-03T00:00:00\",\"2011-02-04T00:00:00\",\"2011-02-07T00:00:00\",\"2011-02-08T00:00:00\",\"2011-02-09T00:00:00\",\"2011-02-10T00:00:00\",\"2011-02-11T00:00:00\",\"2011-02-14T00:00:00\",\"2011-02-15T00:00:00\",\"2011-02-16T00:00:00\",\"2011-02-17T00:00:00\",\"2011-02-18T00:00:00\",\"2011-02-22T00:00:00\",\"2011-02-23T00:00:00\",\"2011-02-24T00:00:00\",\"2011-02-25T00:00:00\",\"2011-02-28T00:00:00\",\"2011-03-01T00:00:00\",\"2011-03-02T00:00:00\",\"2011-03-03T00:00:00\",\"2011-03-04T00:00:00\",\"2011-03-07T00:00:00\",\"2011-03-08T00:00:00\",\"2011-03-09T00:00:00\",\"2011-03-10T00:00:00\",\"2011-03-11T00:00:00\",\"2011-03-14T00:00:00\",\"2011-03-15T00:00:00\",\"2011-03-16T00:00:00\",\"2011-03-17T00:00:00\",\"2011-03-18T00:00:00\",\"2011-03-21T00:00:00\",\"2011-03-22T00:00:00\",\"2011-03-23T00:00:00\",\"2011-03-24T00:00:00\",\"2011-03-25T00:00:00\",\"2011-03-28T00:00:00\",\"2011-03-29T00:00:00\",\"2011-03-30T00:00:00\",\"2011-03-31T00:00:00\",\"2011-04-01T00:00:00\",\"2011-04-04T00:00:00\",\"2011-04-05T00:00:00\",\"2011-04-06T00:00:00\",\"2011-04-07T00:00:00\",\"2011-04-08T00:00:00\",\"2011-04-11T00:00:00\",\"2011-04-12T00:00:00\",\"2011-04-13T00:00:00\",\"2011-04-14T00:00:00\",\"2011-04-15T00:00:00\",\"2011-04-18T00:00:00\",\"2011-04-19T00:00:00\",\"2011-04-20T00:00:00\",\"2011-04-21T00:00:00\",\"2011-04-25T00:00:00\",\"2011-04-26T00:00:00\",\"2011-04-27T00:00:00\",\"2011-04-28T00:00:00\",\"2011-04-29T00:00:00\",\"2011-05-02T00:00:00\",\"2011-05-03T00:00:00\",\"2011-05-04T00:00:00\",\"2011-05-05T00:00:00\",\"2011-05-06T00:00:00\",\"2011-05-09T00:00:00\",\"2011-05-10T00:00:00\",\"2011-05-11T00:00:00\",\"2011-05-12T00:00:00\",\"2011-05-13T00:00:00\",\"2011-05-16T00:00:00\",\"2011-05-17T00:00:00\",\"2011-05-18T00:00:00\",\"2011-05-19T00:00:00\",\"2011-05-20T00:00:00\",\"2011-05-23T00:00:00\",\"2011-05-24T00:00:00\",\"2011-05-25T00:00:00\",\"2011-05-26T00:00:00\",\"2011-05-27T00:00:00\",\"2011-05-31T00:00:00\",\"2011-06-01T00:00:00\",\"2011-06-02T00:00:00\",\"2011-06-03T00:00:00\",\"2011-06-06T00:00:00\",\"2011-06-07T00:00:00\",\"2011-06-08T00:00:00\",\"2011-06-09T00:00:00\",\"2011-06-10T00:00:00\",\"2011-06-13T00:00:00\",\"2011-06-14T00:00:00\",\"2011-06-15T00:00:00\",\"2011-06-16T00:00:00\",\"2011-06-17T00:00:00\",\"2011-06-20T00:00:00\",\"2011-06-21T00:00:00\",\"2011-06-22T00:00:00\",\"2011-06-23T00:00:00\",\"2011-06-24T00:00:00\",\"2011-06-27T00:00:00\",\"2011-06-28T00:00:00\",\"2011-06-29T00:00:00\",\"2011-06-30T00:00:00\",\"2011-07-01T00:00:00\",\"2011-07-05T00:00:00\",\"2011-07-06T00:00:00\",\"2011-07-07T00:00:00\",\"2011-07-08T00:00:00\",\"2011-07-11T00:00:00\",\"2011-07-12T00:00:00\",\"2011-07-13T00:00:00\",\"2011-07-14T00:00:00\",\"2011-07-15T00:00:00\",\"2011-07-18T00:00:00\",\"2011-07-19T00:00:00\",\"2011-07-20T00:00:00\",\"2011-07-21T00:00:00\",\"2011-07-22T00:00:00\",\"2011-07-25T00:00:00\",\"2011-07-26T00:00:00\",\"2011-07-27T00:00:00\",\"2011-07-28T00:00:00\",\"2011-07-29T00:00:00\",\"2011-08-01T00:00:00\",\"2011-08-02T00:00:00\",\"2011-08-03T00:00:00\",\"2011-08-04T00:00:00\",\"2011-08-05T00:00:00\",\"2011-08-08T00:00:00\",\"2011-08-09T00:00:00\",\"2011-08-10T00:00:00\",\"2011-08-11T00:00:00\",\"2011-08-12T00:00:00\",\"2011-08-15T00:00:00\",\"2011-08-16T00:00:00\",\"2011-08-17T00:00:00\",\"2011-08-18T00:00:00\",\"2011-08-19T00:00:00\",\"2011-08-22T00:00:00\",\"2011-08-23T00:00:00\",\"2011-08-24T00:00:00\",\"2011-08-25T00:00:00\",\"2011-08-26T00:00:00\",\"2011-08-29T00:00:00\",\"2011-08-30T00:00:00\",\"2011-08-31T00:00:00\",\"2011-09-01T00:00:00\",\"2011-09-02T00:00:00\",\"2011-09-06T00:00:00\",\"2011-09-07T00:00:00\",\"2011-09-08T00:00:00\",\"2011-09-09T00:00:00\",\"2011-09-12T00:00:00\",\"2011-09-13T00:00:00\",\"2011-09-14T00:00:00\",\"2011-09-15T00:00:00\",\"2011-09-16T00:00:00\",\"2011-09-19T00:00:00\",\"2011-09-20T00:00:00\",\"2011-09-21T00:00:00\",\"2011-09-22T00:00:00\",\"2011-09-23T00:00:00\",\"2011-09-26T00:00:00\",\"2011-09-27T00:00:00\",\"2011-09-28T00:00:00\",\"2011-09-29T00:00:00\",\"2011-09-30T00:00:00\",\"2011-10-03T00:00:00\",\"2011-10-04T00:00:00\",\"2011-10-05T00:00:00\",\"2011-10-06T00:00:00\",\"2011-10-07T00:00:00\",\"2011-10-10T00:00:00\",\"2011-10-11T00:00:00\",\"2011-10-12T00:00:00\",\"2011-10-13T00:00:00\",\"2011-10-14T00:00:00\",\"2011-10-17T00:00:00\",\"2011-10-18T00:00:00\",\"2011-10-19T00:00:00\",\"2011-10-20T00:00:00\",\"2011-10-21T00:00:00\",\"2011-10-24T00:00:00\",\"2011-10-25T00:00:00\",\"2011-10-26T00:00:00\",\"2011-10-27T00:00:00\",\"2011-10-28T00:00:00\",\"2011-10-31T00:00:00\",\"2011-11-01T00:00:00\",\"2011-11-02T00:00:00\",\"2011-11-03T00:00:00\",\"2011-11-04T00:00:00\",\"2011-11-07T00:00:00\",\"2011-11-08T00:00:00\",\"2011-11-09T00:00:00\",\"2011-11-10T00:00:00\",\"2011-11-11T00:00:00\",\"2011-11-14T00:00:00\",\"2011-11-15T00:00:00\",\"2011-11-16T00:00:00\",\"2011-11-17T00:00:00\",\"2011-11-18T00:00:00\",\"2011-11-21T00:00:00\",\"2011-11-22T00:00:00\",\"2011-11-23T00:00:00\",\"2011-11-25T00:00:00\",\"2011-11-28T00:00:00\",\"2011-11-29T00:00:00\",\"2011-11-30T00:00:00\",\"2011-12-01T00:00:00\",\"2011-12-02T00:00:00\",\"2011-12-05T00:00:00\",\"2011-12-06T00:00:00\",\"2011-12-07T00:00:00\",\"2011-12-08T00:00:00\",\"2011-12-09T00:00:00\",\"2011-12-12T00:00:00\",\"2011-12-13T00:00:00\",\"2011-12-14T00:00:00\",\"2011-12-15T00:00:00\",\"2011-12-16T00:00:00\",\"2011-12-19T00:00:00\",\"2011-12-20T00:00:00\",\"2011-12-21T00:00:00\",\"2011-12-22T00:00:00\",\"2011-12-23T00:00:00\",\"2011-12-27T00:00:00\",\"2011-12-28T00:00:00\",\"2011-12-29T00:00:00\",\"2011-12-30T00:00:00\",\"2012-01-03T00:00:00\",\"2012-01-04T00:00:00\",\"2012-01-05T00:00:00\",\"2012-01-06T00:00:00\",\"2012-01-09T00:00:00\",\"2012-01-10T00:00:00\",\"2012-01-11T00:00:00\",\"2012-01-12T00:00:00\",\"2012-01-13T00:00:00\",\"2012-01-17T00:00:00\",\"2012-01-18T00:00:00\",\"2012-01-19T00:00:00\",\"2012-01-20T00:00:00\",\"2012-01-23T00:00:00\",\"2012-01-24T00:00:00\",\"2012-01-25T00:00:00\",\"2012-01-26T00:00:00\",\"2012-01-27T00:00:00\",\"2012-01-30T00:00:00\",\"2012-01-31T00:00:00\",\"2012-02-01T00:00:00\",\"2012-02-02T00:00:00\",\"2012-02-03T00:00:00\",\"2012-02-06T00:00:00\",\"2012-02-07T00:00:00\",\"2012-02-08T00:00:00\",\"2012-02-09T00:00:00\",\"2012-02-10T00:00:00\",\"2012-02-13T00:00:00\",\"2012-02-14T00:00:00\",\"2012-02-15T00:00:00\",\"2012-02-16T00:00:00\",\"2012-02-17T00:00:00\",\"2012-02-21T00:00:00\",\"2012-02-22T00:00:00\",\"2012-02-23T00:00:00\",\"2012-02-24T00:00:00\",\"2012-02-27T00:00:00\",\"2012-02-28T00:00:00\",\"2012-02-29T00:00:00\",\"2012-03-01T00:00:00\",\"2012-03-02T00:00:00\",\"2012-03-05T00:00:00\",\"2012-03-06T00:00:00\",\"2012-03-07T00:00:00\",\"2012-03-08T00:00:00\",\"2012-03-09T00:00:00\",\"2012-03-12T00:00:00\",\"2012-03-13T00:00:00\",\"2012-03-14T00:00:00\",\"2012-03-15T00:00:00\",\"2012-03-16T00:00:00\",\"2012-03-19T00:00:00\",\"2012-03-20T00:00:00\",\"2012-03-21T00:00:00\",\"2012-03-22T00:00:00\",\"2012-03-23T00:00:00\",\"2012-03-26T00:00:00\",\"2012-03-27T00:00:00\",\"2012-03-28T00:00:00\",\"2012-03-29T00:00:00\",\"2012-03-30T00:00:00\",\"2012-04-02T00:00:00\",\"2012-04-03T00:00:00\",\"2012-04-04T00:00:00\",\"2012-04-05T00:00:00\",\"2012-04-09T00:00:00\",\"2012-04-10T00:00:00\",\"2012-04-11T00:00:00\",\"2012-04-12T00:00:00\",\"2012-04-13T00:00:00\",\"2012-04-16T00:00:00\",\"2012-04-17T00:00:00\",\"2012-04-18T00:00:00\",\"2012-04-19T00:00:00\",\"2012-04-20T00:00:00\",\"2012-04-23T00:00:00\",\"2012-04-24T00:00:00\",\"2012-04-25T00:00:00\",\"2012-04-26T00:00:00\",\"2012-04-27T00:00:00\",\"2012-04-30T00:00:00\",\"2012-05-01T00:00:00\",\"2012-05-02T00:00:00\",\"2012-05-03T00:00:00\",\"2012-05-04T00:00:00\",\"2012-05-07T00:00:00\",\"2012-05-08T00:00:00\",\"2012-05-09T00:00:00\",\"2012-05-10T00:00:00\",\"2012-05-11T00:00:00\",\"2012-05-14T00:00:00\",\"2012-05-15T00:00:00\",\"2012-05-16T00:00:00\",\"2012-05-17T00:00:00\",\"2012-05-18T00:00:00\",\"2012-05-21T00:00:00\",\"2012-05-22T00:00:00\",\"2012-05-23T00:00:00\",\"2012-05-24T00:00:00\",\"2012-05-25T00:00:00\",\"2012-05-29T00:00:00\",\"2012-05-30T00:00:00\",\"2012-05-31T00:00:00\",\"2012-06-01T00:00:00\",\"2012-06-04T00:00:00\",\"2012-06-05T00:00:00\",\"2012-06-06T00:00:00\",\"2012-06-07T00:00:00\",\"2012-06-08T00:00:00\",\"2012-06-11T00:00:00\",\"2012-06-12T00:00:00\",\"2012-06-13T00:00:00\",\"2012-06-14T00:00:00\",\"2012-06-15T00:00:00\",\"2012-06-18T00:00:00\",\"2012-06-19T00:00:00\",\"2012-06-20T00:00:00\",\"2012-06-21T00:00:00\",\"2012-06-22T00:00:00\",\"2012-06-25T00:00:00\",\"2012-06-26T00:00:00\",\"2012-06-27T00:00:00\",\"2012-06-28T00:00:00\",\"2012-06-29T00:00:00\",\"2012-07-02T00:00:00\",\"2012-07-03T00:00:00\",\"2012-07-05T00:00:00\",\"2012-07-06T00:00:00\",\"2012-07-09T00:00:00\",\"2012-07-10T00:00:00\",\"2012-07-11T00:00:00\",\"2012-07-12T00:00:00\",\"2012-07-13T00:00:00\",\"2012-07-16T00:00:00\",\"2012-07-17T00:00:00\",\"2012-07-18T00:00:00\",\"2012-07-19T00:00:00\",\"2012-07-20T00:00:00\",\"2012-07-23T00:00:00\",\"2012-07-24T00:00:00\",\"2012-07-25T00:00:00\",\"2012-07-26T00:00:00\",\"2012-07-27T00:00:00\",\"2012-07-30T00:00:00\",\"2012-07-31T00:00:00\",\"2012-08-01T00:00:00\",\"2012-08-02T00:00:00\",\"2012-08-03T00:00:00\",\"2012-08-06T00:00:00\",\"2012-08-07T00:00:00\",\"2012-08-08T00:00:00\",\"2012-08-09T00:00:00\",\"2012-08-10T00:00:00\",\"2012-08-13T00:00:00\",\"2012-08-14T00:00:00\",\"2012-08-15T00:00:00\",\"2012-08-16T00:00:00\",\"2012-08-17T00:00:00\",\"2012-08-20T00:00:00\",\"2012-08-21T00:00:00\",\"2012-08-22T00:00:00\",\"2012-08-23T00:00:00\",\"2012-08-24T00:00:00\",\"2012-08-27T00:00:00\",\"2012-08-28T00:00:00\",\"2012-08-29T00:00:00\",\"2012-08-30T00:00:00\",\"2012-08-31T00:00:00\",\"2012-09-04T00:00:00\",\"2012-09-05T00:00:00\",\"2012-09-06T00:00:00\",\"2012-09-07T00:00:00\",\"2012-09-10T00:00:00\",\"2012-09-11T00:00:00\",\"2012-09-12T00:00:00\",\"2012-09-13T00:00:00\",\"2012-09-14T00:00:00\",\"2012-09-17T00:00:00\",\"2012-09-18T00:00:00\",\"2012-09-19T00:00:00\",\"2012-09-20T00:00:00\",\"2012-09-21T00:00:00\",\"2012-09-24T00:00:00\",\"2012-09-25T00:00:00\",\"2012-09-26T00:00:00\",\"2012-09-27T00:00:00\",\"2012-09-28T00:00:00\",\"2012-10-01T00:00:00\",\"2012-10-02T00:00:00\",\"2012-10-03T00:00:00\",\"2012-10-04T00:00:00\",\"2012-10-05T00:00:00\",\"2012-10-08T00:00:00\",\"2012-10-09T00:00:00\",\"2012-10-10T00:00:00\",\"2012-10-11T00:00:00\",\"2012-10-12T00:00:00\",\"2012-10-15T00:00:00\",\"2012-10-16T00:00:00\",\"2012-10-17T00:00:00\",\"2012-10-18T00:00:00\",\"2012-10-19T00:00:00\",\"2012-10-22T00:00:00\",\"2012-10-23T00:00:00\",\"2012-10-24T00:00:00\",\"2012-10-25T00:00:00\",\"2012-10-26T00:00:00\",\"2012-10-31T00:00:00\",\"2012-11-01T00:00:00\",\"2012-11-02T00:00:00\",\"2012-11-05T00:00:00\",\"2012-11-06T00:00:00\",\"2012-11-07T00:00:00\",\"2012-11-08T00:00:00\",\"2012-11-09T00:00:00\",\"2012-11-12T00:00:00\",\"2012-11-13T00:00:00\",\"2012-11-14T00:00:00\",\"2012-11-15T00:00:00\",\"2012-11-16T00:00:00\",\"2012-11-19T00:00:00\",\"2012-11-20T00:00:00\",\"2012-11-21T00:00:00\",\"2012-11-23T00:00:00\",\"2012-11-26T00:00:00\",\"2012-11-27T00:00:00\",\"2012-11-28T00:00:00\",\"2012-11-29T00:00:00\",\"2012-11-30T00:00:00\",\"2012-12-03T00:00:00\",\"2012-12-04T00:00:00\",\"2012-12-05T00:00:00\",\"2012-12-06T00:00:00\",\"2012-12-07T00:00:00\",\"2012-12-10T00:00:00\",\"2012-12-11T00:00:00\",\"2012-12-12T00:00:00\",\"2012-12-13T00:00:00\",\"2012-12-14T00:00:00\",\"2012-12-17T00:00:00\",\"2012-12-18T00:00:00\",\"2012-12-19T00:00:00\",\"2012-12-20T00:00:00\",\"2012-12-21T00:00:00\",\"2012-12-24T00:00:00\",\"2012-12-26T00:00:00\",\"2012-12-27T00:00:00\",\"2012-12-28T00:00:00\",\"2012-12-31T00:00:00\",\"2013-01-02T00:00:00\",\"2013-01-03T00:00:00\",\"2013-01-04T00:00:00\",\"2013-01-07T00:00:00\",\"2013-01-08T00:00:00\",\"2013-01-09T00:00:00\",\"2013-01-10T00:00:00\",\"2013-01-11T00:00:00\",\"2013-01-14T00:00:00\",\"2013-01-15T00:00:00\",\"2013-01-16T00:00:00\",\"2013-01-17T00:00:00\",\"2013-01-18T00:00:00\",\"2013-01-22T00:00:00\",\"2013-01-23T00:00:00\",\"2013-01-24T00:00:00\",\"2013-01-25T00:00:00\",\"2013-01-28T00:00:00\",\"2013-01-29T00:00:00\",\"2013-01-30T00:00:00\",\"2013-01-31T00:00:00\",\"2013-02-01T00:00:00\",\"2013-02-04T00:00:00\",\"2013-02-05T00:00:00\",\"2013-02-06T00:00:00\",\"2013-02-07T00:00:00\",\"2013-02-08T00:00:00\",\"2013-02-11T00:00:00\",\"2013-02-12T00:00:00\",\"2013-02-13T00:00:00\",\"2013-02-14T00:00:00\",\"2013-02-15T00:00:00\",\"2013-02-19T00:00:00\",\"2013-02-20T00:00:00\",\"2013-02-21T00:00:00\",\"2013-02-22T00:00:00\",\"2013-02-25T00:00:00\",\"2013-02-26T00:00:00\",\"2013-02-27T00:00:00\",\"2013-02-28T00:00:00\",\"2013-03-01T00:00:00\",\"2013-03-04T00:00:00\",\"2013-03-05T00:00:00\",\"2013-03-06T00:00:00\",\"2013-03-07T00:00:00\",\"2013-03-08T00:00:00\",\"2013-03-11T00:00:00\",\"2013-03-12T00:00:00\",\"2013-03-13T00:00:00\",\"2013-03-14T00:00:00\",\"2013-03-15T00:00:00\",\"2013-03-18T00:00:00\",\"2013-03-19T00:00:00\",\"2013-03-20T00:00:00\",\"2013-03-21T00:00:00\",\"2013-03-22T00:00:00\",\"2013-03-25T00:00:00\",\"2013-03-26T00:00:00\",\"2013-03-27T00:00:00\",\"2013-03-28T00:00:00\",\"2013-04-01T00:00:00\",\"2013-04-02T00:00:00\",\"2013-04-03T00:00:00\",\"2013-04-04T00:00:00\",\"2013-04-05T00:00:00\",\"2013-04-08T00:00:00\",\"2013-04-09T00:00:00\",\"2013-04-10T00:00:00\",\"2013-04-11T00:00:00\",\"2013-04-12T00:00:00\",\"2013-04-15T00:00:00\",\"2013-04-16T00:00:00\",\"2013-04-17T00:00:00\",\"2013-04-18T00:00:00\",\"2013-04-19T00:00:00\",\"2013-04-22T00:00:00\",\"2013-04-23T00:00:00\",\"2013-04-24T00:00:00\",\"2013-04-25T00:00:00\",\"2013-04-26T00:00:00\",\"2013-04-29T00:00:00\",\"2013-04-30T00:00:00\",\"2013-05-01T00:00:00\",\"2013-05-02T00:00:00\",\"2013-05-03T00:00:00\",\"2013-05-06T00:00:00\",\"2013-05-07T00:00:00\",\"2013-05-08T00:00:00\",\"2013-05-09T00:00:00\",\"2013-05-10T00:00:00\",\"2013-05-13T00:00:00\",\"2013-05-14T00:00:00\",\"2013-05-15T00:00:00\",\"2013-05-16T00:00:00\",\"2013-05-17T00:00:00\",\"2013-05-20T00:00:00\",\"2013-05-21T00:00:00\",\"2013-05-22T00:00:00\",\"2013-05-23T00:00:00\",\"2013-05-24T00:00:00\",\"2013-05-28T00:00:00\",\"2013-05-29T00:00:00\",\"2013-05-30T00:00:00\",\"2013-05-31T00:00:00\",\"2013-06-03T00:00:00\",\"2013-06-04T00:00:00\",\"2013-06-05T00:00:00\",\"2013-06-06T00:00:00\",\"2013-06-07T00:00:00\",\"2013-06-10T00:00:00\",\"2013-06-11T00:00:00\",\"2013-06-12T00:00:00\",\"2013-06-13T00:00:00\",\"2013-06-14T00:00:00\",\"2013-06-17T00:00:00\",\"2013-06-18T00:00:00\",\"2013-06-19T00:00:00\",\"2013-06-20T00:00:00\",\"2013-06-21T00:00:00\",\"2013-06-24T00:00:00\",\"2013-06-25T00:00:00\",\"2013-06-26T00:00:00\",\"2013-06-27T00:00:00\",\"2013-06-28T00:00:00\",\"2013-07-01T00:00:00\",\"2013-07-02T00:00:00\",\"2013-07-03T00:00:00\",\"2013-07-05T00:00:00\",\"2013-07-08T00:00:00\",\"2013-07-09T00:00:00\",\"2013-07-10T00:00:00\",\"2013-07-11T00:00:00\",\"2013-07-12T00:00:00\",\"2013-07-15T00:00:00\",\"2013-07-16T00:00:00\",\"2013-07-17T00:00:00\",\"2013-07-18T00:00:00\",\"2013-07-19T00:00:00\",\"2013-07-22T00:00:00\",\"2013-07-23T00:00:00\",\"2013-07-24T00:00:00\",\"2013-07-25T00:00:00\",\"2013-07-26T00:00:00\",\"2013-07-29T00:00:00\",\"2013-07-30T00:00:00\",\"2013-07-31T00:00:00\",\"2013-08-01T00:00:00\",\"2013-08-02T00:00:00\",\"2013-08-05T00:00:00\",\"2013-08-06T00:00:00\",\"2013-08-07T00:00:00\",\"2013-08-08T00:00:00\",\"2013-08-09T00:00:00\",\"2013-08-12T00:00:00\",\"2013-08-13T00:00:00\",\"2013-08-14T00:00:00\",\"2013-08-15T00:00:00\",\"2013-08-16T00:00:00\",\"2013-08-19T00:00:00\",\"2013-08-20T00:00:00\",\"2013-08-21T00:00:00\",\"2013-08-22T00:00:00\",\"2013-08-23T00:00:00\",\"2013-08-26T00:00:00\",\"2013-08-27T00:00:00\",\"2013-08-28T00:00:00\",\"2013-08-29T00:00:00\",\"2013-08-30T00:00:00\",\"2013-09-03T00:00:00\",\"2013-09-04T00:00:00\",\"2013-09-05T00:00:00\",\"2013-09-06T00:00:00\",\"2013-09-09T00:00:00\",\"2013-09-10T00:00:00\",\"2013-09-11T00:00:00\",\"2013-09-12T00:00:00\",\"2013-09-13T00:00:00\",\"2013-09-16T00:00:00\",\"2013-09-17T00:00:00\",\"2013-09-18T00:00:00\",\"2013-09-19T00:00:00\",\"2013-09-20T00:00:00\",\"2013-09-23T00:00:00\",\"2013-09-24T00:00:00\",\"2013-09-25T00:00:00\",\"2013-09-26T00:00:00\",\"2013-09-27T00:00:00\",\"2013-09-30T00:00:00\",\"2013-10-01T00:00:00\",\"2013-10-02T00:00:00\",\"2013-10-03T00:00:00\",\"2013-10-04T00:00:00\",\"2013-10-07T00:00:00\",\"2013-10-08T00:00:00\",\"2013-10-09T00:00:00\",\"2013-10-10T00:00:00\",\"2013-10-11T00:00:00\",\"2013-10-14T00:00:00\",\"2013-10-15T00:00:00\",\"2013-10-16T00:00:00\",\"2013-10-17T00:00:00\",\"2013-10-18T00:00:00\",\"2013-10-21T00:00:00\",\"2013-10-22T00:00:00\",\"2013-10-23T00:00:00\",\"2013-10-24T00:00:00\",\"2013-10-25T00:00:00\",\"2013-10-28T00:00:00\",\"2013-10-29T00:00:00\",\"2013-10-30T00:00:00\",\"2013-10-31T00:00:00\",\"2013-11-01T00:00:00\",\"2013-11-04T00:00:00\",\"2013-11-05T00:00:00\",\"2013-11-06T00:00:00\",\"2013-11-07T00:00:00\",\"2013-11-08T00:00:00\",\"2013-11-11T00:00:00\",\"2013-11-12T00:00:00\",\"2013-11-13T00:00:00\",\"2013-11-14T00:00:00\",\"2013-11-15T00:00:00\",\"2013-11-18T00:00:00\",\"2013-11-19T00:00:00\",\"2013-11-20T00:00:00\",\"2013-11-21T00:00:00\",\"2013-11-22T00:00:00\",\"2013-11-25T00:00:00\",\"2013-11-26T00:00:00\",\"2013-11-27T00:00:00\",\"2013-11-29T00:00:00\",\"2013-12-02T00:00:00\",\"2013-12-03T00:00:00\",\"2013-12-04T00:00:00\",\"2013-12-05T00:00:00\",\"2013-12-06T00:00:00\",\"2013-12-09T00:00:00\",\"2013-12-10T00:00:00\",\"2013-12-11T00:00:00\",\"2013-12-12T00:00:00\",\"2013-12-13T00:00:00\",\"2013-12-16T00:00:00\",\"2013-12-17T00:00:00\",\"2013-12-18T00:00:00\",\"2013-12-19T00:00:00\",\"2013-12-20T00:00:00\",\"2013-12-23T00:00:00\",\"2013-12-24T00:00:00\",\"2013-12-26T00:00:00\",\"2013-12-27T00:00:00\",\"2013-12-30T00:00:00\",\"2013-12-31T00:00:00\",\"2014-01-02T00:00:00\",\"2014-01-03T00:00:00\",\"2014-01-06T00:00:00\",\"2014-01-07T00:00:00\",\"2014-01-08T00:00:00\",\"2014-01-09T00:00:00\",\"2014-01-10T00:00:00\",\"2014-01-13T00:00:00\",\"2014-01-14T00:00:00\",\"2014-01-15T00:00:00\",\"2014-01-16T00:00:00\",\"2014-01-17T00:00:00\",\"2014-01-21T00:00:00\",\"2014-01-22T00:00:00\",\"2014-01-23T00:00:00\",\"2014-01-24T00:00:00\",\"2014-01-27T00:00:00\",\"2014-01-28T00:00:00\",\"2014-01-29T00:00:00\",\"2014-01-30T00:00:00\",\"2014-01-31T00:00:00\",\"2014-02-03T00:00:00\",\"2014-02-04T00:00:00\",\"2014-02-05T00:00:00\",\"2014-02-06T00:00:00\",\"2014-02-07T00:00:00\",\"2014-02-10T00:00:00\",\"2014-02-11T00:00:00\",\"2014-02-12T00:00:00\",\"2014-02-13T00:00:00\",\"2014-02-14T00:00:00\",\"2014-02-18T00:00:00\",\"2014-02-19T00:00:00\",\"2014-02-20T00:00:00\",\"2014-02-21T00:00:00\",\"2014-02-24T00:00:00\",\"2014-02-25T00:00:00\",\"2014-02-26T00:00:00\",\"2014-02-27T00:00:00\",\"2014-02-28T00:00:00\",\"2014-03-03T00:00:00\",\"2014-03-04T00:00:00\",\"2014-03-05T00:00:00\",\"2014-03-06T00:00:00\",\"2014-03-07T00:00:00\",\"2014-03-10T00:00:00\",\"2014-03-11T00:00:00\",\"2014-03-12T00:00:00\",\"2014-03-13T00:00:00\",\"2014-03-14T00:00:00\",\"2014-03-17T00:00:00\",\"2014-03-18T00:00:00\",\"2014-03-19T00:00:00\",\"2014-03-20T00:00:00\",\"2014-03-21T00:00:00\",\"2014-03-24T00:00:00\",\"2014-03-25T00:00:00\",\"2014-03-26T00:00:00\",\"2014-03-27T00:00:00\",\"2014-03-28T00:00:00\",\"2014-03-31T00:00:00\",\"2014-04-01T00:00:00\",\"2014-04-02T00:00:00\",\"2014-04-03T00:00:00\",\"2014-04-04T00:00:00\",\"2014-04-07T00:00:00\",\"2014-04-08T00:00:00\",\"2014-04-09T00:00:00\",\"2014-04-10T00:00:00\",\"2014-04-11T00:00:00\",\"2014-04-14T00:00:00\",\"2014-04-15T00:00:00\",\"2014-04-16T00:00:00\",\"2014-04-17T00:00:00\",\"2014-04-21T00:00:00\",\"2014-04-22T00:00:00\",\"2014-04-23T00:00:00\",\"2014-04-24T00:00:00\",\"2014-04-25T00:00:00\",\"2014-04-28T00:00:00\",\"2014-04-29T00:00:00\",\"2014-04-30T00:00:00\",\"2014-05-01T00:00:00\",\"2014-05-02T00:00:00\",\"2014-05-05T00:00:00\",\"2014-05-06T00:00:00\",\"2014-05-07T00:00:00\",\"2014-05-08T00:00:00\",\"2014-05-09T00:00:00\",\"2014-05-12T00:00:00\",\"2014-05-13T00:00:00\",\"2014-05-14T00:00:00\",\"2014-05-15T00:00:00\",\"2014-05-16T00:00:00\",\"2014-05-19T00:00:00\",\"2014-05-20T00:00:00\",\"2014-05-21T00:00:00\",\"2014-05-22T00:00:00\",\"2014-05-23T00:00:00\",\"2014-05-27T00:00:00\",\"2014-05-28T00:00:00\",\"2014-05-29T00:00:00\",\"2014-05-30T00:00:00\",\"2014-06-02T00:00:00\",\"2014-06-03T00:00:00\",\"2014-06-04T00:00:00\",\"2014-06-05T00:00:00\",\"2014-06-06T00:00:00\",\"2014-06-09T00:00:00\",\"2014-06-10T00:00:00\",\"2014-06-11T00:00:00\",\"2014-06-12T00:00:00\",\"2014-06-13T00:00:00\",\"2014-06-16T00:00:00\",\"2014-06-17T00:00:00\",\"2014-06-18T00:00:00\",\"2014-06-19T00:00:00\",\"2014-06-20T00:00:00\",\"2014-06-23T00:00:00\",\"2014-06-24T00:00:00\",\"2014-06-25T00:00:00\",\"2014-06-26T00:00:00\",\"2014-06-27T00:00:00\",\"2014-06-30T00:00:00\",\"2014-07-01T00:00:00\",\"2014-07-02T00:00:00\",\"2014-07-03T00:00:00\",\"2014-07-07T00:00:00\",\"2014-07-08T00:00:00\",\"2014-07-09T00:00:00\",\"2014-07-10T00:00:00\",\"2014-07-11T00:00:00\",\"2014-07-14T00:00:00\",\"2014-07-15T00:00:00\",\"2014-07-16T00:00:00\",\"2014-07-17T00:00:00\",\"2014-07-18T00:00:00\",\"2014-07-21T00:00:00\",\"2014-07-22T00:00:00\",\"2014-07-23T00:00:00\",\"2014-07-24T00:00:00\",\"2014-07-25T00:00:00\",\"2014-07-28T00:00:00\",\"2014-07-29T00:00:00\",\"2014-07-30T00:00:00\",\"2014-07-31T00:00:00\",\"2014-08-01T00:00:00\",\"2014-08-04T00:00:00\",\"2014-08-05T00:00:00\",\"2014-08-06T00:00:00\",\"2014-08-07T00:00:00\",\"2014-08-08T00:00:00\",\"2014-08-11T00:00:00\",\"2014-08-12T00:00:00\",\"2014-08-13T00:00:00\",\"2014-08-14T00:00:00\",\"2014-08-15T00:00:00\",\"2014-08-18T00:00:00\",\"2014-08-19T00:00:00\",\"2014-08-20T00:00:00\",\"2014-08-21T00:00:00\",\"2014-08-22T00:00:00\",\"2014-08-25T00:00:00\",\"2014-08-26T00:00:00\",\"2014-08-27T00:00:00\",\"2014-08-28T00:00:00\",\"2014-08-29T00:00:00\",\"2014-09-02T00:00:00\",\"2014-09-03T00:00:00\",\"2014-09-04T00:00:00\",\"2014-09-05T00:00:00\",\"2014-09-08T00:00:00\",\"2014-09-09T00:00:00\",\"2014-09-10T00:00:00\",\"2014-09-11T00:00:00\",\"2014-09-12T00:00:00\",\"2014-09-15T00:00:00\",\"2014-09-16T00:00:00\",\"2014-09-17T00:00:00\",\"2014-09-18T00:00:00\",\"2014-09-19T00:00:00\",\"2014-09-22T00:00:00\",\"2014-09-23T00:00:00\",\"2014-09-24T00:00:00\",\"2014-09-25T00:00:00\",\"2014-09-26T00:00:00\",\"2014-09-29T00:00:00\",\"2014-09-30T00:00:00\",\"2014-10-01T00:00:00\",\"2014-10-02T00:00:00\",\"2014-10-03T00:00:00\",\"2014-10-06T00:00:00\",\"2014-10-07T00:00:00\",\"2014-10-08T00:00:00\",\"2014-10-09T00:00:00\",\"2014-10-10T00:00:00\",\"2014-10-13T00:00:00\",\"2014-10-14T00:00:00\",\"2014-10-15T00:00:00\",\"2014-10-16T00:00:00\",\"2014-10-17T00:00:00\",\"2014-10-20T00:00:00\",\"2014-10-21T00:00:00\",\"2014-10-22T00:00:00\",\"2014-10-23T00:00:00\",\"2014-10-24T00:00:00\",\"2014-10-27T00:00:00\",\"2014-10-28T00:00:00\",\"2014-10-29T00:00:00\",\"2014-10-30T00:00:00\",\"2014-10-31T00:00:00\",\"2014-11-03T00:00:00\",\"2014-11-04T00:00:00\",\"2014-11-05T00:00:00\",\"2014-11-06T00:00:00\",\"2014-11-07T00:00:00\",\"2014-11-10T00:00:00\",\"2014-11-11T00:00:00\",\"2014-11-12T00:00:00\",\"2014-11-13T00:00:00\",\"2014-11-14T00:00:00\",\"2014-11-17T00:00:00\",\"2014-11-18T00:00:00\",\"2014-11-19T00:00:00\",\"2014-11-20T00:00:00\",\"2014-11-21T00:00:00\",\"2014-11-24T00:00:00\",\"2014-11-25T00:00:00\",\"2014-11-26T00:00:00\",\"2014-11-28T00:00:00\",\"2014-12-01T00:00:00\",\"2014-12-02T00:00:00\",\"2014-12-03T00:00:00\",\"2014-12-04T00:00:00\",\"2014-12-05T00:00:00\",\"2014-12-08T00:00:00\",\"2014-12-09T00:00:00\",\"2014-12-10T00:00:00\",\"2014-12-11T00:00:00\",\"2014-12-12T00:00:00\",\"2014-12-15T00:00:00\",\"2014-12-16T00:00:00\",\"2014-12-17T00:00:00\",\"2014-12-18T00:00:00\",\"2014-12-19T00:00:00\",\"2014-12-22T00:00:00\",\"2014-12-23T00:00:00\",\"2014-12-24T00:00:00\",\"2014-12-26T00:00:00\",\"2014-12-29T00:00:00\",\"2014-12-30T00:00:00\",\"2014-12-31T00:00:00\",\"2015-01-02T00:00:00\",\"2015-01-05T00:00:00\",\"2015-01-06T00:00:00\",\"2015-01-07T00:00:00\",\"2015-01-08T00:00:00\",\"2015-01-09T00:00:00\",\"2015-01-12T00:00:00\",\"2015-01-13T00:00:00\",\"2015-01-14T00:00:00\",\"2015-01-15T00:00:00\",\"2015-01-16T00:00:00\",\"2015-01-20T00:00:00\",\"2015-01-21T00:00:00\",\"2015-01-22T00:00:00\",\"2015-01-23T00:00:00\",\"2015-01-26T00:00:00\",\"2015-01-27T00:00:00\",\"2015-01-28T00:00:00\",\"2015-01-29T00:00:00\",\"2015-01-30T00:00:00\",\"2015-02-02T00:00:00\",\"2015-02-03T00:00:00\",\"2015-02-04T00:00:00\",\"2015-02-05T00:00:00\",\"2015-02-06T00:00:00\",\"2015-02-09T00:00:00\",\"2015-02-10T00:00:00\",\"2015-02-11T00:00:00\",\"2015-02-12T00:00:00\",\"2015-02-13T00:00:00\",\"2015-02-17T00:00:00\",\"2015-02-18T00:00:00\",\"2015-02-19T00:00:00\",\"2015-02-20T00:00:00\",\"2015-02-23T00:00:00\",\"2015-02-24T00:00:00\",\"2015-02-25T00:00:00\",\"2015-02-26T00:00:00\",\"2015-02-27T00:00:00\",\"2015-03-02T00:00:00\",\"2015-03-03T00:00:00\",\"2015-03-04T00:00:00\",\"2015-03-05T00:00:00\",\"2015-03-06T00:00:00\",\"2015-03-09T00:00:00\",\"2015-03-10T00:00:00\",\"2015-03-11T00:00:00\",\"2015-03-12T00:00:00\",\"2015-03-13T00:00:00\",\"2015-03-16T00:00:00\",\"2015-03-17T00:00:00\",\"2015-03-18T00:00:00\",\"2015-03-19T00:00:00\",\"2015-03-20T00:00:00\",\"2015-03-23T00:00:00\",\"2015-03-24T00:00:00\",\"2015-03-25T00:00:00\",\"2015-03-26T00:00:00\",\"2015-03-27T00:00:00\",\"2015-03-30T00:00:00\",\"2015-03-31T00:00:00\",\"2015-04-01T00:00:00\",\"2015-04-02T00:00:00\",\"2015-04-06T00:00:00\",\"2015-04-07T00:00:00\",\"2015-04-08T00:00:00\",\"2015-04-09T00:00:00\",\"2015-04-10T00:00:00\",\"2015-04-13T00:00:00\",\"2015-04-14T00:00:00\",\"2015-04-15T00:00:00\",\"2015-04-16T00:00:00\",\"2015-04-17T00:00:00\",\"2015-04-20T00:00:00\",\"2015-04-21T00:00:00\",\"2015-04-22T00:00:00\",\"2015-04-23T00:00:00\",\"2015-04-24T00:00:00\",\"2015-04-27T00:00:00\",\"2015-04-28T00:00:00\",\"2015-04-29T00:00:00\",\"2015-04-30T00:00:00\",\"2015-05-01T00:00:00\",\"2015-05-04T00:00:00\",\"2015-05-05T00:00:00\",\"2015-05-06T00:00:00\",\"2015-05-07T00:00:00\",\"2015-05-08T00:00:00\",\"2015-05-11T00:00:00\",\"2015-05-12T00:00:00\",\"2015-05-13T00:00:00\",\"2015-05-14T00:00:00\",\"2015-05-15T00:00:00\",\"2015-05-18T00:00:00\",\"2015-05-19T00:00:00\",\"2015-05-20T00:00:00\",\"2015-05-21T00:00:00\",\"2015-05-22T00:00:00\",\"2015-05-26T00:00:00\",\"2015-05-27T00:00:00\",\"2015-05-28T00:00:00\",\"2015-05-29T00:00:00\",\"2015-06-01T00:00:00\",\"2015-06-02T00:00:00\",\"2015-06-03T00:00:00\",\"2015-06-04T00:00:00\",\"2015-06-05T00:00:00\",\"2015-06-08T00:00:00\",\"2015-06-09T00:00:00\",\"2015-06-10T00:00:00\",\"2015-06-11T00:00:00\",\"2015-06-12T00:00:00\",\"2015-06-15T00:00:00\",\"2015-06-16T00:00:00\",\"2015-06-17T00:00:00\",\"2015-06-18T00:00:00\",\"2015-06-19T00:00:00\",\"2015-06-22T00:00:00\",\"2015-06-23T00:00:00\",\"2015-06-24T00:00:00\",\"2015-06-25T00:00:00\",\"2015-06-26T00:00:00\",\"2015-06-29T00:00:00\",\"2015-06-30T00:00:00\",\"2015-07-01T00:00:00\",\"2015-07-02T00:00:00\",\"2015-07-06T00:00:00\",\"2015-07-07T00:00:00\",\"2015-07-08T00:00:00\",\"2015-07-09T00:00:00\",\"2015-07-10T00:00:00\",\"2015-07-13T00:00:00\",\"2015-07-14T00:00:00\",\"2015-07-15T00:00:00\",\"2015-07-16T00:00:00\",\"2015-07-17T00:00:00\",\"2015-07-20T00:00:00\",\"2015-07-21T00:00:00\",\"2015-07-22T00:00:00\",\"2015-07-23T00:00:00\",\"2015-07-24T00:00:00\",\"2015-07-27T00:00:00\",\"2015-07-28T00:00:00\",\"2015-07-29T00:00:00\",\"2015-07-30T00:00:00\",\"2015-07-31T00:00:00\",\"2015-08-03T00:00:00\",\"2015-08-04T00:00:00\",\"2015-08-05T00:00:00\",\"2015-08-06T00:00:00\",\"2015-08-07T00:00:00\",\"2015-08-10T00:00:00\",\"2015-08-11T00:00:00\",\"2015-08-12T00:00:00\",\"2015-08-13T00:00:00\",\"2015-08-14T00:00:00\",\"2015-08-17T00:00:00\",\"2015-08-18T00:00:00\",\"2015-08-19T00:00:00\",\"2015-08-20T00:00:00\",\"2015-08-21T00:00:00\",\"2015-08-24T00:00:00\",\"2015-08-25T00:00:00\",\"2015-08-26T00:00:00\",\"2015-08-27T00:00:00\",\"2015-08-28T00:00:00\",\"2015-08-31T00:00:00\",\"2015-09-01T00:00:00\",\"2015-09-02T00:00:00\",\"2015-09-03T00:00:00\",\"2015-09-04T00:00:00\",\"2015-09-08T00:00:00\",\"2015-09-09T00:00:00\",\"2015-09-10T00:00:00\",\"2015-09-11T00:00:00\",\"2015-09-14T00:00:00\",\"2015-09-15T00:00:00\",\"2015-09-16T00:00:00\",\"2015-09-17T00:00:00\",\"2015-09-18T00:00:00\",\"2015-09-21T00:00:00\",\"2015-09-22T00:00:00\",\"2015-09-23T00:00:00\",\"2015-09-24T00:00:00\",\"2015-09-25T00:00:00\",\"2015-09-28T00:00:00\",\"2015-09-29T00:00:00\",\"2015-09-30T00:00:00\",\"2015-10-01T00:00:00\",\"2015-10-02T00:00:00\",\"2015-10-05T00:00:00\",\"2015-10-06T00:00:00\",\"2015-10-07T00:00:00\",\"2015-10-08T00:00:00\",\"2015-10-09T00:00:00\",\"2015-10-12T00:00:00\",\"2015-10-13T00:00:00\",\"2015-10-14T00:00:00\",\"2015-10-15T00:00:00\",\"2015-10-16T00:00:00\",\"2015-10-19T00:00:00\",\"2015-10-20T00:00:00\",\"2015-10-21T00:00:00\",\"2015-10-22T00:00:00\",\"2015-10-23T00:00:00\",\"2015-10-26T00:00:00\",\"2015-10-27T00:00:00\",\"2015-10-28T00:00:00\",\"2015-10-29T00:00:00\",\"2015-10-30T00:00:00\",\"2015-11-02T00:00:00\",\"2015-11-03T00:00:00\",\"2015-11-04T00:00:00\",\"2015-11-05T00:00:00\",\"2015-11-06T00:00:00\",\"2015-11-09T00:00:00\",\"2015-11-10T00:00:00\",\"2015-11-11T00:00:00\",\"2015-11-12T00:00:00\",\"2015-11-13T00:00:00\",\"2015-11-16T00:00:00\",\"2015-11-17T00:00:00\",\"2015-11-18T00:00:00\",\"2015-11-19T00:00:00\",\"2015-11-20T00:00:00\",\"2015-11-23T00:00:00\",\"2015-11-24T00:00:00\",\"2015-11-25T00:00:00\",\"2015-11-27T00:00:00\",\"2015-11-30T00:00:00\",\"2015-12-01T00:00:00\",\"2015-12-02T00:00:00\",\"2015-12-03T00:00:00\",\"2015-12-04T00:00:00\",\"2015-12-07T00:00:00\",\"2015-12-08T00:00:00\",\"2015-12-09T00:00:00\",\"2015-12-10T00:00:00\",\"2015-12-11T00:00:00\",\"2015-12-14T00:00:00\",\"2015-12-15T00:00:00\",\"2015-12-16T00:00:00\",\"2015-12-17T00:00:00\",\"2015-12-18T00:00:00\",\"2015-12-21T00:00:00\",\"2015-12-22T00:00:00\",\"2015-12-23T00:00:00\",\"2015-12-24T00:00:00\",\"2015-12-28T00:00:00\",\"2015-12-29T00:00:00\",\"2015-12-30T00:00:00\",\"2015-12-31T00:00:00\",\"2016-01-04T00:00:00\",\"2016-01-05T00:00:00\",\"2016-01-06T00:00:00\",\"2016-01-07T00:00:00\",\"2016-01-08T00:00:00\",\"2016-01-11T00:00:00\",\"2016-01-12T00:00:00\",\"2016-01-13T00:00:00\",\"2016-01-14T00:00:00\",\"2016-01-15T00:00:00\",\"2016-01-19T00:00:00\",\"2016-01-20T00:00:00\",\"2016-01-21T00:00:00\",\"2016-01-22T00:00:00\",\"2016-01-25T00:00:00\",\"2016-01-26T00:00:00\",\"2016-01-27T00:00:00\",\"2016-01-28T00:00:00\",\"2016-01-29T00:00:00\",\"2016-02-01T00:00:00\",\"2016-02-02T00:00:00\",\"2016-02-03T00:00:00\",\"2016-02-04T00:00:00\",\"2016-02-05T00:00:00\",\"2016-02-08T00:00:00\",\"2016-02-09T00:00:00\",\"2016-02-10T00:00:00\",\"2016-02-11T00:00:00\",\"2016-02-12T00:00:00\",\"2016-02-16T00:00:00\",\"2016-02-17T00:00:00\",\"2016-02-18T00:00:00\",\"2016-02-19T00:00:00\",\"2016-02-22T00:00:00\",\"2016-02-23T00:00:00\",\"2016-02-24T00:00:00\",\"2016-02-25T00:00:00\",\"2016-02-26T00:00:00\",\"2016-02-29T00:00:00\",\"2016-03-01T00:00:00\",\"2016-03-02T00:00:00\",\"2016-03-03T00:00:00\",\"2016-03-04T00:00:00\",\"2016-03-07T00:00:00\",\"2016-03-08T00:00:00\",\"2016-03-09T00:00:00\",\"2016-03-10T00:00:00\",\"2016-03-11T00:00:00\",\"2016-03-14T00:00:00\",\"2016-03-15T00:00:00\",\"2016-03-16T00:00:00\",\"2016-03-17T00:00:00\",\"2016-03-18T00:00:00\",\"2016-03-21T00:00:00\",\"2016-03-22T00:00:00\",\"2016-03-23T00:00:00\",\"2016-03-24T00:00:00\",\"2016-03-28T00:00:00\",\"2016-03-29T00:00:00\",\"2016-03-30T00:00:00\",\"2016-03-31T00:00:00\",\"2016-04-01T00:00:00\",\"2016-04-04T00:00:00\",\"2016-04-05T00:00:00\",\"2016-04-06T00:00:00\",\"2016-04-07T00:00:00\",\"2016-04-08T00:00:00\",\"2016-04-11T00:00:00\",\"2016-04-12T00:00:00\",\"2016-04-13T00:00:00\",\"2016-04-14T00:00:00\",\"2016-04-15T00:00:00\",\"2016-04-18T00:00:00\",\"2016-04-19T00:00:00\",\"2016-04-20T00:00:00\",\"2016-04-21T00:00:00\",\"2016-04-22T00:00:00\",\"2016-04-25T00:00:00\",\"2016-04-26T00:00:00\",\"2016-04-27T00:00:00\",\"2016-04-28T00:00:00\",\"2016-04-29T00:00:00\",\"2016-05-02T00:00:00\",\"2016-05-03T00:00:00\",\"2016-05-04T00:00:00\",\"2016-05-05T00:00:00\",\"2016-05-06T00:00:00\",\"2016-05-09T00:00:00\",\"2016-05-10T00:00:00\",\"2016-05-11T00:00:00\",\"2016-05-12T00:00:00\",\"2016-05-13T00:00:00\",\"2016-05-16T00:00:00\",\"2016-05-17T00:00:00\",\"2016-05-18T00:00:00\",\"2016-05-19T00:00:00\",\"2016-05-20T00:00:00\",\"2016-05-23T00:00:00\",\"2016-05-24T00:00:00\",\"2016-05-25T00:00:00\",\"2016-05-26T00:00:00\",\"2016-05-27T00:00:00\",\"2016-05-31T00:00:00\",\"2016-06-01T00:00:00\",\"2016-06-02T00:00:00\",\"2016-06-03T00:00:00\",\"2016-06-06T00:00:00\",\"2016-06-07T00:00:00\",\"2016-06-08T00:00:00\",\"2016-06-09T00:00:00\",\"2016-06-10T00:00:00\",\"2016-06-13T00:00:00\",\"2016-06-14T00:00:00\",\"2016-06-15T00:00:00\",\"2016-06-16T00:00:00\",\"2016-06-17T00:00:00\",\"2016-06-20T00:00:00\",\"2016-06-21T00:00:00\",\"2016-06-22T00:00:00\",\"2016-06-23T00:00:00\",\"2016-06-24T00:00:00\",\"2016-06-27T00:00:00\",\"2016-06-28T00:00:00\",\"2016-06-29T00:00:00\",\"2016-06-30T00:00:00\",\"2016-07-01T00:00:00\",\"2016-07-05T00:00:00\",\"2016-07-06T00:00:00\",\"2016-07-07T00:00:00\",\"2016-07-08T00:00:00\",\"2016-07-11T00:00:00\",\"2016-07-12T00:00:00\",\"2016-07-13T00:00:00\",\"2016-07-14T00:00:00\",\"2016-07-15T00:00:00\",\"2016-07-18T00:00:00\",\"2016-07-19T00:00:00\",\"2016-07-20T00:00:00\",\"2016-07-21T00:00:00\",\"2016-07-22T00:00:00\",\"2016-07-25T00:00:00\",\"2016-07-26T00:00:00\",\"2016-07-27T00:00:00\",\"2016-07-28T00:00:00\",\"2016-07-29T00:00:00\",\"2016-08-01T00:00:00\",\"2016-08-02T00:00:00\",\"2016-08-03T00:00:00\",\"2016-08-04T00:00:00\",\"2016-08-05T00:00:00\",\"2016-08-08T00:00:00\",\"2016-08-09T00:00:00\",\"2016-08-10T00:00:00\",\"2016-08-11T00:00:00\",\"2016-08-12T00:00:00\",\"2016-08-15T00:00:00\",\"2016-08-16T00:00:00\",\"2016-08-17T00:00:00\",\"2016-08-18T00:00:00\",\"2016-08-19T00:00:00\",\"2016-08-22T00:00:00\",\"2016-08-23T00:00:00\",\"2016-08-24T00:00:00\",\"2016-08-25T00:00:00\",\"2016-08-26T00:00:00\",\"2016-08-29T00:00:00\",\"2016-08-30T00:00:00\",\"2016-08-31T00:00:00\",\"2016-09-01T00:00:00\",\"2016-09-02T00:00:00\",\"2016-09-06T00:00:00\",\"2016-09-07T00:00:00\",\"2016-09-08T00:00:00\",\"2016-09-09T00:00:00\",\"2016-09-12T00:00:00\",\"2016-09-13T00:00:00\",\"2016-09-14T00:00:00\",\"2016-09-15T00:00:00\",\"2016-09-16T00:00:00\",\"2016-09-19T00:00:00\",\"2016-09-20T00:00:00\",\"2016-09-21T00:00:00\",\"2016-09-22T00:00:00\",\"2016-09-23T00:00:00\",\"2016-09-26T00:00:00\",\"2016-09-27T00:00:00\",\"2016-09-28T00:00:00\",\"2016-09-29T00:00:00\",\"2016-09-30T00:00:00\",\"2016-10-03T00:00:00\",\"2016-10-04T00:00:00\",\"2016-10-05T00:00:00\",\"2016-10-06T00:00:00\",\"2016-10-07T00:00:00\",\"2016-10-10T00:00:00\",\"2016-10-11T00:00:00\",\"2016-10-12T00:00:00\",\"2016-10-13T00:00:00\",\"2016-10-14T00:00:00\",\"2016-10-17T00:00:00\",\"2016-10-18T00:00:00\",\"2016-10-19T00:00:00\",\"2016-10-20T00:00:00\",\"2016-10-21T00:00:00\",\"2016-10-24T00:00:00\",\"2016-10-25T00:00:00\",\"2016-10-26T00:00:00\",\"2016-10-27T00:00:00\",\"2016-10-28T00:00:00\",\"2016-10-31T00:00:00\",\"2016-11-01T00:00:00\",\"2016-11-02T00:00:00\",\"2016-11-03T00:00:00\",\"2016-11-04T00:00:00\",\"2016-11-07T00:00:00\",\"2016-11-08T00:00:00\",\"2016-11-09T00:00:00\",\"2016-11-10T00:00:00\",\"2016-11-11T00:00:00\",\"2016-11-14T00:00:00\",\"2016-11-15T00:00:00\",\"2016-11-16T00:00:00\",\"2016-11-17T00:00:00\",\"2016-11-18T00:00:00\",\"2016-11-21T00:00:00\",\"2016-11-22T00:00:00\",\"2016-11-23T00:00:00\",\"2016-11-25T00:00:00\",\"2016-11-28T00:00:00\",\"2016-11-29T00:00:00\",\"2016-11-30T00:00:00\",\"2016-12-01T00:00:00\",\"2016-12-02T00:00:00\",\"2016-12-05T00:00:00\",\"2016-12-06T00:00:00\",\"2016-12-07T00:00:00\",\"2016-12-08T00:00:00\",\"2016-12-09T00:00:00\",\"2016-12-12T00:00:00\",\"2016-12-13T00:00:00\",\"2016-12-14T00:00:00\",\"2016-12-15T00:00:00\",\"2016-12-16T00:00:00\",\"2016-12-19T00:00:00\",\"2016-12-20T00:00:00\",\"2016-12-21T00:00:00\",\"2016-12-22T00:00:00\",\"2016-12-23T00:00:00\",\"2016-12-27T00:00:00\",\"2016-12-28T00:00:00\",\"2016-12-29T00:00:00\",\"2016-12-30T00:00:00\",\"2017-01-03T00:00:00\",\"2017-01-04T00:00:00\",\"2017-01-05T00:00:00\",\"2017-01-06T00:00:00\",\"2017-01-09T00:00:00\",\"2017-01-10T00:00:00\",\"2017-01-11T00:00:00\",\"2017-01-12T00:00:00\",\"2017-01-13T00:00:00\",\"2017-01-17T00:00:00\",\"2017-01-18T00:00:00\",\"2017-01-19T00:00:00\",\"2017-01-20T00:00:00\",\"2017-01-23T00:00:00\",\"2017-01-24T00:00:00\",\"2017-01-25T00:00:00\",\"2017-01-26T00:00:00\",\"2017-01-27T00:00:00\",\"2017-01-30T00:00:00\",\"2017-01-31T00:00:00\",\"2017-02-01T00:00:00\",\"2017-02-02T00:00:00\",\"2017-02-03T00:00:00\",\"2017-02-06T00:00:00\",\"2017-02-07T00:00:00\",\"2017-02-08T00:00:00\",\"2017-02-09T00:00:00\",\"2017-02-10T00:00:00\",\"2017-02-13T00:00:00\",\"2017-02-14T00:00:00\",\"2017-02-15T00:00:00\",\"2017-02-16T00:00:00\",\"2017-02-17T00:00:00\",\"2017-02-21T00:00:00\",\"2017-02-22T00:00:00\",\"2017-02-23T00:00:00\",\"2017-02-24T00:00:00\",\"2017-02-27T00:00:00\",\"2017-02-28T00:00:00\",\"2017-03-01T00:00:00\",\"2017-03-02T00:00:00\",\"2017-03-03T00:00:00\",\"2017-03-06T00:00:00\",\"2017-03-07T00:00:00\",\"2017-03-08T00:00:00\",\"2017-03-09T00:00:00\",\"2017-03-10T00:00:00\",\"2017-03-13T00:00:00\",\"2017-03-14T00:00:00\",\"2017-03-15T00:00:00\",\"2017-03-16T00:00:00\",\"2017-03-17T00:00:00\",\"2017-03-20T00:00:00\",\"2017-03-21T00:00:00\",\"2017-03-22T00:00:00\",\"2017-03-23T00:00:00\",\"2017-03-24T00:00:00\",\"2017-03-27T00:00:00\",\"2017-03-28T00:00:00\",\"2017-03-29T00:00:00\",\"2017-03-30T00:00:00\",\"2017-03-31T00:00:00\",\"2017-04-03T00:00:00\",\"2017-04-04T00:00:00\",\"2017-04-05T00:00:00\",\"2017-04-06T00:00:00\",\"2017-04-07T00:00:00\",\"2017-04-10T00:00:00\",\"2017-04-11T00:00:00\",\"2017-04-12T00:00:00\",\"2017-04-13T00:00:00\",\"2017-04-17T00:00:00\",\"2017-04-18T00:00:00\",\"2017-04-19T00:00:00\",\"2017-04-20T00:00:00\",\"2017-04-21T00:00:00\",\"2017-04-24T00:00:00\",\"2017-04-25T00:00:00\",\"2017-04-26T00:00:00\",\"2017-04-27T00:00:00\",\"2017-04-28T00:00:00\",\"2017-05-01T00:00:00\",\"2017-05-02T00:00:00\",\"2017-05-03T00:00:00\",\"2017-05-04T00:00:00\",\"2017-05-05T00:00:00\",\"2017-05-08T00:00:00\",\"2017-05-09T00:00:00\",\"2017-05-10T00:00:00\",\"2017-05-11T00:00:00\",\"2017-05-12T00:00:00\",\"2017-05-15T00:00:00\",\"2017-05-16T00:00:00\",\"2017-05-17T00:00:00\",\"2017-05-18T00:00:00\",\"2017-05-19T00:00:00\",\"2017-05-22T00:00:00\",\"2017-05-23T00:00:00\",\"2017-05-24T00:00:00\",\"2017-05-25T00:00:00\",\"2017-05-26T00:00:00\",\"2017-05-30T00:00:00\",\"2017-05-31T00:00:00\",\"2017-06-01T00:00:00\",\"2017-06-02T00:00:00\",\"2017-06-05T00:00:00\",\"2017-06-06T00:00:00\",\"2017-06-07T00:00:00\",\"2017-06-08T00:00:00\",\"2017-06-09T00:00:00\",\"2017-06-12T00:00:00\",\"2017-06-13T00:00:00\",\"2017-06-14T00:00:00\",\"2017-06-15T00:00:00\",\"2017-06-16T00:00:00\",\"2017-06-19T00:00:00\",\"2017-06-20T00:00:00\",\"2017-06-21T00:00:00\",\"2017-06-22T00:00:00\",\"2017-06-23T00:00:00\",\"2017-06-26T00:00:00\",\"2017-06-27T00:00:00\",\"2017-06-28T00:00:00\",\"2017-06-29T00:00:00\",\"2017-06-30T00:00:00\",\"2017-07-03T00:00:00\",\"2017-07-05T00:00:00\",\"2017-07-06T00:00:00\",\"2017-07-07T00:00:00\",\"2017-07-10T00:00:00\",\"2017-07-11T00:00:00\",\"2017-07-12T00:00:00\",\"2017-07-13T00:00:00\",\"2017-07-14T00:00:00\",\"2017-07-17T00:00:00\",\"2017-07-18T00:00:00\",\"2017-07-19T00:00:00\",\"2017-07-20T00:00:00\",\"2017-07-21T00:00:00\",\"2017-07-24T00:00:00\",\"2017-07-25T00:00:00\",\"2017-07-26T00:00:00\",\"2017-07-27T00:00:00\",\"2017-07-28T00:00:00\",\"2017-07-31T00:00:00\",\"2017-08-01T00:00:00\",\"2017-08-02T00:00:00\",\"2017-08-03T00:00:00\",\"2017-08-04T00:00:00\",\"2017-08-07T00:00:00\",\"2017-08-08T00:00:00\",\"2017-08-09T00:00:00\",\"2017-08-10T00:00:00\",\"2017-08-11T00:00:00\",\"2017-08-14T00:00:00\",\"2017-08-15T00:00:00\",\"2017-08-16T00:00:00\",\"2017-08-17T00:00:00\",\"2017-08-18T00:00:00\",\"2017-08-21T00:00:00\",\"2017-08-22T00:00:00\",\"2017-08-23T00:00:00\",\"2017-08-24T00:00:00\",\"2017-08-25T00:00:00\",\"2017-08-28T00:00:00\",\"2017-08-29T00:00:00\",\"2017-08-30T00:00:00\",\"2017-08-31T00:00:00\",\"2017-09-01T00:00:00\",\"2017-09-05T00:00:00\",\"2017-09-06T00:00:00\",\"2017-09-07T00:00:00\",\"2017-09-08T00:00:00\",\"2017-09-11T00:00:00\",\"2017-09-12T00:00:00\",\"2017-09-13T00:00:00\",\"2017-09-14T00:00:00\",\"2017-09-15T00:00:00\",\"2017-09-18T00:00:00\",\"2017-09-19T00:00:00\",\"2017-09-20T00:00:00\",\"2017-09-21T00:00:00\",\"2017-09-22T00:00:00\",\"2017-09-25T00:00:00\",\"2017-09-26T00:00:00\",\"2017-09-27T00:00:00\",\"2017-09-28T00:00:00\",\"2017-09-29T00:00:00\",\"2017-10-02T00:00:00\",\"2017-10-03T00:00:00\",\"2017-10-04T00:00:00\",\"2017-10-05T00:00:00\",\"2017-10-06T00:00:00\",\"2017-10-09T00:00:00\",\"2017-10-10T00:00:00\",\"2017-10-11T00:00:00\",\"2017-10-12T00:00:00\",\"2017-10-13T00:00:00\",\"2017-10-16T00:00:00\",\"2017-10-17T00:00:00\",\"2017-10-18T00:00:00\",\"2017-10-19T00:00:00\",\"2017-10-20T00:00:00\",\"2017-10-23T00:00:00\",\"2017-10-24T00:00:00\",\"2017-10-25T00:00:00\",\"2017-10-26T00:00:00\",\"2017-10-27T00:00:00\",\"2017-10-30T00:00:00\",\"2017-10-31T00:00:00\",\"2017-11-01T00:00:00\",\"2017-11-02T00:00:00\",\"2017-11-03T00:00:00\",\"2017-11-06T00:00:00\",\"2017-11-07T00:00:00\",\"2017-11-08T00:00:00\",\"2017-11-09T00:00:00\",\"2017-11-10T00:00:00\",\"2017-11-13T00:00:00\",\"2017-11-14T00:00:00\",\"2017-11-15T00:00:00\",\"2017-11-16T00:00:00\",\"2017-11-17T00:00:00\",\"2017-11-20T00:00:00\",\"2017-11-21T00:00:00\",\"2017-11-22T00:00:00\",\"2017-11-24T00:00:00\",\"2017-11-27T00:00:00\",\"2017-11-28T00:00:00\",\"2017-11-29T00:00:00\",\"2017-11-30T00:00:00\",\"2017-12-01T00:00:00\",\"2017-12-04T00:00:00\",\"2017-12-05T00:00:00\",\"2017-12-06T00:00:00\",\"2017-12-07T00:00:00\",\"2017-12-08T00:00:00\",\"2017-12-11T00:00:00\",\"2017-12-12T00:00:00\",\"2017-12-13T00:00:00\",\"2017-12-14T00:00:00\",\"2017-12-15T00:00:00\",\"2017-12-18T00:00:00\",\"2017-12-19T00:00:00\",\"2017-12-20T00:00:00\",\"2017-12-21T00:00:00\",\"2017-12-22T00:00:00\",\"2017-12-26T00:00:00\",\"2017-12-27T00:00:00\",\"2017-12-28T00:00:00\",\"2017-12-29T00:00:00\",\"2018-01-02T00:00:00\",\"2018-01-03T00:00:00\",\"2018-01-04T00:00:00\",\"2018-01-05T00:00:00\",\"2018-01-08T00:00:00\",\"2018-01-09T00:00:00\",\"2018-01-10T00:00:00\",\"2018-01-11T00:00:00\",\"2018-01-12T00:00:00\",\"2018-01-16T00:00:00\",\"2018-01-17T00:00:00\",\"2018-01-18T00:00:00\",\"2018-01-19T00:00:00\",\"2018-01-22T00:00:00\",\"2018-01-23T00:00:00\",\"2018-01-24T00:00:00\",\"2018-01-25T00:00:00\",\"2018-01-26T00:00:00\",\"2018-01-29T00:00:00\",\"2018-01-30T00:00:00\",\"2018-01-31T00:00:00\",\"2018-02-01T00:00:00\",\"2018-02-02T00:00:00\",\"2018-02-05T00:00:00\",\"2018-02-06T00:00:00\",\"2018-02-07T00:00:00\",\"2018-02-08T00:00:00\",\"2018-02-09T00:00:00\",\"2018-02-12T00:00:00\",\"2018-02-13T00:00:00\",\"2018-02-14T00:00:00\",\"2018-02-15T00:00:00\",\"2018-02-16T00:00:00\",\"2018-02-20T00:00:00\",\"2018-02-21T00:00:00\",\"2018-02-22T00:00:00\",\"2018-02-23T00:00:00\",\"2018-02-26T00:00:00\",\"2018-02-27T00:00:00\",\"2018-02-28T00:00:00\",\"2018-03-01T00:00:00\",\"2018-03-02T00:00:00\",\"2018-03-05T00:00:00\",\"2018-03-06T00:00:00\",\"2018-03-07T00:00:00\",\"2018-03-08T00:00:00\",\"2018-03-09T00:00:00\",\"2018-03-12T00:00:00\",\"2018-03-13T00:00:00\",\"2018-03-14T00:00:00\",\"2018-03-15T00:00:00\",\"2018-03-16T00:00:00\",\"2018-03-19T00:00:00\",\"2018-03-20T00:00:00\",\"2018-03-21T00:00:00\",\"2018-03-22T00:00:00\",\"2018-03-23T00:00:00\",\"2018-03-26T00:00:00\",\"2018-03-27T00:00:00\",\"2018-03-28T00:00:00\",\"2018-03-29T00:00:00\",\"2018-04-02T00:00:00\",\"2018-04-03T00:00:00\",\"2018-04-04T00:00:00\",\"2018-04-05T00:00:00\",\"2018-04-06T00:00:00\",\"2018-04-09T00:00:00\",\"2018-04-10T00:00:00\",\"2018-04-11T00:00:00\",\"2018-04-12T00:00:00\",\"2018-04-13T00:00:00\",\"2018-04-16T00:00:00\",\"2018-04-17T00:00:00\",\"2018-04-18T00:00:00\",\"2018-04-19T00:00:00\",\"2018-04-20T00:00:00\",\"2018-04-23T00:00:00\",\"2018-04-24T00:00:00\",\"2018-04-25T00:00:00\",\"2018-04-26T00:00:00\",\"2018-04-27T00:00:00\",\"2018-04-30T00:00:00\",\"2018-05-01T00:00:00\",\"2018-05-02T00:00:00\",\"2018-05-03T00:00:00\",\"2018-05-04T00:00:00\",\"2018-05-07T00:00:00\",\"2018-05-08T00:00:00\",\"2018-05-09T00:00:00\",\"2018-05-10T00:00:00\",\"2018-05-11T00:00:00\",\"2018-05-14T00:00:00\",\"2018-05-15T00:00:00\",\"2018-05-16T00:00:00\",\"2018-05-17T00:00:00\",\"2018-05-18T00:00:00\",\"2018-05-21T00:00:00\",\"2018-05-22T00:00:00\",\"2018-05-23T00:00:00\",\"2018-05-24T00:00:00\",\"2018-05-25T00:00:00\",\"2018-05-29T00:00:00\",\"2018-05-30T00:00:00\",\"2018-05-31T00:00:00\",\"2018-06-01T00:00:00\",\"2018-06-04T00:00:00\",\"2018-06-05T00:00:00\",\"2018-06-06T00:00:00\",\"2018-06-07T00:00:00\",\"2018-06-08T00:00:00\",\"2018-06-11T00:00:00\",\"2018-06-12T00:00:00\",\"2018-06-13T00:00:00\",\"2018-06-14T00:00:00\",\"2018-06-15T00:00:00\",\"2018-06-18T00:00:00\",\"2018-06-19T00:00:00\",\"2018-06-20T00:00:00\",\"2018-06-21T00:00:00\",\"2018-06-22T00:00:00\",\"2018-06-25T00:00:00\",\"2018-06-26T00:00:00\",\"2018-06-27T00:00:00\",\"2018-06-28T00:00:00\",\"2018-06-29T00:00:00\",\"2018-07-02T00:00:00\",\"2018-07-03T00:00:00\",\"2018-07-05T00:00:00\",\"2018-07-06T00:00:00\",\"2018-07-09T00:00:00\",\"2018-07-10T00:00:00\",\"2018-07-11T00:00:00\",\"2018-07-12T00:00:00\",\"2018-07-13T00:00:00\",\"2018-07-16T00:00:00\",\"2018-07-17T00:00:00\",\"2018-07-18T00:00:00\",\"2018-07-19T00:00:00\",\"2018-07-20T00:00:00\",\"2018-07-23T00:00:00\",\"2018-07-24T00:00:00\",\"2018-07-25T00:00:00\",\"2018-07-26T00:00:00\",\"2018-07-27T00:00:00\",\"2018-07-30T00:00:00\",\"2018-07-31T00:00:00\",\"2018-08-01T00:00:00\",\"2018-08-02T00:00:00\",\"2018-08-03T00:00:00\",\"2018-08-06T00:00:00\",\"2018-08-07T00:00:00\",\"2018-08-08T00:00:00\",\"2018-08-09T00:00:00\",\"2018-08-10T00:00:00\",\"2018-08-13T00:00:00\",\"2018-08-14T00:00:00\",\"2018-08-15T00:00:00\",\"2018-08-16T00:00:00\",\"2018-08-17T00:00:00\",\"2018-08-20T00:00:00\",\"2018-08-21T00:00:00\",\"2018-08-22T00:00:00\",\"2018-08-23T00:00:00\",\"2018-08-24T00:00:00\",\"2018-08-27T00:00:00\",\"2018-08-28T00:00:00\",\"2018-08-29T00:00:00\",\"2018-08-30T00:00:00\",\"2018-08-31T00:00:00\",\"2018-09-04T00:00:00\",\"2018-09-05T00:00:00\",\"2018-09-06T00:00:00\",\"2018-09-07T00:00:00\",\"2018-09-10T00:00:00\",\"2018-09-11T00:00:00\",\"2018-09-12T00:00:00\",\"2018-09-13T00:00:00\",\"2018-09-14T00:00:00\",\"2018-09-17T00:00:00\",\"2018-09-18T00:00:00\",\"2018-09-19T00:00:00\",\"2018-09-20T00:00:00\",\"2018-09-21T00:00:00\",\"2018-09-24T00:00:00\",\"2018-09-25T00:00:00\",\"2018-09-26T00:00:00\",\"2018-09-27T00:00:00\",\"2018-09-28T00:00:00\",\"2018-10-01T00:00:00\",\"2018-10-02T00:00:00\",\"2018-10-03T00:00:00\",\"2018-10-04T00:00:00\",\"2018-10-05T00:00:00\",\"2018-10-08T00:00:00\",\"2018-10-09T00:00:00\",\"2018-10-10T00:00:00\",\"2018-10-11T00:00:00\",\"2018-10-12T00:00:00\",\"2018-10-15T00:00:00\",\"2018-10-16T00:00:00\",\"2018-10-17T00:00:00\",\"2018-10-18T00:00:00\",\"2018-10-19T00:00:00\",\"2018-10-22T00:00:00\",\"2018-10-23T00:00:00\",\"2018-10-24T00:00:00\",\"2018-10-25T00:00:00\",\"2018-10-26T00:00:00\",\"2018-10-29T00:00:00\",\"2018-10-30T00:00:00\",\"2018-10-31T00:00:00\",\"2018-11-01T00:00:00\",\"2018-11-02T00:00:00\",\"2018-11-05T00:00:00\",\"2018-11-06T00:00:00\",\"2018-11-07T00:00:00\",\"2018-11-08T00:00:00\",\"2018-11-09T00:00:00\",\"2018-11-12T00:00:00\",\"2018-11-13T00:00:00\",\"2018-11-14T00:00:00\",\"2018-11-15T00:00:00\",\"2018-11-16T00:00:00\",\"2018-11-19T00:00:00\",\"2018-11-20T00:00:00\",\"2018-11-21T00:00:00\",\"2018-11-23T00:00:00\",\"2018-11-26T00:00:00\",\"2018-11-27T00:00:00\",\"2018-11-28T00:00:00\",\"2018-11-29T00:00:00\",\"2018-11-30T00:00:00\",\"2018-12-03T00:00:00\",\"2018-12-04T00:00:00\",\"2018-12-06T00:00:00\",\"2018-12-07T00:00:00\",\"2018-12-10T00:00:00\",\"2018-12-11T00:00:00\",\"2018-12-12T00:00:00\",\"2018-12-13T00:00:00\",\"2018-12-14T00:00:00\",\"2018-12-17T00:00:00\",\"2018-12-18T00:00:00\",\"2018-12-19T00:00:00\",\"2018-12-20T00:00:00\",\"2018-12-21T00:00:00\",\"2018-12-24T00:00:00\",\"2018-12-26T00:00:00\",\"2018-12-27T00:00:00\",\"2018-12-28T00:00:00\",\"2018-12-31T00:00:00\",\"2019-01-02T00:00:00\",\"2019-01-03T00:00:00\",\"2019-01-04T00:00:00\",\"2019-01-07T00:00:00\",\"2019-01-08T00:00:00\",\"2019-01-09T00:00:00\",\"2019-01-10T00:00:00\",\"2019-01-11T00:00:00\",\"2019-01-14T00:00:00\",\"2019-01-15T00:00:00\",\"2019-01-16T00:00:00\",\"2019-01-17T00:00:00\",\"2019-01-18T00:00:00\",\"2019-01-22T00:00:00\",\"2019-01-23T00:00:00\",\"2019-01-24T00:00:00\",\"2019-01-25T00:00:00\",\"2019-01-28T00:00:00\",\"2019-01-29T00:00:00\",\"2019-01-30T00:00:00\",\"2019-01-31T00:00:00\",\"2019-02-01T00:00:00\",\"2019-02-04T00:00:00\",\"2019-02-05T00:00:00\",\"2019-02-06T00:00:00\",\"2019-02-07T00:00:00\",\"2019-02-08T00:00:00\",\"2019-02-11T00:00:00\",\"2019-02-12T00:00:00\",\"2019-02-13T00:00:00\",\"2019-02-14T00:00:00\",\"2019-02-15T00:00:00\",\"2019-02-19T00:00:00\",\"2019-02-20T00:00:00\",\"2019-02-21T00:00:00\",\"2019-02-22T00:00:00\",\"2019-02-25T00:00:00\",\"2019-02-26T00:00:00\",\"2019-02-27T00:00:00\",\"2019-02-28T00:00:00\",\"2019-03-01T00:00:00\",\"2019-03-04T00:00:00\",\"2019-03-05T00:00:00\",\"2019-03-06T00:00:00\",\"2019-03-07T00:00:00\",\"2019-03-08T00:00:00\",\"2019-03-11T00:00:00\",\"2019-03-12T00:00:00\",\"2019-03-13T00:00:00\",\"2019-03-14T00:00:00\",\"2019-03-15T00:00:00\",\"2019-03-18T00:00:00\",\"2019-03-19T00:00:00\",\"2019-03-20T00:00:00\",\"2019-03-21T00:00:00\",\"2019-03-22T00:00:00\",\"2019-03-25T00:00:00\",\"2019-03-26T00:00:00\",\"2019-03-27T00:00:00\",\"2019-03-28T00:00:00\",\"2019-03-29T00:00:00\",\"2019-04-01T00:00:00\",\"2019-04-02T00:00:00\",\"2019-04-03T00:00:00\",\"2019-04-04T00:00:00\",\"2019-04-05T00:00:00\",\"2019-04-08T00:00:00\",\"2019-04-09T00:00:00\",\"2019-04-10T00:00:00\",\"2019-04-11T00:00:00\",\"2019-04-12T00:00:00\",\"2019-04-15T00:00:00\",\"2019-04-16T00:00:00\",\"2019-04-17T00:00:00\",\"2019-04-18T00:00:00\",\"2019-04-22T00:00:00\",\"2019-04-23T00:00:00\",\"2019-04-24T00:00:00\",\"2019-04-25T00:00:00\",\"2019-04-26T00:00:00\",\"2019-04-29T00:00:00\",\"2019-04-30T00:00:00\",\"2019-05-01T00:00:00\",\"2019-05-02T00:00:00\",\"2019-05-03T00:00:00\",\"2019-05-06T00:00:00\",\"2019-05-07T00:00:00\",\"2019-05-08T00:00:00\",\"2019-05-09T00:00:00\",\"2019-05-10T00:00:00\",\"2019-05-13T00:00:00\",\"2019-05-14T00:00:00\",\"2019-05-15T00:00:00\",\"2019-05-16T00:00:00\",\"2019-05-17T00:00:00\",\"2019-05-20T00:00:00\",\"2019-05-21T00:00:00\",\"2019-05-22T00:00:00\",\"2019-05-23T00:00:00\",\"2019-05-24T00:00:00\",\"2019-05-28T00:00:00\",\"2019-05-29T00:00:00\",\"2019-05-30T00:00:00\",\"2019-05-31T00:00:00\",\"2019-06-03T00:00:00\",\"2019-06-04T00:00:00\",\"2019-06-05T00:00:00\",\"2019-06-06T00:00:00\",\"2019-06-07T00:00:00\",\"2019-06-10T00:00:00\",\"2019-06-11T00:00:00\",\"2019-06-12T00:00:00\",\"2019-06-13T00:00:00\",\"2019-06-14T00:00:00\",\"2019-06-17T00:00:00\",\"2019-06-18T00:00:00\",\"2019-06-19T00:00:00\",\"2019-06-20T00:00:00\",\"2019-06-21T00:00:00\",\"2019-06-24T00:00:00\",\"2019-06-25T00:00:00\",\"2019-06-26T00:00:00\",\"2019-06-27T00:00:00\",\"2019-06-28T00:00:00\",\"2019-07-01T00:00:00\",\"2019-07-02T00:00:00\",\"2019-07-03T00:00:00\",\"2019-07-05T00:00:00\",\"2019-07-08T00:00:00\",\"2019-07-09T00:00:00\",\"2019-07-10T00:00:00\",\"2019-07-11T00:00:00\",\"2019-07-12T00:00:00\",\"2019-07-15T00:00:00\",\"2019-07-16T00:00:00\",\"2019-07-17T00:00:00\",\"2019-07-18T00:00:00\",\"2019-07-19T00:00:00\",\"2019-07-22T00:00:00\",\"2019-07-23T00:00:00\",\"2019-07-24T00:00:00\",\"2019-07-25T00:00:00\",\"2019-07-26T00:00:00\",\"2019-07-29T00:00:00\",\"2019-07-30T00:00:00\",\"2019-07-31T00:00:00\",\"2019-08-01T00:00:00\",\"2019-08-02T00:00:00\",\"2019-08-05T00:00:00\",\"2019-08-06T00:00:00\",\"2019-08-07T00:00:00\",\"2019-08-08T00:00:00\",\"2019-08-09T00:00:00\",\"2019-08-12T00:00:00\",\"2019-08-13T00:00:00\",\"2019-08-14T00:00:00\",\"2019-08-15T00:00:00\",\"2019-08-16T00:00:00\",\"2019-08-19T00:00:00\",\"2019-08-20T00:00:00\",\"2019-08-21T00:00:00\",\"2019-08-22T00:00:00\",\"2019-08-23T00:00:00\",\"2019-08-26T00:00:00\",\"2019-08-27T00:00:00\",\"2019-08-28T00:00:00\",\"2019-08-29T00:00:00\",\"2019-08-30T00:00:00\",\"2019-09-03T00:00:00\",\"2019-09-04T00:00:00\",\"2019-09-05T00:00:00\",\"2019-09-06T00:00:00\",\"2019-09-09T00:00:00\",\"2019-09-10T00:00:00\",\"2019-09-11T00:00:00\",\"2019-09-12T00:00:00\",\"2019-09-13T00:00:00\",\"2019-09-16T00:00:00\",\"2019-09-17T00:00:00\",\"2019-09-18T00:00:00\",\"2019-09-19T00:00:00\",\"2019-09-20T00:00:00\",\"2019-09-23T00:00:00\",\"2019-09-24T00:00:00\",\"2019-09-25T00:00:00\",\"2019-09-26T00:00:00\",\"2019-09-27T00:00:00\",\"2019-09-30T00:00:00\",\"2019-10-01T00:00:00\",\"2019-10-02T00:00:00\",\"2019-10-03T00:00:00\",\"2019-10-04T00:00:00\",\"2019-10-07T00:00:00\",\"2019-10-08T00:00:00\",\"2019-10-09T00:00:00\",\"2019-10-10T00:00:00\",\"2019-10-11T00:00:00\",\"2019-10-14T00:00:00\",\"2019-10-15T00:00:00\",\"2019-10-16T00:00:00\",\"2019-10-17T00:00:00\",\"2019-10-18T00:00:00\",\"2019-10-21T00:00:00\",\"2019-10-22T00:00:00\",\"2019-10-23T00:00:00\",\"2019-10-24T00:00:00\",\"2019-10-25T00:00:00\",\"2019-10-28T00:00:00\",\"2019-10-29T00:00:00\",\"2019-10-30T00:00:00\",\"2019-10-31T00:00:00\",\"2019-11-01T00:00:00\",\"2019-11-04T00:00:00\",\"2019-11-05T00:00:00\",\"2019-11-06T00:00:00\",\"2019-11-07T00:00:00\",\"2019-11-08T00:00:00\",\"2019-11-11T00:00:00\",\"2019-11-12T00:00:00\",\"2019-11-13T00:00:00\",\"2019-11-14T00:00:00\",\"2019-11-15T00:00:00\",\"2019-11-18T00:00:00\",\"2019-11-19T00:00:00\",\"2019-11-20T00:00:00\",\"2019-11-21T00:00:00\",\"2019-11-22T00:00:00\",\"2019-11-25T00:00:00\",\"2019-11-26T00:00:00\",\"2019-11-27T00:00:00\",\"2019-11-29T00:00:00\",\"2019-12-02T00:00:00\",\"2019-12-03T00:00:00\",\"2019-12-04T00:00:00\",\"2019-12-05T00:00:00\",\"2019-12-06T00:00:00\",\"2019-12-09T00:00:00\",\"2019-12-10T00:00:00\",\"2019-12-11T00:00:00\",\"2019-12-12T00:00:00\",\"2019-12-13T00:00:00\",\"2019-12-16T00:00:00\",\"2019-12-17T00:00:00\",\"2019-12-18T00:00:00\",\"2019-12-19T00:00:00\",\"2019-12-20T00:00:00\",\"2019-12-23T00:00:00\",\"2019-12-24T00:00:00\",\"2019-12-26T00:00:00\",\"2019-12-27T00:00:00\",\"2019-12-30T00:00:00\",\"2019-12-31T00:00:00\",\"2020-01-02T00:00:00\",\"2020-01-03T00:00:00\",\"2020-01-06T00:00:00\",\"2020-01-07T00:00:00\",\"2020-01-08T00:00:00\",\"2020-01-09T00:00:00\",\"2020-01-10T00:00:00\",\"2020-01-13T00:00:00\",\"2020-01-14T00:00:00\",\"2020-01-15T00:00:00\",\"2020-01-16T00:00:00\",\"2020-01-17T00:00:00\",\"2020-01-21T00:00:00\",\"2020-01-22T00:00:00\",\"2020-01-23T00:00:00\",\"2020-01-24T00:00:00\",\"2020-01-27T00:00:00\",\"2020-01-28T00:00:00\",\"2020-01-29T00:00:00\",\"2020-01-30T00:00:00\",\"2020-01-31T00:00:00\",\"2020-02-03T00:00:00\",\"2020-02-04T00:00:00\",\"2020-02-05T00:00:00\",\"2020-02-06T00:00:00\",\"2020-02-07T00:00:00\",\"2020-02-10T00:00:00\",\"2020-02-11T00:00:00\",\"2020-02-12T00:00:00\",\"2020-02-13T00:00:00\",\"2020-02-14T00:00:00\",\"2020-02-18T00:00:00\",\"2020-02-19T00:00:00\",\"2020-02-20T00:00:00\",\"2020-02-21T00:00:00\",\"2020-02-24T00:00:00\",\"2020-02-25T00:00:00\",\"2020-02-26T00:00:00\",\"2020-02-27T00:00:00\",\"2020-02-28T00:00:00\",\"2020-03-02T00:00:00\",\"2020-03-03T00:00:00\",\"2020-03-04T00:00:00\",\"2020-03-05T00:00:00\",\"2020-03-06T00:00:00\",\"2020-03-09T00:00:00\",\"2020-03-10T00:00:00\",\"2020-03-11T00:00:00\",\"2020-03-12T00:00:00\",\"2020-03-13T00:00:00\",\"2020-03-16T00:00:00\",\"2020-03-17T00:00:00\",\"2020-03-18T00:00:00\",\"2020-03-19T00:00:00\",\"2020-03-20T00:00:00\",\"2020-03-23T00:00:00\",\"2020-03-24T00:00:00\",\"2020-03-25T00:00:00\",\"2020-03-26T00:00:00\",\"2020-03-27T00:00:00\",\"2020-03-30T00:00:00\",\"2020-03-31T00:00:00\",\"2020-04-01T00:00:00\",\"2020-04-02T00:00:00\",\"2020-04-03T00:00:00\",\"2020-04-06T00:00:00\",\"2020-04-07T00:00:00\",\"2020-04-08T00:00:00\",\"2020-04-09T00:00:00\",\"2020-04-13T00:00:00\",\"2020-04-14T00:00:00\",\"2020-04-15T00:00:00\",\"2020-04-16T00:00:00\",\"2020-04-17T00:00:00\",\"2020-04-20T00:00:00\",\"2020-04-21T00:00:00\",\"2020-04-22T00:00:00\",\"2020-04-23T00:00:00\",\"2020-04-24T00:00:00\",\"2020-04-27T00:00:00\",\"2020-04-28T00:00:00\",\"2020-04-29T00:00:00\",\"2020-04-30T00:00:00\",\"2020-05-01T00:00:00\",\"2020-05-04T00:00:00\",\"2020-05-05T00:00:00\",\"2020-05-06T00:00:00\",\"2020-05-07T00:00:00\",\"2020-05-08T00:00:00\",\"2020-05-11T00:00:00\",\"2020-05-12T00:00:00\",\"2020-05-13T00:00:00\",\"2020-05-14T00:00:00\",\"2020-05-15T00:00:00\",\"2020-05-18T00:00:00\",\"2020-05-19T00:00:00\",\"2020-05-20T00:00:00\",\"2020-05-21T00:00:00\",\"2020-05-22T00:00:00\",\"2020-05-26T00:00:00\",\"2020-05-27T00:00:00\",\"2020-05-28T00:00:00\",\"2020-05-29T00:00:00\",\"2020-06-01T00:00:00\",\"2020-06-02T00:00:00\",\"2020-06-03T00:00:00\",\"2020-06-04T00:00:00\",\"2020-06-05T00:00:00\",\"2020-06-08T00:00:00\",\"2020-06-09T00:00:00\",\"2020-06-10T00:00:00\",\"2020-06-11T00:00:00\",\"2020-06-12T00:00:00\",\"2020-06-15T00:00:00\",\"2020-06-16T00:00:00\",\"2020-06-17T00:00:00\",\"2020-06-18T00:00:00\",\"2020-06-19T00:00:00\",\"2020-06-22T00:00:00\",\"2020-06-23T00:00:00\",\"2020-06-24T00:00:00\",\"2020-06-25T00:00:00\",\"2020-06-26T00:00:00\",\"2020-06-29T00:00:00\",\"2020-06-30T00:00:00\",\"2020-07-01T00:00:00\",\"2020-07-02T00:00:00\",\"2020-07-06T00:00:00\",\"2020-07-07T00:00:00\",\"2020-07-08T00:00:00\",\"2020-07-09T00:00:00\",\"2020-07-10T00:00:00\",\"2020-07-13T00:00:00\",\"2020-07-14T00:00:00\",\"2020-07-15T00:00:00\",\"2020-07-16T00:00:00\",\"2020-07-17T00:00:00\",\"2020-07-20T00:00:00\",\"2020-07-21T00:00:00\",\"2020-07-22T00:00:00\",\"2020-07-23T00:00:00\",\"2020-07-24T00:00:00\",\"2020-07-27T00:00:00\",\"2020-07-28T00:00:00\",\"2020-07-29T00:00:00\",\"2020-07-30T00:00:00\",\"2020-07-31T00:00:00\",\"2020-08-03T00:00:00\",\"2020-08-04T00:00:00\",\"2020-08-05T00:00:00\",\"2020-08-06T00:00:00\",\"2020-08-07T00:00:00\",\"2020-08-10T00:00:00\",\"2020-08-11T00:00:00\",\"2020-08-12T00:00:00\",\"2020-08-13T00:00:00\",\"2020-08-14T00:00:00\",\"2020-08-17T00:00:00\",\"2020-08-18T00:00:00\",\"2020-08-19T00:00:00\",\"2020-08-20T00:00:00\",\"2020-08-21T00:00:00\",\"2020-08-24T00:00:00\",\"2020-08-25T00:00:00\",\"2020-08-26T00:00:00\",\"2020-08-27T00:00:00\",\"2020-08-28T00:00:00\",\"2020-08-31T00:00:00\",\"2020-09-01T00:00:00\",\"2020-09-02T00:00:00\",\"2020-09-03T00:00:00\",\"2020-09-04T00:00:00\",\"2020-09-08T00:00:00\",\"2020-09-09T00:00:00\",\"2020-09-10T00:00:00\",\"2020-09-11T00:00:00\",\"2020-09-14T00:00:00\",\"2020-09-15T00:00:00\",\"2020-09-16T00:00:00\",\"2020-09-17T00:00:00\",\"2020-09-18T00:00:00\",\"2020-09-21T00:00:00\",\"2020-09-22T00:00:00\",\"2020-09-23T00:00:00\",\"2020-09-24T00:00:00\",\"2020-09-25T00:00:00\",\"2020-09-28T00:00:00\",\"2020-09-29T00:00:00\",\"2020-09-30T00:00:00\",\"2020-10-01T00:00:00\",\"2020-10-02T00:00:00\",\"2020-10-05T00:00:00\",\"2020-10-06T00:00:00\",\"2020-10-07T00:00:00\",\"2020-10-08T00:00:00\",\"2020-10-09T00:00:00\",\"2020-10-12T00:00:00\",\"2020-10-13T00:00:00\",\"2020-10-14T00:00:00\",\"2020-10-15T00:00:00\",\"2020-10-16T00:00:00\",\"2020-10-19T00:00:00\",\"2020-10-20T00:00:00\",\"2020-10-21T00:00:00\",\"2020-10-22T00:00:00\",\"2020-10-23T00:00:00\",\"2020-10-26T00:00:00\",\"2020-10-27T00:00:00\",\"2020-10-28T00:00:00\",\"2020-10-29T00:00:00\",\"2020-10-30T00:00:00\",\"2020-11-02T00:00:00\",\"2020-11-03T00:00:00\",\"2020-11-04T00:00:00\",\"2020-11-05T00:00:00\",\"2020-11-06T00:00:00\",\"2020-11-09T00:00:00\",\"2020-11-10T00:00:00\",\"2020-11-11T00:00:00\",\"2020-11-12T00:00:00\",\"2020-11-13T00:00:00\",\"2020-11-16T00:00:00\",\"2020-11-17T00:00:00\",\"2020-11-18T00:00:00\",\"2020-11-19T00:00:00\",\"2020-11-20T00:00:00\",\"2020-11-23T00:00:00\",\"2020-11-24T00:00:00\",\"2020-11-25T00:00:00\",\"2020-11-27T00:00:00\",\"2020-11-30T00:00:00\",\"2020-12-01T00:00:00\",\"2020-12-02T00:00:00\",\"2020-12-03T00:00:00\",\"2020-12-04T00:00:00\",\"2020-12-07T00:00:00\",\"2020-12-08T00:00:00\",\"2020-12-09T00:00:00\",\"2020-12-10T00:00:00\",\"2020-12-11T00:00:00\",\"2020-12-14T00:00:00\",\"2020-12-15T00:00:00\",\"2020-12-16T00:00:00\",\"2020-12-17T00:00:00\",\"2020-12-18T00:00:00\",\"2020-12-21T00:00:00\",\"2020-12-22T00:00:00\",\"2020-12-23T00:00:00\",\"2020-12-24T00:00:00\",\"2020-12-28T00:00:00\",\"2020-12-29T00:00:00\",\"2020-12-30T00:00:00\",\"2020-12-31T00:00:00\",\"2021-01-04T00:00:00\",\"2021-01-05T00:00:00\",\"2021-01-06T00:00:00\",\"2021-01-07T00:00:00\",\"2021-01-08T00:00:00\",\"2021-01-11T00:00:00\",\"2021-01-12T00:00:00\",\"2021-01-13T00:00:00\",\"2021-01-14T00:00:00\",\"2021-01-15T00:00:00\",\"2021-01-19T00:00:00\",\"2021-01-20T00:00:00\",\"2021-01-21T00:00:00\",\"2021-01-22T00:00:00\",\"2021-01-25T00:00:00\",\"2021-01-26T00:00:00\",\"2021-01-27T00:00:00\",\"2021-01-28T00:00:00\",\"2021-01-29T00:00:00\",\"2021-02-01T00:00:00\",\"2021-02-02T00:00:00\",\"2021-02-03T00:00:00\",\"2021-02-04T00:00:00\",\"2021-02-05T00:00:00\",\"2021-02-08T00:00:00\",\"2021-02-09T00:00:00\",\"2021-02-10T00:00:00\",\"2021-02-11T00:00:00\",\"2021-02-12T00:00:00\",\"2021-02-16T00:00:00\",\"2021-02-17T00:00:00\",\"2021-02-18T00:00:00\",\"2021-02-19T00:00:00\",\"2021-02-22T00:00:00\",\"2021-02-23T00:00:00\",\"2021-02-24T00:00:00\",\"2021-02-25T00:00:00\",\"2021-02-26T00:00:00\",\"2021-03-01T00:00:00\",\"2021-03-02T00:00:00\",\"2021-03-03T00:00:00\",\"2021-03-04T00:00:00\",\"2021-03-05T00:00:00\",\"2021-03-08T00:00:00\",\"2021-03-09T00:00:00\",\"2021-03-10T00:00:00\",\"2021-03-11T00:00:00\",\"2021-03-12T00:00:00\",\"2021-03-15T00:00:00\",\"2021-03-16T00:00:00\",\"2021-03-17T00:00:00\",\"2021-03-18T00:00:00\",\"2021-03-19T00:00:00\",\"2021-03-22T00:00:00\",\"2021-03-23T00:00:00\",\"2021-03-24T00:00:00\",\"2021-03-25T00:00:00\",\"2021-03-26T00:00:00\",\"2021-03-29T00:00:00\",\"2021-03-30T00:00:00\",\"2021-03-31T00:00:00\",\"2021-04-01T00:00:00\",\"2021-04-05T00:00:00\",\"2021-04-06T00:00:00\",\"2021-04-07T00:00:00\",\"2021-04-08T00:00:00\",\"2021-04-09T00:00:00\",\"2021-04-12T00:00:00\",\"2021-04-13T00:00:00\",\"2021-04-14T00:00:00\",\"2021-04-15T00:00:00\",\"2021-04-16T00:00:00\",\"2021-04-19T00:00:00\",\"2021-04-20T00:00:00\",\"2021-04-21T00:00:00\",\"2021-04-22T00:00:00\",\"2021-04-23T00:00:00\",\"2021-04-26T00:00:00\",\"2021-04-27T00:00:00\",\"2021-04-28T00:00:00\",\"2021-04-29T00:00:00\",\"2021-04-30T00:00:00\",\"2021-05-03T00:00:00\",\"2021-05-04T00:00:00\",\"2021-05-05T00:00:00\",\"2021-05-06T00:00:00\",\"2021-05-07T00:00:00\",\"2021-05-10T00:00:00\",\"2021-05-11T00:00:00\",\"2021-05-12T00:00:00\",\"2021-05-13T00:00:00\",\"2021-05-14T00:00:00\",\"2021-05-17T00:00:00\",\"2021-05-18T00:00:00\",\"2021-05-19T00:00:00\",\"2021-05-20T00:00:00\",\"2021-05-21T00:00:00\",\"2021-05-24T00:00:00\",\"2021-05-25T00:00:00\",\"2021-05-26T00:00:00\",\"2021-05-27T00:00:00\",\"2021-05-28T00:00:00\",\"2021-06-01T00:00:00\",\"2021-06-02T00:00:00\",\"2021-06-03T00:00:00\",\"2021-06-04T00:00:00\",\"2021-06-07T00:00:00\",\"2021-06-08T00:00:00\",\"2021-06-09T00:00:00\",\"2021-06-10T00:00:00\",\"2021-06-11T00:00:00\",\"2021-06-14T00:00:00\"],\"y\":[4.7779998779296875,4.765999794006348,4.392000198364258,3.8399999141693115,3.2219998836517334,3.1600000858306885,3.492000102996826,3.4800000190734863,3.4100000858306885,3.628000020980835,3.9679999351501465,3.9779999256134033,4.127999782562256,4.381999969482422,4.059999942779541,4.044000148773193,4.199999809265137,4.257999897003174,4.190000057220459,4.110000133514404,4.144000053405762,4.070000171661377,3.98799991607666,4.184000015258789,4.389999866485596,4.251999855041504,4.090000152587891,3.9179999828338623,3.9200000762939453,3.805999994277954,3.5799999237060547,3.5199999809265137,3.6640000343322754,3.75600004196167,3.8299999237060547,3.753999948501587,3.757999897003174,3.819999933242798,4.026000022888184,3.8399999141693115,3.9800000190734863,3.950000047683716,3.940000057220459,3.9739999771118164,3.8959999084472656,4.090000152587891,4.211999893188477,4.210000038146973,4.107999801635742,4.179999828338623,4.142000198364258,4.033999919891357,4.144000053405762,4.223999977111816,4.395999908447266,4.188000202178955,4.046000003814697,4.211999893188477,4.1539998054504395,3.9739999771118164,3.9119999408721924,4.019999980926514,4.105999946594238,4.28000020980835,4.395999908447266,4.081999778747559,4.119999885559082,4.197999954223633,4.223999977111816,4.0920000076293945,4.085999965667725,4.085999965667725,4.047999858856201,4.047999858856201,4.107999801635742,4.150000095367432,4.107999801635742,4.046000003814697,4.010000228881836,4.130000114440918,4.150000095367432,4.144000053405762,4.170000076293945,4.271999835968018,4.199999809265137,4.23799991607666,4.368000030517578,4.2820000648498535,4.25,4.354000091552734,4.980000019073486,4.888000011444092,4.995999813079834,4.926000118255615,5.872000217437744,5.607999801635742,5.9679999351501465,6.159999847412109,5.934000015258789,5.8979997634887695,5.978000164031982,6.197999954223633,6.679999828338623,6.914000034332275,7.093999862670898,7.064000129699707,6.866000175476074,7.065999984741211,6.869999885559082,6.46999979019165,6.297999858856201,6.061999797821045,6.311999797821045,6.473999977111816,6.409999847412109,6.303999900817871,6.110000133514404,5.705999851226807,5.920000076293945,6.1620001792907715,6.271999835968018,6.340000152587891,6.452000141143799,6.526000022888184,6.01800012588501,5.110000133514404,5.2820000648498535,5.546000003814697,5.300000190734863,5.326000213623047,5.323999881744385,5.334000110626221,5.366000175476074,5.576000213623047,5.6479997634887695,5.690000057220459,5.392000198364258,5.392000198364258,5.24399995803833,5.150000095367432,5.127999782562256,4.806000232696533,4.52400016784668,4.607999801635742,4.8979997634887695,4.935999870300293,4.949999809265137,4.984000205993652,4.802000045776367,4.820000171661377,4.7820000648498535,4.788000106811523,4.72599983215332,4.691999912261963,4.613999843597412,4.8979997634887695,4.642000198364258,4.644000053405762,4.650000095367432,4.616000175476074,4.567999839782715,4.946000099182129,4.71999979019165,4.636000156402588,4.374000072479248,4.366000175476074,4.50600004196167,4.7220001220703125,4.7779998779296875,4.788000106811523,4.803999900817871,4.872000217437744,4.989999771118164,4.98799991607666,4.932000160217285,4.943999767303467,4.802000045776367,4.814000129699707,4.650000095367432,4.590000152587891,4.564000129699707,4.561999797821045,4.5920000076293945,4.546000003814697,4.438000202178955,4.441999912261963,4.466000080108643,4.550000190734863,4.650000095367432,4.783999919891357,4.742000102996826,5.550000190734863,5.331999778747559,5.165999889373779,5.340000152587891,5.297999858856201,5.447999954223633,5.297999858856201,5.053999900817871,4.929999828338623,4.986000061035156,5.0279998779296875,5.116000175476074,5.00600004196167,5.0320000648498535,5.150000095367432,5.3480000495910645,5.2779998779296875,5.386000156402588,5.415999889373779,5.5320000648498535,5.519999980926514,5.489999771118164,5.374000072479248,5.3379998207092285,5.288000106811523,5.423999786376953,5.581999778747559,5.665999889373779,5.414000034332275,5.533999919891357,5.510000228881836,5.320000171661377,5.191999912261963,5.269999980926514,5.639999866485596,5.593999862670898,5.363999843597412,5.343999862670898,5.796000003814697,5.895999908447266,5.909999847412109,6.0279998779296875,5.703999996185303,5.751999855041504,6.026000022888184,5.739999771118164,5.673999786376953,5.423999786376953,5.52400016784668,5.572000026702881,5.685999870300293,5.71999979019165,5.464000225067139,5.300000190734863,5.300000190734863,5.202000141143799,5.50600004196167,5.441999912261963,5.541999816894531,5.513999938964844,5.492000102996826,5.622000217437744,5.6579999923706055,5.826000213623047,5.803999900817871,5.828000068664551,5.791999816894531,5.946000099182129,5.76200008392334,5.670000076293945,5.633999824523926,5.728000164031982,5.521999835968018,5.515999794006348,5.446000099182129,5.578000068664551,5.73799991607666,5.739999771118164,5.857999801635742,5.697999954223633,5.599999904632568,5.5279998779296875,5.633999824523926,5.633999824523926,5.754000186920166,5.4679999351501465,5.440000057220459,4.949999809265137,4.8480000495910645,4.728000164031982,5.01200008392334,4.763999938964844,5.059999942779541,5.26200008392334,5.245999813079834,5.21999979019165,5.165999889373779,4.8520002365112305,4.460000038146973,4.389999866485596,4.5920000076293945,4.77400016784668,4.622000217437744,4.745999813079834,4.941999912261963,4.926000118255615,4.947999954223633,4.800000190734863,4.613999843597412,4.5879998207092285,4.76800012588501,4.7220001220703125,4.593999862670898,4.576000213623047,4.815999984741211,4.868000030517578,4.964000225067139,5.159999847412109,5.1539998054504395,5.202000141143799,5.170000076293945,5.125999927520752,5.276000022888184,5.104000091552734,5.23799991607666,4.918000221252441,4.823999881744385,4.877999782562256,4.745999813079834,4.73199987411499,5.073999881744385,5.392000198364258,5.3979997634887695,5.576000213623047,5.521999835968018,5.559999942779541,5.5879998207092285,5.610000133514404,5.484000205993652,5.668000221252441,5.513999938964844,5.4679999351501465,5.605999946594238,5.710000038146973,5.650000095367432,5.5960001945495605,5.751999855041504,5.973999977111816,5.874000072479248,5.776000022888184,5.742000102996826,6.492000102996826,6.461999893188477,6.254000186920166,6.368000030517578,6.176000118255615,6.265999794006348,6.728000164031982,6.644000053405762,6.785999774932861,6.98799991607666,6.736000061035156,6.519999980926514,6.3520002365112305,6.414000034332275,6.289999961853027,6.331999778747559,6.51200008392334,6.349999904632568,6.547999858856201,6.519999980926514,6.659999847412109,6.883999824523926,6.973999977111816,6.8379998207092285,6.177999973297119,6.208000183105469,6.081999778747559,5.889999866485596,5.705999851226807,5.723999977111816,5.599999904632568,5.550000190734863,5.579999923706055,5.513999938964844,5.553999900817871,5.579999923706055,5.714000225067139,5.702000141143799,5.745999813079834,5.711999893188477,5.616000175476074,5.541999816894531,5.423999786376953,5.381999969482422,5.449999809265137,5.52400016784668,5.645999908447266,5.650000095367432,4.558000087738037,5.320000171661377,5.361999988555908,5.3520002365112305,5.320000171661377,5.354000091552734,5.484000205993652,5.593999862670898,5.788000106811523,5.866000175476074,5.914000034332275,5.814000129699707,5.915999889373779,6.050000190734863,6.230000019073486,6.360000133514404,6.320000171661377,6.386000156402588,6.515999794006348,6.21999979019165,6.297999858856201,6.633999824523926,6.71999979019165,6.835999965667725,6.99399995803833,6.900000095367432,6.843999862670898,6.906000137329102,6.75,6.723999977111816,6.76200008392334,6.682000160217285,6.881999969482422,6.808000087738037,6.754000186920166,6.622000217437744,6.624000072479248,6.613999843597412,6.947999954223633,7.202000141143799,7.2179999351501465,7.058000087738037,7.0,7.064000129699707,6.995999813079834,6.992000102996826,7.03000020980835,6.880000114440918,6.815999984741211,7.480000019073486,7.5879998207092285,7.570000171661377,7.466000080108643,7.447999954223633,7.315999984741211,7.6020002365112305,7.0,6.895999908447266,6.630000114440918,6.492000102996826,6.618000030517578,6.688000202178955,6.7179999351501465,6.449999809265137,6.447999954223633,6.5320000648498535,6.631999969482422,6.631999969482422,6.388000011444092,6.363999843597412,6.581999778747559,6.697999954223633,6.668000221252441,6.625999927520752,6.75600004196167,6.788000106811523,6.492000102996826,6.366000175476074,6.49399995803833,6.038000106811523,6.01200008392334,6.5920000076293945,6.449999809265137,6.01200008392334,5.886000156402588,5.835999965667725,5.714000225067139,5.51200008392334,5.754000186920166,6.159999847412109,6.203999996185303,6.056000232696533,5.961999893188477,6.3379998207092285,6.081999778747559,5.900000095367432,5.630000114440918,5.576000213623047,5.581999778747559,5.843999862670898,5.785999774932861,6.015999794006348,5.823999881744385,5.932000160217285,5.953999996185303,5.877999782562256,5.98199987411499,6.368000030517578,6.418000221252441,6.75600004196167,6.438000202178955,6.757999897003174,6.622000217437744,6.322000026702881,6.392000198364258,6.2820000648498535,6.257999897003174,6.079999923706055,6.131999969482422,6.245999813079834,6.197999954223633,6.297999858856201,6.254000186920166,6.302000045776367,6.539999961853027,6.849999904632568,7.191999912261963,6.670000076293945,6.429999828338623,6.453999996185303,6.357999801635742,6.131999969482422,5.9679999351501465,5.789999961853027,5.625999927520752,5.9019999504089355,5.46999979019165,5.484000205993652,5.25,5.21999979019165,5.453999996185303,5.6539998054504395,6.050000190734863,5.817999839782715,5.881999969482422,5.98799991607666,6.234000205993652,5.883999824523926,5.880000114440918,6.059999942779541,6.001999855041504,5.9019999504089355,5.822000026702881,5.989999771118164,6.145999908447266,5.900000095367432,5.664000034332275,5.73799991607666,5.682000160217285,5.682000160217285,5.703999996185303,5.627999782562256,5.5879998207092285,5.710000038146973,5.869999885559082,5.473999977111816,5.559999942779541,5.656000137329102,5.895999908447266,6.078000068664551,6.507999897003174,6.26800012588501,6.210000038146973,6.179999828338623,6.004000186920166,6.131999969482422,5.5320000648498535,5.507999897003174,5.697999954223633,5.855999946594238,5.831999778747559,5.960000038146973,5.860000133514404,5.880000114440918,5.7779998779296875,5.849999904632568,5.673999786376953,5.679999828338623,5.664000034332275,5.5279998779296875,5.466000080108643,5.611999988555908,5.763999938964844,5.607999801635742,5.547999858856201,5.570000171661377,5.677999973297119,5.484000205993652,5.504000186920166,5.47599983215332,5.625999927520752,5.849999904632568,5.783999919891357,6.300000190734863,6.230000019073486,6.308000087738037,6.26200008392334,6.064000129699707,6.214000225067139,6.322000026702881,6.276000022888184,6.164000034332275,6.368000030517578,6.584000110626221,6.599999904632568,6.49399995803833,6.426000118255615,6.453999996185303,6.429999828338623,6.645999908447266,6.73799991607666,6.763999938964844,6.923999786376953,6.78000020980835,6.742000102996826,6.78000020980835,6.834000110626221,6.914000034332275,7.056000232696533,7.052000045776367,6.7220001220703125,6.76200008392334,6.880000114440918,6.918000221252441,6.921999931335449,6.886000156402588,6.800000190734863,6.855999946594238,6.7179999351501465,6.73799991607666,6.644000053405762,6.77400016784668,7.072000026702881,6.953999996185303,6.880000114440918,6.868000030517578,6.736000061035156,6.728000164031982,6.705999851226807,6.581999778747559,6.6519999504089355,6.78000020980835,6.820000171661377,6.875999927520752,6.9039998054504395,7.038000106811523,7.199999809265137,7.3979997634887695,7.395999908447266,7.605999946594238,7.590000152587891,7.504000186920166,7.501999855041504,7.659999847412109,7.547999858856201,7.625999927520752,7.834000110626221,7.895999908447266,7.8480000495910645,7.684000015258789,7.578000068664551,7.690000057220459,7.6539998054504395,7.4079999923706055,7.855999946594238,7.708000183105469,7.0320000648498535,7.2220001220703125,6.875999927520752,6.886000156402588,7.019999980926514,6.966000080108643,6.929999828338623,7.116000175476074,7.329999923706055,7.538000106811523,7.645999908447266,7.693999767303467,7.820000171661377,7.823999881744385,7.796000003814697,7.369999885559082,7.058000087738037,7.03000020980835,7.015999794006348,7.190000057220459,7.202000141143799,7.323999881744385,7.50600004196167,7.572000026702881,7.631999969482422,7.578000068664551,8.78600025177002,8.868000030517578,8.220000267028809,8.402000427246094,8.27400016784668,8.366000175476074,8.100000381469727,8.371999740600586,8.718000411987305,8.75,8.65999984741211,9.118000030517578,9.09000015258789,9.394000053405762,9.565999984741211,10.038000106811523,10.20199966430664,10.086000442504883,10.399999618530273,10.239999771118164,10.98799991607666,10.79800033569336,10.656000137329102,10.821999549865723,10.90999984741211,11.899999618530273,11.10200023651123,11.157999992370605,13.880000114440918,15.35200023651123,17.559999465942383,16.648000717163086,16.968000411987305,18.450000762939453,18.299999237060547,17.988000869750977,17.51799964904785,17.447999954223633,18.54599952697754,19.416000366210938,22.06599998474121,20.926000595092773,20.989999771118164,19.552000045776367,18.51799964904785,18.968000411987305,19.073999404907227,19.469999313354492,20.408000946044922,20.010000228881836,18.893999099731445,19.54599952697754,19.63599967956543,20.059999465942383,20.440000534057617,20.67799949645996,20.93600082397461,20.1299991607666,19.90999984741211,20.29800033569336,20.479999542236328,21.143999099731445,21.850000381469727,21.472000122070312,23.43600082397461,23.56399917602539,23.04800033569336,24.01799964904785,24.32200050354004,24.690000534057617,24.45400047302246,25.121999740600586,25.979999542236328,25.45199966430664,21.809999465942383,24.049999237060547,23.805999755859375,23.93600082397461,24.486000061035156,24.54800033569336,24.34000015258789,24.81399917602539,25.878000259399414,26.923999786376953,26.347999572753906,26.856000900268555,27.110000610351562,27.600000381469727,28.93600082397461,28.43000030517578,26.84600067138672,30.695999145507812,30.600000381469727,29.47599983215332,29.086000442504883,27.871999740600586,27.93400001525879,28.399999618530273,28.979999542236328,29.916000366210938,29.57200050354004,31.420000076293945,32.36800003051758,32.84400177001953,33.402000427246094,33.290000915527344,33.21200180053711,33.79999923706055,33.78799819946289,34.124000549316406,33.986000061035156,33.39400100708008,32.13999938964844,33.27399826049805,32.70399856567383,32.986000061035156,33.108001708984375,33.316001892089844,33.24599838256836,33.24399948120117,35.58399963378906,36.678001403808594,36.22200012207031,36.465999603271484,37.04800033569336,37.72800064086914,38.18000030517578,38.67399978637695,38.599998474121094,36.189998626708984,34.6619987487793,36.19599914550781,36.61399841308594,34.94599914550781,33.75600051879883,34.58599853515625,35.7400016784668,35.944000244140625,36.78799819946289,36.71200180053711,36.560001373291016,36.68000030517578,34.52000045776367,34.30799865722656,32.900001525878906,34.630001068115234,33.93199920654297,32.571998596191406,32.89400100708008,31.8439998626709,31.988000869750977,32.433998107910156,35.040000915527344,35.36199951171875,30.23200035095215,27.95400047302246,27.59000015258789,28.940000534057617,27.559999465942383,27.739999771118164,27.520000457763672,27.09000015258789,24.31599998474121,25.218000411987305,24.222000122070312,24.420000076293945,24.275999069213867,24.167999267578125,24.100000381469727,25.38800048828125,25.45599937438965,24.833999633789062,28.940000534057617,27.790000915527344,28.09600067138672,27.472000122070312,28.31999969482422,28.437999725341797,27.93000030517578,29.493999481201172,29.530000686645508,29.58799934387207,30.492000579833984,29.59600067138672,28.143999099731445,28.648000717163086,28.709999084472656,30.281999588012695,31.100000381469727,30.224000930786133,30.488000869750977,30.086000442504883,30.020000457763672,29.91200065612793,29.399999618530273,29.871999740600586,30.256000518798828,29.506000518798828,29.143999099731445,27.868000030517578,32.25400161743164,32.82600021362305,34.194000244140625,34.00199890136719,35.33599853515625,35.71200180053711,36.29999923706055,34.91999816894531,33.92399978637695,35.67599868774414,35.04600143432617,36.56800079345703,36.28200149536133,35.422000885009766,35.74599838256836,34.88399887084961,35.67599868774414,37.305999755859375,39.3120002746582,39.32400131225586,39.06399917602539,39.92599868774414,39.645999908447266,40.7400016784668,38.72800064086914,41.99399948120117,41.91999816894531,43.529998779296875,49.599998474121094,50.599998474121094,50.507999420166016,48.96200180053711,50.11199951171875,50.96799850463867,50.53200149536133,50.5880012512207,49.242000579833984,47.768001556396484,46.88199996948242,48.29800033569336,47.55799865722656,46.194000244140625,46.79600143432617,48.007999420166016,47.167999267578125,46.981998443603516,45.77799987792969,44.034000396728516,44.0880012512207,42.59199905395508,41.4640007019043,42.4739990234375,41.689998626708984,43.39400100708008,46.05799865722656,45.08000183105469,42.44599914550781,41.50400161743164,43.09199905395508,43.38600158691406,40.8380012512207,40.75600051879883,39.61800003051758,38.78200149536133,39.821998596191406,39.624000549316406,40.875999450683594,43.72800064086914,41.597999572753906,41.571998596191406,39.970001220703125,39.70199966430664,41.38399887084961,41.577999114990234,41.54600143432617,42.18199920654297,43.321998596191406,41.45600128173828,40.27000045776367,35.71799850463867,36.45199966430664,36.933998107910156,38.03200149536133,38.124000549316406,37.71799850463867,38.3120002746582,39.21799850463867,39.060001373291016,39.88999938964844,40.97600173950195,41.459999084472656,42.3120002746582,42.04800033569336,42.04800033569336,41.55400085449219,40.939998626708984,40.987998962402344,40.79800033569336,41.380001068115234,41.63399887084961,41.0620002746582,40.459999084472656,40.89400100708008,40.70399856567383,41.284000396728516,44.922000885009766,46.33399963378906,45.42399978637695,45.55799865722656,45.917999267578125,47.444000244140625,46.5,47.37799835205078,47.119998931884766,47.8120002746582,48.012001037597656,47.944000244140625,45.88600158691406,45.849998474121094,44.53200149536133,43.81399917602539,44.61199951171875,43.891998291015625,43.625999450683594,45.34000015258789,43.91600036621094,43.43199920654297,43.08000183105469,44.00400161743164,44.108001708984375,43.91600036621094,44.49800109863281,44.70800018310547,44.7140007019043,44.9640007019043,45.00199890136719,45.784000396728516,44.65999984741211,46.65399932861328,47.70399856567383,47.698001861572266,49.7859992980957,50.47800064086914,49.625999450683594,51.86399841308594,51.992000579833984,52.0620002746582,52.2760009765625,52.402000427246094,51.987998962402344,51.35200119018555,51.141998291015625,50.86800003051758,51.35599899291992,52.5099983215332,52.347999572753906,52.650001525878906,52.77199935913086,53.939998626708984,56.82400131225586,56.237998962402344,57.20800018310547,55.47800064086914,56.422000885009766,55.69599914550781,56.220001220703125,56.0620002746582,55.84000015258789,50.77199935913086,52.14799880981445,52.2760009765625,52.763999938964844,51.86399841308594,50.00600051879883,50.082000732421875,50.428001403808594,49.38999938964844,49.31999969482422,49.051998138427734,48.5359992980957,48.04800033569336,50.284000396728516,51.04199981689453,52.124000549316406,51.91400146484375,51.85599899291992,51.402000427246094,47.38199996948242,44.917999267578125,45.4119987487793,45.939998626708984,45.27000045776367,45.49599838256836,46.09400177001953,47.06800079345703,46.220001220703125,47.05799865722656,47.04800033569336,44.33399963378906,48.55400085449219,47.619998931884766,47.731998443603516,48.34000015258789,48.518001556396484,47.7859992980957,46.194000244140625,48.24399948120117,48.040000915527344,48.38600158691406,50.215999603271484,49.81999969482422,50.34000015258789,51.736000061035156,50.79600143432617,51.540000915527344,49.54800033569336,49.742000579833984,48.555999755859375,49.34400177001953,49.61800003051758,49.6879997253418,48.90399932861328,46.327999114990234,46.2859992980957,45.86000061035156,45.65599822998047,44.742000579833984,42.87200164794922,43.37799835205078,41.96799850463867,41.7760009765625,41.400001525878906,40.80799865722656,39.5620002746582,41.16400146484375,43.652000427246094,43.858001708984375,44.52000045776367,44.194000244140625,44.45199966430664,45.56399917602539,45.141998291015625,44.44599914550781,44.481998443603516,43.86199951171875,42.018001556396484,42.25600051879883,42.189998626708984,42.124000549316406,41.332000732421875,40.44200134277344,40.849998474121094,38.53799819946289,38.374000549316406,38.61399841308594,38.38600158691406,39.31399917602539,40.32400131225586,40.257999420166016,41.310001373291016,41.19599914550781,39.874000549316406,41.040000915527344,40.720001220703125,42.1879997253418,43.672000885009766,43.709999084472656,44.198001861572266,43.47200012207031,43.49599838256836,43.257999420166016,42.560001373291016,40.57600021362305,40.75400161743164,40.869998931884766,40.891998291015625,42.34199905395508,43.422000885009766,41.46799850463867,40.821998596191406,40.75199890136719,41.4379997253418,40.667999267578125,39.465999603271484,39.9119987487793,40.487998962402344,40.125999450683594,38.7760009765625,38.17599868774414,38.06399917602539,38.74800109863281,38.2140007019043,37.736000061035156,39.13999938964844,38.94599914550781,40.141998291015625,39.130001068115234,39.61600112915039,39.92599868774414,40.34400177001953,38.86000061035156,38.082000732421875,37.0,38.11399841308594,37.75400161743164,37.518001556396484,38.20000076293945,40.619998931884766,40.650001525878906,41.534000396728516,42.018001556396484,42.18000030517578,41.95600128173828,41.492000579833984,41.566001892089844,41.34000015258789,41.358001708984375,41.05400085449219,41.88199996948242,43.88800048828125,43.720001220703125,43.68600082397461,46.310001373291016,46.09600067138672,46.4900016784668,45.209999084472656,45.20600128173828,46.10200119018555,46.59000015258789,46.08599853515625,47.36000061035156,47.321998596191406,47.89799880981445,48.948001861572266,48.63600158691406,48.81999969482422,49.768001556396484,49.75,49.428001403808594,48.869998931884766,49.124000549316406,49.54600143432617,49.492000579833984,49.486000061035156,50.290000915527344,50.15999984741211,49.88999938964844,49.66999816894531,49.79800033569336,49.183998107910156,49.827999114990234,51.257999420166016,51.20000076293945,50.13999938964844,50.28200149536133,50.13800048828125,50.07600021362305,50.624000549316406,52.082000732421875,52.37799835205078,52.50199890136719,51.95800018310547,53.534000396728516,53.034000396728516,53.757999420166016,53.417999267578125,52.40399932861328,53.652000427246094,53.83000183105469,56.00400161743164,55.944000244140625,53.57600021362305,50.992000579833984,51.58399963378906,51.83000183105469,52.43199920654297,53.130001068115234,52.62799835205078,53.33599853515625,54.93199920654297,56.45199966430664,53.354000091552734,53.57400131225586,53.439998626708984,53.082000732421875,50.60200119018555,52.9640007019043,52.763999938964844,53.358001708984375,53.22999954223633,51.99800109863281,53.25600051879883,54.0260009765625,49.22600173950195,48.50199890136719,48.22800064086914,47.4739990234375,47.63399887084961,48.50199890136719,48.630001068115234,50.99800109863281,52.14400100708008,51.04999923706055,48.43600082397461,46.15399932861328,43.77399826049805,44.00600051879883,44.96799850463867,48.597999572753906,49.69599914550781,49.8120002746582,47.72600173950195,49.53799819946289,49.11399841308594,48.38600158691406,49.63399887084961,49.78200149536133,49.69599914550781,50.04800033569336,50.63800048828125,50.7140007019043,52.45000076293945,52.41400146484375,52.124000549316406,52.84000015258789,52.1879997253418,52.21200180053711,52.624000549316406,51.38199996948242,49.68600082397461,49.33000183105469,49.68000030517578,47.97600173950195,49.513999938964844,49.22999954223633,48.29199981689453,46.391998291015625,45.34400177001953,44.13800048828125,43.11600112915039,43.849998474121094,43.375999450683594,44.262001037597656,45.402000427246094,45.619998931884766,42.60599899291992,42.018001556396484,42.34400177001953,41.81800079345703,43.051998138427734,42.06999969482422,42.59199905395508,42.32600021362305,41.38600158691406,42.757999420166016,41.66999816894531,46.32600021362305,46.354000091552734,46.47200012207031,45.066001892089844,43.29999923706055,43.816001892089844,42.5880012512207,41.4379997253418,42.86199951171875,42.79999923706055,44.2140007019043,44.36000061035156,44.00199890136719,43.54999923706055,43.650001525878906,45.928001403808594,46.321998596191406,46.051998138427734,47.4379997253418,46.39799880981445,46.54199981689453,46.07600021362305,46.22600173950195,45.34400177001953,44.90399932861328,45.41400146484375,43.40399932861328,43.715999603271484,44.21799850463867,46.902000427246094,46.678001403808594,46.09199905395508,46.512001037597656,45.9900016784668,45.939998626708984,46.11399841308594,45.790000915527344,47.4379997253418,47.61800003051758,48.00199890136719,44.68199920654297,44.68600082397461,43.80799865722656,43.130001068115234,42.20000076293945,41.56999969482422,41.99399948120117,40.0620002746582,41.236000061035156,40.99800109863281,40.944000244140625,39.7400016784668,39.99399948120117,40.5099983215332,39.2760009765625,38.71200180053711,37.61399841308594,37.939998626708984,38.2400016784668,39.38800048828125,36.555999755859375,34.69599914550781,35.066001892089844,32.52000045776367,29.597999572753906,29.649999618530273,28.733999252319336,30.0939998626709,30.20800018310547,31.034000396728516,33.736000061035156,33.354000091552734,33.316001892089844,35.54800033569336,35.44200134277344,35.79999923706055,37.486000061035156,38.06800079345703,38.38600158691406,37.27000045776367,37.667999267578125,39.14799880981445,40.20800018310547,41.05799865722656,40.52000045776367,41.74399948120117,41.0359992980957,41.5,43.029998779296875,43.667999267578125,44.38600158691406,45.2760009765625,46.54800033569336,47.66400146484375,46.847999572753906,44.51599884033203,45.54999923706055,46.051998138427734,46.0260009765625,45.37799835205078,45.95399856567383,47.518001556396484,49.39799880981445,51.09400177001953,53.08399963378906,51.439998626708984,50.013999938964844,49.98400115966797,49.56399917602539,50.90599822998047,50.37200164794922,50.902000427246094,50.7760009765625,49.4739990234375,49.99399948120117,49.65800094604492,50.75,50.36399841308594,50.74800109863281,50.29399871826172,49.54199981689453,48.152000427246094,48.36000061035156,46.4640007019043,44.512001037597656,42.305999755859375,42.986000061035156,41.784000396728516,41.737998962402344,41.79199981689453,41.45600128173828,41.52199935913086,41.65800094604492,40.93199920654297,42.23400115966797,43.04199981689453,44.055999755859375,43.24399948120117,43.582000732421875,43.91600036621094,45.02399826049805,44.608001708984375,44.645999908447266,43.9119987487793,43.79199981689453,43.79800033569336,44.13600158691406,46.46799850463867,47.104000091552734,45.87200164794922,43.757999420166016,43.57400131225586,42.992000579833984,43.540000915527344,43.58599853515625,43.09400177001953,43.939998626708984,43.922000885009766,39.332000732421875,39.279998779296875,38.630001068115234,39.709999084472656,40.358001708984375,42.03799819946289,42.45600128173828,43.29999923706055,42.79600143432617,42.88800048828125,43.1879997253418,43.35599899291992,44.95600128173828,44.93000030517578,44.50600051879883,44.305999755859375,44.08000183105469,45.25,45.051998138427734,45.672000885009766,44.099998474121094,44.45399856567383,46.00199890136719,45.902000427246094,45.698001861572266,46.12200164794922,46.95800018310547,46.00199890136719,45.439998626708984,45.15800094604492,46.12200164794922,46.00600051879883,45.231998443603516,45.816001892089844,45.130001068115234,44.981998443603516,45.12200164794922,45.11800003051758,44.72200012207031,44.64799880981445,44.70199966430664,45.0,44.58599853515625,44.96799850463867,44.52399826049805,44.19200134277344,43.99800109863281,43.040000915527344,42.268001556396484,42.402000427246094,40.15399932861328,39.555999755859375,40.566001892089844,40.34199905395508,39.47200012207031,38.89400100708008,39.65999984741211,39.209999084472656,39.28200149536133,40.08399963378906,41.08000183105469,41.268001556396484,40.928001403808594,41.04399871826172,41.2859992980957,41.4900016784668,41.79800033569336,41.1619987487793,41.25400161743164,40.13999938964844,40.805999755859375,42.7400016784668,42.28200149536133,41.69200134277344,40.20000076293945,39.321998596191406,40.189998626708984,40.02000045776367,40.301998138427734,40.04800033569336,39.301998138427734,38.79199981689453,39.81999969482422,40.71200180053711,39.81999969482422,40.018001556396484,40.551998138427734,40.46799850463867,40.448001861572266,40.801998138427734,39.99399948120117,39.54600143432617,38.15800094604492,37.604000091552734,37.48400115966797,38.11199951171875,38.641998291015625,38.987998962402344,38.012001037597656,37.06999969482422,37.71200180053711,36.290000915527344,36.75400161743164,36.7859992980957,37.731998443603516,37.00400161743164,36.90399932861328,38.23400115966797,38.62799835205078,39.33000183105469,39.2239990234375,37.91400146484375,37.880001068115234,36.375999450683594,36.29399871826172,37.36000061035156,37.16999816894531,38.630001068115234,38.45800018310547,38.43600082397461,38.486000061035156,39.630001068115234,39.737998962402344,39.51599884033203,40.49800109863281,40.54600143432617,41.757999420166016,41.540000915527344,41.689998626708984,42.667999267578125,43.90599822998047,43.948001861572266,42.93600082397461,42.737998962402344,43.39799880981445,45.39799880981445,45.349998474121094,45.801998138427734,46.25600051879883,45.9739990234375,45.94599914550781,45.917999267578125,47.54999923706055,47.11600112915039,47.672000885009766,48.75199890136719,48.94599914550781,49.784000396728516,50.922000885009766,50.89400100708008,50.50199890136719,50.59000015258789,50.125999450683594,50.38600158691406,49.847999572753906,50.310001373291016,50.26599884033203,51.55400085449219,51.49599838256836,52.41600036621094,53.84000015258789,53.84600067138672,56.119998931884766,56.19599914550781,55.95199966430664,53.790000915527344,54.44599914550781,55.47800064086914,54.70199966430664,51.198001861572266,51.400001525878906,49.24599838256836,49.99800109863281,50.00400161743164,50.09600067138672,50.31399917602539,50.242000579833984,49.71799850463867,49.374000549316406,48.97999954223633,48.737998962402344,49.23400115966797,51.599998474121094,51.145999908447266,52.40999984741211,52.29999923706055,52.38399887084961,50.13600158691406,51.00199890136719,50.95600128173828,52.63199996948242,54.04399871826172,55.4900016784668,55.47600173950195,55.58399963378906,55.65999984741211,59.70399856567383,60.7400016784668,59.0,59.7400016784668,60.507999420166016,62.47800064086914,61.742000579833984,59.36800003051758,60.79999923706055,60.28799819946289,60.04999923706055,61.104000091552734,60.50199890136719,61.119998931884766,61.60599899291992,62.757999420166016,62.034000396728516,61.72600173950195,62.81399917602539,64.56600189208984,63.77799987792969,62.20399856567383,59.09199905395508,61.66999816894531,61.4379997253418,64.25199890136719,65.04399871826172,64.62000274658203,64.96199798583984,63.17599868774414,63.402000427246094,61.22200012207031,62.61199951171875,62.16600036621094,62.06999969482422,60.77199935913086,62.04399871826172,63.36600112915039,65.02799987792969,67.0199966430664,68.2020034790039,68.0739974975586,67.97000122070312,69.46399688720703,70.56999969482422,71.93000030517578,74.0,71.46399688720703,71.802001953125,75.19000244140625,76.13200378417969,75.06800079345703,74.27999877929688,73.95999908447266,74.447998046875,75.27999877929688,76.52200317382812,76.69000244140625,75.49800109863281,72.4739990234375,74.24800109863281,72.1500015258789,72.3219985961914,70.52400207519531,65.41799926757812,61.76599884033203,62.64400100708008,63.209999084472656,65.44400024414062,65.90399932861328,64.68199920654297,65.55599975585938,63.91400146484375,65.64800262451172,65.052001953125,65.98400115966797,65.68000030517578,68.50399780273438,67.91999816894531,68.7699966430664,66.89199829101562,67.01399993896484,64.69400024414062,63.91400146484375,65.1780014038086,69.41799926757812,71.38200378417969,71.03399658203125,73.04399871826172,72.70600128173828,71.08000183105469,71.5739974975586,72.76000213623047,72.46600341796875,72.58200073242188,70.38400268554688,69.49199676513672,67.5719985961914,68.2699966430664,70.55400085449219,70.58599853515625,69.61000061035156,69.13200378417969,69.47200012207031,70.63600158691406,71.18000030517578,71.08000183105469,69.91799926757812,68.90599822998047,70.12200164794922,68.68000030517578,72.73799896240234,72.55000305175781,73.24600219726562,75.52799987792969,75.96199798583984,77.0,75.0199966430664,74.78199768066406,73.2959976196289,70.21800231933594,68.99800109863281,69.05000305175781,68.19400024414062,67.91999816894531,68.22000122070312,68.30599975585938,69.62799835205078,71.00199890136719,71.06600189208984,71.3759994506836,68.58799743652344,71.11799621582031,70.91999816894531,71.13600158691406,71.11399841308594,70.12000274658203,71.1500015258789,71.93000030517578,70.36199951171875,69.0199966430664,67.40399932861328,67.46800231933594,65.16799926757812,65.23400115966797,64.17400360107422,64.01599884033203,66.30599975585938,64.21600341796875,59.85200119018555,61.21799850463867,60.555999755859375,61.209999084472656,60.87799835205078,60.597999572753906,60.597999572753906,63.08000183105469,61.7400016784668,62.2599983215332,62.5,63.0099983215332,61.74800109863281,63.5620002746582,62.52000045776367,63.11000061035156,63.36199951171875,63.5099983215332,61.507999420166016,61.77000045776367,61.305999755859375,61.040000915527344,60.7400016784668,62.652000427246094,62.24800109863281,63.0260009765625,65.78199768066406,68.20600128173828,67.80599975585938,67.5780029296875,68.69000244140625,67.77400207519531,66.22000122070312,65.7959976196289,66.33200073242188,65.04000091552734,63.45800018310547,62.327999114990234,63.071998596191406,62.27000045776367,64.10600280761719,63.45000076293945,62.92399978637695,63.316001892089844,67.28199768066406,66.73799896240234,66.95999908447266,67.58999633789062,67.24400329589844,68.01200103759766,69.43199920654297,68.91400146484375,70.00399780273438,70.31199645996094,70.55799865722656,69.1780014038086,67.52799987792969,68.56999969482422,69.90599822998047,69.16400146484375,70.86199951171875,69.8499984741211,68.75,66.6259994506836,66.79399871826172,69.0,63.04600143432617,62.08399963378906,63.145999908447266,64.73200225830078,64.46199798583984,66.81400299072266,67.0979995727539,66.9540023803711,66.66000366210938,69.23400115966797,70.41000366210938,71.48400115966797,70.197998046875,68.61199951171875,66.18599700927734,67.02400207519531,66.66999816894531,65.63999938964844,66.45999908447266,65.81999969482422,65.43399810791016,69.10199737548828,68.36799621582031,65.32599639892578,65.12000274658203,64.2699966430664,62.71200180053711,62.11000061035156,63.305999755859375,61.81999969482422,60.30799865722656,60.83599853515625,55.83599853515625,51.555999755859375,53.22600173950195,50.49599838256836,53.50600051879883,57.38800048828125,61.14400100708008,59.86000061035156,57.93199920654297,60.939998626708984,60.18600082397461,58.816001892089844,60.06800079345703,58.242000579833984,57.53799819946289,58.66999816894531,60.01599884033203,58.04800033569336,56.67399978637695,56.69200134277344,56.13800048828125,57.09600067138672,58.816001892089844,58.779998779296875,59.98400115966797,60.22999954223633,56.88999938964844,58.81800079345703,60.55400085449219,60.39400100708008,61.369998931884766,61.00400161743164,60.21200180053711,58.39400100708008,56.83599853515625,57.29600143432617,56.90800094604492,55.36399841308594,56.89799880981445,55.00199890136719,55.81399917602539,55.56999969482422,55.77000045776367,56.75199890136719,58.34400177001953,56.94599914550781,58.36399841308594,59.347999572753906,58.22600173950195,63.900001525878906,63.21799850463867,63.53200149536133,66.41999816894531,68.55400085449219,68.95600128173828,71.54399871826172,71.63400268554688,74.16600036621094,70.51000213623047,72.44400024414062,69.50199890136719,66.72599792480469,66.60199737548828,68.4000015258789,68.9000015258789,69.98600006103516,68.58999633789062,67.01399993896484,62.172000885009766,61.832000732421875,61.779998779296875,63.70199966430664,64.49400329589844,63.79199981689453,63.34199905395508,63.77399826049805,62.02000045776367,64.53800201416016,64.7699966430664,64.0459976196289,62.715999603271484,60.63999938964844,59.486000061035156,61.74800109863281,61.33000183105469,59.43600082397461,58.034000396728516,59.62799835205078,60.167999267578125,69.90799713134766,69.63400268554688,68.39800262451172,75.91400146484375,74.06800079345703,70.48999786376953,71.0979995727539,71.28199768066406,69.52799987792969,67.73799896240234,67.08999633789062,61.099998474121094,61.6879997253418,64.37999725341797,64.3280029296875,64.0199966430664,64.56400299072266,63.854000091552734,62.37200164794922,61.00199890136719,60.630001068115234,60.332000732421875,57.790000915527344,56.14799880981445,56.189998626708984,52.64799880981445,57.099998474121094,55.88800048828125,58.108001708984375,57.891998291015625,59.040000915527344,58.96799850463867,56.992000579833984,59.80400085449219,59.66600036621094,59.81999969482422,59.93600082397461,60.198001861572266,61.91600036621094,61.50400161743164,52.95399856567383,62.13999938964844,60.20399856567383,58.959999084472656,56.36600112915039,52.38999938964844,50.11199951171875,52.560001373291016,51.375999450683594,50.44599914550781,51.75600051879883,51.917999267578125,55.31800079345703,54.35599899291992,52.78200149536133,52.0,52.189998626708984,58.827999114990234,57.70000076293945,62.97200012207031,66.18000030517578,66.97000122070312,65.9800033569336,67.46399688720703,68.85600280761719,69.28199768066406,68.27999877929688,68.21199798583984,69.63200378417969,70.27999877929688,70.10199737548828,66.25599670410156,67.74600219726562,68.80000305175781,69.68800354003906,70.86199951171875,70.69400024414062,69.49800109863281,67.63800048828125,65.16600036621094,69.19999694824219,68.78399658203125,69.5739974975586,68.23400115966797,70.09600067138672,71.697998046875,71.94000244140625,72.61199951171875,71.59400177001953,73.02999877929688,73.35199737548828,73.31999969482422,75.35800170898438,73.14199829101562,69.68399810791016,67.40599822998047,66.59400177001953,63.07600021362305,63.95399856567383,59.077999114990234,65.21800231933594,63.22600173950195,66.77400207519531,66.55999755859375,62.02399826049805,60.071998596191406,63.53799819946289,66.99199676513672,67.06999969482422,67.70600128173828,68.99400329589844,69.4520034790039,66.87999725341797,68.88600158691406,69.20999908447266,69.46199798583984,60.45199966430664,59.784000396728516,57.518001556396484,58.301998138427734,59.40800094604492,59.2760009765625,59.492000579833984,61.75400161743164,61.40399932861328,62.44200134277344,62.577999114990234,64.2699966430664,63.444000244140625,61.50199890136719,61.15999984741211,62.56800079345703,62.36199951171875,61.63399887084961,60.75400161743164,61.57600021362305,61.12799835205078,60.512001037597656,58.24599838256836,58.94200134277344,59.75400161743164,59.571998596191406,62.948001861572266,63.97600173950195,58.95800018310547,57.071998596191406,55.30799865722656,55.24800109863281,55.31800079345703,56.827999114990234,58.183998107910156,56.672000885009766,57.79199981689453,57.992000579833984,55.08599853515625,53.89799880981445,53.49399948120117,54.720001220703125,54.80400085449219,52.90599822998047,52.08399963378906,53.55400085449219,54.965999603271484,55.7239990234375,55.97200012207031,57.83599853515625,57.17599868774414,58.36199951171875,53.555999755859375,54.992000579833984,54.63999938964844,54.46200180053711,55.21200180053711,53.683998107910156,53.540000915527344,53.2760009765625,54.672000885009766,54.24599838256836,54.652000427246094,52.54999923706055,52.779998779296875,51.731998443603516,49.5260009765625,47.02799987792969,48.29399871826172,47.737998962402344,46.801998138427734,48.81999969482422,51.00600051879883,51.06800079345703,49.4119987487793,48.96799850463867,48.395999908447266,47.90399932861328,45.402000427246094,46.46200180053711,46.38999938964844,45.66600036621094,42.20600128173828,41.071998596191406,41.01599884033203,38.54600143432617,39.097999572753906,38.125999450683594,37.7400016784668,37.97200012207031,37.64400100708008,37.03200149536133,35.79399871826172,38.720001220703125,39.31800079345703,41.189998626708984,40.900001525878906,42.57600021362305,43.41999816894531,41.85200119018555,42.78200149536133,42.98400115966797,45.00600051879883,44.948001861572266,45.2859992980957,43.92399978637695,44.37200164794922,44.72800064086914,43.95199966430664,43.854000091552734,44.56800079345703,44.69200134277344,45.433998107910156,44.90999984741211,46.97999954223633,46.619998931884766,46.06800079345703,46.012001037597656,47.784000396728516,47.720001220703125,49.01599884033203,50.70000076293945,50.47600173950195,50.97200012207031,50.70800018310547,51.63600158691406,51.13600158691406,52.034000396728516,52.97600173950195,45.763999938964844,45.608001708984375,47.15399932861328,48.45199966430664,48.321998596191406,46.77000045776367,46.86800003051758,45.66400146484375,46.150001525878906,46.683998107910156,47.65999984741211,47.00199890136719,45.801998138427734,47.0,43.92399978637695,43.12799835205078,43.987998962402344,45.36600112915039,45.172000885009766,44.16600036621094,44.43000030517578,42.279998779296875,43.0,42.816001892089844,43.11800003051758,44.34199905395508,45.12200164794922,45.00199890136719,44.13600158691406,45.91600036621094,45.4900016784668,46.358001708984375,47.108001708984375,49.41999816894531,49.17399978637695,49.040000915527344,48.5620002746582,48.95800018310547,48.698001861572266,49.31999969482422,48.124000549316406,48.24599838256836,44.641998291015625,45.7400016784668,48.512001037597656,48.42599868774414,48.17399978637695,48.9379997253418,48.625999450683594,46.60599899291992,46.2859992980957,47.54399871826172,48.0099983215332,48.90599822998047,48.948001861572266,49.577999114990234,51.391998291015625,51.577999114990234,51.95000076293945,52.39400100708008,51.38999938964844,50.70000076293945,51.11600112915039,50.93600082397461,59.93600082397461,65.6259994506836,65.54199981689453,63.24399948120117,63.00199890136719,62.98400115966797,62.6619987487793,63.49399948120117,63.444000244140625,65.31600189208984,67.10800170898438,67.4280014038086,69.01799774169922,69.98600006103516,69.22200012207031,69.87000274658203,70.43399810791016,69.99800109863281,71.90399932861328,70.44400024414062,70.96600341796875,66.60800170898438,67.26799774169922,65.78399658203125,66.25800323486328,65.98799896240234,66.9739990234375,67.23999786376953,66.60600280761719,66.0739974975586,67.1780014038086,67.90599822998047,69.76799774169922,70.54000091552734,71.93599700927734,71.6780014038086,76.30000305175781,75.7979965209961,78.62999725341797,80.80799865722656,81.11799621582031,83.84400177001953,85.05000305175781,86.18800354003906,86.07599639892578,82.94000244140625,83.66600036621094,86.052001953125,88.60199737548828,90.30799865722656,93.81199645996094,98.4280014038086,96.26799774169922,95.62999725341797,104.97200012207031,107.58399963378906,103.69999694824219,102.697998046875,102.0999984741211,109.44000244140625,113.91200256347656,114.44000244140625,112.96399688720703,111.60399627685547,113.37999725341797,116.197998046875,128.16200256347656,130.11399841308594,156.0,177.41200256347656,146.94000244140625,149.79200744628906,149.61399841308594,154.25599670410156,154.87600708007812,153.45799255371094,160.8000030517578,160.00599670410156,171.67999267578125,183.48399353027344,179.8820037841797,180.1999969482422,166.75799560546875,159.98199462890625,155.75999450683594,135.8000030517578,133.59800720214844,148.7239990234375,149.1020050048828,149.89999389648438,144.9080047607422,140.6959991455078,121.5999984741211,129.0659942626953,126.84600067138672,112.11000061035156,109.3239974975586,89.01399993896484,86.04000091552734,72.24400329589844,85.52799987792969,85.50599670410156,86.85800170898438,101.0,107.8499984741211,105.63200378417969,102.87200164794922,100.4260025024414,104.80000305175781,96.31199645996094,90.89399719238281,96.00199890136719,103.24800109863281,109.08999633789062,109.76799774169922,114.5999984741211,130.19000244140625,141.97799682617188,145.96600341796875,149.04200744628906,150.7779998779297,149.27200317382812,137.343994140625,146.4219970703125,141.12600708007812,145.02999877929688,159.75,153.82400512695312,160.1020050048828,156.37600708007812,140.26400756835938,152.23800659179688,153.64199829101562,156.51600646972656,156.00799560546875,163.88400268554688,162.25799560546875,161.8820037841797,158.19200134277344,160.66600036621094,159.83399963378906,162.7259979248047,161.6020050048828,163.11199951171875,165.52000427246094,163.37600708007812,163.7740020751953,164.04600524902344,161.16200256347656,167.0,179.6199951171875,176.31199645996094,176.5919952392578,172.87600708007812,177.1320037841797,189.98399353027344,188.13400268554688,205.00999450683594,194.5679931640625,187.05599975585938,198.17999267578125,196.42599487304688,198.35800170898438,200.79200744628906,200.17999267578125,198.86399841308594,200.3560028076172,192.1699981689453,197.1959991455078,191.947998046875,201.8699951171875,215.96200561523438,223.92599487304688,241.73199462890625,274.3160095214844,277.97198486328125,273.1759948730469,278.8559875488281,308.92999267578125,299.4119873046875,303.3599853515625,309.2019958496094,300.12799072265625,300.1679992675781,328.6000061035156,313.6719970703125,318.46600341796875,302.614013671875,283.3999938964844,307.9200134277344,295.2980041503906,299.8219909667969,297.49798583984375,286.1520080566406,297.0,297.3999938964844,297.0039978027344,297.9159851074219,290.5419921875,283.7139892578125,274.87799072265625,310.9519958496094,324.20001220703125,330.1419982910156,367.12799072265625,377.4179992675781,375.70599365234375,400.3659973144531,409.9960021972656,402.8399963378906,404.6679992675781,430.6340026855469,447.75,442.67999267578125,498.32000732421875,475.04998779296875,447.3699951171875,407.0,418.32000732421875,330.2099914550781,366.2799987792969,371.3399963378906,372.7200012207031,419.6199951171875,449.760009765625,441.760009765625,423.42999267578125,442.1499938964844,449.3900146484375,424.2300109863281,380.3599853515625,387.7900085449219,407.3399963378906,421.20001220703125,419.07000732421875,429.010009765625,448.1600036621094,415.0899963378906,425.67999267578125,413.9800109863281,425.29998779296875,425.9200134277344,434.0,442.29998779296875,446.6499938964844,461.29998779296875,448.8800048828125,439.6700134277344,430.8299865722656,421.94000244140625,422.6400146484375,425.7900085449219,420.6300048828125,420.2799987792969,424.67999267578125,406.0199890136719,410.8299865722656,388.0400085449219,400.510009765625,423.8999938964844,420.9800109863281,438.0899963378906,429.95001220703125,421.260009765625,410.3599853515625,417.1300048828125,411.760009765625,408.5,408.0899963378906,441.6099853515625,486.6400146484375,499.2699890136719,489.6099853515625,521.8499755859375,555.3800048828125,574.0,585.760009765625,567.5999755859375,584.760009765625,568.8200073242188,593.3800048828125,599.0399780273438,641.760009765625,649.8800048828125,604.47998046875,627.0700073242188,609.989990234375,639.8300170898438,633.25,622.77001953125,655.9000244140625,695.0,649.8599853515625,640.3400268554688,645.97998046875,661.77001953125,663.6900024414062,665.989990234375,694.780029296875,705.6699829101562,729.77001953125,735.1099853515625,755.97998046875,816.0399780273438,880.02001953125,811.1900024414062,849.4400024414062,854.4099731445312,845.0,826.1599731445312,844.5499877929688,850.4500122070312,844.989990234375,846.6400146484375,880.7999877929688,883.0900268554688,864.1599731445312,835.4299926757812,793.530029296875,839.8099975585938,872.7899780273438,854.6900024414062,849.989990234375,852.22998046875,863.4199829101562,849.4600219726562,804.8200073242188,811.6599731445312,816.1199951171875,796.219970703125,798.1500244140625,787.3800048828125,781.2999877929688,714.5,698.8400268554688,742.02001953125,682.219970703125,675.5,718.4299926757812,686.4400024414062,653.2000122070312,621.4400024414062,597.9500122070312,563.0,673.5800170898438,668.0599975585938,699.5999755859375,693.72998046875,707.9400024414062,676.8800048828125,701.8099975585938,653.1599731445312,654.8699951171875,670.0,662.1599731445312,630.27001953125,640.3900146484375,618.7100219726562,611.2899780273438,635.6199951171875,667.9299926757812,661.75,691.0499877929688,691.6199951171875,670.969970703125,683.7999877929688,677.02001953125,701.97998046875,762.3200073242188,732.22998046875,738.8499755859375,739.780029296875,714.6300048828125,718.989990234375,744.1199951171875,719.6900024414062,729.4000244140625,738.2000122070312,704.739990234375,694.4000244140625,677.0,709.4400024414062,684.9000244140625,673.5999755859375,670.9400024414062,663.5399780273438,672.3699951171875,629.0399780273438,617.2000122070312,589.8900146484375,571.6900024414062,589.739990234375,576.8300170898438,577.8699951171875,563.4600219726562,586.780029296875,580.8800048828125,606.4400024414062,604.6900024414062,619.1300048828125,630.8499755859375,625.219970703125,623.9000244140625,605.1199951171875,572.8400268554688,599.0499877929688,605.1300048828125,603.5900268554688,598.780029296875,610.1199951171875,609.8900146484375,617.6900024414062],\"type\":\"scatter\",\"xaxis\":\"x\",\"yaxis\":\"y\"},{\"name\":\"Revenue\",\"x\":[\"2021-03-31T00:00:00\",\"2020-12-31T00:00:00\",\"2020-09-30T00:00:00\",\"2020-06-30T00:00:00\",\"2020-03-31T00:00:00\",\"2019-12-31T00:00:00\",\"2019-09-30T00:00:00\",\"2019-06-30T00:00:00\",\"2019-03-31T00:00:00\",\"2018-12-31T00:00:00\",\"2018-09-30T00:00:00\",\"2018-06-30T00:00:00\",\"2018-03-31T00:00:00\",\"2017-12-31T00:00:00\",\"2017-09-30T00:00:00\",\"2017-06-30T00:00:00\",\"2017-03-31T00:00:00\",\"2016-12-31T00:00:00\",\"2016-09-30T00:00:00\",\"2016-06-30T00:00:00\",\"2016-03-31T00:00:00\",\"2015-12-31T00:00:00\",\"2015-09-30T00:00:00\",\"2015-06-30T00:00:00\",\"2015-03-31T00:00:00\",\"2014-12-31T00:00:00\",\"2014-09-30T00:00:00\",\"2014-06-30T00:00:00\",\"2014-03-31T00:00:00\",\"2013-12-31T00:00:00\",\"2013-09-30T00:00:00\",\"2013-06-30T00:00:00\",\"2013-03-31T00:00:00\",\"2012-12-31T00:00:00\",\"2012-09-30T00:00:00\",\"2012-06-30T00:00:00\",\"2012-03-31T00:00:00\",\"2011-12-31T00:00:00\",\"2011-09-30T00:00:00\",\"2011-06-30T00:00:00\",\"2011-03-31T00:00:00\",\"2010-12-31T00:00:00\",\"2010-09-30T00:00:00\",\"2010-06-30T00:00:00\",\"2010-03-31T00:00:00\",\"2009-09-30T00:00:00\",\"2009-06-30T00:00:00\"],\"y\":[10389.0,10744.0,8771.0,6036.0,5985.0,7384.0,6303.0,6350.0,4541.0,7226.0,6824.0,4002.0,3409.0,3288.0,2985.0,2790.0,2696.0,2285.0,2298.0,1270.0,1147.0,1214.0,937.0,955.0,940.0,957.0,852.0,769.0,621.0,615.0,431.0,405.0,562.0,306.0,50.0,27.0,30.0,39.0,58.0,58.0,49.0,36.0,31.0,28.0,21.0,46.0,27.0],\"type\":\"scatter\",\"xaxis\":\"x2\",\"yaxis\":\"y2\"}],                        {\"template\":{\"data\":{\"bar\":[{\"error_x\":{\"color\":\"#2a3f5f\"},\"error_y\":{\"color\":\"#2a3f5f\"},\"marker\":{\"line\":{\"color\":\"#E5ECF6\",\"width\":0.5},\"pattern\":{\"fillmode\":\"overlay\",\"size\":10,\"solidity\":0.2}},\"type\":\"bar\"}],\"barpolar\":[{\"marker\":{\"line\":{\"color\":\"#E5ECF6\",\"width\":0.5},\"pattern\":{\"fillmode\":\"overlay\",\"size\":10,\"solidity\":0.2}},\"type\":\"barpolar\"}],\"carpet\":[{\"aaxis\":{\"endlinecolor\":\"#2a3f5f\",\"gridcolor\":\"white\",\"linecolor\":\"white\",\"minorgridcolor\":\"white\",\"startlinecolor\":\"#2a3f5f\"},\"baxis\":{\"endlinecolor\":\"#2a3f5f\",\"gridcolor\":\"white\",\"linecolor\":\"white\",\"minorgridcolor\":\"white\",\"startlinecolor\":\"#2a3f5f\"},\"type\":\"carpet\"}],\"choropleth\":[{\"colorbar\":{\"outlinewidth\":0,\"ticks\":\"\"},\"type\":\"choropleth\"}],\"contour\":[{\"colorbar\":{\"outlinewidth\":0,\"ticks\":\"\"},\"colorscale\":[[0.0,\"#0d0887\"],[0.1111111111111111,\"#46039f\"],[0.2222222222222222,\"#7201a8\"],[0.3333333333333333,\"#9c179e\"],[0.4444444444444444,\"#bd3786\"],[0.5555555555555556,\"#d8576b\"],[0.6666666666666666,\"#ed7953\"],[0.7777777777777778,\"#fb9f3a\"],[0.8888888888888888,\"#fdca26\"],[1.0,\"#f0f921\"]],\"type\":\"contour\"}],\"contourcarpet\":[{\"colorbar\":{\"outlinewidth\":0,\"ticks\":\"\"},\"type\":\"contourcarpet\"}],\"heatmap\":[{\"colorbar\":{\"outlinewidth\":0,\"ticks\":\"\"},\"colorscale\":[[0.0,\"#0d0887\"],[0.1111111111111111,\"#46039f\"],[0.2222222222222222,\"#7201a8\"],[0.3333333333333333,\"#9c179e\"],[0.4444444444444444,\"#bd3786\"],[0.5555555555555556,\"#d8576b\"],[0.6666666666666666,\"#ed7953\"],[0.7777777777777778,\"#fb9f3a\"],[0.8888888888888888,\"#fdca26\"],[1.0,\"#f0f921\"]],\"type\":\"heatmap\"}],\"heatmapgl\":[{\"colorbar\":{\"outlinewidth\":0,\"ticks\":\"\"},\"colorscale\":[[0.0,\"#0d0887\"],[0.1111111111111111,\"#46039f\"],[0.2222222222222222,\"#7201a8\"],[0.3333333333333333,\"#9c179e\"],[0.4444444444444444,\"#bd3786\"],[0.5555555555555556,\"#d8576b\"],[0.6666666666666666,\"#ed7953\"],[0.7777777777777778,\"#fb9f3a\"],[0.8888888888888888,\"#fdca26\"],[1.0,\"#f0f921\"]],\"type\":\"heatmapgl\"}],\"histogram\":[{\"marker\":{\"pattern\":{\"fillmode\":\"overlay\",\"size\":10,\"solidity\":0.2}},\"type\":\"histogram\"}],\"histogram2d\":[{\"colorbar\":{\"outlinewidth\":0,\"ticks\":\"\"},\"colorscale\":[[0.0,\"#0d0887\"],[0.1111111111111111,\"#46039f\"],[0.2222222222222222,\"#7201a8\"],[0.3333333333333333,\"#9c179e\"],[0.4444444444444444,\"#bd3786\"],[0.5555555555555556,\"#d8576b\"],[0.6666666666666666,\"#ed7953\"],[0.7777777777777778,\"#fb9f3a\"],[0.8888888888888888,\"#fdca26\"],[1.0,\"#f0f921\"]],\"type\":\"histogram2d\"}],\"histogram2dcontour\":[{\"colorbar\":{\"outlinewidth\":0,\"ticks\":\"\"},\"colorscale\":[[0.0,\"#0d0887\"],[0.1111111111111111,\"#46039f\"],[0.2222222222222222,\"#7201a8\"],[0.3333333333333333,\"#9c179e\"],[0.4444444444444444,\"#bd3786\"],[0.5555555555555556,\"#d8576b\"],[0.6666666666666666,\"#ed7953\"],[0.7777777777777778,\"#fb9f3a\"],[0.8888888888888888,\"#fdca26\"],[1.0,\"#f0f921\"]],\"type\":\"histogram2dcontour\"}],\"mesh3d\":[{\"colorbar\":{\"outlinewidth\":0,\"ticks\":\"\"},\"type\":\"mesh3d\"}],\"parcoords\":[{\"line\":{\"colorbar\":{\"outlinewidth\":0,\"ticks\":\"\"}},\"type\":\"parcoords\"}],\"pie\":[{\"automargin\":true,\"type\":\"pie\"}],\"scatter\":[{\"marker\":{\"colorbar\":{\"outlinewidth\":0,\"ticks\":\"\"}},\"type\":\"scatter\"}],\"scatter3d\":[{\"line\":{\"colorbar\":{\"outlinewidth\":0,\"ticks\":\"\"}},\"marker\":{\"colorbar\":{\"outlinewidth\":0,\"ticks\":\"\"}},\"type\":\"scatter3d\"}],\"scattercarpet\":[{\"marker\":{\"colorbar\":{\"outlinewidth\":0,\"ticks\":\"\"}},\"type\":\"scattercarpet\"}],\"scattergeo\":[{\"marker\":{\"colorbar\":{\"outlinewidth\":0,\"ticks\":\"\"}},\"type\":\"scattergeo\"}],\"scattergl\":[{\"marker\":{\"colorbar\":{\"outlinewidth\":0,\"ticks\":\"\"}},\"type\":\"scattergl\"}],\"scattermapbox\":[{\"marker\":{\"colorbar\":{\"outlinewidth\":0,\"ticks\":\"\"}},\"type\":\"scattermapbox\"}],\"scatterpolar\":[{\"marker\":{\"colorbar\":{\"outlinewidth\":0,\"ticks\":\"\"}},\"type\":\"scatterpolar\"}],\"scatterpolargl\":[{\"marker\":{\"colorbar\":{\"outlinewidth\":0,\"ticks\":\"\"}},\"type\":\"scatterpolargl\"}],\"scatterternary\":[{\"marker\":{\"colorbar\":{\"outlinewidth\":0,\"ticks\":\"\"}},\"type\":\"scatterternary\"}],\"surface\":[{\"colorbar\":{\"outlinewidth\":0,\"ticks\":\"\"},\"colorscale\":[[0.0,\"#0d0887\"],[0.1111111111111111,\"#46039f\"],[0.2222222222222222,\"#7201a8\"],[0.3333333333333333,\"#9c179e\"],[0.4444444444444444,\"#bd3786\"],[0.5555555555555556,\"#d8576b\"],[0.6666666666666666,\"#ed7953\"],[0.7777777777777778,\"#fb9f3a\"],[0.8888888888888888,\"#fdca26\"],[1.0,\"#f0f921\"]],\"type\":\"surface\"}],\"table\":[{\"cells\":{\"fill\":{\"color\":\"#EBF0F8\"},\"line\":{\"color\":\"white\"}},\"header\":{\"fill\":{\"color\":\"#C8D4E3\"},\"line\":{\"color\":\"white\"}},\"type\":\"table\"}]},\"layout\":{\"annotationdefaults\":{\"arrowcolor\":\"#2a3f5f\",\"arrowhead\":0,\"arrowwidth\":1},\"autotypenumbers\":\"strict\",\"coloraxis\":{\"colorbar\":{\"outlinewidth\":0,\"ticks\":\"\"}},\"colorscale\":{\"diverging\":[[0,\"#8e0152\"],[0.1,\"#c51b7d\"],[0.2,\"#de77ae\"],[0.3,\"#f1b6da\"],[0.4,\"#fde0ef\"],[0.5,\"#f7f7f7\"],[0.6,\"#e6f5d0\"],[0.7,\"#b8e186\"],[0.8,\"#7fbc41\"],[0.9,\"#4d9221\"],[1,\"#276419\"]],\"sequential\":[[0.0,\"#0d0887\"],[0.1111111111111111,\"#46039f\"],[0.2222222222222222,\"#7201a8\"],[0.3333333333333333,\"#9c179e\"],[0.4444444444444444,\"#bd3786\"],[0.5555555555555556,\"#d8576b\"],[0.6666666666666666,\"#ed7953\"],[0.7777777777777778,\"#fb9f3a\"],[0.8888888888888888,\"#fdca26\"],[1.0,\"#f0f921\"]],\"sequentialminus\":[[0.0,\"#0d0887\"],[0.1111111111111111,\"#46039f\"],[0.2222222222222222,\"#7201a8\"],[0.3333333333333333,\"#9c179e\"],[0.4444444444444444,\"#bd3786\"],[0.5555555555555556,\"#d8576b\"],[0.6666666666666666,\"#ed7953\"],[0.7777777777777778,\"#fb9f3a\"],[0.8888888888888888,\"#fdca26\"],[1.0,\"#f0f921\"]]},\"colorway\":[\"#636efa\",\"#EF553B\",\"#00cc96\",\"#ab63fa\",\"#FFA15A\",\"#19d3f3\",\"#FF6692\",\"#B6E880\",\"#FF97FF\",\"#FECB52\"],\"font\":{\"color\":\"#2a3f5f\"},\"geo\":{\"bgcolor\":\"white\",\"lakecolor\":\"white\",\"landcolor\":\"#E5ECF6\",\"showlakes\":true,\"showland\":true,\"subunitcolor\":\"white\"},\"hoverlabel\":{\"align\":\"left\"},\"hovermode\":\"closest\",\"mapbox\":{\"style\":\"light\"},\"paper_bgcolor\":\"white\",\"plot_bgcolor\":\"#E5ECF6\",\"polar\":{\"angularaxis\":{\"gridcolor\":\"white\",\"linecolor\":\"white\",\"ticks\":\"\"},\"bgcolor\":\"#E5ECF6\",\"radialaxis\":{\"gridcolor\":\"white\",\"linecolor\":\"white\",\"ticks\":\"\"}},\"scene\":{\"xaxis\":{\"backgroundcolor\":\"#E5ECF6\",\"gridcolor\":\"white\",\"gridwidth\":2,\"linecolor\":\"white\",\"showbackground\":true,\"ticks\":\"\",\"zerolinecolor\":\"white\"},\"yaxis\":{\"backgroundcolor\":\"#E5ECF6\",\"gridcolor\":\"white\",\"gridwidth\":2,\"linecolor\":\"white\",\"showbackground\":true,\"ticks\":\"\",\"zerolinecolor\":\"white\"},\"zaxis\":{\"backgroundcolor\":\"#E5ECF6\",\"gridcolor\":\"white\",\"gridwidth\":2,\"linecolor\":\"white\",\"showbackground\":true,\"ticks\":\"\",\"zerolinecolor\":\"white\"}},\"shapedefaults\":{\"line\":{\"color\":\"#2a3f5f\"}},\"ternary\":{\"aaxis\":{\"gridcolor\":\"white\",\"linecolor\":\"white\",\"ticks\":\"\"},\"baxis\":{\"gridcolor\":\"white\",\"linecolor\":\"white\",\"ticks\":\"\"},\"bgcolor\":\"#E5ECF6\",\"caxis\":{\"gridcolor\":\"white\",\"linecolor\":\"white\",\"ticks\":\"\"}},\"title\":{\"x\":0.05},\"xaxis\":{\"automargin\":true,\"gridcolor\":\"white\",\"linecolor\":\"white\",\"ticks\":\"\",\"title\":{\"standoff\":15},\"zerolinecolor\":\"white\",\"zerolinewidth\":2},\"yaxis\":{\"automargin\":true,\"gridcolor\":\"white\",\"linecolor\":\"white\",\"ticks\":\"\",\"title\":{\"standoff\":15},\"zerolinecolor\":\"white\",\"zerolinewidth\":2}}},\"xaxis\":{\"anchor\":\"y\",\"domain\":[0.0,1.0],\"matches\":\"x2\",\"showticklabels\":false,\"title\":{\"text\":\"Date\"},\"rangeslider\":{\"visible\":true}},\"yaxis\":{\"anchor\":\"x\",\"domain\":[0.6499999999999999,0.9999999999999999],\"title\":{\"text\":\"Price ($US)\"}},\"xaxis2\":{\"anchor\":\"y2\",\"domain\":[0.0,1.0],\"title\":{\"text\":\"Date\"}},\"yaxis2\":{\"anchor\":\"x2\",\"domain\":[0.0,0.35],\"title\":{\"text\":\"Revenue ($US Millions)\"}},\"annotations\":[{\"font\":{\"size\":16},\"showarrow\":false,\"text\":\"Historical Share Price\",\"x\":0.5,\"xanchor\":\"center\",\"xref\":\"paper\",\"y\":0.9999999999999999,\"yanchor\":\"bottom\",\"yref\":\"paper\"},{\"font\":{\"size\":16},\"showarrow\":false,\"text\":\"Historical Revenue\",\"x\":0.5,\"xanchor\":\"center\",\"xref\":\"paper\",\"y\":0.35,\"yanchor\":\"bottom\",\"yref\":\"paper\"}],\"showlegend\":false,\"height\":900,\"title\":{\"text\":\"Tesla\"}},                        {\"responsive\": true}                    ).then(function(){\n",
              "                            \n",
              "var gd = document.getElementById('f8d0c809-d83b-42a6-95a9-4b00569207f2');\n",
              "var x = new MutationObserver(function (mutations, observer) {{\n",
              "        var display = window.getComputedStyle(gd).display;\n",
              "        if (!display || display === 'none') {{\n",
              "            console.log([gd, 'removed!']);\n",
              "            Plotly.purge(gd);\n",
              "            observer.disconnect();\n",
              "        }}\n",
              "}});\n",
              "\n",
              "// Listen for the removal of the full notebook cells\n",
              "var notebookContainer = gd.closest('#notebook-container');\n",
              "if (notebookContainer) {{\n",
              "    x.observe(notebookContainer, {childList: true});\n",
              "}}\n",
              "\n",
              "// Listen for the clearing of the current output cell\n",
              "var outputEl = gd.closest('.output');\n",
              "if (outputEl) {{\n",
              "    x.observe(outputEl, {childList: true});\n",
              "}}\n",
              "\n",
              "                        })                };                            </script>        </div>\n",
              "</body>\n",
              "</html>"
            ]
          },
          "metadata": {}
        }
      ],
      "source": [
        "make_graph(tesla_data,tesla_revenue,'Tesla')"
      ]
    },
    {
      "cell_type": "markdown",
      "metadata": {
        "id": "xzufrYzH-0iv"
      },
      "source": [
        "## Question 6: Plot GameStop Stock Graph\n"
      ]
    },
    {
      "cell_type": "markdown",
      "metadata": {
        "id": "izMo1Yjn-0iv"
      },
      "source": [
        "Use the `make_graph` function to graph the GameStop Stock Data, also provide a title for the graph. The structure to call the `make_graph` function is `make_graph(gme_data, gme_revenue, 'GameStop')`. Note the graph will only show data upto June 2021.\n"
      ]
    },
    {
      "cell_type": "code",
      "execution_count": 130,
      "metadata": {
        "colab": {
          "base_uri": "https://localhost:8080/",
          "height": 917
        },
        "id": "s141xJzM-0iw",
        "outputId": "f4f9f9e9-168e-4443-af17-a63525ab9dbd"
      },
      "outputs": [
        {
          "output_type": "display_data",
          "data": {
            "text/html": [
              "<html>\n",
              "<head><meta charset=\"utf-8\" /></head>\n",
              "<body>\n",
              "    <div>            <script src=\"https://cdnjs.cloudflare.com/ajax/libs/mathjax/2.7.5/MathJax.js?config=TeX-AMS-MML_SVG\"></script><script type=\"text/javascript\">if (window.MathJax) {MathJax.Hub.Config({SVG: {font: \"STIX-Web\"}});}</script>                <script type=\"text/javascript\">window.PlotlyConfig = {MathJaxConfig: 'local'};</script>\n",
              "        <script src=\"https://cdn.plot.ly/plotly-2.8.3.min.js\"></script>                <div id=\"aea186b7-113d-4b15-9c8d-279adeca8806\" class=\"plotly-graph-div\" style=\"height:900px; width:100%;\"></div>            <script type=\"text/javascript\">                                    window.PLOTLYENV=window.PLOTLYENV || {};                                    if (document.getElementById(\"aea186b7-113d-4b15-9c8d-279adeca8806\")) {                    Plotly.newPlot(                        \"aea186b7-113d-4b15-9c8d-279adeca8806\",                        [{\"name\":\"Share Price\",\"x\":[\"2002-02-13T00:00:00\",\"2002-02-14T00:00:00\",\"2002-02-15T00:00:00\",\"2002-02-19T00:00:00\",\"2002-02-20T00:00:00\",\"2002-02-21T00:00:00\",\"2002-02-22T00:00:00\",\"2002-02-25T00:00:00\",\"2002-02-26T00:00:00\",\"2002-02-27T00:00:00\",\"2002-02-28T00:00:00\",\"2002-03-01T00:00:00\",\"2002-03-04T00:00:00\",\"2002-03-05T00:00:00\",\"2002-03-06T00:00:00\",\"2002-03-07T00:00:00\",\"2002-03-08T00:00:00\",\"2002-03-11T00:00:00\",\"2002-03-12T00:00:00\",\"2002-03-13T00:00:00\",\"2002-03-14T00:00:00\",\"2002-03-15T00:00:00\",\"2002-03-18T00:00:00\",\"2002-03-19T00:00:00\",\"2002-03-20T00:00:00\",\"2002-03-21T00:00:00\",\"2002-03-22T00:00:00\",\"2002-03-25T00:00:00\",\"2002-03-26T00:00:00\",\"2002-03-27T00:00:00\",\"2002-03-28T00:00:00\",\"2002-04-01T00:00:00\",\"2002-04-02T00:00:00\",\"2002-04-03T00:00:00\",\"2002-04-04T00:00:00\",\"2002-04-05T00:00:00\",\"2002-04-08T00:00:00\",\"2002-04-09T00:00:00\",\"2002-04-10T00:00:00\",\"2002-04-11T00:00:00\",\"2002-04-12T00:00:00\",\"2002-04-15T00:00:00\",\"2002-04-16T00:00:00\",\"2002-04-17T00:00:00\",\"2002-04-18T00:00:00\",\"2002-04-19T00:00:00\",\"2002-04-22T00:00:00\",\"2002-04-23T00:00:00\",\"2002-04-24T00:00:00\",\"2002-04-25T00:00:00\",\"2002-04-26T00:00:00\",\"2002-04-29T00:00:00\",\"2002-04-30T00:00:00\",\"2002-05-01T00:00:00\",\"2002-05-02T00:00:00\",\"2002-05-03T00:00:00\",\"2002-05-06T00:00:00\",\"2002-05-07T00:00:00\",\"2002-05-08T00:00:00\",\"2002-05-09T00:00:00\",\"2002-05-10T00:00:00\",\"2002-05-13T00:00:00\",\"2002-05-14T00:00:00\",\"2002-05-15T00:00:00\",\"2002-05-16T00:00:00\",\"2002-05-17T00:00:00\",\"2002-05-20T00:00:00\",\"2002-05-21T00:00:00\",\"2002-05-22T00:00:00\",\"2002-05-23T00:00:00\",\"2002-05-24T00:00:00\",\"2002-05-28T00:00:00\",\"2002-05-29T00:00:00\",\"2002-05-30T00:00:00\",\"2002-05-31T00:00:00\",\"2002-06-03T00:00:00\",\"2002-06-04T00:00:00\",\"2002-06-05T00:00:00\",\"2002-06-06T00:00:00\",\"2002-06-07T00:00:00\",\"2002-06-10T00:00:00\",\"2002-06-11T00:00:00\",\"2002-06-12T00:00:00\",\"2002-06-13T00:00:00\",\"2002-06-14T00:00:00\",\"2002-06-17T00:00:00\",\"2002-06-18T00:00:00\",\"2002-06-19T00:00:00\",\"2002-06-20T00:00:00\",\"2002-06-21T00:00:00\",\"2002-06-24T00:00:00\",\"2002-06-25T00:00:00\",\"2002-06-26T00:00:00\",\"2002-06-27T00:00:00\",\"2002-06-28T00:00:00\",\"2002-07-01T00:00:00\",\"2002-07-02T00:00:00\",\"2002-07-03T00:00:00\",\"2002-07-05T00:00:00\",\"2002-07-08T00:00:00\",\"2002-07-09T00:00:00\",\"2002-07-10T00:00:00\",\"2002-07-11T00:00:00\",\"2002-07-12T00:00:00\",\"2002-07-15T00:00:00\",\"2002-07-16T00:00:00\",\"2002-07-17T00:00:00\",\"2002-07-18T00:00:00\",\"2002-07-19T00:00:00\",\"2002-07-22T00:00:00\",\"2002-07-23T00:00:00\",\"2002-07-24T00:00:00\",\"2002-07-25T00:00:00\",\"2002-07-26T00:00:00\",\"2002-07-29T00:00:00\",\"2002-07-30T00:00:00\",\"2002-07-31T00:00:00\",\"2002-08-01T00:00:00\",\"2002-08-02T00:00:00\",\"2002-08-05T00:00:00\",\"2002-08-06T00:00:00\",\"2002-08-07T00:00:00\",\"2002-08-08T00:00:00\",\"2002-08-09T00:00:00\",\"2002-08-12T00:00:00\",\"2002-08-13T00:00:00\",\"2002-08-14T00:00:00\",\"2002-08-15T00:00:00\",\"2002-08-16T00:00:00\",\"2002-08-19T00:00:00\",\"2002-08-20T00:00:00\",\"2002-08-21T00:00:00\",\"2002-08-22T00:00:00\",\"2002-08-23T00:00:00\",\"2002-08-26T00:00:00\",\"2002-08-27T00:00:00\",\"2002-08-28T00:00:00\",\"2002-08-29T00:00:00\",\"2002-08-30T00:00:00\",\"2002-09-03T00:00:00\",\"2002-09-04T00:00:00\",\"2002-09-05T00:00:00\",\"2002-09-06T00:00:00\",\"2002-09-09T00:00:00\",\"2002-09-10T00:00:00\",\"2002-09-11T00:00:00\",\"2002-09-12T00:00:00\",\"2002-09-13T00:00:00\",\"2002-09-16T00:00:00\",\"2002-09-17T00:00:00\",\"2002-09-18T00:00:00\",\"2002-09-19T00:00:00\",\"2002-09-20T00:00:00\",\"2002-09-23T00:00:00\",\"2002-09-24T00:00:00\",\"2002-09-25T00:00:00\",\"2002-09-26T00:00:00\",\"2002-09-27T00:00:00\",\"2002-09-30T00:00:00\",\"2002-10-01T00:00:00\",\"2002-10-02T00:00:00\",\"2002-10-03T00:00:00\",\"2002-10-04T00:00:00\",\"2002-10-07T00:00:00\",\"2002-10-08T00:00:00\",\"2002-10-09T00:00:00\",\"2002-10-10T00:00:00\",\"2002-10-11T00:00:00\",\"2002-10-14T00:00:00\",\"2002-10-15T00:00:00\",\"2002-10-16T00:00:00\",\"2002-10-17T00:00:00\",\"2002-10-18T00:00:00\",\"2002-10-21T00:00:00\",\"2002-10-22T00:00:00\",\"2002-10-23T00:00:00\",\"2002-10-24T00:00:00\",\"2002-10-25T00:00:00\",\"2002-10-28T00:00:00\",\"2002-10-29T00:00:00\",\"2002-10-30T00:00:00\",\"2002-10-31T00:00:00\",\"2002-11-01T00:00:00\",\"2002-11-04T00:00:00\",\"2002-11-05T00:00:00\",\"2002-11-06T00:00:00\",\"2002-11-07T00:00:00\",\"2002-11-08T00:00:00\",\"2002-11-11T00:00:00\",\"2002-11-12T00:00:00\",\"2002-11-13T00:00:00\",\"2002-11-14T00:00:00\",\"2002-11-15T00:00:00\",\"2002-11-18T00:00:00\",\"2002-11-19T00:00:00\",\"2002-11-20T00:00:00\",\"2002-11-21T00:00:00\",\"2002-11-22T00:00:00\",\"2002-11-25T00:00:00\",\"2002-11-26T00:00:00\",\"2002-11-27T00:00:00\",\"2002-11-29T00:00:00\",\"2002-12-02T00:00:00\",\"2002-12-03T00:00:00\",\"2002-12-04T00:00:00\",\"2002-12-05T00:00:00\",\"2002-12-06T00:00:00\",\"2002-12-09T00:00:00\",\"2002-12-10T00:00:00\",\"2002-12-11T00:00:00\",\"2002-12-12T00:00:00\",\"2002-12-13T00:00:00\",\"2002-12-16T00:00:00\",\"2002-12-17T00:00:00\",\"2002-12-18T00:00:00\",\"2002-12-19T00:00:00\",\"2002-12-20T00:00:00\",\"2002-12-23T00:00:00\",\"2002-12-24T00:00:00\",\"2002-12-26T00:00:00\",\"2002-12-27T00:00:00\",\"2002-12-30T00:00:00\",\"2002-12-31T00:00:00\",\"2003-01-02T00:00:00\",\"2003-01-03T00:00:00\",\"2003-01-06T00:00:00\",\"2003-01-07T00:00:00\",\"2003-01-08T00:00:00\",\"2003-01-09T00:00:00\",\"2003-01-10T00:00:00\",\"2003-01-13T00:00:00\",\"2003-01-14T00:00:00\",\"2003-01-15T00:00:00\",\"2003-01-16T00:00:00\",\"2003-01-17T00:00:00\",\"2003-01-21T00:00:00\",\"2003-01-22T00:00:00\",\"2003-01-23T00:00:00\",\"2003-01-24T00:00:00\",\"2003-01-27T00:00:00\",\"2003-01-28T00:00:00\",\"2003-01-29T00:00:00\",\"2003-01-30T00:00:00\",\"2003-01-31T00:00:00\",\"2003-02-03T00:00:00\",\"2003-02-04T00:00:00\",\"2003-02-05T00:00:00\",\"2003-02-06T00:00:00\",\"2003-02-07T00:00:00\",\"2003-02-10T00:00:00\",\"2003-02-11T00:00:00\",\"2003-02-12T00:00:00\",\"2003-02-13T00:00:00\",\"2003-02-14T00:00:00\",\"2003-02-18T00:00:00\",\"2003-02-19T00:00:00\",\"2003-02-20T00:00:00\",\"2003-02-21T00:00:00\",\"2003-02-24T00:00:00\",\"2003-02-25T00:00:00\",\"2003-02-26T00:00:00\",\"2003-02-27T00:00:00\",\"2003-02-28T00:00:00\",\"2003-03-03T00:00:00\",\"2003-03-04T00:00:00\",\"2003-03-05T00:00:00\",\"2003-03-06T00:00:00\",\"2003-03-07T00:00:00\",\"2003-03-10T00:00:00\",\"2003-03-11T00:00:00\",\"2003-03-12T00:00:00\",\"2003-03-13T00:00:00\",\"2003-03-14T00:00:00\",\"2003-03-17T00:00:00\",\"2003-03-18T00:00:00\",\"2003-03-19T00:00:00\",\"2003-03-20T00:00:00\",\"2003-03-21T00:00:00\",\"2003-03-24T00:00:00\",\"2003-03-25T00:00:00\",\"2003-03-26T00:00:00\",\"2003-03-27T00:00:00\",\"2003-03-28T00:00:00\",\"2003-03-31T00:00:00\",\"2003-04-01T00:00:00\",\"2003-04-02T00:00:00\",\"2003-04-03T00:00:00\",\"2003-04-04T00:00:00\",\"2003-04-07T00:00:00\",\"2003-04-08T00:00:00\",\"2003-04-09T00:00:00\",\"2003-04-10T00:00:00\",\"2003-04-11T00:00:00\",\"2003-04-14T00:00:00\",\"2003-04-15T00:00:00\",\"2003-04-16T00:00:00\",\"2003-04-17T00:00:00\",\"2003-04-21T00:00:00\",\"2003-04-22T00:00:00\",\"2003-04-23T00:00:00\",\"2003-04-24T00:00:00\",\"2003-04-25T00:00:00\",\"2003-04-28T00:00:00\",\"2003-04-29T00:00:00\",\"2003-04-30T00:00:00\",\"2003-05-01T00:00:00\",\"2003-05-02T00:00:00\",\"2003-05-05T00:00:00\",\"2003-05-06T00:00:00\",\"2003-05-07T00:00:00\",\"2003-05-08T00:00:00\",\"2003-05-09T00:00:00\",\"2003-05-12T00:00:00\",\"2003-05-13T00:00:00\",\"2003-05-14T00:00:00\",\"2003-05-15T00:00:00\",\"2003-05-16T00:00:00\",\"2003-05-19T00:00:00\",\"2003-05-20T00:00:00\",\"2003-05-21T00:00:00\",\"2003-05-22T00:00:00\",\"2003-05-23T00:00:00\",\"2003-05-27T00:00:00\",\"2003-05-28T00:00:00\",\"2003-05-29T00:00:00\",\"2003-05-30T00:00:00\",\"2003-06-02T00:00:00\",\"2003-06-03T00:00:00\",\"2003-06-04T00:00:00\",\"2003-06-05T00:00:00\",\"2003-06-06T00:00:00\",\"2003-06-09T00:00:00\",\"2003-06-10T00:00:00\",\"2003-06-11T00:00:00\",\"2003-06-12T00:00:00\",\"2003-06-13T00:00:00\",\"2003-06-16T00:00:00\",\"2003-06-17T00:00:00\",\"2003-06-18T00:00:00\",\"2003-06-19T00:00:00\",\"2003-06-20T00:00:00\",\"2003-06-23T00:00:00\",\"2003-06-24T00:00:00\",\"2003-06-25T00:00:00\",\"2003-06-26T00:00:00\",\"2003-06-27T00:00:00\",\"2003-06-30T00:00:00\",\"2003-07-01T00:00:00\",\"2003-07-02T00:00:00\",\"2003-07-03T00:00:00\",\"2003-07-07T00:00:00\",\"2003-07-08T00:00:00\",\"2003-07-09T00:00:00\",\"2003-07-10T00:00:00\",\"2003-07-11T00:00:00\",\"2003-07-14T00:00:00\",\"2003-07-15T00:00:00\",\"2003-07-16T00:00:00\",\"2003-07-17T00:00:00\",\"2003-07-18T00:00:00\",\"2003-07-21T00:00:00\",\"2003-07-22T00:00:00\",\"2003-07-23T00:00:00\",\"2003-07-24T00:00:00\",\"2003-07-25T00:00:00\",\"2003-07-28T00:00:00\",\"2003-07-29T00:00:00\",\"2003-07-30T00:00:00\",\"2003-07-31T00:00:00\",\"2003-08-01T00:00:00\",\"2003-08-04T00:00:00\",\"2003-08-05T00:00:00\",\"2003-08-06T00:00:00\",\"2003-08-07T00:00:00\",\"2003-08-08T00:00:00\",\"2003-08-11T00:00:00\",\"2003-08-12T00:00:00\",\"2003-08-13T00:00:00\",\"2003-08-14T00:00:00\",\"2003-08-15T00:00:00\",\"2003-08-18T00:00:00\",\"2003-08-19T00:00:00\",\"2003-08-20T00:00:00\",\"2003-08-21T00:00:00\",\"2003-08-22T00:00:00\",\"2003-08-25T00:00:00\",\"2003-08-26T00:00:00\",\"2003-08-27T00:00:00\",\"2003-08-28T00:00:00\",\"2003-08-29T00:00:00\",\"2003-09-02T00:00:00\",\"2003-09-03T00:00:00\",\"2003-09-04T00:00:00\",\"2003-09-05T00:00:00\",\"2003-09-08T00:00:00\",\"2003-09-09T00:00:00\",\"2003-09-10T00:00:00\",\"2003-09-11T00:00:00\",\"2003-09-12T00:00:00\",\"2003-09-15T00:00:00\",\"2003-09-16T00:00:00\",\"2003-09-17T00:00:00\",\"2003-09-18T00:00:00\",\"2003-09-19T00:00:00\",\"2003-09-22T00:00:00\",\"2003-09-23T00:00:00\",\"2003-09-24T00:00:00\",\"2003-09-25T00:00:00\",\"2003-09-26T00:00:00\",\"2003-09-29T00:00:00\",\"2003-09-30T00:00:00\",\"2003-10-01T00:00:00\",\"2003-10-02T00:00:00\",\"2003-10-03T00:00:00\",\"2003-10-06T00:00:00\",\"2003-10-07T00:00:00\",\"2003-10-08T00:00:00\",\"2003-10-09T00:00:00\",\"2003-10-10T00:00:00\",\"2003-10-13T00:00:00\",\"2003-10-14T00:00:00\",\"2003-10-15T00:00:00\",\"2003-10-16T00:00:00\",\"2003-10-17T00:00:00\",\"2003-10-20T00:00:00\",\"2003-10-21T00:00:00\",\"2003-10-22T00:00:00\",\"2003-10-23T00:00:00\",\"2003-10-24T00:00:00\",\"2003-10-27T00:00:00\",\"2003-10-28T00:00:00\",\"2003-10-29T00:00:00\",\"2003-10-30T00:00:00\",\"2003-10-31T00:00:00\",\"2003-11-03T00:00:00\",\"2003-11-04T00:00:00\",\"2003-11-05T00:00:00\",\"2003-11-06T00:00:00\",\"2003-11-07T00:00:00\",\"2003-11-10T00:00:00\",\"2003-11-11T00:00:00\",\"2003-11-12T00:00:00\",\"2003-11-13T00:00:00\",\"2003-11-14T00:00:00\",\"2003-11-17T00:00:00\",\"2003-11-18T00:00:00\",\"2003-11-19T00:00:00\",\"2003-11-20T00:00:00\",\"2003-11-21T00:00:00\",\"2003-11-24T00:00:00\",\"2003-11-25T00:00:00\",\"2003-11-26T00:00:00\",\"2003-11-28T00:00:00\",\"2003-12-01T00:00:00\",\"2003-12-02T00:00:00\",\"2003-12-03T00:00:00\",\"2003-12-04T00:00:00\",\"2003-12-05T00:00:00\",\"2003-12-08T00:00:00\",\"2003-12-09T00:00:00\",\"2003-12-10T00:00:00\",\"2003-12-11T00:00:00\",\"2003-12-12T00:00:00\",\"2003-12-15T00:00:00\",\"2003-12-16T00:00:00\",\"2003-12-17T00:00:00\",\"2003-12-18T00:00:00\",\"2003-12-19T00:00:00\",\"2003-12-22T00:00:00\",\"2003-12-23T00:00:00\",\"2003-12-24T00:00:00\",\"2003-12-26T00:00:00\",\"2003-12-29T00:00:00\",\"2003-12-30T00:00:00\",\"2003-12-31T00:00:00\",\"2004-01-02T00:00:00\",\"2004-01-05T00:00:00\",\"2004-01-06T00:00:00\",\"2004-01-07T00:00:00\",\"2004-01-08T00:00:00\",\"2004-01-09T00:00:00\",\"2004-01-12T00:00:00\",\"2004-01-13T00:00:00\",\"2004-01-14T00:00:00\",\"2004-01-15T00:00:00\",\"2004-01-16T00:00:00\",\"2004-01-20T00:00:00\",\"2004-01-21T00:00:00\",\"2004-01-22T00:00:00\",\"2004-01-23T00:00:00\",\"2004-01-26T00:00:00\",\"2004-01-27T00:00:00\",\"2004-01-28T00:00:00\",\"2004-01-29T00:00:00\",\"2004-01-30T00:00:00\",\"2004-02-02T00:00:00\",\"2004-02-03T00:00:00\",\"2004-02-04T00:00:00\",\"2004-02-05T00:00:00\",\"2004-02-06T00:00:00\",\"2004-02-09T00:00:00\",\"2004-02-10T00:00:00\",\"2004-02-11T00:00:00\",\"2004-02-12T00:00:00\",\"2004-02-13T00:00:00\",\"2004-02-17T00:00:00\",\"2004-02-18T00:00:00\",\"2004-02-19T00:00:00\",\"2004-02-20T00:00:00\",\"2004-02-23T00:00:00\",\"2004-02-24T00:00:00\",\"2004-02-25T00:00:00\",\"2004-02-26T00:00:00\",\"2004-02-27T00:00:00\",\"2004-03-01T00:00:00\",\"2004-03-02T00:00:00\",\"2004-03-03T00:00:00\",\"2004-03-04T00:00:00\",\"2004-03-05T00:00:00\",\"2004-03-08T00:00:00\",\"2004-03-09T00:00:00\",\"2004-03-10T00:00:00\",\"2004-03-11T00:00:00\",\"2004-03-12T00:00:00\",\"2004-03-15T00:00:00\",\"2004-03-16T00:00:00\",\"2004-03-17T00:00:00\",\"2004-03-18T00:00:00\",\"2004-03-19T00:00:00\",\"2004-03-22T00:00:00\",\"2004-03-23T00:00:00\",\"2004-03-24T00:00:00\",\"2004-03-25T00:00:00\",\"2004-03-26T00:00:00\",\"2004-03-29T00:00:00\",\"2004-03-30T00:00:00\",\"2004-03-31T00:00:00\",\"2004-04-01T00:00:00\",\"2004-04-02T00:00:00\",\"2004-04-05T00:00:00\",\"2004-04-06T00:00:00\",\"2004-04-07T00:00:00\",\"2004-04-08T00:00:00\",\"2004-04-12T00:00:00\",\"2004-04-13T00:00:00\",\"2004-04-14T00:00:00\",\"2004-04-15T00:00:00\",\"2004-04-16T00:00:00\",\"2004-04-19T00:00:00\",\"2004-04-20T00:00:00\",\"2004-04-21T00:00:00\",\"2004-04-22T00:00:00\",\"2004-04-23T00:00:00\",\"2004-04-26T00:00:00\",\"2004-04-27T00:00:00\",\"2004-04-28T00:00:00\",\"2004-04-29T00:00:00\",\"2004-04-30T00:00:00\",\"2004-05-03T00:00:00\",\"2004-05-04T00:00:00\",\"2004-05-05T00:00:00\",\"2004-05-06T00:00:00\",\"2004-05-07T00:00:00\",\"2004-05-10T00:00:00\",\"2004-05-11T00:00:00\",\"2004-05-12T00:00:00\",\"2004-05-13T00:00:00\",\"2004-05-14T00:00:00\",\"2004-05-17T00:00:00\",\"2004-05-18T00:00:00\",\"2004-05-19T00:00:00\",\"2004-05-20T00:00:00\",\"2004-05-21T00:00:00\",\"2004-05-24T00:00:00\",\"2004-05-25T00:00:00\",\"2004-05-26T00:00:00\",\"2004-05-27T00:00:00\",\"2004-05-28T00:00:00\",\"2004-06-01T00:00:00\",\"2004-06-02T00:00:00\",\"2004-06-03T00:00:00\",\"2004-06-04T00:00:00\",\"2004-06-07T00:00:00\",\"2004-06-08T00:00:00\",\"2004-06-09T00:00:00\",\"2004-06-10T00:00:00\",\"2004-06-14T00:00:00\",\"2004-06-15T00:00:00\",\"2004-06-16T00:00:00\",\"2004-06-17T00:00:00\",\"2004-06-18T00:00:00\",\"2004-06-21T00:00:00\",\"2004-06-22T00:00:00\",\"2004-06-23T00:00:00\",\"2004-06-24T00:00:00\",\"2004-06-25T00:00:00\",\"2004-06-28T00:00:00\",\"2004-06-29T00:00:00\",\"2004-06-30T00:00:00\",\"2004-07-01T00:00:00\",\"2004-07-02T00:00:00\",\"2004-07-06T00:00:00\",\"2004-07-07T00:00:00\",\"2004-07-08T00:00:00\",\"2004-07-09T00:00:00\",\"2004-07-12T00:00:00\",\"2004-07-13T00:00:00\",\"2004-07-14T00:00:00\",\"2004-07-15T00:00:00\",\"2004-07-16T00:00:00\",\"2004-07-19T00:00:00\",\"2004-07-20T00:00:00\",\"2004-07-21T00:00:00\",\"2004-07-22T00:00:00\",\"2004-07-23T00:00:00\",\"2004-07-26T00:00:00\",\"2004-07-27T00:00:00\",\"2004-07-28T00:00:00\",\"2004-07-29T00:00:00\",\"2004-07-30T00:00:00\",\"2004-08-02T00:00:00\",\"2004-08-03T00:00:00\",\"2004-08-04T00:00:00\",\"2004-08-05T00:00:00\",\"2004-08-06T00:00:00\",\"2004-08-09T00:00:00\",\"2004-08-10T00:00:00\",\"2004-08-11T00:00:00\",\"2004-08-12T00:00:00\",\"2004-08-13T00:00:00\",\"2004-08-16T00:00:00\",\"2004-08-17T00:00:00\",\"2004-08-18T00:00:00\",\"2004-08-19T00:00:00\",\"2004-08-20T00:00:00\",\"2004-08-23T00:00:00\",\"2004-08-24T00:00:00\",\"2004-08-25T00:00:00\",\"2004-08-26T00:00:00\",\"2004-08-27T00:00:00\",\"2004-08-30T00:00:00\",\"2004-08-31T00:00:00\",\"2004-09-01T00:00:00\",\"2004-09-02T00:00:00\",\"2004-09-03T00:00:00\",\"2004-09-07T00:00:00\",\"2004-09-08T00:00:00\",\"2004-09-09T00:00:00\",\"2004-09-10T00:00:00\",\"2004-09-13T00:00:00\",\"2004-09-14T00:00:00\",\"2004-09-15T00:00:00\",\"2004-09-16T00:00:00\",\"2004-09-17T00:00:00\",\"2004-09-20T00:00:00\",\"2004-09-21T00:00:00\",\"2004-09-22T00:00:00\",\"2004-09-23T00:00:00\",\"2004-09-24T00:00:00\",\"2004-09-27T00:00:00\",\"2004-09-28T00:00:00\",\"2004-09-29T00:00:00\",\"2004-09-30T00:00:00\",\"2004-10-01T00:00:00\",\"2004-10-04T00:00:00\",\"2004-10-05T00:00:00\",\"2004-10-06T00:00:00\",\"2004-10-07T00:00:00\",\"2004-10-08T00:00:00\",\"2004-10-11T00:00:00\",\"2004-10-12T00:00:00\",\"2004-10-13T00:00:00\",\"2004-10-14T00:00:00\",\"2004-10-15T00:00:00\",\"2004-10-18T00:00:00\",\"2004-10-19T00:00:00\",\"2004-10-20T00:00:00\",\"2004-10-21T00:00:00\",\"2004-10-22T00:00:00\",\"2004-10-25T00:00:00\",\"2004-10-26T00:00:00\",\"2004-10-27T00:00:00\",\"2004-10-28T00:00:00\",\"2004-10-29T00:00:00\",\"2004-11-01T00:00:00\",\"2004-11-02T00:00:00\",\"2004-11-03T00:00:00\",\"2004-11-04T00:00:00\",\"2004-11-05T00:00:00\",\"2004-11-08T00:00:00\",\"2004-11-09T00:00:00\",\"2004-11-10T00:00:00\",\"2004-11-11T00:00:00\",\"2004-11-12T00:00:00\",\"2004-11-15T00:00:00\",\"2004-11-16T00:00:00\",\"2004-11-17T00:00:00\",\"2004-11-18T00:00:00\",\"2004-11-19T00:00:00\",\"2004-11-22T00:00:00\",\"2004-11-23T00:00:00\",\"2004-11-24T00:00:00\",\"2004-11-26T00:00:00\",\"2004-11-29T00:00:00\",\"2004-11-30T00:00:00\",\"2004-12-01T00:00:00\",\"2004-12-02T00:00:00\",\"2004-12-03T00:00:00\",\"2004-12-06T00:00:00\",\"2004-12-07T00:00:00\",\"2004-12-08T00:00:00\",\"2004-12-09T00:00:00\",\"2004-12-10T00:00:00\",\"2004-12-13T00:00:00\",\"2004-12-14T00:00:00\",\"2004-12-15T00:00:00\",\"2004-12-16T00:00:00\",\"2004-12-17T00:00:00\",\"2004-12-20T00:00:00\",\"2004-12-21T00:00:00\",\"2004-12-22T00:00:00\",\"2004-12-23T00:00:00\",\"2004-12-27T00:00:00\",\"2004-12-28T00:00:00\",\"2004-12-29T00:00:00\",\"2004-12-30T00:00:00\",\"2004-12-31T00:00:00\",\"2005-01-03T00:00:00\",\"2005-01-04T00:00:00\",\"2005-01-05T00:00:00\",\"2005-01-06T00:00:00\",\"2005-01-07T00:00:00\",\"2005-01-10T00:00:00\",\"2005-01-11T00:00:00\",\"2005-01-12T00:00:00\",\"2005-01-13T00:00:00\",\"2005-01-14T00:00:00\",\"2005-01-18T00:00:00\",\"2005-01-19T00:00:00\",\"2005-01-20T00:00:00\",\"2005-01-21T00:00:00\",\"2005-01-24T00:00:00\",\"2005-01-25T00:00:00\",\"2005-01-26T00:00:00\",\"2005-01-27T00:00:00\",\"2005-01-28T00:00:00\",\"2005-01-31T00:00:00\",\"2005-02-01T00:00:00\",\"2005-02-02T00:00:00\",\"2005-02-03T00:00:00\",\"2005-02-04T00:00:00\",\"2005-02-07T00:00:00\",\"2005-02-08T00:00:00\",\"2005-02-09T00:00:00\",\"2005-02-10T00:00:00\",\"2005-02-11T00:00:00\",\"2005-02-14T00:00:00\",\"2005-02-15T00:00:00\",\"2005-02-16T00:00:00\",\"2005-02-17T00:00:00\",\"2005-02-18T00:00:00\",\"2005-02-22T00:00:00\",\"2005-02-23T00:00:00\",\"2005-02-24T00:00:00\",\"2005-02-25T00:00:00\",\"2005-02-28T00:00:00\",\"2005-03-01T00:00:00\",\"2005-03-02T00:00:00\",\"2005-03-03T00:00:00\",\"2005-03-04T00:00:00\",\"2005-03-07T00:00:00\",\"2005-03-08T00:00:00\",\"2005-03-09T00:00:00\",\"2005-03-10T00:00:00\",\"2005-03-11T00:00:00\",\"2005-03-14T00:00:00\",\"2005-03-15T00:00:00\",\"2005-03-16T00:00:00\",\"2005-03-17T00:00:00\",\"2005-03-18T00:00:00\",\"2005-03-21T00:00:00\",\"2005-03-22T00:00:00\",\"2005-03-23T00:00:00\",\"2005-03-24T00:00:00\",\"2005-03-28T00:00:00\",\"2005-03-29T00:00:00\",\"2005-03-30T00:00:00\",\"2005-03-31T00:00:00\",\"2005-04-01T00:00:00\",\"2005-04-04T00:00:00\",\"2005-04-05T00:00:00\",\"2005-04-06T00:00:00\",\"2005-04-07T00:00:00\",\"2005-04-08T00:00:00\",\"2005-04-11T00:00:00\",\"2005-04-12T00:00:00\",\"2005-04-13T00:00:00\",\"2005-04-14T00:00:00\",\"2005-04-15T00:00:00\",\"2005-04-18T00:00:00\",\"2005-04-19T00:00:00\",\"2005-04-20T00:00:00\",\"2005-04-21T00:00:00\",\"2005-04-22T00:00:00\",\"2005-04-25T00:00:00\",\"2005-04-26T00:00:00\",\"2005-04-27T00:00:00\",\"2005-04-28T00:00:00\",\"2005-04-29T00:00:00\",\"2005-05-02T00:00:00\",\"2005-05-03T00:00:00\",\"2005-05-04T00:00:00\",\"2005-05-05T00:00:00\",\"2005-05-06T00:00:00\",\"2005-05-09T00:00:00\",\"2005-05-10T00:00:00\",\"2005-05-11T00:00:00\",\"2005-05-12T00:00:00\",\"2005-05-13T00:00:00\",\"2005-05-16T00:00:00\",\"2005-05-17T00:00:00\",\"2005-05-18T00:00:00\",\"2005-05-19T00:00:00\",\"2005-05-20T00:00:00\",\"2005-05-23T00:00:00\",\"2005-05-24T00:00:00\",\"2005-05-25T00:00:00\",\"2005-05-26T00:00:00\",\"2005-05-27T00:00:00\",\"2005-05-31T00:00:00\",\"2005-06-01T00:00:00\",\"2005-06-02T00:00:00\",\"2005-06-03T00:00:00\",\"2005-06-06T00:00:00\",\"2005-06-07T00:00:00\",\"2005-06-08T00:00:00\",\"2005-06-09T00:00:00\",\"2005-06-10T00:00:00\",\"2005-06-13T00:00:00\",\"2005-06-14T00:00:00\",\"2005-06-15T00:00:00\",\"2005-06-16T00:00:00\",\"2005-06-17T00:00:00\",\"2005-06-20T00:00:00\",\"2005-06-21T00:00:00\",\"2005-06-22T00:00:00\",\"2005-06-23T00:00:00\",\"2005-06-24T00:00:00\",\"2005-06-27T00:00:00\",\"2005-06-28T00:00:00\",\"2005-06-29T00:00:00\",\"2005-06-30T00:00:00\",\"2005-07-01T00:00:00\",\"2005-07-05T00:00:00\",\"2005-07-06T00:00:00\",\"2005-07-07T00:00:00\",\"2005-07-08T00:00:00\",\"2005-07-11T00:00:00\",\"2005-07-12T00:00:00\",\"2005-07-13T00:00:00\",\"2005-07-14T00:00:00\",\"2005-07-15T00:00:00\",\"2005-07-18T00:00:00\",\"2005-07-19T00:00:00\",\"2005-07-20T00:00:00\",\"2005-07-21T00:00:00\",\"2005-07-22T00:00:00\",\"2005-07-25T00:00:00\",\"2005-07-26T00:00:00\",\"2005-07-27T00:00:00\",\"2005-07-28T00:00:00\",\"2005-07-29T00:00:00\",\"2005-08-01T00:00:00\",\"2005-08-02T00:00:00\",\"2005-08-03T00:00:00\",\"2005-08-04T00:00:00\",\"2005-08-05T00:00:00\",\"2005-08-08T00:00:00\",\"2005-08-09T00:00:00\",\"2005-08-10T00:00:00\",\"2005-08-11T00:00:00\",\"2005-08-12T00:00:00\",\"2005-08-15T00:00:00\",\"2005-08-16T00:00:00\",\"2005-08-17T00:00:00\",\"2005-08-18T00:00:00\",\"2005-08-19T00:00:00\",\"2005-08-22T00:00:00\",\"2005-08-23T00:00:00\",\"2005-08-24T00:00:00\",\"2005-08-25T00:00:00\",\"2005-08-26T00:00:00\",\"2005-08-29T00:00:00\",\"2005-08-30T00:00:00\",\"2005-08-31T00:00:00\",\"2005-09-01T00:00:00\",\"2005-09-02T00:00:00\",\"2005-09-06T00:00:00\",\"2005-09-07T00:00:00\",\"2005-09-08T00:00:00\",\"2005-09-09T00:00:00\",\"2005-09-12T00:00:00\",\"2005-09-13T00:00:00\",\"2005-09-14T00:00:00\",\"2005-09-15T00:00:00\",\"2005-09-16T00:00:00\",\"2005-09-19T00:00:00\",\"2005-09-20T00:00:00\",\"2005-09-21T00:00:00\",\"2005-09-22T00:00:00\",\"2005-09-23T00:00:00\",\"2005-09-26T00:00:00\",\"2005-09-27T00:00:00\",\"2005-09-28T00:00:00\",\"2005-09-29T00:00:00\",\"2005-09-30T00:00:00\",\"2005-10-03T00:00:00\",\"2005-10-04T00:00:00\",\"2005-10-05T00:00:00\",\"2005-10-06T00:00:00\",\"2005-10-07T00:00:00\",\"2005-10-10T00:00:00\",\"2005-10-11T00:00:00\",\"2005-10-12T00:00:00\",\"2005-10-13T00:00:00\",\"2005-10-14T00:00:00\",\"2005-10-17T00:00:00\",\"2005-10-18T00:00:00\",\"2005-10-19T00:00:00\",\"2005-10-20T00:00:00\",\"2005-10-21T00:00:00\",\"2005-10-24T00:00:00\",\"2005-10-25T00:00:00\",\"2005-10-26T00:00:00\",\"2005-10-27T00:00:00\",\"2005-10-28T00:00:00\",\"2005-10-31T00:00:00\",\"2005-11-01T00:00:00\",\"2005-11-02T00:00:00\",\"2005-11-03T00:00:00\",\"2005-11-04T00:00:00\",\"2005-11-07T00:00:00\",\"2005-11-08T00:00:00\",\"2005-11-09T00:00:00\",\"2005-11-10T00:00:00\",\"2005-11-11T00:00:00\",\"2005-11-14T00:00:00\",\"2005-11-15T00:00:00\",\"2005-11-16T00:00:00\",\"2005-11-17T00:00:00\",\"2005-11-18T00:00:00\",\"2005-11-21T00:00:00\",\"2005-11-22T00:00:00\",\"2005-11-23T00:00:00\",\"2005-11-25T00:00:00\",\"2005-11-28T00:00:00\",\"2005-11-29T00:00:00\",\"2005-11-30T00:00:00\",\"2005-12-01T00:00:00\",\"2005-12-02T00:00:00\",\"2005-12-05T00:00:00\",\"2005-12-06T00:00:00\",\"2005-12-07T00:00:00\",\"2005-12-08T00:00:00\",\"2005-12-09T00:00:00\",\"2005-12-12T00:00:00\",\"2005-12-13T00:00:00\",\"2005-12-14T00:00:00\",\"2005-12-15T00:00:00\",\"2005-12-16T00:00:00\",\"2005-12-19T00:00:00\",\"2005-12-20T00:00:00\",\"2005-12-21T00:00:00\",\"2005-12-22T00:00:00\",\"2005-12-23T00:00:00\",\"2005-12-27T00:00:00\",\"2005-12-28T00:00:00\",\"2005-12-29T00:00:00\",\"2005-12-30T00:00:00\",\"2006-01-03T00:00:00\",\"2006-01-04T00:00:00\",\"2006-01-05T00:00:00\",\"2006-01-06T00:00:00\",\"2006-01-09T00:00:00\",\"2006-01-10T00:00:00\",\"2006-01-11T00:00:00\",\"2006-01-12T00:00:00\",\"2006-01-13T00:00:00\",\"2006-01-17T00:00:00\",\"2006-01-18T00:00:00\",\"2006-01-19T00:00:00\",\"2006-01-20T00:00:00\",\"2006-01-23T00:00:00\",\"2006-01-24T00:00:00\",\"2006-01-25T00:00:00\",\"2006-01-26T00:00:00\",\"2006-01-27T00:00:00\",\"2006-01-30T00:00:00\",\"2006-01-31T00:00:00\",\"2006-02-01T00:00:00\",\"2006-02-02T00:00:00\",\"2006-02-03T00:00:00\",\"2006-02-06T00:00:00\",\"2006-02-07T00:00:00\",\"2006-02-08T00:00:00\",\"2006-02-09T00:00:00\",\"2006-02-10T00:00:00\",\"2006-02-13T00:00:00\",\"2006-02-14T00:00:00\",\"2006-02-15T00:00:00\",\"2006-02-16T00:00:00\",\"2006-02-17T00:00:00\",\"2006-02-21T00:00:00\",\"2006-02-22T00:00:00\",\"2006-02-23T00:00:00\",\"2006-02-24T00:00:00\",\"2006-02-27T00:00:00\",\"2006-02-28T00:00:00\",\"2006-03-01T00:00:00\",\"2006-03-02T00:00:00\",\"2006-03-03T00:00:00\",\"2006-03-06T00:00:00\",\"2006-03-07T00:00:00\",\"2006-03-08T00:00:00\",\"2006-03-09T00:00:00\",\"2006-03-10T00:00:00\",\"2006-03-13T00:00:00\",\"2006-03-14T00:00:00\",\"2006-03-15T00:00:00\",\"2006-03-16T00:00:00\",\"2006-03-17T00:00:00\",\"2006-03-20T00:00:00\",\"2006-03-21T00:00:00\",\"2006-03-22T00:00:00\",\"2006-03-23T00:00:00\",\"2006-03-24T00:00:00\",\"2006-03-27T00:00:00\",\"2006-03-28T00:00:00\",\"2006-03-29T00:00:00\",\"2006-03-30T00:00:00\",\"2006-03-31T00:00:00\",\"2006-04-03T00:00:00\",\"2006-04-04T00:00:00\",\"2006-04-05T00:00:00\",\"2006-04-06T00:00:00\",\"2006-04-07T00:00:00\",\"2006-04-10T00:00:00\",\"2006-04-11T00:00:00\",\"2006-04-12T00:00:00\",\"2006-04-13T00:00:00\",\"2006-04-17T00:00:00\",\"2006-04-18T00:00:00\",\"2006-04-19T00:00:00\",\"2006-04-20T00:00:00\",\"2006-04-21T00:00:00\",\"2006-04-24T00:00:00\",\"2006-04-25T00:00:00\",\"2006-04-26T00:00:00\",\"2006-04-27T00:00:00\",\"2006-04-28T00:00:00\",\"2006-05-01T00:00:00\",\"2006-05-02T00:00:00\",\"2006-05-03T00:00:00\",\"2006-05-04T00:00:00\",\"2006-05-05T00:00:00\",\"2006-05-08T00:00:00\",\"2006-05-09T00:00:00\",\"2006-05-10T00:00:00\",\"2006-05-11T00:00:00\",\"2006-05-12T00:00:00\",\"2006-05-15T00:00:00\",\"2006-05-16T00:00:00\",\"2006-05-17T00:00:00\",\"2006-05-18T00:00:00\",\"2006-05-19T00:00:00\",\"2006-05-22T00:00:00\",\"2006-05-23T00:00:00\",\"2006-05-24T00:00:00\",\"2006-05-25T00:00:00\",\"2006-05-26T00:00:00\",\"2006-05-30T00:00:00\",\"2006-05-31T00:00:00\",\"2006-06-01T00:00:00\",\"2006-06-02T00:00:00\",\"2006-06-05T00:00:00\",\"2006-06-06T00:00:00\",\"2006-06-07T00:00:00\",\"2006-06-08T00:00:00\",\"2006-06-09T00:00:00\",\"2006-06-12T00:00:00\",\"2006-06-13T00:00:00\",\"2006-06-14T00:00:00\",\"2006-06-15T00:00:00\",\"2006-06-16T00:00:00\",\"2006-06-19T00:00:00\",\"2006-06-20T00:00:00\",\"2006-06-21T00:00:00\",\"2006-06-22T00:00:00\",\"2006-06-23T00:00:00\",\"2006-06-26T00:00:00\",\"2006-06-27T00:00:00\",\"2006-06-28T00:00:00\",\"2006-06-29T00:00:00\",\"2006-06-30T00:00:00\",\"2006-07-03T00:00:00\",\"2006-07-05T00:00:00\",\"2006-07-06T00:00:00\",\"2006-07-07T00:00:00\",\"2006-07-10T00:00:00\",\"2006-07-11T00:00:00\",\"2006-07-12T00:00:00\",\"2006-07-13T00:00:00\",\"2006-07-14T00:00:00\",\"2006-07-17T00:00:00\",\"2006-07-18T00:00:00\",\"2006-07-19T00:00:00\",\"2006-07-20T00:00:00\",\"2006-07-21T00:00:00\",\"2006-07-24T00:00:00\",\"2006-07-25T00:00:00\",\"2006-07-26T00:00:00\",\"2006-07-27T00:00:00\",\"2006-07-28T00:00:00\",\"2006-07-31T00:00:00\",\"2006-08-01T00:00:00\",\"2006-08-02T00:00:00\",\"2006-08-03T00:00:00\",\"2006-08-04T00:00:00\",\"2006-08-07T00:00:00\",\"2006-08-08T00:00:00\",\"2006-08-09T00:00:00\",\"2006-08-10T00:00:00\",\"2006-08-11T00:00:00\",\"2006-08-14T00:00:00\",\"2006-08-15T00:00:00\",\"2006-08-16T00:00:00\",\"2006-08-17T00:00:00\",\"2006-08-18T00:00:00\",\"2006-08-21T00:00:00\",\"2006-08-22T00:00:00\",\"2006-08-23T00:00:00\",\"2006-08-24T00:00:00\",\"2006-08-25T00:00:00\",\"2006-08-28T00:00:00\",\"2006-08-29T00:00:00\",\"2006-08-30T00:00:00\",\"2006-08-31T00:00:00\",\"2006-09-01T00:00:00\",\"2006-09-05T00:00:00\",\"2006-09-06T00:00:00\",\"2006-09-07T00:00:00\",\"2006-09-08T00:00:00\",\"2006-09-11T00:00:00\",\"2006-09-12T00:00:00\",\"2006-09-13T00:00:00\",\"2006-09-14T00:00:00\",\"2006-09-15T00:00:00\",\"2006-09-18T00:00:00\",\"2006-09-19T00:00:00\",\"2006-09-20T00:00:00\",\"2006-09-21T00:00:00\",\"2006-09-22T00:00:00\",\"2006-09-25T00:00:00\",\"2006-09-26T00:00:00\",\"2006-09-27T00:00:00\",\"2006-09-28T00:00:00\",\"2006-09-29T00:00:00\",\"2006-10-02T00:00:00\",\"2006-10-03T00:00:00\",\"2006-10-04T00:00:00\",\"2006-10-05T00:00:00\",\"2006-10-06T00:00:00\",\"2006-10-09T00:00:00\",\"2006-10-10T00:00:00\",\"2006-10-11T00:00:00\",\"2006-10-12T00:00:00\",\"2006-10-13T00:00:00\",\"2006-10-16T00:00:00\",\"2006-10-17T00:00:00\",\"2006-10-18T00:00:00\",\"2006-10-19T00:00:00\",\"2006-10-20T00:00:00\",\"2006-10-23T00:00:00\",\"2006-10-24T00:00:00\",\"2006-10-25T00:00:00\",\"2006-10-26T00:00:00\",\"2006-10-27T00:00:00\",\"2006-10-30T00:00:00\",\"2006-10-31T00:00:00\",\"2006-11-01T00:00:00\",\"2006-11-02T00:00:00\",\"2006-11-03T00:00:00\",\"2006-11-06T00:00:00\",\"2006-11-07T00:00:00\",\"2006-11-08T00:00:00\",\"2006-11-09T00:00:00\",\"2006-11-10T00:00:00\",\"2006-11-13T00:00:00\",\"2006-11-14T00:00:00\",\"2006-11-15T00:00:00\",\"2006-11-16T00:00:00\",\"2006-11-17T00:00:00\",\"2006-11-20T00:00:00\",\"2006-11-21T00:00:00\",\"2006-11-22T00:00:00\",\"2006-11-24T00:00:00\",\"2006-11-27T00:00:00\",\"2006-11-28T00:00:00\",\"2006-11-29T00:00:00\",\"2006-11-30T00:00:00\",\"2006-12-01T00:00:00\",\"2006-12-04T00:00:00\",\"2006-12-05T00:00:00\",\"2006-12-06T00:00:00\",\"2006-12-07T00:00:00\",\"2006-12-08T00:00:00\",\"2006-12-11T00:00:00\",\"2006-12-12T00:00:00\",\"2006-12-13T00:00:00\",\"2006-12-14T00:00:00\",\"2006-12-15T00:00:00\",\"2006-12-18T00:00:00\",\"2006-12-19T00:00:00\",\"2006-12-20T00:00:00\",\"2006-12-21T00:00:00\",\"2006-12-22T00:00:00\",\"2006-12-26T00:00:00\",\"2006-12-27T00:00:00\",\"2006-12-28T00:00:00\",\"2006-12-29T00:00:00\",\"2007-01-03T00:00:00\",\"2007-01-04T00:00:00\",\"2007-01-05T00:00:00\",\"2007-01-08T00:00:00\",\"2007-01-09T00:00:00\",\"2007-01-10T00:00:00\",\"2007-01-11T00:00:00\",\"2007-01-12T00:00:00\",\"2007-01-16T00:00:00\",\"2007-01-17T00:00:00\",\"2007-01-18T00:00:00\",\"2007-01-19T00:00:00\",\"2007-01-22T00:00:00\",\"2007-01-23T00:00:00\",\"2007-01-24T00:00:00\",\"2007-01-25T00:00:00\",\"2007-01-26T00:00:00\",\"2007-01-29T00:00:00\",\"2007-01-30T00:00:00\",\"2007-01-31T00:00:00\",\"2007-02-01T00:00:00\",\"2007-02-02T00:00:00\",\"2007-02-05T00:00:00\",\"2007-02-06T00:00:00\",\"2007-02-07T00:00:00\",\"2007-02-08T00:00:00\",\"2007-02-09T00:00:00\",\"2007-02-12T00:00:00\",\"2007-02-13T00:00:00\",\"2007-02-14T00:00:00\",\"2007-02-15T00:00:00\",\"2007-02-16T00:00:00\",\"2007-02-20T00:00:00\",\"2007-02-21T00:00:00\",\"2007-02-22T00:00:00\",\"2007-02-23T00:00:00\",\"2007-02-26T00:00:00\",\"2007-02-27T00:00:00\",\"2007-02-28T00:00:00\",\"2007-03-01T00:00:00\",\"2007-03-02T00:00:00\",\"2007-03-05T00:00:00\",\"2007-03-06T00:00:00\",\"2007-03-07T00:00:00\",\"2007-03-08T00:00:00\",\"2007-03-09T00:00:00\",\"2007-03-12T00:00:00\",\"2007-03-13T00:00:00\",\"2007-03-14T00:00:00\",\"2007-03-15T00:00:00\",\"2007-03-16T00:00:00\",\"2007-03-19T00:00:00\",\"2007-03-20T00:00:00\",\"2007-03-21T00:00:00\",\"2007-03-22T00:00:00\",\"2007-03-23T00:00:00\",\"2007-03-26T00:00:00\",\"2007-03-27T00:00:00\",\"2007-03-28T00:00:00\",\"2007-03-29T00:00:00\",\"2007-03-30T00:00:00\",\"2007-04-02T00:00:00\",\"2007-04-03T00:00:00\",\"2007-04-04T00:00:00\",\"2007-04-05T00:00:00\",\"2007-04-09T00:00:00\",\"2007-04-10T00:00:00\",\"2007-04-11T00:00:00\",\"2007-04-12T00:00:00\",\"2007-04-13T00:00:00\",\"2007-04-16T00:00:00\",\"2007-04-17T00:00:00\",\"2007-04-18T00:00:00\",\"2007-04-19T00:00:00\",\"2007-04-20T00:00:00\",\"2007-04-23T00:00:00\",\"2007-04-24T00:00:00\",\"2007-04-25T00:00:00\",\"2007-04-26T00:00:00\",\"2007-04-27T00:00:00\",\"2007-04-30T00:00:00\",\"2007-05-01T00:00:00\",\"2007-05-02T00:00:00\",\"2007-05-03T00:00:00\",\"2007-05-04T00:00:00\",\"2007-05-07T00:00:00\",\"2007-05-08T00:00:00\",\"2007-05-09T00:00:00\",\"2007-05-10T00:00:00\",\"2007-05-11T00:00:00\",\"2007-05-14T00:00:00\",\"2007-05-15T00:00:00\",\"2007-05-16T00:00:00\",\"2007-05-17T00:00:00\",\"2007-05-18T00:00:00\",\"2007-05-21T00:00:00\",\"2007-05-22T00:00:00\",\"2007-05-23T00:00:00\",\"2007-05-24T00:00:00\",\"2007-05-25T00:00:00\",\"2007-05-29T00:00:00\",\"2007-05-30T00:00:00\",\"2007-05-31T00:00:00\",\"2007-06-01T00:00:00\",\"2007-06-04T00:00:00\",\"2007-06-05T00:00:00\",\"2007-06-06T00:00:00\",\"2007-06-07T00:00:00\",\"2007-06-08T00:00:00\",\"2007-06-11T00:00:00\",\"2007-06-12T00:00:00\",\"2007-06-13T00:00:00\",\"2007-06-14T00:00:00\",\"2007-06-15T00:00:00\",\"2007-06-18T00:00:00\",\"2007-06-19T00:00:00\",\"2007-06-20T00:00:00\",\"2007-06-21T00:00:00\",\"2007-06-22T00:00:00\",\"2007-06-25T00:00:00\",\"2007-06-26T00:00:00\",\"2007-06-27T00:00:00\",\"2007-06-28T00:00:00\",\"2007-06-29T00:00:00\",\"2007-07-02T00:00:00\",\"2007-07-03T00:00:00\",\"2007-07-05T00:00:00\",\"2007-07-06T00:00:00\",\"2007-07-09T00:00:00\",\"2007-07-10T00:00:00\",\"2007-07-11T00:00:00\",\"2007-07-12T00:00:00\",\"2007-07-13T00:00:00\",\"2007-07-16T00:00:00\",\"2007-07-17T00:00:00\",\"2007-07-18T00:00:00\",\"2007-07-19T00:00:00\",\"2007-07-20T00:00:00\",\"2007-07-23T00:00:00\",\"2007-07-24T00:00:00\",\"2007-07-25T00:00:00\",\"2007-07-26T00:00:00\",\"2007-07-27T00:00:00\",\"2007-07-30T00:00:00\",\"2007-07-31T00:00:00\",\"2007-08-01T00:00:00\",\"2007-08-02T00:00:00\",\"2007-08-03T00:00:00\",\"2007-08-06T00:00:00\",\"2007-08-07T00:00:00\",\"2007-08-08T00:00:00\",\"2007-08-09T00:00:00\",\"2007-08-10T00:00:00\",\"2007-08-13T00:00:00\",\"2007-08-14T00:00:00\",\"2007-08-15T00:00:00\",\"2007-08-16T00:00:00\",\"2007-08-17T00:00:00\",\"2007-08-20T00:00:00\",\"2007-08-21T00:00:00\",\"2007-08-22T00:00:00\",\"2007-08-23T00:00:00\",\"2007-08-24T00:00:00\",\"2007-08-27T00:00:00\",\"2007-08-28T00:00:00\",\"2007-08-29T00:00:00\",\"2007-08-30T00:00:00\",\"2007-08-31T00:00:00\",\"2007-09-04T00:00:00\",\"2007-09-05T00:00:00\",\"2007-09-06T00:00:00\",\"2007-09-07T00:00:00\",\"2007-09-10T00:00:00\",\"2007-09-11T00:00:00\",\"2007-09-12T00:00:00\",\"2007-09-13T00:00:00\",\"2007-09-14T00:00:00\",\"2007-09-17T00:00:00\",\"2007-09-18T00:00:00\",\"2007-09-19T00:00:00\",\"2007-09-20T00:00:00\",\"2007-09-21T00:00:00\",\"2007-09-24T00:00:00\",\"2007-09-25T00:00:00\",\"2007-09-26T00:00:00\",\"2007-09-27T00:00:00\",\"2007-09-28T00:00:00\",\"2007-10-01T00:00:00\",\"2007-10-02T00:00:00\",\"2007-10-03T00:00:00\",\"2007-10-04T00:00:00\",\"2007-10-05T00:00:00\",\"2007-10-08T00:00:00\",\"2007-10-09T00:00:00\",\"2007-10-10T00:00:00\",\"2007-10-11T00:00:00\",\"2007-10-12T00:00:00\",\"2007-10-15T00:00:00\",\"2007-10-16T00:00:00\",\"2007-10-17T00:00:00\",\"2007-10-18T00:00:00\",\"2007-10-19T00:00:00\",\"2007-10-22T00:00:00\",\"2007-10-23T00:00:00\",\"2007-10-24T00:00:00\",\"2007-10-25T00:00:00\",\"2007-10-26T00:00:00\",\"2007-10-29T00:00:00\",\"2007-10-30T00:00:00\",\"2007-10-31T00:00:00\",\"2007-11-01T00:00:00\",\"2007-11-02T00:00:00\",\"2007-11-05T00:00:00\",\"2007-11-06T00:00:00\",\"2007-11-07T00:00:00\",\"2007-11-08T00:00:00\",\"2007-11-09T00:00:00\",\"2007-11-12T00:00:00\",\"2007-11-13T00:00:00\",\"2007-11-14T00:00:00\",\"2007-11-15T00:00:00\",\"2007-11-16T00:00:00\",\"2007-11-19T00:00:00\",\"2007-11-20T00:00:00\",\"2007-11-21T00:00:00\",\"2007-11-23T00:00:00\",\"2007-11-26T00:00:00\",\"2007-11-27T00:00:00\",\"2007-11-28T00:00:00\",\"2007-11-29T00:00:00\",\"2007-11-30T00:00:00\",\"2007-12-03T00:00:00\",\"2007-12-04T00:00:00\",\"2007-12-05T00:00:00\",\"2007-12-06T00:00:00\",\"2007-12-07T00:00:00\",\"2007-12-10T00:00:00\",\"2007-12-11T00:00:00\",\"2007-12-12T00:00:00\",\"2007-12-13T00:00:00\",\"2007-12-14T00:00:00\",\"2007-12-17T00:00:00\",\"2007-12-18T00:00:00\",\"2007-12-19T00:00:00\",\"2007-12-20T00:00:00\",\"2007-12-21T00:00:00\",\"2007-12-24T00:00:00\",\"2007-12-26T00:00:00\",\"2007-12-27T00:00:00\",\"2007-12-28T00:00:00\",\"2007-12-31T00:00:00\",\"2008-01-02T00:00:00\",\"2008-01-03T00:00:00\",\"2008-01-04T00:00:00\",\"2008-01-07T00:00:00\",\"2008-01-08T00:00:00\",\"2008-01-09T00:00:00\",\"2008-01-10T00:00:00\",\"2008-01-11T00:00:00\",\"2008-01-14T00:00:00\",\"2008-01-15T00:00:00\",\"2008-01-16T00:00:00\",\"2008-01-17T00:00:00\",\"2008-01-18T00:00:00\",\"2008-01-22T00:00:00\",\"2008-01-23T00:00:00\",\"2008-01-24T00:00:00\",\"2008-01-25T00:00:00\",\"2008-01-28T00:00:00\",\"2008-01-29T00:00:00\",\"2008-01-30T00:00:00\",\"2008-01-31T00:00:00\",\"2008-02-01T00:00:00\",\"2008-02-04T00:00:00\",\"2008-02-05T00:00:00\",\"2008-02-06T00:00:00\",\"2008-02-07T00:00:00\",\"2008-02-08T00:00:00\",\"2008-02-11T00:00:00\",\"2008-02-12T00:00:00\",\"2008-02-13T00:00:00\",\"2008-02-14T00:00:00\",\"2008-02-15T00:00:00\",\"2008-02-19T00:00:00\",\"2008-02-20T00:00:00\",\"2008-02-21T00:00:00\",\"2008-02-22T00:00:00\",\"2008-02-25T00:00:00\",\"2008-02-26T00:00:00\",\"2008-02-27T00:00:00\",\"2008-02-28T00:00:00\",\"2008-02-29T00:00:00\",\"2008-03-03T00:00:00\",\"2008-03-04T00:00:00\",\"2008-03-05T00:00:00\",\"2008-03-06T00:00:00\",\"2008-03-07T00:00:00\",\"2008-03-10T00:00:00\",\"2008-03-11T00:00:00\",\"2008-03-12T00:00:00\",\"2008-03-13T00:00:00\",\"2008-03-14T00:00:00\",\"2008-03-17T00:00:00\",\"2008-03-18T00:00:00\",\"2008-03-19T00:00:00\",\"2008-03-20T00:00:00\",\"2008-03-24T00:00:00\",\"2008-03-25T00:00:00\",\"2008-03-26T00:00:00\",\"2008-03-27T00:00:00\",\"2008-03-28T00:00:00\",\"2008-03-31T00:00:00\",\"2008-04-01T00:00:00\",\"2008-04-02T00:00:00\",\"2008-04-03T00:00:00\",\"2008-04-04T00:00:00\",\"2008-04-07T00:00:00\",\"2008-04-08T00:00:00\",\"2008-04-09T00:00:00\",\"2008-04-10T00:00:00\",\"2008-04-11T00:00:00\",\"2008-04-14T00:00:00\",\"2008-04-15T00:00:00\",\"2008-04-16T00:00:00\",\"2008-04-17T00:00:00\",\"2008-04-18T00:00:00\",\"2008-04-21T00:00:00\",\"2008-04-22T00:00:00\",\"2008-04-23T00:00:00\",\"2008-04-24T00:00:00\",\"2008-04-25T00:00:00\",\"2008-04-28T00:00:00\",\"2008-04-29T00:00:00\",\"2008-04-30T00:00:00\",\"2008-05-01T00:00:00\",\"2008-05-02T00:00:00\",\"2008-05-05T00:00:00\",\"2008-05-06T00:00:00\",\"2008-05-07T00:00:00\",\"2008-05-08T00:00:00\",\"2008-05-09T00:00:00\",\"2008-05-12T00:00:00\",\"2008-05-13T00:00:00\",\"2008-05-14T00:00:00\",\"2008-05-15T00:00:00\",\"2008-05-16T00:00:00\",\"2008-05-19T00:00:00\",\"2008-05-20T00:00:00\",\"2008-05-21T00:00:00\",\"2008-05-22T00:00:00\",\"2008-05-23T00:00:00\",\"2008-05-27T00:00:00\",\"2008-05-28T00:00:00\",\"2008-05-29T00:00:00\",\"2008-05-30T00:00:00\",\"2008-06-02T00:00:00\",\"2008-06-03T00:00:00\",\"2008-06-04T00:00:00\",\"2008-06-05T00:00:00\",\"2008-06-06T00:00:00\",\"2008-06-09T00:00:00\",\"2008-06-10T00:00:00\",\"2008-06-11T00:00:00\",\"2008-06-12T00:00:00\",\"2008-06-13T00:00:00\",\"2008-06-16T00:00:00\",\"2008-06-17T00:00:00\",\"2008-06-18T00:00:00\",\"2008-06-19T00:00:00\",\"2008-06-20T00:00:00\",\"2008-06-23T00:00:00\",\"2008-06-24T00:00:00\",\"2008-06-25T00:00:00\",\"2008-06-26T00:00:00\",\"2008-06-27T00:00:00\",\"2008-06-30T00:00:00\",\"2008-07-01T00:00:00\",\"2008-07-02T00:00:00\",\"2008-07-03T00:00:00\",\"2008-07-07T00:00:00\",\"2008-07-08T00:00:00\",\"2008-07-09T00:00:00\",\"2008-07-10T00:00:00\",\"2008-07-11T00:00:00\",\"2008-07-14T00:00:00\",\"2008-07-15T00:00:00\",\"2008-07-16T00:00:00\",\"2008-07-17T00:00:00\",\"2008-07-18T00:00:00\",\"2008-07-21T00:00:00\",\"2008-07-22T00:00:00\",\"2008-07-23T00:00:00\",\"2008-07-24T00:00:00\",\"2008-07-25T00:00:00\",\"2008-07-28T00:00:00\",\"2008-07-29T00:00:00\",\"2008-07-30T00:00:00\",\"2008-07-31T00:00:00\",\"2008-08-01T00:00:00\",\"2008-08-04T00:00:00\",\"2008-08-05T00:00:00\",\"2008-08-06T00:00:00\",\"2008-08-07T00:00:00\",\"2008-08-08T00:00:00\",\"2008-08-11T00:00:00\",\"2008-08-12T00:00:00\",\"2008-08-13T00:00:00\",\"2008-08-14T00:00:00\",\"2008-08-15T00:00:00\",\"2008-08-18T00:00:00\",\"2008-08-19T00:00:00\",\"2008-08-20T00:00:00\",\"2008-08-21T00:00:00\",\"2008-08-22T00:00:00\",\"2008-08-25T00:00:00\",\"2008-08-26T00:00:00\",\"2008-08-27T00:00:00\",\"2008-08-28T00:00:00\",\"2008-08-29T00:00:00\",\"2008-09-02T00:00:00\",\"2008-09-03T00:00:00\",\"2008-09-04T00:00:00\",\"2008-09-05T00:00:00\",\"2008-09-08T00:00:00\",\"2008-09-09T00:00:00\",\"2008-09-10T00:00:00\",\"2008-09-11T00:00:00\",\"2008-09-12T00:00:00\",\"2008-09-15T00:00:00\",\"2008-09-16T00:00:00\",\"2008-09-17T00:00:00\",\"2008-09-18T00:00:00\",\"2008-09-19T00:00:00\",\"2008-09-22T00:00:00\",\"2008-09-23T00:00:00\",\"2008-09-24T00:00:00\",\"2008-09-25T00:00:00\",\"2008-09-26T00:00:00\",\"2008-09-29T00:00:00\",\"2008-09-30T00:00:00\",\"2008-10-01T00:00:00\",\"2008-10-02T00:00:00\",\"2008-10-03T00:00:00\",\"2008-10-06T00:00:00\",\"2008-10-07T00:00:00\",\"2008-10-08T00:00:00\",\"2008-10-09T00:00:00\",\"2008-10-10T00:00:00\",\"2008-10-13T00:00:00\",\"2008-10-14T00:00:00\",\"2008-10-15T00:00:00\",\"2008-10-16T00:00:00\",\"2008-10-17T00:00:00\",\"2008-10-20T00:00:00\",\"2008-10-21T00:00:00\",\"2008-10-22T00:00:00\",\"2008-10-23T00:00:00\",\"2008-10-24T00:00:00\",\"2008-10-27T00:00:00\",\"2008-10-28T00:00:00\",\"2008-10-29T00:00:00\",\"2008-10-30T00:00:00\",\"2008-10-31T00:00:00\",\"2008-11-03T00:00:00\",\"2008-11-04T00:00:00\",\"2008-11-05T00:00:00\",\"2008-11-06T00:00:00\",\"2008-11-07T00:00:00\",\"2008-11-10T00:00:00\",\"2008-11-11T00:00:00\",\"2008-11-12T00:00:00\",\"2008-11-13T00:00:00\",\"2008-11-14T00:00:00\",\"2008-11-17T00:00:00\",\"2008-11-18T00:00:00\",\"2008-11-19T00:00:00\",\"2008-11-20T00:00:00\",\"2008-11-21T00:00:00\",\"2008-11-24T00:00:00\",\"2008-11-25T00:00:00\",\"2008-11-26T00:00:00\",\"2008-11-28T00:00:00\",\"2008-12-01T00:00:00\",\"2008-12-02T00:00:00\",\"2008-12-03T00:00:00\",\"2008-12-04T00:00:00\",\"2008-12-05T00:00:00\",\"2008-12-08T00:00:00\",\"2008-12-09T00:00:00\",\"2008-12-10T00:00:00\",\"2008-12-11T00:00:00\",\"2008-12-12T00:00:00\",\"2008-12-15T00:00:00\",\"2008-12-16T00:00:00\",\"2008-12-17T00:00:00\",\"2008-12-18T00:00:00\",\"2008-12-19T00:00:00\",\"2008-12-22T00:00:00\",\"2008-12-23T00:00:00\",\"2008-12-24T00:00:00\",\"2008-12-26T00:00:00\",\"2008-12-29T00:00:00\",\"2008-12-30T00:00:00\",\"2008-12-31T00:00:00\",\"2009-01-02T00:00:00\",\"2009-01-05T00:00:00\",\"2009-01-06T00:00:00\",\"2009-01-07T00:00:00\",\"2009-01-08T00:00:00\",\"2009-01-09T00:00:00\",\"2009-01-12T00:00:00\",\"2009-01-13T00:00:00\",\"2009-01-14T00:00:00\",\"2009-01-15T00:00:00\",\"2009-01-16T00:00:00\",\"2009-01-20T00:00:00\",\"2009-01-21T00:00:00\",\"2009-01-22T00:00:00\",\"2009-01-23T00:00:00\",\"2009-01-26T00:00:00\",\"2009-01-27T00:00:00\",\"2009-01-28T00:00:00\",\"2009-01-29T00:00:00\",\"2009-01-30T00:00:00\",\"2009-02-02T00:00:00\",\"2009-02-03T00:00:00\",\"2009-02-04T00:00:00\",\"2009-02-05T00:00:00\",\"2009-02-06T00:00:00\",\"2009-02-09T00:00:00\",\"2009-02-10T00:00:00\",\"2009-02-11T00:00:00\",\"2009-02-12T00:00:00\",\"2009-02-13T00:00:00\",\"2009-02-17T00:00:00\",\"2009-02-18T00:00:00\",\"2009-02-19T00:00:00\",\"2009-02-20T00:00:00\",\"2009-02-23T00:00:00\",\"2009-02-24T00:00:00\",\"2009-02-25T00:00:00\",\"2009-02-26T00:00:00\",\"2009-02-27T00:00:00\",\"2009-03-02T00:00:00\",\"2009-03-03T00:00:00\",\"2009-03-04T00:00:00\",\"2009-03-05T00:00:00\",\"2009-03-06T00:00:00\",\"2009-03-09T00:00:00\",\"2009-03-10T00:00:00\",\"2009-03-11T00:00:00\",\"2009-03-12T00:00:00\",\"2009-03-13T00:00:00\",\"2009-03-16T00:00:00\",\"2009-03-17T00:00:00\",\"2009-03-18T00:00:00\",\"2009-03-19T00:00:00\",\"2009-03-20T00:00:00\",\"2009-03-23T00:00:00\",\"2009-03-24T00:00:00\",\"2009-03-25T00:00:00\",\"2009-03-26T00:00:00\",\"2009-03-27T00:00:00\",\"2009-03-30T00:00:00\",\"2009-03-31T00:00:00\",\"2009-04-01T00:00:00\",\"2009-04-02T00:00:00\",\"2009-04-03T00:00:00\",\"2009-04-06T00:00:00\",\"2009-04-07T00:00:00\",\"2009-04-08T00:00:00\",\"2009-04-09T00:00:00\",\"2009-04-13T00:00:00\",\"2009-04-14T00:00:00\",\"2009-04-15T00:00:00\",\"2009-04-16T00:00:00\",\"2009-04-17T00:00:00\",\"2009-04-20T00:00:00\",\"2009-04-21T00:00:00\",\"2009-04-22T00:00:00\",\"2009-04-23T00:00:00\",\"2009-04-24T00:00:00\",\"2009-04-27T00:00:00\",\"2009-04-28T00:00:00\",\"2009-04-29T00:00:00\",\"2009-04-30T00:00:00\",\"2009-05-01T00:00:00\",\"2009-05-04T00:00:00\",\"2009-05-05T00:00:00\",\"2009-05-06T00:00:00\",\"2009-05-07T00:00:00\",\"2009-05-08T00:00:00\",\"2009-05-11T00:00:00\",\"2009-05-12T00:00:00\",\"2009-05-13T00:00:00\",\"2009-05-14T00:00:00\",\"2009-05-15T00:00:00\",\"2009-05-18T00:00:00\",\"2009-05-19T00:00:00\",\"2009-05-20T00:00:00\",\"2009-05-21T00:00:00\",\"2009-05-22T00:00:00\",\"2009-05-26T00:00:00\",\"2009-05-27T00:00:00\",\"2009-05-28T00:00:00\",\"2009-05-29T00:00:00\",\"2009-06-01T00:00:00\",\"2009-06-02T00:00:00\",\"2009-06-03T00:00:00\",\"2009-06-04T00:00:00\",\"2009-06-05T00:00:00\",\"2009-06-08T00:00:00\",\"2009-06-09T00:00:00\",\"2009-06-10T00:00:00\",\"2009-06-11T00:00:00\",\"2009-06-12T00:00:00\",\"2009-06-15T00:00:00\",\"2009-06-16T00:00:00\",\"2009-06-17T00:00:00\",\"2009-06-18T00:00:00\",\"2009-06-19T00:00:00\",\"2009-06-22T00:00:00\",\"2009-06-23T00:00:00\",\"2009-06-24T00:00:00\",\"2009-06-25T00:00:00\",\"2009-06-26T00:00:00\",\"2009-06-29T00:00:00\",\"2009-06-30T00:00:00\",\"2009-07-01T00:00:00\",\"2009-07-02T00:00:00\",\"2009-07-06T00:00:00\",\"2009-07-07T00:00:00\",\"2009-07-08T00:00:00\",\"2009-07-09T00:00:00\",\"2009-07-10T00:00:00\",\"2009-07-13T00:00:00\",\"2009-07-14T00:00:00\",\"2009-07-15T00:00:00\",\"2009-07-16T00:00:00\",\"2009-07-17T00:00:00\",\"2009-07-20T00:00:00\",\"2009-07-21T00:00:00\",\"2009-07-22T00:00:00\",\"2009-07-23T00:00:00\",\"2009-07-24T00:00:00\",\"2009-07-27T00:00:00\",\"2009-07-28T00:00:00\",\"2009-07-29T00:00:00\",\"2009-07-30T00:00:00\",\"2009-07-31T00:00:00\",\"2009-08-03T00:00:00\",\"2009-08-04T00:00:00\",\"2009-08-05T00:00:00\",\"2009-08-06T00:00:00\",\"2009-08-07T00:00:00\",\"2009-08-10T00:00:00\",\"2009-08-11T00:00:00\",\"2009-08-12T00:00:00\",\"2009-08-13T00:00:00\",\"2009-08-14T00:00:00\",\"2009-08-17T00:00:00\",\"2009-08-18T00:00:00\",\"2009-08-19T00:00:00\",\"2009-08-20T00:00:00\",\"2009-08-21T00:00:00\",\"2009-08-24T00:00:00\",\"2009-08-25T00:00:00\",\"2009-08-26T00:00:00\",\"2009-08-27T00:00:00\",\"2009-08-28T00:00:00\",\"2009-08-31T00:00:00\",\"2009-09-01T00:00:00\",\"2009-09-02T00:00:00\",\"2009-09-03T00:00:00\",\"2009-09-04T00:00:00\",\"2009-09-08T00:00:00\",\"2009-09-09T00:00:00\",\"2009-09-10T00:00:00\",\"2009-09-11T00:00:00\",\"2009-09-14T00:00:00\",\"2009-09-15T00:00:00\",\"2009-09-16T00:00:00\",\"2009-09-17T00:00:00\",\"2009-09-18T00:00:00\",\"2009-09-21T00:00:00\",\"2009-09-22T00:00:00\",\"2009-09-23T00:00:00\",\"2009-09-24T00:00:00\",\"2009-09-25T00:00:00\",\"2009-09-28T00:00:00\",\"2009-09-29T00:00:00\",\"2009-09-30T00:00:00\",\"2009-10-01T00:00:00\",\"2009-10-02T00:00:00\",\"2009-10-05T00:00:00\",\"2009-10-06T00:00:00\",\"2009-10-07T00:00:00\",\"2009-10-08T00:00:00\",\"2009-10-09T00:00:00\",\"2009-10-12T00:00:00\",\"2009-10-13T00:00:00\",\"2009-10-14T00:00:00\",\"2009-10-15T00:00:00\",\"2009-10-16T00:00:00\",\"2009-10-19T00:00:00\",\"2009-10-20T00:00:00\",\"2009-10-21T00:00:00\",\"2009-10-22T00:00:00\",\"2009-10-23T00:00:00\",\"2009-10-26T00:00:00\",\"2009-10-27T00:00:00\",\"2009-10-28T00:00:00\",\"2009-10-29T00:00:00\",\"2009-10-30T00:00:00\",\"2009-11-02T00:00:00\",\"2009-11-03T00:00:00\",\"2009-11-04T00:00:00\",\"2009-11-05T00:00:00\",\"2009-11-06T00:00:00\",\"2009-11-09T00:00:00\",\"2009-11-10T00:00:00\",\"2009-11-11T00:00:00\",\"2009-11-12T00:00:00\",\"2009-11-13T00:00:00\",\"2009-11-16T00:00:00\",\"2009-11-17T00:00:00\",\"2009-11-18T00:00:00\",\"2009-11-19T00:00:00\",\"2009-11-20T00:00:00\",\"2009-11-23T00:00:00\",\"2009-11-24T00:00:00\",\"2009-11-25T00:00:00\",\"2009-11-27T00:00:00\",\"2009-11-30T00:00:00\",\"2009-12-01T00:00:00\",\"2009-12-02T00:00:00\",\"2009-12-03T00:00:00\",\"2009-12-04T00:00:00\",\"2009-12-07T00:00:00\",\"2009-12-08T00:00:00\",\"2009-12-09T00:00:00\",\"2009-12-10T00:00:00\",\"2009-12-11T00:00:00\",\"2009-12-14T00:00:00\",\"2009-12-15T00:00:00\",\"2009-12-16T00:00:00\",\"2009-12-17T00:00:00\",\"2009-12-18T00:00:00\",\"2009-12-21T00:00:00\",\"2009-12-22T00:00:00\",\"2009-12-23T00:00:00\",\"2009-12-24T00:00:00\",\"2009-12-28T00:00:00\",\"2009-12-29T00:00:00\",\"2009-12-30T00:00:00\",\"2009-12-31T00:00:00\",\"2010-01-04T00:00:00\",\"2010-01-05T00:00:00\",\"2010-01-06T00:00:00\",\"2010-01-07T00:00:00\",\"2010-01-08T00:00:00\",\"2010-01-11T00:00:00\",\"2010-01-12T00:00:00\",\"2010-01-13T00:00:00\",\"2010-01-14T00:00:00\",\"2010-01-15T00:00:00\",\"2010-01-19T00:00:00\",\"2010-01-20T00:00:00\",\"2010-01-21T00:00:00\",\"2010-01-22T00:00:00\",\"2010-01-25T00:00:00\",\"2010-01-26T00:00:00\",\"2010-01-27T00:00:00\",\"2010-01-28T00:00:00\",\"2010-01-29T00:00:00\",\"2010-02-01T00:00:00\",\"2010-02-02T00:00:00\",\"2010-02-03T00:00:00\",\"2010-02-04T00:00:00\",\"2010-02-05T00:00:00\",\"2010-02-08T00:00:00\",\"2010-02-09T00:00:00\",\"2010-02-10T00:00:00\",\"2010-02-11T00:00:00\",\"2010-02-12T00:00:00\",\"2010-02-16T00:00:00\",\"2010-02-17T00:00:00\",\"2010-02-18T00:00:00\",\"2010-02-19T00:00:00\",\"2010-02-22T00:00:00\",\"2010-02-23T00:00:00\",\"2010-02-24T00:00:00\",\"2010-02-25T00:00:00\",\"2010-02-26T00:00:00\",\"2010-03-01T00:00:00\",\"2010-03-02T00:00:00\",\"2010-03-03T00:00:00\",\"2010-03-04T00:00:00\",\"2010-03-05T00:00:00\",\"2010-03-08T00:00:00\",\"2010-03-09T00:00:00\",\"2010-03-10T00:00:00\",\"2010-03-11T00:00:00\",\"2010-03-12T00:00:00\",\"2010-03-15T00:00:00\",\"2010-03-16T00:00:00\",\"2010-03-17T00:00:00\",\"2010-03-18T00:00:00\",\"2010-03-19T00:00:00\",\"2010-03-22T00:00:00\",\"2010-03-23T00:00:00\",\"2010-03-24T00:00:00\",\"2010-03-25T00:00:00\",\"2010-03-26T00:00:00\",\"2010-03-29T00:00:00\",\"2010-03-30T00:00:00\",\"2010-03-31T00:00:00\",\"2010-04-01T00:00:00\",\"2010-04-05T00:00:00\",\"2010-04-06T00:00:00\",\"2010-04-07T00:00:00\",\"2010-04-08T00:00:00\",\"2010-04-09T00:00:00\",\"2010-04-12T00:00:00\",\"2010-04-13T00:00:00\",\"2010-04-14T00:00:00\",\"2010-04-15T00:00:00\",\"2010-04-16T00:00:00\",\"2010-04-19T00:00:00\",\"2010-04-20T00:00:00\",\"2010-04-21T00:00:00\",\"2010-04-22T00:00:00\",\"2010-04-23T00:00:00\",\"2010-04-26T00:00:00\",\"2010-04-27T00:00:00\",\"2010-04-28T00:00:00\",\"2010-04-29T00:00:00\",\"2010-04-30T00:00:00\",\"2010-05-03T00:00:00\",\"2010-05-04T00:00:00\",\"2010-05-05T00:00:00\",\"2010-05-06T00:00:00\",\"2010-05-07T00:00:00\",\"2010-05-10T00:00:00\",\"2010-05-11T00:00:00\",\"2010-05-12T00:00:00\",\"2010-05-13T00:00:00\",\"2010-05-14T00:00:00\",\"2010-05-17T00:00:00\",\"2010-05-18T00:00:00\",\"2010-05-19T00:00:00\",\"2010-05-20T00:00:00\",\"2010-05-21T00:00:00\",\"2010-05-24T00:00:00\",\"2010-05-25T00:00:00\",\"2010-05-26T00:00:00\",\"2010-05-27T00:00:00\",\"2010-05-28T00:00:00\",\"2010-06-01T00:00:00\",\"2010-06-02T00:00:00\",\"2010-06-03T00:00:00\",\"2010-06-04T00:00:00\",\"2010-06-07T00:00:00\",\"2010-06-08T00:00:00\",\"2010-06-09T00:00:00\",\"2010-06-10T00:00:00\",\"2010-06-11T00:00:00\",\"2010-06-14T00:00:00\",\"2010-06-15T00:00:00\",\"2010-06-16T00:00:00\",\"2010-06-17T00:00:00\",\"2010-06-18T00:00:00\",\"2010-06-21T00:00:00\",\"2010-06-22T00:00:00\",\"2010-06-23T00:00:00\",\"2010-06-24T00:00:00\",\"2010-06-25T00:00:00\",\"2010-06-28T00:00:00\",\"2010-06-29T00:00:00\",\"2010-06-30T00:00:00\",\"2010-07-01T00:00:00\",\"2010-07-02T00:00:00\",\"2010-07-06T00:00:00\",\"2010-07-07T00:00:00\",\"2010-07-08T00:00:00\",\"2010-07-09T00:00:00\",\"2010-07-12T00:00:00\",\"2010-07-13T00:00:00\",\"2010-07-14T00:00:00\",\"2010-07-15T00:00:00\",\"2010-07-16T00:00:00\",\"2010-07-19T00:00:00\",\"2010-07-20T00:00:00\",\"2010-07-21T00:00:00\",\"2010-07-22T00:00:00\",\"2010-07-23T00:00:00\",\"2010-07-26T00:00:00\",\"2010-07-27T00:00:00\",\"2010-07-28T00:00:00\",\"2010-07-29T00:00:00\",\"2010-07-30T00:00:00\",\"2010-08-02T00:00:00\",\"2010-08-03T00:00:00\",\"2010-08-04T00:00:00\",\"2010-08-05T00:00:00\",\"2010-08-06T00:00:00\",\"2010-08-09T00:00:00\",\"2010-08-10T00:00:00\",\"2010-08-11T00:00:00\",\"2010-08-12T00:00:00\",\"2010-08-13T00:00:00\",\"2010-08-16T00:00:00\",\"2010-08-17T00:00:00\",\"2010-08-18T00:00:00\",\"2010-08-19T00:00:00\",\"2010-08-20T00:00:00\",\"2010-08-23T00:00:00\",\"2010-08-24T00:00:00\",\"2010-08-25T00:00:00\",\"2010-08-26T00:00:00\",\"2010-08-27T00:00:00\",\"2010-08-30T00:00:00\",\"2010-08-31T00:00:00\",\"2010-09-01T00:00:00\",\"2010-09-02T00:00:00\",\"2010-09-03T00:00:00\",\"2010-09-07T00:00:00\",\"2010-09-08T00:00:00\",\"2010-09-09T00:00:00\",\"2010-09-10T00:00:00\",\"2010-09-13T00:00:00\",\"2010-09-14T00:00:00\",\"2010-09-15T00:00:00\",\"2010-09-16T00:00:00\",\"2010-09-17T00:00:00\",\"2010-09-20T00:00:00\",\"2010-09-21T00:00:00\",\"2010-09-22T00:00:00\",\"2010-09-23T00:00:00\",\"2010-09-24T00:00:00\",\"2010-09-27T00:00:00\",\"2010-09-28T00:00:00\",\"2010-09-29T00:00:00\",\"2010-09-30T00:00:00\",\"2010-10-01T00:00:00\",\"2010-10-04T00:00:00\",\"2010-10-05T00:00:00\",\"2010-10-06T00:00:00\",\"2010-10-07T00:00:00\",\"2010-10-08T00:00:00\",\"2010-10-11T00:00:00\",\"2010-10-12T00:00:00\",\"2010-10-13T00:00:00\",\"2010-10-14T00:00:00\",\"2010-10-15T00:00:00\",\"2010-10-18T00:00:00\",\"2010-10-19T00:00:00\",\"2010-10-20T00:00:00\",\"2010-10-21T00:00:00\",\"2010-10-22T00:00:00\",\"2010-10-25T00:00:00\",\"2010-10-26T00:00:00\",\"2010-10-27T00:00:00\",\"2010-10-28T00:00:00\",\"2010-10-29T00:00:00\",\"2010-11-01T00:00:00\",\"2010-11-02T00:00:00\",\"2010-11-03T00:00:00\",\"2010-11-04T00:00:00\",\"2010-11-05T00:00:00\",\"2010-11-08T00:00:00\",\"2010-11-09T00:00:00\",\"2010-11-10T00:00:00\",\"2010-11-11T00:00:00\",\"2010-11-12T00:00:00\",\"2010-11-15T00:00:00\",\"2010-11-16T00:00:00\",\"2010-11-17T00:00:00\",\"2010-11-18T00:00:00\",\"2010-11-19T00:00:00\",\"2010-11-22T00:00:00\",\"2010-11-23T00:00:00\",\"2010-11-24T00:00:00\",\"2010-11-26T00:00:00\",\"2010-11-29T00:00:00\",\"2010-11-30T00:00:00\",\"2010-12-01T00:00:00\",\"2010-12-02T00:00:00\",\"2010-12-03T00:00:00\",\"2010-12-06T00:00:00\",\"2010-12-07T00:00:00\",\"2010-12-08T00:00:00\",\"2010-12-09T00:00:00\",\"2010-12-10T00:00:00\",\"2010-12-13T00:00:00\",\"2010-12-14T00:00:00\",\"2010-12-15T00:00:00\",\"2010-12-16T00:00:00\",\"2010-12-17T00:00:00\",\"2010-12-20T00:00:00\",\"2010-12-21T00:00:00\",\"2010-12-22T00:00:00\",\"2010-12-23T00:00:00\",\"2010-12-27T00:00:00\",\"2010-12-28T00:00:00\",\"2010-12-29T00:00:00\",\"2010-12-30T00:00:00\",\"2010-12-31T00:00:00\",\"2011-01-03T00:00:00\",\"2011-01-04T00:00:00\",\"2011-01-05T00:00:00\",\"2011-01-06T00:00:00\",\"2011-01-07T00:00:00\",\"2011-01-10T00:00:00\",\"2011-01-11T00:00:00\",\"2011-01-12T00:00:00\",\"2011-01-13T00:00:00\",\"2011-01-14T00:00:00\",\"2011-01-18T00:00:00\",\"2011-01-19T00:00:00\",\"2011-01-20T00:00:00\",\"2011-01-21T00:00:00\",\"2011-01-24T00:00:00\",\"2011-01-25T00:00:00\",\"2011-01-26T00:00:00\",\"2011-01-27T00:00:00\",\"2011-01-28T00:00:00\",\"2011-01-31T00:00:00\",\"2011-02-01T00:00:00\",\"2011-02-02T00:00:00\",\"2011-02-03T00:00:00\",\"2011-02-04T00:00:00\",\"2011-02-07T00:00:00\",\"2011-02-08T00:00:00\",\"2011-02-09T00:00:00\",\"2011-02-10T00:00:00\",\"2011-02-11T00:00:00\",\"2011-02-14T00:00:00\",\"2011-02-15T00:00:00\",\"2011-02-16T00:00:00\",\"2011-02-17T00:00:00\",\"2011-02-18T00:00:00\",\"2011-02-22T00:00:00\",\"2011-02-23T00:00:00\",\"2011-02-24T00:00:00\",\"2011-02-25T00:00:00\",\"2011-02-28T00:00:00\",\"2011-03-01T00:00:00\",\"2011-03-02T00:00:00\",\"2011-03-03T00:00:00\",\"2011-03-04T00:00:00\",\"2011-03-07T00:00:00\",\"2011-03-08T00:00:00\",\"2011-03-09T00:00:00\",\"2011-03-10T00:00:00\",\"2011-03-11T00:00:00\",\"2011-03-14T00:00:00\",\"2011-03-15T00:00:00\",\"2011-03-16T00:00:00\",\"2011-03-17T00:00:00\",\"2011-03-18T00:00:00\",\"2011-03-21T00:00:00\",\"2011-03-22T00:00:00\",\"2011-03-23T00:00:00\",\"2011-03-24T00:00:00\",\"2011-03-25T00:00:00\",\"2011-03-28T00:00:00\",\"2011-03-29T00:00:00\",\"2011-03-30T00:00:00\",\"2011-03-31T00:00:00\",\"2011-04-01T00:00:00\",\"2011-04-04T00:00:00\",\"2011-04-05T00:00:00\",\"2011-04-06T00:00:00\",\"2011-04-07T00:00:00\",\"2011-04-08T00:00:00\",\"2011-04-11T00:00:00\",\"2011-04-12T00:00:00\",\"2011-04-13T00:00:00\",\"2011-04-14T00:00:00\",\"2011-04-15T00:00:00\",\"2011-04-18T00:00:00\",\"2011-04-19T00:00:00\",\"2011-04-20T00:00:00\",\"2011-04-21T00:00:00\",\"2011-04-25T00:00:00\",\"2011-04-26T00:00:00\",\"2011-04-27T00:00:00\",\"2011-04-28T00:00:00\",\"2011-04-29T00:00:00\",\"2011-05-02T00:00:00\",\"2011-05-03T00:00:00\",\"2011-05-04T00:00:00\",\"2011-05-05T00:00:00\",\"2011-05-06T00:00:00\",\"2011-05-09T00:00:00\",\"2011-05-10T00:00:00\",\"2011-05-11T00:00:00\",\"2011-05-12T00:00:00\",\"2011-05-13T00:00:00\",\"2011-05-16T00:00:00\",\"2011-05-17T00:00:00\",\"2011-05-18T00:00:00\",\"2011-05-19T00:00:00\",\"2011-05-20T00:00:00\",\"2011-05-23T00:00:00\",\"2011-05-24T00:00:00\",\"2011-05-25T00:00:00\",\"2011-05-26T00:00:00\",\"2011-05-27T00:00:00\",\"2011-05-31T00:00:00\",\"2011-06-01T00:00:00\",\"2011-06-02T00:00:00\",\"2011-06-03T00:00:00\",\"2011-06-06T00:00:00\",\"2011-06-07T00:00:00\",\"2011-06-08T00:00:00\",\"2011-06-09T00:00:00\",\"2011-06-10T00:00:00\",\"2011-06-13T00:00:00\",\"2011-06-14T00:00:00\",\"2011-06-15T00:00:00\",\"2011-06-16T00:00:00\",\"2011-06-17T00:00:00\",\"2011-06-20T00:00:00\",\"2011-06-21T00:00:00\",\"2011-06-22T00:00:00\",\"2011-06-23T00:00:00\",\"2011-06-24T00:00:00\",\"2011-06-27T00:00:00\",\"2011-06-28T00:00:00\",\"2011-06-29T00:00:00\",\"2011-06-30T00:00:00\",\"2011-07-01T00:00:00\",\"2011-07-05T00:00:00\",\"2011-07-06T00:00:00\",\"2011-07-07T00:00:00\",\"2011-07-08T00:00:00\",\"2011-07-11T00:00:00\",\"2011-07-12T00:00:00\",\"2011-07-13T00:00:00\",\"2011-07-14T00:00:00\",\"2011-07-15T00:00:00\",\"2011-07-18T00:00:00\",\"2011-07-19T00:00:00\",\"2011-07-20T00:00:00\",\"2011-07-21T00:00:00\",\"2011-07-22T00:00:00\",\"2011-07-25T00:00:00\",\"2011-07-26T00:00:00\",\"2011-07-27T00:00:00\",\"2011-07-28T00:00:00\",\"2011-07-29T00:00:00\",\"2011-08-01T00:00:00\",\"2011-08-02T00:00:00\",\"2011-08-03T00:00:00\",\"2011-08-04T00:00:00\",\"2011-08-05T00:00:00\",\"2011-08-08T00:00:00\",\"2011-08-09T00:00:00\",\"2011-08-10T00:00:00\",\"2011-08-11T00:00:00\",\"2011-08-12T00:00:00\",\"2011-08-15T00:00:00\",\"2011-08-16T00:00:00\",\"2011-08-17T00:00:00\",\"2011-08-18T00:00:00\",\"2011-08-19T00:00:00\",\"2011-08-22T00:00:00\",\"2011-08-23T00:00:00\",\"2011-08-24T00:00:00\",\"2011-08-25T00:00:00\",\"2011-08-26T00:00:00\",\"2011-08-29T00:00:00\",\"2011-08-30T00:00:00\",\"2011-08-31T00:00:00\",\"2011-09-01T00:00:00\",\"2011-09-02T00:00:00\",\"2011-09-06T00:00:00\",\"2011-09-07T00:00:00\",\"2011-09-08T00:00:00\",\"2011-09-09T00:00:00\",\"2011-09-12T00:00:00\",\"2011-09-13T00:00:00\",\"2011-09-14T00:00:00\",\"2011-09-15T00:00:00\",\"2011-09-16T00:00:00\",\"2011-09-19T00:00:00\",\"2011-09-20T00:00:00\",\"2011-09-21T00:00:00\",\"2011-09-22T00:00:00\",\"2011-09-23T00:00:00\",\"2011-09-26T00:00:00\",\"2011-09-27T00:00:00\",\"2011-09-28T00:00:00\",\"2011-09-29T00:00:00\",\"2011-09-30T00:00:00\",\"2011-10-03T00:00:00\",\"2011-10-04T00:00:00\",\"2011-10-05T00:00:00\",\"2011-10-06T00:00:00\",\"2011-10-07T00:00:00\",\"2011-10-10T00:00:00\",\"2011-10-11T00:00:00\",\"2011-10-12T00:00:00\",\"2011-10-13T00:00:00\",\"2011-10-14T00:00:00\",\"2011-10-17T00:00:00\",\"2011-10-18T00:00:00\",\"2011-10-19T00:00:00\",\"2011-10-20T00:00:00\",\"2011-10-21T00:00:00\",\"2011-10-24T00:00:00\",\"2011-10-25T00:00:00\",\"2011-10-26T00:00:00\",\"2011-10-27T00:00:00\",\"2011-10-28T00:00:00\",\"2011-10-31T00:00:00\",\"2011-11-01T00:00:00\",\"2011-11-02T00:00:00\",\"2011-11-03T00:00:00\",\"2011-11-04T00:00:00\",\"2011-11-07T00:00:00\",\"2011-11-08T00:00:00\",\"2011-11-09T00:00:00\",\"2011-11-10T00:00:00\",\"2011-11-11T00:00:00\",\"2011-11-14T00:00:00\",\"2011-11-15T00:00:00\",\"2011-11-16T00:00:00\",\"2011-11-17T00:00:00\",\"2011-11-18T00:00:00\",\"2011-11-21T00:00:00\",\"2011-11-22T00:00:00\",\"2011-11-23T00:00:00\",\"2011-11-25T00:00:00\",\"2011-11-28T00:00:00\",\"2011-11-29T00:00:00\",\"2011-11-30T00:00:00\",\"2011-12-01T00:00:00\",\"2011-12-02T00:00:00\",\"2011-12-05T00:00:00\",\"2011-12-06T00:00:00\",\"2011-12-07T00:00:00\",\"2011-12-08T00:00:00\",\"2011-12-09T00:00:00\",\"2011-12-12T00:00:00\",\"2011-12-13T00:00:00\",\"2011-12-14T00:00:00\",\"2011-12-15T00:00:00\",\"2011-12-16T00:00:00\",\"2011-12-19T00:00:00\",\"2011-12-20T00:00:00\",\"2011-12-21T00:00:00\",\"2011-12-22T00:00:00\",\"2011-12-23T00:00:00\",\"2011-12-27T00:00:00\",\"2011-12-28T00:00:00\",\"2011-12-29T00:00:00\",\"2011-12-30T00:00:00\",\"2012-01-03T00:00:00\",\"2012-01-04T00:00:00\",\"2012-01-05T00:00:00\",\"2012-01-06T00:00:00\",\"2012-01-09T00:00:00\",\"2012-01-10T00:00:00\",\"2012-01-11T00:00:00\",\"2012-01-12T00:00:00\",\"2012-01-13T00:00:00\",\"2012-01-17T00:00:00\",\"2012-01-18T00:00:00\",\"2012-01-19T00:00:00\",\"2012-01-20T00:00:00\",\"2012-01-23T00:00:00\",\"2012-01-24T00:00:00\",\"2012-01-25T00:00:00\",\"2012-01-26T00:00:00\",\"2012-01-27T00:00:00\",\"2012-01-30T00:00:00\",\"2012-01-31T00:00:00\",\"2012-02-01T00:00:00\",\"2012-02-02T00:00:00\",\"2012-02-03T00:00:00\",\"2012-02-06T00:00:00\",\"2012-02-07T00:00:00\",\"2012-02-08T00:00:00\",\"2012-02-09T00:00:00\",\"2012-02-10T00:00:00\",\"2012-02-13T00:00:00\",\"2012-02-14T00:00:00\",\"2012-02-15T00:00:00\",\"2012-02-16T00:00:00\",\"2012-02-17T00:00:00\",\"2012-02-21T00:00:00\",\"2012-02-22T00:00:00\",\"2012-02-23T00:00:00\",\"2012-02-24T00:00:00\",\"2012-02-27T00:00:00\",\"2012-02-28T00:00:00\",\"2012-02-29T00:00:00\",\"2012-03-01T00:00:00\",\"2012-03-02T00:00:00\",\"2012-03-05T00:00:00\",\"2012-03-06T00:00:00\",\"2012-03-07T00:00:00\",\"2012-03-08T00:00:00\",\"2012-03-09T00:00:00\",\"2012-03-12T00:00:00\",\"2012-03-13T00:00:00\",\"2012-03-14T00:00:00\",\"2012-03-15T00:00:00\",\"2012-03-16T00:00:00\",\"2012-03-19T00:00:00\",\"2012-03-20T00:00:00\",\"2012-03-21T00:00:00\",\"2012-03-22T00:00:00\",\"2012-03-23T00:00:00\",\"2012-03-26T00:00:00\",\"2012-03-27T00:00:00\",\"2012-03-28T00:00:00\",\"2012-03-29T00:00:00\",\"2012-03-30T00:00:00\",\"2012-04-02T00:00:00\",\"2012-04-03T00:00:00\",\"2012-04-04T00:00:00\",\"2012-04-05T00:00:00\",\"2012-04-09T00:00:00\",\"2012-04-10T00:00:00\",\"2012-04-11T00:00:00\",\"2012-04-12T00:00:00\",\"2012-04-13T00:00:00\",\"2012-04-16T00:00:00\",\"2012-04-17T00:00:00\",\"2012-04-18T00:00:00\",\"2012-04-19T00:00:00\",\"2012-04-20T00:00:00\",\"2012-04-23T00:00:00\",\"2012-04-24T00:00:00\",\"2012-04-25T00:00:00\",\"2012-04-26T00:00:00\",\"2012-04-27T00:00:00\",\"2012-04-30T00:00:00\",\"2012-05-01T00:00:00\",\"2012-05-02T00:00:00\",\"2012-05-03T00:00:00\",\"2012-05-04T00:00:00\",\"2012-05-07T00:00:00\",\"2012-05-08T00:00:00\",\"2012-05-09T00:00:00\",\"2012-05-10T00:00:00\",\"2012-05-11T00:00:00\",\"2012-05-14T00:00:00\",\"2012-05-15T00:00:00\",\"2012-05-16T00:00:00\",\"2012-05-17T00:00:00\",\"2012-05-18T00:00:00\",\"2012-05-21T00:00:00\",\"2012-05-22T00:00:00\",\"2012-05-23T00:00:00\",\"2012-05-24T00:00:00\",\"2012-05-25T00:00:00\",\"2012-05-29T00:00:00\",\"2012-05-30T00:00:00\",\"2012-05-31T00:00:00\",\"2012-06-01T00:00:00\",\"2012-06-04T00:00:00\",\"2012-06-05T00:00:00\",\"2012-06-06T00:00:00\",\"2012-06-07T00:00:00\",\"2012-06-08T00:00:00\",\"2012-06-11T00:00:00\",\"2012-06-12T00:00:00\",\"2012-06-13T00:00:00\",\"2012-06-14T00:00:00\",\"2012-06-15T00:00:00\",\"2012-06-18T00:00:00\",\"2012-06-19T00:00:00\",\"2012-06-20T00:00:00\",\"2012-06-21T00:00:00\",\"2012-06-22T00:00:00\",\"2012-06-25T00:00:00\",\"2012-06-26T00:00:00\",\"2012-06-27T00:00:00\",\"2012-06-28T00:00:00\",\"2012-06-29T00:00:00\",\"2012-07-02T00:00:00\",\"2012-07-03T00:00:00\",\"2012-07-05T00:00:00\",\"2012-07-06T00:00:00\",\"2012-07-09T00:00:00\",\"2012-07-10T00:00:00\",\"2012-07-11T00:00:00\",\"2012-07-12T00:00:00\",\"2012-07-13T00:00:00\",\"2012-07-16T00:00:00\",\"2012-07-17T00:00:00\",\"2012-07-18T00:00:00\",\"2012-07-19T00:00:00\",\"2012-07-20T00:00:00\",\"2012-07-23T00:00:00\",\"2012-07-24T00:00:00\",\"2012-07-25T00:00:00\",\"2012-07-26T00:00:00\",\"2012-07-27T00:00:00\",\"2012-07-30T00:00:00\",\"2012-07-31T00:00:00\",\"2012-08-01T00:00:00\",\"2012-08-02T00:00:00\",\"2012-08-03T00:00:00\",\"2012-08-06T00:00:00\",\"2012-08-07T00:00:00\",\"2012-08-08T00:00:00\",\"2012-08-09T00:00:00\",\"2012-08-10T00:00:00\",\"2012-08-13T00:00:00\",\"2012-08-14T00:00:00\",\"2012-08-15T00:00:00\",\"2012-08-16T00:00:00\",\"2012-08-17T00:00:00\",\"2012-08-20T00:00:00\",\"2012-08-21T00:00:00\",\"2012-08-22T00:00:00\",\"2012-08-23T00:00:00\",\"2012-08-24T00:00:00\",\"2012-08-27T00:00:00\",\"2012-08-28T00:00:00\",\"2012-08-29T00:00:00\",\"2012-08-30T00:00:00\",\"2012-08-31T00:00:00\",\"2012-09-04T00:00:00\",\"2012-09-05T00:00:00\",\"2012-09-06T00:00:00\",\"2012-09-07T00:00:00\",\"2012-09-10T00:00:00\",\"2012-09-11T00:00:00\",\"2012-09-12T00:00:00\",\"2012-09-13T00:00:00\",\"2012-09-14T00:00:00\",\"2012-09-17T00:00:00\",\"2012-09-18T00:00:00\",\"2012-09-19T00:00:00\",\"2012-09-20T00:00:00\",\"2012-09-21T00:00:00\",\"2012-09-24T00:00:00\",\"2012-09-25T00:00:00\",\"2012-09-26T00:00:00\",\"2012-09-27T00:00:00\",\"2012-09-28T00:00:00\",\"2012-10-01T00:00:00\",\"2012-10-02T00:00:00\",\"2012-10-03T00:00:00\",\"2012-10-04T00:00:00\",\"2012-10-05T00:00:00\",\"2012-10-08T00:00:00\",\"2012-10-09T00:00:00\",\"2012-10-10T00:00:00\",\"2012-10-11T00:00:00\",\"2012-10-12T00:00:00\",\"2012-10-15T00:00:00\",\"2012-10-16T00:00:00\",\"2012-10-17T00:00:00\",\"2012-10-18T00:00:00\",\"2012-10-19T00:00:00\",\"2012-10-22T00:00:00\",\"2012-10-23T00:00:00\",\"2012-10-24T00:00:00\",\"2012-10-25T00:00:00\",\"2012-10-26T00:00:00\",\"2012-10-31T00:00:00\",\"2012-11-01T00:00:00\",\"2012-11-02T00:00:00\",\"2012-11-05T00:00:00\",\"2012-11-06T00:00:00\",\"2012-11-07T00:00:00\",\"2012-11-08T00:00:00\",\"2012-11-09T00:00:00\",\"2012-11-12T00:00:00\",\"2012-11-13T00:00:00\",\"2012-11-14T00:00:00\",\"2012-11-15T00:00:00\",\"2012-11-16T00:00:00\",\"2012-11-19T00:00:00\",\"2012-11-20T00:00:00\",\"2012-11-21T00:00:00\",\"2012-11-23T00:00:00\",\"2012-11-26T00:00:00\",\"2012-11-27T00:00:00\",\"2012-11-28T00:00:00\",\"2012-11-29T00:00:00\",\"2012-11-30T00:00:00\",\"2012-12-03T00:00:00\",\"2012-12-04T00:00:00\",\"2012-12-05T00:00:00\",\"2012-12-06T00:00:00\",\"2012-12-07T00:00:00\",\"2012-12-10T00:00:00\",\"2012-12-11T00:00:00\",\"2012-12-12T00:00:00\",\"2012-12-13T00:00:00\",\"2012-12-14T00:00:00\",\"2012-12-17T00:00:00\",\"2012-12-18T00:00:00\",\"2012-12-19T00:00:00\",\"2012-12-20T00:00:00\",\"2012-12-21T00:00:00\",\"2012-12-24T00:00:00\",\"2012-12-26T00:00:00\",\"2012-12-27T00:00:00\",\"2012-12-28T00:00:00\",\"2012-12-31T00:00:00\",\"2013-01-02T00:00:00\",\"2013-01-03T00:00:00\",\"2013-01-04T00:00:00\",\"2013-01-07T00:00:00\",\"2013-01-08T00:00:00\",\"2013-01-09T00:00:00\",\"2013-01-10T00:00:00\",\"2013-01-11T00:00:00\",\"2013-01-14T00:00:00\",\"2013-01-15T00:00:00\",\"2013-01-16T00:00:00\",\"2013-01-17T00:00:00\",\"2013-01-18T00:00:00\",\"2013-01-22T00:00:00\",\"2013-01-23T00:00:00\",\"2013-01-24T00:00:00\",\"2013-01-25T00:00:00\",\"2013-01-28T00:00:00\",\"2013-01-29T00:00:00\",\"2013-01-30T00:00:00\",\"2013-01-31T00:00:00\",\"2013-02-01T00:00:00\",\"2013-02-04T00:00:00\",\"2013-02-05T00:00:00\",\"2013-02-06T00:00:00\",\"2013-02-07T00:00:00\",\"2013-02-08T00:00:00\",\"2013-02-11T00:00:00\",\"2013-02-12T00:00:00\",\"2013-02-13T00:00:00\",\"2013-02-14T00:00:00\",\"2013-02-15T00:00:00\",\"2013-02-19T00:00:00\",\"2013-02-20T00:00:00\",\"2013-02-21T00:00:00\",\"2013-02-22T00:00:00\",\"2013-02-25T00:00:00\",\"2013-02-26T00:00:00\",\"2013-02-27T00:00:00\",\"2013-02-28T00:00:00\",\"2013-03-01T00:00:00\",\"2013-03-04T00:00:00\",\"2013-03-05T00:00:00\",\"2013-03-06T00:00:00\",\"2013-03-07T00:00:00\",\"2013-03-08T00:00:00\",\"2013-03-11T00:00:00\",\"2013-03-12T00:00:00\",\"2013-03-13T00:00:00\",\"2013-03-14T00:00:00\",\"2013-03-15T00:00:00\",\"2013-03-18T00:00:00\",\"2013-03-19T00:00:00\",\"2013-03-20T00:00:00\",\"2013-03-21T00:00:00\",\"2013-03-22T00:00:00\",\"2013-03-25T00:00:00\",\"2013-03-26T00:00:00\",\"2013-03-27T00:00:00\",\"2013-03-28T00:00:00\",\"2013-04-01T00:00:00\",\"2013-04-02T00:00:00\",\"2013-04-03T00:00:00\",\"2013-04-04T00:00:00\",\"2013-04-05T00:00:00\",\"2013-04-08T00:00:00\",\"2013-04-09T00:00:00\",\"2013-04-10T00:00:00\",\"2013-04-11T00:00:00\",\"2013-04-12T00:00:00\",\"2013-04-15T00:00:00\",\"2013-04-16T00:00:00\",\"2013-04-17T00:00:00\",\"2013-04-18T00:00:00\",\"2013-04-19T00:00:00\",\"2013-04-22T00:00:00\",\"2013-04-23T00:00:00\",\"2013-04-24T00:00:00\",\"2013-04-25T00:00:00\",\"2013-04-26T00:00:00\",\"2013-04-29T00:00:00\",\"2013-04-30T00:00:00\",\"2013-05-01T00:00:00\",\"2013-05-02T00:00:00\",\"2013-05-03T00:00:00\",\"2013-05-06T00:00:00\",\"2013-05-07T00:00:00\",\"2013-05-08T00:00:00\",\"2013-05-09T00:00:00\",\"2013-05-10T00:00:00\",\"2013-05-13T00:00:00\",\"2013-05-14T00:00:00\",\"2013-05-15T00:00:00\",\"2013-05-16T00:00:00\",\"2013-05-17T00:00:00\",\"2013-05-20T00:00:00\",\"2013-05-21T00:00:00\",\"2013-05-22T00:00:00\",\"2013-05-23T00:00:00\",\"2013-05-24T00:00:00\",\"2013-05-28T00:00:00\",\"2013-05-29T00:00:00\",\"2013-05-30T00:00:00\",\"2013-05-31T00:00:00\",\"2013-06-03T00:00:00\",\"2013-06-04T00:00:00\",\"2013-06-05T00:00:00\",\"2013-06-06T00:00:00\",\"2013-06-07T00:00:00\",\"2013-06-10T00:00:00\",\"2013-06-11T00:00:00\",\"2013-06-12T00:00:00\",\"2013-06-13T00:00:00\",\"2013-06-14T00:00:00\",\"2013-06-17T00:00:00\",\"2013-06-18T00:00:00\",\"2013-06-19T00:00:00\",\"2013-06-20T00:00:00\",\"2013-06-21T00:00:00\",\"2013-06-24T00:00:00\",\"2013-06-25T00:00:00\",\"2013-06-26T00:00:00\",\"2013-06-27T00:00:00\",\"2013-06-28T00:00:00\",\"2013-07-01T00:00:00\",\"2013-07-02T00:00:00\",\"2013-07-03T00:00:00\",\"2013-07-05T00:00:00\",\"2013-07-08T00:00:00\",\"2013-07-09T00:00:00\",\"2013-07-10T00:00:00\",\"2013-07-11T00:00:00\",\"2013-07-12T00:00:00\",\"2013-07-15T00:00:00\",\"2013-07-16T00:00:00\",\"2013-07-17T00:00:00\",\"2013-07-18T00:00:00\",\"2013-07-19T00:00:00\",\"2013-07-22T00:00:00\",\"2013-07-23T00:00:00\",\"2013-07-24T00:00:00\",\"2013-07-25T00:00:00\",\"2013-07-26T00:00:00\",\"2013-07-29T00:00:00\",\"2013-07-30T00:00:00\",\"2013-07-31T00:00:00\",\"2013-08-01T00:00:00\",\"2013-08-02T00:00:00\",\"2013-08-05T00:00:00\",\"2013-08-06T00:00:00\",\"2013-08-07T00:00:00\",\"2013-08-08T00:00:00\",\"2013-08-09T00:00:00\",\"2013-08-12T00:00:00\",\"2013-08-13T00:00:00\",\"2013-08-14T00:00:00\",\"2013-08-15T00:00:00\",\"2013-08-16T00:00:00\",\"2013-08-19T00:00:00\",\"2013-08-20T00:00:00\",\"2013-08-21T00:00:00\",\"2013-08-22T00:00:00\",\"2013-08-23T00:00:00\",\"2013-08-26T00:00:00\",\"2013-08-27T00:00:00\",\"2013-08-28T00:00:00\",\"2013-08-29T00:00:00\",\"2013-08-30T00:00:00\",\"2013-09-03T00:00:00\",\"2013-09-04T00:00:00\",\"2013-09-05T00:00:00\",\"2013-09-06T00:00:00\",\"2013-09-09T00:00:00\",\"2013-09-10T00:00:00\",\"2013-09-11T00:00:00\",\"2013-09-12T00:00:00\",\"2013-09-13T00:00:00\",\"2013-09-16T00:00:00\",\"2013-09-17T00:00:00\",\"2013-09-18T00:00:00\",\"2013-09-19T00:00:00\",\"2013-09-20T00:00:00\",\"2013-09-23T00:00:00\",\"2013-09-24T00:00:00\",\"2013-09-25T00:00:00\",\"2013-09-26T00:00:00\",\"2013-09-27T00:00:00\",\"2013-09-30T00:00:00\",\"2013-10-01T00:00:00\",\"2013-10-02T00:00:00\",\"2013-10-03T00:00:00\",\"2013-10-04T00:00:00\",\"2013-10-07T00:00:00\",\"2013-10-08T00:00:00\",\"2013-10-09T00:00:00\",\"2013-10-10T00:00:00\",\"2013-10-11T00:00:00\",\"2013-10-14T00:00:00\",\"2013-10-15T00:00:00\",\"2013-10-16T00:00:00\",\"2013-10-17T00:00:00\",\"2013-10-18T00:00:00\",\"2013-10-21T00:00:00\",\"2013-10-22T00:00:00\",\"2013-10-23T00:00:00\",\"2013-10-24T00:00:00\",\"2013-10-25T00:00:00\",\"2013-10-28T00:00:00\",\"2013-10-29T00:00:00\",\"2013-10-30T00:00:00\",\"2013-10-31T00:00:00\",\"2013-11-01T00:00:00\",\"2013-11-04T00:00:00\",\"2013-11-05T00:00:00\",\"2013-11-06T00:00:00\",\"2013-11-07T00:00:00\",\"2013-11-08T00:00:00\",\"2013-11-11T00:00:00\",\"2013-11-12T00:00:00\",\"2013-11-13T00:00:00\",\"2013-11-14T00:00:00\",\"2013-11-15T00:00:00\",\"2013-11-18T00:00:00\",\"2013-11-19T00:00:00\",\"2013-11-20T00:00:00\",\"2013-11-21T00:00:00\",\"2013-11-22T00:00:00\",\"2013-11-25T00:00:00\",\"2013-11-26T00:00:00\",\"2013-11-27T00:00:00\",\"2013-11-29T00:00:00\",\"2013-12-02T00:00:00\",\"2013-12-03T00:00:00\",\"2013-12-04T00:00:00\",\"2013-12-05T00:00:00\",\"2013-12-06T00:00:00\",\"2013-12-09T00:00:00\",\"2013-12-10T00:00:00\",\"2013-12-11T00:00:00\",\"2013-12-12T00:00:00\",\"2013-12-13T00:00:00\",\"2013-12-16T00:00:00\",\"2013-12-17T00:00:00\",\"2013-12-18T00:00:00\",\"2013-12-19T00:00:00\",\"2013-12-20T00:00:00\",\"2013-12-23T00:00:00\",\"2013-12-24T00:00:00\",\"2013-12-26T00:00:00\",\"2013-12-27T00:00:00\",\"2013-12-30T00:00:00\",\"2013-12-31T00:00:00\",\"2014-01-02T00:00:00\",\"2014-01-03T00:00:00\",\"2014-01-06T00:00:00\",\"2014-01-07T00:00:00\",\"2014-01-08T00:00:00\",\"2014-01-09T00:00:00\",\"2014-01-10T00:00:00\",\"2014-01-13T00:00:00\",\"2014-01-14T00:00:00\",\"2014-01-15T00:00:00\",\"2014-01-16T00:00:00\",\"2014-01-17T00:00:00\",\"2014-01-21T00:00:00\",\"2014-01-22T00:00:00\",\"2014-01-23T00:00:00\",\"2014-01-24T00:00:00\",\"2014-01-27T00:00:00\",\"2014-01-28T00:00:00\",\"2014-01-29T00:00:00\",\"2014-01-30T00:00:00\",\"2014-01-31T00:00:00\",\"2014-02-03T00:00:00\",\"2014-02-04T00:00:00\",\"2014-02-05T00:00:00\",\"2014-02-06T00:00:00\",\"2014-02-07T00:00:00\",\"2014-02-10T00:00:00\",\"2014-02-11T00:00:00\",\"2014-02-12T00:00:00\",\"2014-02-13T00:00:00\",\"2014-02-14T00:00:00\",\"2014-02-18T00:00:00\",\"2014-02-19T00:00:00\",\"2014-02-20T00:00:00\",\"2014-02-21T00:00:00\",\"2014-02-24T00:00:00\",\"2014-02-25T00:00:00\",\"2014-02-26T00:00:00\",\"2014-02-27T00:00:00\",\"2014-02-28T00:00:00\",\"2014-03-03T00:00:00\",\"2014-03-04T00:00:00\",\"2014-03-05T00:00:00\",\"2014-03-06T00:00:00\",\"2014-03-07T00:00:00\",\"2014-03-10T00:00:00\",\"2014-03-11T00:00:00\",\"2014-03-12T00:00:00\",\"2014-03-13T00:00:00\",\"2014-03-14T00:00:00\",\"2014-03-17T00:00:00\",\"2014-03-18T00:00:00\",\"2014-03-19T00:00:00\",\"2014-03-20T00:00:00\",\"2014-03-21T00:00:00\",\"2014-03-24T00:00:00\",\"2014-03-25T00:00:00\",\"2014-03-26T00:00:00\",\"2014-03-27T00:00:00\",\"2014-03-28T00:00:00\",\"2014-03-31T00:00:00\",\"2014-04-01T00:00:00\",\"2014-04-02T00:00:00\",\"2014-04-03T00:00:00\",\"2014-04-04T00:00:00\",\"2014-04-07T00:00:00\",\"2014-04-08T00:00:00\",\"2014-04-09T00:00:00\",\"2014-04-10T00:00:00\",\"2014-04-11T00:00:00\",\"2014-04-14T00:00:00\",\"2014-04-15T00:00:00\",\"2014-04-16T00:00:00\",\"2014-04-17T00:00:00\",\"2014-04-21T00:00:00\",\"2014-04-22T00:00:00\",\"2014-04-23T00:00:00\",\"2014-04-24T00:00:00\",\"2014-04-25T00:00:00\",\"2014-04-28T00:00:00\",\"2014-04-29T00:00:00\",\"2014-04-30T00:00:00\",\"2014-05-01T00:00:00\",\"2014-05-02T00:00:00\",\"2014-05-05T00:00:00\",\"2014-05-06T00:00:00\",\"2014-05-07T00:00:00\",\"2014-05-08T00:00:00\",\"2014-05-09T00:00:00\",\"2014-05-12T00:00:00\",\"2014-05-13T00:00:00\",\"2014-05-14T00:00:00\",\"2014-05-15T00:00:00\",\"2014-05-16T00:00:00\",\"2014-05-19T00:00:00\",\"2014-05-20T00:00:00\",\"2014-05-21T00:00:00\",\"2014-05-22T00:00:00\",\"2014-05-23T00:00:00\",\"2014-05-27T00:00:00\",\"2014-05-28T00:00:00\",\"2014-05-29T00:00:00\",\"2014-05-30T00:00:00\",\"2014-06-02T00:00:00\",\"2014-06-03T00:00:00\",\"2014-06-04T00:00:00\",\"2014-06-05T00:00:00\",\"2014-06-06T00:00:00\",\"2014-06-09T00:00:00\",\"2014-06-10T00:00:00\",\"2014-06-11T00:00:00\",\"2014-06-12T00:00:00\",\"2014-06-13T00:00:00\",\"2014-06-16T00:00:00\",\"2014-06-17T00:00:00\",\"2014-06-18T00:00:00\",\"2014-06-19T00:00:00\",\"2014-06-20T00:00:00\",\"2014-06-23T00:00:00\",\"2014-06-24T00:00:00\",\"2014-06-25T00:00:00\",\"2014-06-26T00:00:00\",\"2014-06-27T00:00:00\",\"2014-06-30T00:00:00\",\"2014-07-01T00:00:00\",\"2014-07-02T00:00:00\",\"2014-07-03T00:00:00\",\"2014-07-07T00:00:00\",\"2014-07-08T00:00:00\",\"2014-07-09T00:00:00\",\"2014-07-10T00:00:00\",\"2014-07-11T00:00:00\",\"2014-07-14T00:00:00\",\"2014-07-15T00:00:00\",\"2014-07-16T00:00:00\",\"2014-07-17T00:00:00\",\"2014-07-18T00:00:00\",\"2014-07-21T00:00:00\",\"2014-07-22T00:00:00\",\"2014-07-23T00:00:00\",\"2014-07-24T00:00:00\",\"2014-07-25T00:00:00\",\"2014-07-28T00:00:00\",\"2014-07-29T00:00:00\",\"2014-07-30T00:00:00\",\"2014-07-31T00:00:00\",\"2014-08-01T00:00:00\",\"2014-08-04T00:00:00\",\"2014-08-05T00:00:00\",\"2014-08-06T00:00:00\",\"2014-08-07T00:00:00\",\"2014-08-08T00:00:00\",\"2014-08-11T00:00:00\",\"2014-08-12T00:00:00\",\"2014-08-13T00:00:00\",\"2014-08-14T00:00:00\",\"2014-08-15T00:00:00\",\"2014-08-18T00:00:00\",\"2014-08-19T00:00:00\",\"2014-08-20T00:00:00\",\"2014-08-21T00:00:00\",\"2014-08-22T00:00:00\",\"2014-08-25T00:00:00\",\"2014-08-26T00:00:00\",\"2014-08-27T00:00:00\",\"2014-08-28T00:00:00\",\"2014-08-29T00:00:00\",\"2014-09-02T00:00:00\",\"2014-09-03T00:00:00\",\"2014-09-04T00:00:00\",\"2014-09-05T00:00:00\",\"2014-09-08T00:00:00\",\"2014-09-09T00:00:00\",\"2014-09-10T00:00:00\",\"2014-09-11T00:00:00\",\"2014-09-12T00:00:00\",\"2014-09-15T00:00:00\",\"2014-09-16T00:00:00\",\"2014-09-17T00:00:00\",\"2014-09-18T00:00:00\",\"2014-09-19T00:00:00\",\"2014-09-22T00:00:00\",\"2014-09-23T00:00:00\",\"2014-09-24T00:00:00\",\"2014-09-25T00:00:00\",\"2014-09-26T00:00:00\",\"2014-09-29T00:00:00\",\"2014-09-30T00:00:00\",\"2014-10-01T00:00:00\",\"2014-10-02T00:00:00\",\"2014-10-03T00:00:00\",\"2014-10-06T00:00:00\",\"2014-10-07T00:00:00\",\"2014-10-08T00:00:00\",\"2014-10-09T00:00:00\",\"2014-10-10T00:00:00\",\"2014-10-13T00:00:00\",\"2014-10-14T00:00:00\",\"2014-10-15T00:00:00\",\"2014-10-16T00:00:00\",\"2014-10-17T00:00:00\",\"2014-10-20T00:00:00\",\"2014-10-21T00:00:00\",\"2014-10-22T00:00:00\",\"2014-10-23T00:00:00\",\"2014-10-24T00:00:00\",\"2014-10-27T00:00:00\",\"2014-10-28T00:00:00\",\"2014-10-29T00:00:00\",\"2014-10-30T00:00:00\",\"2014-10-31T00:00:00\",\"2014-11-03T00:00:00\",\"2014-11-04T00:00:00\",\"2014-11-05T00:00:00\",\"2014-11-06T00:00:00\",\"2014-11-07T00:00:00\",\"2014-11-10T00:00:00\",\"2014-11-11T00:00:00\",\"2014-11-12T00:00:00\",\"2014-11-13T00:00:00\",\"2014-11-14T00:00:00\",\"2014-11-17T00:00:00\",\"2014-11-18T00:00:00\",\"2014-11-19T00:00:00\",\"2014-11-20T00:00:00\",\"2014-11-21T00:00:00\",\"2014-11-24T00:00:00\",\"2014-11-25T00:00:00\",\"2014-11-26T00:00:00\",\"2014-11-28T00:00:00\",\"2014-12-01T00:00:00\",\"2014-12-02T00:00:00\",\"2014-12-03T00:00:00\",\"2014-12-04T00:00:00\",\"2014-12-05T00:00:00\",\"2014-12-08T00:00:00\",\"2014-12-09T00:00:00\",\"2014-12-10T00:00:00\",\"2014-12-11T00:00:00\",\"2014-12-12T00:00:00\",\"2014-12-15T00:00:00\",\"2014-12-16T00:00:00\",\"2014-12-17T00:00:00\",\"2014-12-18T00:00:00\",\"2014-12-19T00:00:00\",\"2014-12-22T00:00:00\",\"2014-12-23T00:00:00\",\"2014-12-24T00:00:00\",\"2014-12-26T00:00:00\",\"2014-12-29T00:00:00\",\"2014-12-30T00:00:00\",\"2014-12-31T00:00:00\",\"2015-01-02T00:00:00\",\"2015-01-05T00:00:00\",\"2015-01-06T00:00:00\",\"2015-01-07T00:00:00\",\"2015-01-08T00:00:00\",\"2015-01-09T00:00:00\",\"2015-01-12T00:00:00\",\"2015-01-13T00:00:00\",\"2015-01-14T00:00:00\",\"2015-01-15T00:00:00\",\"2015-01-16T00:00:00\",\"2015-01-20T00:00:00\",\"2015-01-21T00:00:00\",\"2015-01-22T00:00:00\",\"2015-01-23T00:00:00\",\"2015-01-26T00:00:00\",\"2015-01-27T00:00:00\",\"2015-01-28T00:00:00\",\"2015-01-29T00:00:00\",\"2015-01-30T00:00:00\",\"2015-02-02T00:00:00\",\"2015-02-03T00:00:00\",\"2015-02-04T00:00:00\",\"2015-02-05T00:00:00\",\"2015-02-06T00:00:00\",\"2015-02-09T00:00:00\",\"2015-02-10T00:00:00\",\"2015-02-11T00:00:00\",\"2015-02-12T00:00:00\",\"2015-02-13T00:00:00\",\"2015-02-17T00:00:00\",\"2015-02-18T00:00:00\",\"2015-02-19T00:00:00\",\"2015-02-20T00:00:00\",\"2015-02-23T00:00:00\",\"2015-02-24T00:00:00\",\"2015-02-25T00:00:00\",\"2015-02-26T00:00:00\",\"2015-02-27T00:00:00\",\"2015-03-02T00:00:00\",\"2015-03-03T00:00:00\",\"2015-03-04T00:00:00\",\"2015-03-05T00:00:00\",\"2015-03-06T00:00:00\",\"2015-03-09T00:00:00\",\"2015-03-10T00:00:00\",\"2015-03-11T00:00:00\",\"2015-03-12T00:00:00\",\"2015-03-13T00:00:00\",\"2015-03-16T00:00:00\",\"2015-03-17T00:00:00\",\"2015-03-18T00:00:00\",\"2015-03-19T00:00:00\",\"2015-03-20T00:00:00\",\"2015-03-23T00:00:00\",\"2015-03-24T00:00:00\",\"2015-03-25T00:00:00\",\"2015-03-26T00:00:00\",\"2015-03-27T00:00:00\",\"2015-03-30T00:00:00\",\"2015-03-31T00:00:00\",\"2015-04-01T00:00:00\",\"2015-04-02T00:00:00\",\"2015-04-06T00:00:00\",\"2015-04-07T00:00:00\",\"2015-04-08T00:00:00\",\"2015-04-09T00:00:00\",\"2015-04-10T00:00:00\",\"2015-04-13T00:00:00\",\"2015-04-14T00:00:00\",\"2015-04-15T00:00:00\",\"2015-04-16T00:00:00\",\"2015-04-17T00:00:00\",\"2015-04-20T00:00:00\",\"2015-04-21T00:00:00\",\"2015-04-22T00:00:00\",\"2015-04-23T00:00:00\",\"2015-04-24T00:00:00\",\"2015-04-27T00:00:00\",\"2015-04-28T00:00:00\",\"2015-04-29T00:00:00\",\"2015-04-30T00:00:00\",\"2015-05-01T00:00:00\",\"2015-05-04T00:00:00\",\"2015-05-05T00:00:00\",\"2015-05-06T00:00:00\",\"2015-05-07T00:00:00\",\"2015-05-08T00:00:00\",\"2015-05-11T00:00:00\",\"2015-05-12T00:00:00\",\"2015-05-13T00:00:00\",\"2015-05-14T00:00:00\",\"2015-05-15T00:00:00\",\"2015-05-18T00:00:00\",\"2015-05-19T00:00:00\",\"2015-05-20T00:00:00\",\"2015-05-21T00:00:00\",\"2015-05-22T00:00:00\",\"2015-05-26T00:00:00\",\"2015-05-27T00:00:00\",\"2015-05-28T00:00:00\",\"2015-05-29T00:00:00\",\"2015-06-01T00:00:00\",\"2015-06-02T00:00:00\",\"2015-06-03T00:00:00\",\"2015-06-04T00:00:00\",\"2015-06-05T00:00:00\",\"2015-06-08T00:00:00\",\"2015-06-09T00:00:00\",\"2015-06-10T00:00:00\",\"2015-06-11T00:00:00\",\"2015-06-12T00:00:00\",\"2015-06-15T00:00:00\",\"2015-06-16T00:00:00\",\"2015-06-17T00:00:00\",\"2015-06-18T00:00:00\",\"2015-06-19T00:00:00\",\"2015-06-22T00:00:00\",\"2015-06-23T00:00:00\",\"2015-06-24T00:00:00\",\"2015-06-25T00:00:00\",\"2015-06-26T00:00:00\",\"2015-06-29T00:00:00\",\"2015-06-30T00:00:00\",\"2015-07-01T00:00:00\",\"2015-07-02T00:00:00\",\"2015-07-06T00:00:00\",\"2015-07-07T00:00:00\",\"2015-07-08T00:00:00\",\"2015-07-09T00:00:00\",\"2015-07-10T00:00:00\",\"2015-07-13T00:00:00\",\"2015-07-14T00:00:00\",\"2015-07-15T00:00:00\",\"2015-07-16T00:00:00\",\"2015-07-17T00:00:00\",\"2015-07-20T00:00:00\",\"2015-07-21T00:00:00\",\"2015-07-22T00:00:00\",\"2015-07-23T00:00:00\",\"2015-07-24T00:00:00\",\"2015-07-27T00:00:00\",\"2015-07-28T00:00:00\",\"2015-07-29T00:00:00\",\"2015-07-30T00:00:00\",\"2015-07-31T00:00:00\",\"2015-08-03T00:00:00\",\"2015-08-04T00:00:00\",\"2015-08-05T00:00:00\",\"2015-08-06T00:00:00\",\"2015-08-07T00:00:00\",\"2015-08-10T00:00:00\",\"2015-08-11T00:00:00\",\"2015-08-12T00:00:00\",\"2015-08-13T00:00:00\",\"2015-08-14T00:00:00\",\"2015-08-17T00:00:00\",\"2015-08-18T00:00:00\",\"2015-08-19T00:00:00\",\"2015-08-20T00:00:00\",\"2015-08-21T00:00:00\",\"2015-08-24T00:00:00\",\"2015-08-25T00:00:00\",\"2015-08-26T00:00:00\",\"2015-08-27T00:00:00\",\"2015-08-28T00:00:00\",\"2015-08-31T00:00:00\",\"2015-09-01T00:00:00\",\"2015-09-02T00:00:00\",\"2015-09-03T00:00:00\",\"2015-09-04T00:00:00\",\"2015-09-08T00:00:00\",\"2015-09-09T00:00:00\",\"2015-09-10T00:00:00\",\"2015-09-11T00:00:00\",\"2015-09-14T00:00:00\",\"2015-09-15T00:00:00\",\"2015-09-16T00:00:00\",\"2015-09-17T00:00:00\",\"2015-09-18T00:00:00\",\"2015-09-21T00:00:00\",\"2015-09-22T00:00:00\",\"2015-09-23T00:00:00\",\"2015-09-24T00:00:00\",\"2015-09-25T00:00:00\",\"2015-09-28T00:00:00\",\"2015-09-29T00:00:00\",\"2015-09-30T00:00:00\",\"2015-10-01T00:00:00\",\"2015-10-02T00:00:00\",\"2015-10-05T00:00:00\",\"2015-10-06T00:00:00\",\"2015-10-07T00:00:00\",\"2015-10-08T00:00:00\",\"2015-10-09T00:00:00\",\"2015-10-12T00:00:00\",\"2015-10-13T00:00:00\",\"2015-10-14T00:00:00\",\"2015-10-15T00:00:00\",\"2015-10-16T00:00:00\",\"2015-10-19T00:00:00\",\"2015-10-20T00:00:00\",\"2015-10-21T00:00:00\",\"2015-10-22T00:00:00\",\"2015-10-23T00:00:00\",\"2015-10-26T00:00:00\",\"2015-10-27T00:00:00\",\"2015-10-28T00:00:00\",\"2015-10-29T00:00:00\",\"2015-10-30T00:00:00\",\"2015-11-02T00:00:00\",\"2015-11-03T00:00:00\",\"2015-11-04T00:00:00\",\"2015-11-05T00:00:00\",\"2015-11-06T00:00:00\",\"2015-11-09T00:00:00\",\"2015-11-10T00:00:00\",\"2015-11-11T00:00:00\",\"2015-11-12T00:00:00\",\"2015-11-13T00:00:00\",\"2015-11-16T00:00:00\",\"2015-11-17T00:00:00\",\"2015-11-18T00:00:00\",\"2015-11-19T00:00:00\",\"2015-11-20T00:00:00\",\"2015-11-23T00:00:00\",\"2015-11-24T00:00:00\",\"2015-11-25T00:00:00\",\"2015-11-27T00:00:00\",\"2015-11-30T00:00:00\",\"2015-12-01T00:00:00\",\"2015-12-02T00:00:00\",\"2015-12-03T00:00:00\",\"2015-12-04T00:00:00\",\"2015-12-07T00:00:00\",\"2015-12-08T00:00:00\",\"2015-12-09T00:00:00\",\"2015-12-10T00:00:00\",\"2015-12-11T00:00:00\",\"2015-12-14T00:00:00\",\"2015-12-15T00:00:00\",\"2015-12-16T00:00:00\",\"2015-12-17T00:00:00\",\"2015-12-18T00:00:00\",\"2015-12-21T00:00:00\",\"2015-12-22T00:00:00\",\"2015-12-23T00:00:00\",\"2015-12-24T00:00:00\",\"2015-12-28T00:00:00\",\"2015-12-29T00:00:00\",\"2015-12-30T00:00:00\",\"2015-12-31T00:00:00\",\"2016-01-04T00:00:00\",\"2016-01-05T00:00:00\",\"2016-01-06T00:00:00\",\"2016-01-07T00:00:00\",\"2016-01-08T00:00:00\",\"2016-01-11T00:00:00\",\"2016-01-12T00:00:00\",\"2016-01-13T00:00:00\",\"2016-01-14T00:00:00\",\"2016-01-15T00:00:00\",\"2016-01-19T00:00:00\",\"2016-01-20T00:00:00\",\"2016-01-21T00:00:00\",\"2016-01-22T00:00:00\",\"2016-01-25T00:00:00\",\"2016-01-26T00:00:00\",\"2016-01-27T00:00:00\",\"2016-01-28T00:00:00\",\"2016-01-29T00:00:00\",\"2016-02-01T00:00:00\",\"2016-02-02T00:00:00\",\"2016-02-03T00:00:00\",\"2016-02-04T00:00:00\",\"2016-02-05T00:00:00\",\"2016-02-08T00:00:00\",\"2016-02-09T00:00:00\",\"2016-02-10T00:00:00\",\"2016-02-11T00:00:00\",\"2016-02-12T00:00:00\",\"2016-02-16T00:00:00\",\"2016-02-17T00:00:00\",\"2016-02-18T00:00:00\",\"2016-02-19T00:00:00\",\"2016-02-22T00:00:00\",\"2016-02-23T00:00:00\",\"2016-02-24T00:00:00\",\"2016-02-25T00:00:00\",\"2016-02-26T00:00:00\",\"2016-02-29T00:00:00\",\"2016-03-01T00:00:00\",\"2016-03-02T00:00:00\",\"2016-03-03T00:00:00\",\"2016-03-04T00:00:00\",\"2016-03-07T00:00:00\",\"2016-03-08T00:00:00\",\"2016-03-09T00:00:00\",\"2016-03-10T00:00:00\",\"2016-03-11T00:00:00\",\"2016-03-14T00:00:00\",\"2016-03-15T00:00:00\",\"2016-03-16T00:00:00\",\"2016-03-17T00:00:00\",\"2016-03-18T00:00:00\",\"2016-03-21T00:00:00\",\"2016-03-22T00:00:00\",\"2016-03-23T00:00:00\",\"2016-03-24T00:00:00\",\"2016-03-28T00:00:00\",\"2016-03-29T00:00:00\",\"2016-03-30T00:00:00\",\"2016-03-31T00:00:00\",\"2016-04-01T00:00:00\",\"2016-04-04T00:00:00\",\"2016-04-05T00:00:00\",\"2016-04-06T00:00:00\",\"2016-04-07T00:00:00\",\"2016-04-08T00:00:00\",\"2016-04-11T00:00:00\",\"2016-04-12T00:00:00\",\"2016-04-13T00:00:00\",\"2016-04-14T00:00:00\",\"2016-04-15T00:00:00\",\"2016-04-18T00:00:00\",\"2016-04-19T00:00:00\",\"2016-04-20T00:00:00\",\"2016-04-21T00:00:00\",\"2016-04-22T00:00:00\",\"2016-04-25T00:00:00\",\"2016-04-26T00:00:00\",\"2016-04-27T00:00:00\",\"2016-04-28T00:00:00\",\"2016-04-29T00:00:00\",\"2016-05-02T00:00:00\",\"2016-05-03T00:00:00\",\"2016-05-04T00:00:00\",\"2016-05-05T00:00:00\",\"2016-05-06T00:00:00\",\"2016-05-09T00:00:00\",\"2016-05-10T00:00:00\",\"2016-05-11T00:00:00\",\"2016-05-12T00:00:00\",\"2016-05-13T00:00:00\",\"2016-05-16T00:00:00\",\"2016-05-17T00:00:00\",\"2016-05-18T00:00:00\",\"2016-05-19T00:00:00\",\"2016-05-20T00:00:00\",\"2016-05-23T00:00:00\",\"2016-05-24T00:00:00\",\"2016-05-25T00:00:00\",\"2016-05-26T00:00:00\",\"2016-05-27T00:00:00\",\"2016-05-31T00:00:00\",\"2016-06-01T00:00:00\",\"2016-06-02T00:00:00\",\"2016-06-03T00:00:00\",\"2016-06-06T00:00:00\",\"2016-06-07T00:00:00\",\"2016-06-08T00:00:00\",\"2016-06-09T00:00:00\",\"2016-06-10T00:00:00\",\"2016-06-13T00:00:00\",\"2016-06-14T00:00:00\",\"2016-06-15T00:00:00\",\"2016-06-16T00:00:00\",\"2016-06-17T00:00:00\",\"2016-06-20T00:00:00\",\"2016-06-21T00:00:00\",\"2016-06-22T00:00:00\",\"2016-06-23T00:00:00\",\"2016-06-24T00:00:00\",\"2016-06-27T00:00:00\",\"2016-06-28T00:00:00\",\"2016-06-29T00:00:00\",\"2016-06-30T00:00:00\",\"2016-07-01T00:00:00\",\"2016-07-05T00:00:00\",\"2016-07-06T00:00:00\",\"2016-07-07T00:00:00\",\"2016-07-08T00:00:00\",\"2016-07-11T00:00:00\",\"2016-07-12T00:00:00\",\"2016-07-13T00:00:00\",\"2016-07-14T00:00:00\",\"2016-07-15T00:00:00\",\"2016-07-18T00:00:00\",\"2016-07-19T00:00:00\",\"2016-07-20T00:00:00\",\"2016-07-21T00:00:00\",\"2016-07-22T00:00:00\",\"2016-07-25T00:00:00\",\"2016-07-26T00:00:00\",\"2016-07-27T00:00:00\",\"2016-07-28T00:00:00\",\"2016-07-29T00:00:00\",\"2016-08-01T00:00:00\",\"2016-08-02T00:00:00\",\"2016-08-03T00:00:00\",\"2016-08-04T00:00:00\",\"2016-08-05T00:00:00\",\"2016-08-08T00:00:00\",\"2016-08-09T00:00:00\",\"2016-08-10T00:00:00\",\"2016-08-11T00:00:00\",\"2016-08-12T00:00:00\",\"2016-08-15T00:00:00\",\"2016-08-16T00:00:00\",\"2016-08-17T00:00:00\",\"2016-08-18T00:00:00\",\"2016-08-19T00:00:00\",\"2016-08-22T00:00:00\",\"2016-08-23T00:00:00\",\"2016-08-24T00:00:00\",\"2016-08-25T00:00:00\",\"2016-08-26T00:00:00\",\"2016-08-29T00:00:00\",\"2016-08-30T00:00:00\",\"2016-08-31T00:00:00\",\"2016-09-01T00:00:00\",\"2016-09-02T00:00:00\",\"2016-09-06T00:00:00\",\"2016-09-07T00:00:00\",\"2016-09-08T00:00:00\",\"2016-09-09T00:00:00\",\"2016-09-12T00:00:00\",\"2016-09-13T00:00:00\",\"2016-09-14T00:00:00\",\"2016-09-15T00:00:00\",\"2016-09-16T00:00:00\",\"2016-09-19T00:00:00\",\"2016-09-20T00:00:00\",\"2016-09-21T00:00:00\",\"2016-09-22T00:00:00\",\"2016-09-23T00:00:00\",\"2016-09-26T00:00:00\",\"2016-09-27T00:00:00\",\"2016-09-28T00:00:00\",\"2016-09-29T00:00:00\",\"2016-09-30T00:00:00\",\"2016-10-03T00:00:00\",\"2016-10-04T00:00:00\",\"2016-10-05T00:00:00\",\"2016-10-06T00:00:00\",\"2016-10-07T00:00:00\",\"2016-10-10T00:00:00\",\"2016-10-11T00:00:00\",\"2016-10-12T00:00:00\",\"2016-10-13T00:00:00\",\"2016-10-14T00:00:00\",\"2016-10-17T00:00:00\",\"2016-10-18T00:00:00\",\"2016-10-19T00:00:00\",\"2016-10-20T00:00:00\",\"2016-10-21T00:00:00\",\"2016-10-24T00:00:00\",\"2016-10-25T00:00:00\",\"2016-10-26T00:00:00\",\"2016-10-27T00:00:00\",\"2016-10-28T00:00:00\",\"2016-10-31T00:00:00\",\"2016-11-01T00:00:00\",\"2016-11-02T00:00:00\",\"2016-11-03T00:00:00\",\"2016-11-04T00:00:00\",\"2016-11-07T00:00:00\",\"2016-11-08T00:00:00\",\"2016-11-09T00:00:00\",\"2016-11-10T00:00:00\",\"2016-11-11T00:00:00\",\"2016-11-14T00:00:00\",\"2016-11-15T00:00:00\",\"2016-11-16T00:00:00\",\"2016-11-17T00:00:00\",\"2016-11-18T00:00:00\",\"2016-11-21T00:00:00\",\"2016-11-22T00:00:00\",\"2016-11-23T00:00:00\",\"2016-11-25T00:00:00\",\"2016-11-28T00:00:00\",\"2016-11-29T00:00:00\",\"2016-11-30T00:00:00\",\"2016-12-01T00:00:00\",\"2016-12-02T00:00:00\",\"2016-12-05T00:00:00\",\"2016-12-06T00:00:00\",\"2016-12-07T00:00:00\",\"2016-12-08T00:00:00\",\"2016-12-09T00:00:00\",\"2016-12-12T00:00:00\",\"2016-12-13T00:00:00\",\"2016-12-14T00:00:00\",\"2016-12-15T00:00:00\",\"2016-12-16T00:00:00\",\"2016-12-19T00:00:00\",\"2016-12-20T00:00:00\",\"2016-12-21T00:00:00\",\"2016-12-22T00:00:00\",\"2016-12-23T00:00:00\",\"2016-12-27T00:00:00\",\"2016-12-28T00:00:00\",\"2016-12-29T00:00:00\",\"2016-12-30T00:00:00\",\"2017-01-03T00:00:00\",\"2017-01-04T00:00:00\",\"2017-01-05T00:00:00\",\"2017-01-06T00:00:00\",\"2017-01-09T00:00:00\",\"2017-01-10T00:00:00\",\"2017-01-11T00:00:00\",\"2017-01-12T00:00:00\",\"2017-01-13T00:00:00\",\"2017-01-17T00:00:00\",\"2017-01-18T00:00:00\",\"2017-01-19T00:00:00\",\"2017-01-20T00:00:00\",\"2017-01-23T00:00:00\",\"2017-01-24T00:00:00\",\"2017-01-25T00:00:00\",\"2017-01-26T00:00:00\",\"2017-01-27T00:00:00\",\"2017-01-30T00:00:00\",\"2017-01-31T00:00:00\",\"2017-02-01T00:00:00\",\"2017-02-02T00:00:00\",\"2017-02-03T00:00:00\",\"2017-02-06T00:00:00\",\"2017-02-07T00:00:00\",\"2017-02-08T00:00:00\",\"2017-02-09T00:00:00\",\"2017-02-10T00:00:00\",\"2017-02-13T00:00:00\",\"2017-02-14T00:00:00\",\"2017-02-15T00:00:00\",\"2017-02-16T00:00:00\",\"2017-02-17T00:00:00\",\"2017-02-21T00:00:00\",\"2017-02-22T00:00:00\",\"2017-02-23T00:00:00\",\"2017-02-24T00:00:00\",\"2017-02-27T00:00:00\",\"2017-02-28T00:00:00\",\"2017-03-01T00:00:00\",\"2017-03-02T00:00:00\",\"2017-03-03T00:00:00\",\"2017-03-06T00:00:00\",\"2017-03-07T00:00:00\",\"2017-03-08T00:00:00\",\"2017-03-09T00:00:00\",\"2017-03-10T00:00:00\",\"2017-03-13T00:00:00\",\"2017-03-14T00:00:00\",\"2017-03-15T00:00:00\",\"2017-03-16T00:00:00\",\"2017-03-17T00:00:00\",\"2017-03-20T00:00:00\",\"2017-03-21T00:00:00\",\"2017-03-22T00:00:00\",\"2017-03-23T00:00:00\",\"2017-03-24T00:00:00\",\"2017-03-27T00:00:00\",\"2017-03-28T00:00:00\",\"2017-03-29T00:00:00\",\"2017-03-30T00:00:00\",\"2017-03-31T00:00:00\",\"2017-04-03T00:00:00\",\"2017-04-04T00:00:00\",\"2017-04-05T00:00:00\",\"2017-04-06T00:00:00\",\"2017-04-07T00:00:00\",\"2017-04-10T00:00:00\",\"2017-04-11T00:00:00\",\"2017-04-12T00:00:00\",\"2017-04-13T00:00:00\",\"2017-04-17T00:00:00\",\"2017-04-18T00:00:00\",\"2017-04-19T00:00:00\",\"2017-04-20T00:00:00\",\"2017-04-21T00:00:00\",\"2017-04-24T00:00:00\",\"2017-04-25T00:00:00\",\"2017-04-26T00:00:00\",\"2017-04-27T00:00:00\",\"2017-04-28T00:00:00\",\"2017-05-01T00:00:00\",\"2017-05-02T00:00:00\",\"2017-05-03T00:00:00\",\"2017-05-04T00:00:00\",\"2017-05-05T00:00:00\",\"2017-05-08T00:00:00\",\"2017-05-09T00:00:00\",\"2017-05-10T00:00:00\",\"2017-05-11T00:00:00\",\"2017-05-12T00:00:00\",\"2017-05-15T00:00:00\",\"2017-05-16T00:00:00\",\"2017-05-17T00:00:00\",\"2017-05-18T00:00:00\",\"2017-05-19T00:00:00\",\"2017-05-22T00:00:00\",\"2017-05-23T00:00:00\",\"2017-05-24T00:00:00\",\"2017-05-25T00:00:00\",\"2017-05-26T00:00:00\",\"2017-05-30T00:00:00\",\"2017-05-31T00:00:00\",\"2017-06-01T00:00:00\",\"2017-06-02T00:00:00\",\"2017-06-05T00:00:00\",\"2017-06-06T00:00:00\",\"2017-06-07T00:00:00\",\"2017-06-08T00:00:00\",\"2017-06-09T00:00:00\",\"2017-06-12T00:00:00\",\"2017-06-13T00:00:00\",\"2017-06-14T00:00:00\",\"2017-06-15T00:00:00\",\"2017-06-16T00:00:00\",\"2017-06-19T00:00:00\",\"2017-06-20T00:00:00\",\"2017-06-21T00:00:00\",\"2017-06-22T00:00:00\",\"2017-06-23T00:00:00\",\"2017-06-26T00:00:00\",\"2017-06-27T00:00:00\",\"2017-06-28T00:00:00\",\"2017-06-29T00:00:00\",\"2017-06-30T00:00:00\",\"2017-07-03T00:00:00\",\"2017-07-05T00:00:00\",\"2017-07-06T00:00:00\",\"2017-07-07T00:00:00\",\"2017-07-10T00:00:00\",\"2017-07-11T00:00:00\",\"2017-07-12T00:00:00\",\"2017-07-13T00:00:00\",\"2017-07-14T00:00:00\",\"2017-07-17T00:00:00\",\"2017-07-18T00:00:00\",\"2017-07-19T00:00:00\",\"2017-07-20T00:00:00\",\"2017-07-21T00:00:00\",\"2017-07-24T00:00:00\",\"2017-07-25T00:00:00\",\"2017-07-26T00:00:00\",\"2017-07-27T00:00:00\",\"2017-07-28T00:00:00\",\"2017-07-31T00:00:00\",\"2017-08-01T00:00:00\",\"2017-08-02T00:00:00\",\"2017-08-03T00:00:00\",\"2017-08-04T00:00:00\",\"2017-08-07T00:00:00\",\"2017-08-08T00:00:00\",\"2017-08-09T00:00:00\",\"2017-08-10T00:00:00\",\"2017-08-11T00:00:00\",\"2017-08-14T00:00:00\",\"2017-08-15T00:00:00\",\"2017-08-16T00:00:00\",\"2017-08-17T00:00:00\",\"2017-08-18T00:00:00\",\"2017-08-21T00:00:00\",\"2017-08-22T00:00:00\",\"2017-08-23T00:00:00\",\"2017-08-24T00:00:00\",\"2017-08-25T00:00:00\",\"2017-08-28T00:00:00\",\"2017-08-29T00:00:00\",\"2017-08-30T00:00:00\",\"2017-08-31T00:00:00\",\"2017-09-01T00:00:00\",\"2017-09-05T00:00:00\",\"2017-09-06T00:00:00\",\"2017-09-07T00:00:00\",\"2017-09-08T00:00:00\",\"2017-09-11T00:00:00\",\"2017-09-12T00:00:00\",\"2017-09-13T00:00:00\",\"2017-09-14T00:00:00\",\"2017-09-15T00:00:00\",\"2017-09-18T00:00:00\",\"2017-09-19T00:00:00\",\"2017-09-20T00:00:00\",\"2017-09-21T00:00:00\",\"2017-09-22T00:00:00\",\"2017-09-25T00:00:00\",\"2017-09-26T00:00:00\",\"2017-09-27T00:00:00\",\"2017-09-28T00:00:00\",\"2017-09-29T00:00:00\",\"2017-10-02T00:00:00\",\"2017-10-03T00:00:00\",\"2017-10-04T00:00:00\",\"2017-10-05T00:00:00\",\"2017-10-06T00:00:00\",\"2017-10-09T00:00:00\",\"2017-10-10T00:00:00\",\"2017-10-11T00:00:00\",\"2017-10-12T00:00:00\",\"2017-10-13T00:00:00\",\"2017-10-16T00:00:00\",\"2017-10-17T00:00:00\",\"2017-10-18T00:00:00\",\"2017-10-19T00:00:00\",\"2017-10-20T00:00:00\",\"2017-10-23T00:00:00\",\"2017-10-24T00:00:00\",\"2017-10-25T00:00:00\",\"2017-10-26T00:00:00\",\"2017-10-27T00:00:00\",\"2017-10-30T00:00:00\",\"2017-10-31T00:00:00\",\"2017-11-01T00:00:00\",\"2017-11-02T00:00:00\",\"2017-11-03T00:00:00\",\"2017-11-06T00:00:00\",\"2017-11-07T00:00:00\",\"2017-11-08T00:00:00\",\"2017-11-09T00:00:00\",\"2017-11-10T00:00:00\",\"2017-11-13T00:00:00\",\"2017-11-14T00:00:00\",\"2017-11-15T00:00:00\",\"2017-11-16T00:00:00\",\"2017-11-17T00:00:00\",\"2017-11-20T00:00:00\",\"2017-11-21T00:00:00\",\"2017-11-22T00:00:00\",\"2017-11-24T00:00:00\",\"2017-11-27T00:00:00\",\"2017-11-28T00:00:00\",\"2017-11-29T00:00:00\",\"2017-11-30T00:00:00\",\"2017-12-01T00:00:00\",\"2017-12-04T00:00:00\",\"2017-12-05T00:00:00\",\"2017-12-06T00:00:00\",\"2017-12-07T00:00:00\",\"2017-12-08T00:00:00\",\"2017-12-11T00:00:00\",\"2017-12-12T00:00:00\",\"2017-12-13T00:00:00\",\"2017-12-14T00:00:00\",\"2017-12-15T00:00:00\",\"2017-12-18T00:00:00\",\"2017-12-19T00:00:00\",\"2017-12-20T00:00:00\",\"2017-12-21T00:00:00\",\"2017-12-22T00:00:00\",\"2017-12-26T00:00:00\",\"2017-12-27T00:00:00\",\"2017-12-28T00:00:00\",\"2017-12-29T00:00:00\",\"2018-01-02T00:00:00\",\"2018-01-03T00:00:00\",\"2018-01-04T00:00:00\",\"2018-01-05T00:00:00\",\"2018-01-08T00:00:00\",\"2018-01-09T00:00:00\",\"2018-01-10T00:00:00\",\"2018-01-11T00:00:00\",\"2018-01-12T00:00:00\",\"2018-01-16T00:00:00\",\"2018-01-17T00:00:00\",\"2018-01-18T00:00:00\",\"2018-01-19T00:00:00\",\"2018-01-22T00:00:00\",\"2018-01-23T00:00:00\",\"2018-01-24T00:00:00\",\"2018-01-25T00:00:00\",\"2018-01-26T00:00:00\",\"2018-01-29T00:00:00\",\"2018-01-30T00:00:00\",\"2018-01-31T00:00:00\",\"2018-02-01T00:00:00\",\"2018-02-02T00:00:00\",\"2018-02-05T00:00:00\",\"2018-02-06T00:00:00\",\"2018-02-07T00:00:00\",\"2018-02-08T00:00:00\",\"2018-02-09T00:00:00\",\"2018-02-12T00:00:00\",\"2018-02-13T00:00:00\",\"2018-02-14T00:00:00\",\"2018-02-15T00:00:00\",\"2018-02-16T00:00:00\",\"2018-02-20T00:00:00\",\"2018-02-21T00:00:00\",\"2018-02-22T00:00:00\",\"2018-02-23T00:00:00\",\"2018-02-26T00:00:00\",\"2018-02-27T00:00:00\",\"2018-02-28T00:00:00\",\"2018-03-01T00:00:00\",\"2018-03-02T00:00:00\",\"2018-03-05T00:00:00\",\"2018-03-06T00:00:00\",\"2018-03-07T00:00:00\",\"2018-03-08T00:00:00\",\"2018-03-09T00:00:00\",\"2018-03-12T00:00:00\",\"2018-03-13T00:00:00\",\"2018-03-14T00:00:00\",\"2018-03-15T00:00:00\",\"2018-03-16T00:00:00\",\"2018-03-19T00:00:00\",\"2018-03-20T00:00:00\",\"2018-03-21T00:00:00\",\"2018-03-22T00:00:00\",\"2018-03-23T00:00:00\",\"2018-03-26T00:00:00\",\"2018-03-27T00:00:00\",\"2018-03-28T00:00:00\",\"2018-03-29T00:00:00\",\"2018-04-02T00:00:00\",\"2018-04-03T00:00:00\",\"2018-04-04T00:00:00\",\"2018-04-05T00:00:00\",\"2018-04-06T00:00:00\",\"2018-04-09T00:00:00\",\"2018-04-10T00:00:00\",\"2018-04-11T00:00:00\",\"2018-04-12T00:00:00\",\"2018-04-13T00:00:00\",\"2018-04-16T00:00:00\",\"2018-04-17T00:00:00\",\"2018-04-18T00:00:00\",\"2018-04-19T00:00:00\",\"2018-04-20T00:00:00\",\"2018-04-23T00:00:00\",\"2018-04-24T00:00:00\",\"2018-04-25T00:00:00\",\"2018-04-26T00:00:00\",\"2018-04-27T00:00:00\",\"2018-04-30T00:00:00\",\"2018-05-01T00:00:00\",\"2018-05-02T00:00:00\",\"2018-05-03T00:00:00\",\"2018-05-04T00:00:00\",\"2018-05-07T00:00:00\",\"2018-05-08T00:00:00\",\"2018-05-09T00:00:00\",\"2018-05-10T00:00:00\",\"2018-05-11T00:00:00\",\"2018-05-14T00:00:00\",\"2018-05-15T00:00:00\",\"2018-05-16T00:00:00\",\"2018-05-17T00:00:00\",\"2018-05-18T00:00:00\",\"2018-05-21T00:00:00\",\"2018-05-22T00:00:00\",\"2018-05-23T00:00:00\",\"2018-05-24T00:00:00\",\"2018-05-25T00:00:00\",\"2018-05-29T00:00:00\",\"2018-05-30T00:00:00\",\"2018-05-31T00:00:00\",\"2018-06-01T00:00:00\",\"2018-06-04T00:00:00\",\"2018-06-05T00:00:00\",\"2018-06-06T00:00:00\",\"2018-06-07T00:00:00\",\"2018-06-08T00:00:00\",\"2018-06-11T00:00:00\",\"2018-06-12T00:00:00\",\"2018-06-13T00:00:00\",\"2018-06-14T00:00:00\",\"2018-06-15T00:00:00\",\"2018-06-18T00:00:00\",\"2018-06-19T00:00:00\",\"2018-06-20T00:00:00\",\"2018-06-21T00:00:00\",\"2018-06-22T00:00:00\",\"2018-06-25T00:00:00\",\"2018-06-26T00:00:00\",\"2018-06-27T00:00:00\",\"2018-06-28T00:00:00\",\"2018-06-29T00:00:00\",\"2018-07-02T00:00:00\",\"2018-07-03T00:00:00\",\"2018-07-05T00:00:00\",\"2018-07-06T00:00:00\",\"2018-07-09T00:00:00\",\"2018-07-10T00:00:00\",\"2018-07-11T00:00:00\",\"2018-07-12T00:00:00\",\"2018-07-13T00:00:00\",\"2018-07-16T00:00:00\",\"2018-07-17T00:00:00\",\"2018-07-18T00:00:00\",\"2018-07-19T00:00:00\",\"2018-07-20T00:00:00\",\"2018-07-23T00:00:00\",\"2018-07-24T00:00:00\",\"2018-07-25T00:00:00\",\"2018-07-26T00:00:00\",\"2018-07-27T00:00:00\",\"2018-07-30T00:00:00\",\"2018-07-31T00:00:00\",\"2018-08-01T00:00:00\",\"2018-08-02T00:00:00\",\"2018-08-03T00:00:00\",\"2018-08-06T00:00:00\",\"2018-08-07T00:00:00\",\"2018-08-08T00:00:00\",\"2018-08-09T00:00:00\",\"2018-08-10T00:00:00\",\"2018-08-13T00:00:00\",\"2018-08-14T00:00:00\",\"2018-08-15T00:00:00\",\"2018-08-16T00:00:00\",\"2018-08-17T00:00:00\",\"2018-08-20T00:00:00\",\"2018-08-21T00:00:00\",\"2018-08-22T00:00:00\",\"2018-08-23T00:00:00\",\"2018-08-24T00:00:00\",\"2018-08-27T00:00:00\",\"2018-08-28T00:00:00\",\"2018-08-29T00:00:00\",\"2018-08-30T00:00:00\",\"2018-08-31T00:00:00\",\"2018-09-04T00:00:00\",\"2018-09-05T00:00:00\",\"2018-09-06T00:00:00\",\"2018-09-07T00:00:00\",\"2018-09-10T00:00:00\",\"2018-09-11T00:00:00\",\"2018-09-12T00:00:00\",\"2018-09-13T00:00:00\",\"2018-09-14T00:00:00\",\"2018-09-17T00:00:00\",\"2018-09-18T00:00:00\",\"2018-09-19T00:00:00\",\"2018-09-20T00:00:00\",\"2018-09-21T00:00:00\",\"2018-09-24T00:00:00\",\"2018-09-25T00:00:00\",\"2018-09-26T00:00:00\",\"2018-09-27T00:00:00\",\"2018-09-28T00:00:00\",\"2018-10-01T00:00:00\",\"2018-10-02T00:00:00\",\"2018-10-03T00:00:00\",\"2018-10-04T00:00:00\",\"2018-10-05T00:00:00\",\"2018-10-08T00:00:00\",\"2018-10-09T00:00:00\",\"2018-10-10T00:00:00\",\"2018-10-11T00:00:00\",\"2018-10-12T00:00:00\",\"2018-10-15T00:00:00\",\"2018-10-16T00:00:00\",\"2018-10-17T00:00:00\",\"2018-10-18T00:00:00\",\"2018-10-19T00:00:00\",\"2018-10-22T00:00:00\",\"2018-10-23T00:00:00\",\"2018-10-24T00:00:00\",\"2018-10-25T00:00:00\",\"2018-10-26T00:00:00\",\"2018-10-29T00:00:00\",\"2018-10-30T00:00:00\",\"2018-10-31T00:00:00\",\"2018-11-01T00:00:00\",\"2018-11-02T00:00:00\",\"2018-11-05T00:00:00\",\"2018-11-06T00:00:00\",\"2018-11-07T00:00:00\",\"2018-11-08T00:00:00\",\"2018-11-09T00:00:00\",\"2018-11-12T00:00:00\",\"2018-11-13T00:00:00\",\"2018-11-14T00:00:00\",\"2018-11-15T00:00:00\",\"2018-11-16T00:00:00\",\"2018-11-19T00:00:00\",\"2018-11-20T00:00:00\",\"2018-11-21T00:00:00\",\"2018-11-23T00:00:00\",\"2018-11-26T00:00:00\",\"2018-11-27T00:00:00\",\"2018-11-28T00:00:00\",\"2018-11-29T00:00:00\",\"2018-11-30T00:00:00\",\"2018-12-03T00:00:00\",\"2018-12-04T00:00:00\",\"2018-12-06T00:00:00\",\"2018-12-07T00:00:00\",\"2018-12-10T00:00:00\",\"2018-12-11T00:00:00\",\"2018-12-12T00:00:00\",\"2018-12-13T00:00:00\",\"2018-12-14T00:00:00\",\"2018-12-17T00:00:00\",\"2018-12-18T00:00:00\",\"2018-12-19T00:00:00\",\"2018-12-20T00:00:00\",\"2018-12-21T00:00:00\",\"2018-12-24T00:00:00\",\"2018-12-26T00:00:00\",\"2018-12-27T00:00:00\",\"2018-12-28T00:00:00\",\"2018-12-31T00:00:00\",\"2019-01-02T00:00:00\",\"2019-01-03T00:00:00\",\"2019-01-04T00:00:00\",\"2019-01-07T00:00:00\",\"2019-01-08T00:00:00\",\"2019-01-09T00:00:00\",\"2019-01-10T00:00:00\",\"2019-01-11T00:00:00\",\"2019-01-14T00:00:00\",\"2019-01-15T00:00:00\",\"2019-01-16T00:00:00\",\"2019-01-17T00:00:00\",\"2019-01-18T00:00:00\",\"2019-01-22T00:00:00\",\"2019-01-23T00:00:00\",\"2019-01-24T00:00:00\",\"2019-01-25T00:00:00\",\"2019-01-28T00:00:00\",\"2019-01-29T00:00:00\",\"2019-01-30T00:00:00\",\"2019-01-31T00:00:00\",\"2019-02-01T00:00:00\",\"2019-02-04T00:00:00\",\"2019-02-05T00:00:00\",\"2019-02-06T00:00:00\",\"2019-02-07T00:00:00\",\"2019-02-08T00:00:00\",\"2019-02-11T00:00:00\",\"2019-02-12T00:00:00\",\"2019-02-13T00:00:00\",\"2019-02-14T00:00:00\",\"2019-02-15T00:00:00\",\"2019-02-19T00:00:00\",\"2019-02-20T00:00:00\",\"2019-02-21T00:00:00\",\"2019-02-22T00:00:00\",\"2019-02-25T00:00:00\",\"2019-02-26T00:00:00\",\"2019-02-27T00:00:00\",\"2019-02-28T00:00:00\",\"2019-03-01T00:00:00\",\"2019-03-04T00:00:00\",\"2019-03-05T00:00:00\",\"2019-03-06T00:00:00\",\"2019-03-07T00:00:00\",\"2019-03-08T00:00:00\",\"2019-03-11T00:00:00\",\"2019-03-12T00:00:00\",\"2019-03-13T00:00:00\",\"2019-03-14T00:00:00\",\"2019-03-15T00:00:00\",\"2019-03-18T00:00:00\",\"2019-03-19T00:00:00\",\"2019-03-20T00:00:00\",\"2019-03-21T00:00:00\",\"2019-03-22T00:00:00\",\"2019-03-25T00:00:00\",\"2019-03-26T00:00:00\",\"2019-03-27T00:00:00\",\"2019-03-28T00:00:00\",\"2019-03-29T00:00:00\",\"2019-04-01T00:00:00\",\"2019-04-02T00:00:00\",\"2019-04-03T00:00:00\",\"2019-04-04T00:00:00\",\"2019-04-05T00:00:00\",\"2019-04-08T00:00:00\",\"2019-04-09T00:00:00\",\"2019-04-10T00:00:00\",\"2019-04-11T00:00:00\",\"2019-04-12T00:00:00\",\"2019-04-15T00:00:00\",\"2019-04-16T00:00:00\",\"2019-04-17T00:00:00\",\"2019-04-18T00:00:00\",\"2019-04-22T00:00:00\",\"2019-04-23T00:00:00\",\"2019-04-24T00:00:00\",\"2019-04-25T00:00:00\",\"2019-04-26T00:00:00\",\"2019-04-29T00:00:00\",\"2019-04-30T00:00:00\",\"2019-05-01T00:00:00\",\"2019-05-02T00:00:00\",\"2019-05-03T00:00:00\",\"2019-05-06T00:00:00\",\"2019-05-07T00:00:00\",\"2019-05-08T00:00:00\",\"2019-05-09T00:00:00\",\"2019-05-10T00:00:00\",\"2019-05-13T00:00:00\",\"2019-05-14T00:00:00\",\"2019-05-15T00:00:00\",\"2019-05-16T00:00:00\",\"2019-05-17T00:00:00\",\"2019-05-20T00:00:00\",\"2019-05-21T00:00:00\",\"2019-05-22T00:00:00\",\"2019-05-23T00:00:00\",\"2019-05-24T00:00:00\",\"2019-05-28T00:00:00\",\"2019-05-29T00:00:00\",\"2019-05-30T00:00:00\",\"2019-05-31T00:00:00\",\"2019-06-03T00:00:00\",\"2019-06-04T00:00:00\",\"2019-06-05T00:00:00\",\"2019-06-06T00:00:00\",\"2019-06-07T00:00:00\",\"2019-06-10T00:00:00\",\"2019-06-11T00:00:00\",\"2019-06-12T00:00:00\",\"2019-06-13T00:00:00\",\"2019-06-14T00:00:00\",\"2019-06-17T00:00:00\",\"2019-06-18T00:00:00\",\"2019-06-19T00:00:00\",\"2019-06-20T00:00:00\",\"2019-06-21T00:00:00\",\"2019-06-24T00:00:00\",\"2019-06-25T00:00:00\",\"2019-06-26T00:00:00\",\"2019-06-27T00:00:00\",\"2019-06-28T00:00:00\",\"2019-07-01T00:00:00\",\"2019-07-02T00:00:00\",\"2019-07-03T00:00:00\",\"2019-07-05T00:00:00\",\"2019-07-08T00:00:00\",\"2019-07-09T00:00:00\",\"2019-07-10T00:00:00\",\"2019-07-11T00:00:00\",\"2019-07-12T00:00:00\",\"2019-07-15T00:00:00\",\"2019-07-16T00:00:00\",\"2019-07-17T00:00:00\",\"2019-07-18T00:00:00\",\"2019-07-19T00:00:00\",\"2019-07-22T00:00:00\",\"2019-07-23T00:00:00\",\"2019-07-24T00:00:00\",\"2019-07-25T00:00:00\",\"2019-07-26T00:00:00\",\"2019-07-29T00:00:00\",\"2019-07-30T00:00:00\",\"2019-07-31T00:00:00\",\"2019-08-01T00:00:00\",\"2019-08-02T00:00:00\",\"2019-08-05T00:00:00\",\"2019-08-06T00:00:00\",\"2019-08-07T00:00:00\",\"2019-08-08T00:00:00\",\"2019-08-09T00:00:00\",\"2019-08-12T00:00:00\",\"2019-08-13T00:00:00\",\"2019-08-14T00:00:00\",\"2019-08-15T00:00:00\",\"2019-08-16T00:00:00\",\"2019-08-19T00:00:00\",\"2019-08-20T00:00:00\",\"2019-08-21T00:00:00\",\"2019-08-22T00:00:00\",\"2019-08-23T00:00:00\",\"2019-08-26T00:00:00\",\"2019-08-27T00:00:00\",\"2019-08-28T00:00:00\",\"2019-08-29T00:00:00\",\"2019-08-30T00:00:00\",\"2019-09-03T00:00:00\",\"2019-09-04T00:00:00\",\"2019-09-05T00:00:00\",\"2019-09-06T00:00:00\",\"2019-09-09T00:00:00\",\"2019-09-10T00:00:00\",\"2019-09-11T00:00:00\",\"2019-09-12T00:00:00\",\"2019-09-13T00:00:00\",\"2019-09-16T00:00:00\",\"2019-09-17T00:00:00\",\"2019-09-18T00:00:00\",\"2019-09-19T00:00:00\",\"2019-09-20T00:00:00\",\"2019-09-23T00:00:00\",\"2019-09-24T00:00:00\",\"2019-09-25T00:00:00\",\"2019-09-26T00:00:00\",\"2019-09-27T00:00:00\",\"2019-09-30T00:00:00\",\"2019-10-01T00:00:00\",\"2019-10-02T00:00:00\",\"2019-10-03T00:00:00\",\"2019-10-04T00:00:00\",\"2019-10-07T00:00:00\",\"2019-10-08T00:00:00\",\"2019-10-09T00:00:00\",\"2019-10-10T00:00:00\",\"2019-10-11T00:00:00\",\"2019-10-14T00:00:00\",\"2019-10-15T00:00:00\",\"2019-10-16T00:00:00\",\"2019-10-17T00:00:00\",\"2019-10-18T00:00:00\",\"2019-10-21T00:00:00\",\"2019-10-22T00:00:00\",\"2019-10-23T00:00:00\",\"2019-10-24T00:00:00\",\"2019-10-25T00:00:00\",\"2019-10-28T00:00:00\",\"2019-10-29T00:00:00\",\"2019-10-30T00:00:00\",\"2019-10-31T00:00:00\",\"2019-11-01T00:00:00\",\"2019-11-04T00:00:00\",\"2019-11-05T00:00:00\",\"2019-11-06T00:00:00\",\"2019-11-07T00:00:00\",\"2019-11-08T00:00:00\",\"2019-11-11T00:00:00\",\"2019-11-12T00:00:00\",\"2019-11-13T00:00:00\",\"2019-11-14T00:00:00\",\"2019-11-15T00:00:00\",\"2019-11-18T00:00:00\",\"2019-11-19T00:00:00\",\"2019-11-20T00:00:00\",\"2019-11-21T00:00:00\",\"2019-11-22T00:00:00\",\"2019-11-25T00:00:00\",\"2019-11-26T00:00:00\",\"2019-11-27T00:00:00\",\"2019-11-29T00:00:00\",\"2019-12-02T00:00:00\",\"2019-12-03T00:00:00\",\"2019-12-04T00:00:00\",\"2019-12-05T00:00:00\",\"2019-12-06T00:00:00\",\"2019-12-09T00:00:00\",\"2019-12-10T00:00:00\",\"2019-12-11T00:00:00\",\"2019-12-12T00:00:00\",\"2019-12-13T00:00:00\",\"2019-12-16T00:00:00\",\"2019-12-17T00:00:00\",\"2019-12-18T00:00:00\",\"2019-12-19T00:00:00\",\"2019-12-20T00:00:00\",\"2019-12-23T00:00:00\",\"2019-12-24T00:00:00\",\"2019-12-26T00:00:00\",\"2019-12-27T00:00:00\",\"2019-12-30T00:00:00\",\"2019-12-31T00:00:00\",\"2020-01-02T00:00:00\",\"2020-01-03T00:00:00\",\"2020-01-06T00:00:00\",\"2020-01-07T00:00:00\",\"2020-01-08T00:00:00\",\"2020-01-09T00:00:00\",\"2020-01-10T00:00:00\",\"2020-01-13T00:00:00\",\"2020-01-14T00:00:00\",\"2020-01-15T00:00:00\",\"2020-01-16T00:00:00\",\"2020-01-17T00:00:00\",\"2020-01-21T00:00:00\",\"2020-01-22T00:00:00\",\"2020-01-23T00:00:00\",\"2020-01-24T00:00:00\",\"2020-01-27T00:00:00\",\"2020-01-28T00:00:00\",\"2020-01-29T00:00:00\",\"2020-01-30T00:00:00\",\"2020-01-31T00:00:00\",\"2020-02-03T00:00:00\",\"2020-02-04T00:00:00\",\"2020-02-05T00:00:00\",\"2020-02-06T00:00:00\",\"2020-02-07T00:00:00\",\"2020-02-10T00:00:00\",\"2020-02-11T00:00:00\",\"2020-02-12T00:00:00\",\"2020-02-13T00:00:00\",\"2020-02-14T00:00:00\",\"2020-02-18T00:00:00\",\"2020-02-19T00:00:00\",\"2020-02-20T00:00:00\",\"2020-02-21T00:00:00\",\"2020-02-24T00:00:00\",\"2020-02-25T00:00:00\",\"2020-02-26T00:00:00\",\"2020-02-27T00:00:00\",\"2020-02-28T00:00:00\",\"2020-03-02T00:00:00\",\"2020-03-03T00:00:00\",\"2020-03-04T00:00:00\",\"2020-03-05T00:00:00\",\"2020-03-06T00:00:00\",\"2020-03-09T00:00:00\",\"2020-03-10T00:00:00\",\"2020-03-11T00:00:00\",\"2020-03-12T00:00:00\",\"2020-03-13T00:00:00\",\"2020-03-16T00:00:00\",\"2020-03-17T00:00:00\",\"2020-03-18T00:00:00\",\"2020-03-19T00:00:00\",\"2020-03-20T00:00:00\",\"2020-03-23T00:00:00\",\"2020-03-24T00:00:00\",\"2020-03-25T00:00:00\",\"2020-03-26T00:00:00\",\"2020-03-27T00:00:00\",\"2020-03-30T00:00:00\",\"2020-03-31T00:00:00\",\"2020-04-01T00:00:00\",\"2020-04-02T00:00:00\",\"2020-04-03T00:00:00\",\"2020-04-06T00:00:00\",\"2020-04-07T00:00:00\",\"2020-04-08T00:00:00\",\"2020-04-09T00:00:00\",\"2020-04-13T00:00:00\",\"2020-04-14T00:00:00\",\"2020-04-15T00:00:00\",\"2020-04-16T00:00:00\",\"2020-04-17T00:00:00\",\"2020-04-20T00:00:00\",\"2020-04-21T00:00:00\",\"2020-04-22T00:00:00\",\"2020-04-23T00:00:00\",\"2020-04-24T00:00:00\",\"2020-04-27T00:00:00\",\"2020-04-28T00:00:00\",\"2020-04-29T00:00:00\",\"2020-04-30T00:00:00\",\"2020-05-01T00:00:00\",\"2020-05-04T00:00:00\",\"2020-05-05T00:00:00\",\"2020-05-06T00:00:00\",\"2020-05-07T00:00:00\",\"2020-05-08T00:00:00\",\"2020-05-11T00:00:00\",\"2020-05-12T00:00:00\",\"2020-05-13T00:00:00\",\"2020-05-14T00:00:00\",\"2020-05-15T00:00:00\",\"2020-05-18T00:00:00\",\"2020-05-19T00:00:00\",\"2020-05-20T00:00:00\",\"2020-05-21T00:00:00\",\"2020-05-22T00:00:00\",\"2020-05-26T00:00:00\",\"2020-05-27T00:00:00\",\"2020-05-28T00:00:00\",\"2020-05-29T00:00:00\",\"2020-06-01T00:00:00\",\"2020-06-02T00:00:00\",\"2020-06-03T00:00:00\",\"2020-06-04T00:00:00\",\"2020-06-05T00:00:00\",\"2020-06-08T00:00:00\",\"2020-06-09T00:00:00\",\"2020-06-10T00:00:00\",\"2020-06-11T00:00:00\",\"2020-06-12T00:00:00\",\"2020-06-15T00:00:00\",\"2020-06-16T00:00:00\",\"2020-06-17T00:00:00\",\"2020-06-18T00:00:00\",\"2020-06-19T00:00:00\",\"2020-06-22T00:00:00\",\"2020-06-23T00:00:00\",\"2020-06-24T00:00:00\",\"2020-06-25T00:00:00\",\"2020-06-26T00:00:00\",\"2020-06-29T00:00:00\",\"2020-06-30T00:00:00\",\"2020-07-01T00:00:00\",\"2020-07-02T00:00:00\",\"2020-07-06T00:00:00\",\"2020-07-07T00:00:00\",\"2020-07-08T00:00:00\",\"2020-07-09T00:00:00\",\"2020-07-10T00:00:00\",\"2020-07-13T00:00:00\",\"2020-07-14T00:00:00\",\"2020-07-15T00:00:00\",\"2020-07-16T00:00:00\",\"2020-07-17T00:00:00\",\"2020-07-20T00:00:00\",\"2020-07-21T00:00:00\",\"2020-07-22T00:00:00\",\"2020-07-23T00:00:00\",\"2020-07-24T00:00:00\",\"2020-07-27T00:00:00\",\"2020-07-28T00:00:00\",\"2020-07-29T00:00:00\",\"2020-07-30T00:00:00\",\"2020-07-31T00:00:00\",\"2020-08-03T00:00:00\",\"2020-08-04T00:00:00\",\"2020-08-05T00:00:00\",\"2020-08-06T00:00:00\",\"2020-08-07T00:00:00\",\"2020-08-10T00:00:00\",\"2020-08-11T00:00:00\",\"2020-08-12T00:00:00\",\"2020-08-13T00:00:00\",\"2020-08-14T00:00:00\",\"2020-08-17T00:00:00\",\"2020-08-18T00:00:00\",\"2020-08-19T00:00:00\",\"2020-08-20T00:00:00\",\"2020-08-21T00:00:00\",\"2020-08-24T00:00:00\",\"2020-08-25T00:00:00\",\"2020-08-26T00:00:00\",\"2020-08-27T00:00:00\",\"2020-08-28T00:00:00\",\"2020-08-31T00:00:00\",\"2020-09-01T00:00:00\",\"2020-09-02T00:00:00\",\"2020-09-03T00:00:00\",\"2020-09-04T00:00:00\",\"2020-09-08T00:00:00\",\"2020-09-09T00:00:00\",\"2020-09-10T00:00:00\",\"2020-09-11T00:00:00\",\"2020-09-14T00:00:00\",\"2020-09-15T00:00:00\",\"2020-09-16T00:00:00\",\"2020-09-17T00:00:00\",\"2020-09-18T00:00:00\",\"2020-09-21T00:00:00\",\"2020-09-22T00:00:00\",\"2020-09-23T00:00:00\",\"2020-09-24T00:00:00\",\"2020-09-25T00:00:00\",\"2020-09-28T00:00:00\",\"2020-09-29T00:00:00\",\"2020-09-30T00:00:00\",\"2020-10-01T00:00:00\",\"2020-10-02T00:00:00\",\"2020-10-05T00:00:00\",\"2020-10-06T00:00:00\",\"2020-10-07T00:00:00\",\"2020-10-08T00:00:00\",\"2020-10-09T00:00:00\",\"2020-10-12T00:00:00\",\"2020-10-13T00:00:00\",\"2020-10-14T00:00:00\",\"2020-10-15T00:00:00\",\"2020-10-16T00:00:00\",\"2020-10-19T00:00:00\",\"2020-10-20T00:00:00\",\"2020-10-21T00:00:00\",\"2020-10-22T00:00:00\",\"2020-10-23T00:00:00\",\"2020-10-26T00:00:00\",\"2020-10-27T00:00:00\",\"2020-10-28T00:00:00\",\"2020-10-29T00:00:00\",\"2020-10-30T00:00:00\",\"2020-11-02T00:00:00\",\"2020-11-03T00:00:00\",\"2020-11-04T00:00:00\",\"2020-11-05T00:00:00\",\"2020-11-06T00:00:00\",\"2020-11-09T00:00:00\",\"2020-11-10T00:00:00\",\"2020-11-11T00:00:00\",\"2020-11-12T00:00:00\",\"2020-11-13T00:00:00\",\"2020-11-16T00:00:00\",\"2020-11-17T00:00:00\",\"2020-11-18T00:00:00\",\"2020-11-19T00:00:00\",\"2020-11-20T00:00:00\",\"2020-11-23T00:00:00\",\"2020-11-24T00:00:00\",\"2020-11-25T00:00:00\",\"2020-11-27T00:00:00\",\"2020-11-30T00:00:00\",\"2020-12-01T00:00:00\",\"2020-12-02T00:00:00\",\"2020-12-03T00:00:00\",\"2020-12-04T00:00:00\",\"2020-12-07T00:00:00\",\"2020-12-08T00:00:00\",\"2020-12-09T00:00:00\",\"2020-12-10T00:00:00\",\"2020-12-11T00:00:00\",\"2020-12-14T00:00:00\",\"2020-12-15T00:00:00\",\"2020-12-16T00:00:00\",\"2020-12-17T00:00:00\",\"2020-12-18T00:00:00\",\"2020-12-21T00:00:00\",\"2020-12-22T00:00:00\",\"2020-12-23T00:00:00\",\"2020-12-24T00:00:00\",\"2020-12-28T00:00:00\",\"2020-12-29T00:00:00\",\"2020-12-30T00:00:00\",\"2020-12-31T00:00:00\",\"2021-01-04T00:00:00\",\"2021-01-05T00:00:00\",\"2021-01-06T00:00:00\",\"2021-01-07T00:00:00\",\"2021-01-08T00:00:00\",\"2021-01-11T00:00:00\",\"2021-01-12T00:00:00\",\"2021-01-13T00:00:00\",\"2021-01-14T00:00:00\",\"2021-01-15T00:00:00\",\"2021-01-19T00:00:00\",\"2021-01-20T00:00:00\",\"2021-01-21T00:00:00\",\"2021-01-22T00:00:00\",\"2021-01-25T00:00:00\",\"2021-01-26T00:00:00\",\"2021-01-27T00:00:00\",\"2021-01-28T00:00:00\",\"2021-01-29T00:00:00\",\"2021-02-01T00:00:00\",\"2021-02-02T00:00:00\",\"2021-02-03T00:00:00\",\"2021-02-04T00:00:00\",\"2021-02-05T00:00:00\",\"2021-02-08T00:00:00\",\"2021-02-09T00:00:00\",\"2021-02-10T00:00:00\",\"2021-02-11T00:00:00\",\"2021-02-12T00:00:00\",\"2021-02-16T00:00:00\",\"2021-02-17T00:00:00\",\"2021-02-18T00:00:00\",\"2021-02-19T00:00:00\",\"2021-02-22T00:00:00\",\"2021-02-23T00:00:00\",\"2021-02-24T00:00:00\",\"2021-02-25T00:00:00\",\"2021-02-26T00:00:00\",\"2021-03-01T00:00:00\",\"2021-03-02T00:00:00\",\"2021-03-03T00:00:00\",\"2021-03-04T00:00:00\",\"2021-03-05T00:00:00\",\"2021-03-08T00:00:00\",\"2021-03-09T00:00:00\",\"2021-03-10T00:00:00\",\"2021-03-11T00:00:00\",\"2021-03-12T00:00:00\",\"2021-03-15T00:00:00\",\"2021-03-16T00:00:00\",\"2021-03-17T00:00:00\",\"2021-03-18T00:00:00\",\"2021-03-19T00:00:00\",\"2021-03-22T00:00:00\",\"2021-03-23T00:00:00\",\"2021-03-24T00:00:00\",\"2021-03-25T00:00:00\",\"2021-03-26T00:00:00\",\"2021-03-29T00:00:00\",\"2021-03-30T00:00:00\",\"2021-03-31T00:00:00\",\"2021-04-01T00:00:00\",\"2021-04-05T00:00:00\",\"2021-04-06T00:00:00\",\"2021-04-07T00:00:00\",\"2021-04-08T00:00:00\",\"2021-04-09T00:00:00\",\"2021-04-12T00:00:00\",\"2021-04-13T00:00:00\",\"2021-04-14T00:00:00\",\"2021-04-15T00:00:00\",\"2021-04-16T00:00:00\",\"2021-04-19T00:00:00\",\"2021-04-20T00:00:00\",\"2021-04-21T00:00:00\",\"2021-04-22T00:00:00\",\"2021-04-23T00:00:00\",\"2021-04-26T00:00:00\",\"2021-04-27T00:00:00\",\"2021-04-28T00:00:00\",\"2021-04-29T00:00:00\",\"2021-04-30T00:00:00\",\"2021-05-03T00:00:00\",\"2021-05-04T00:00:00\",\"2021-05-05T00:00:00\",\"2021-05-06T00:00:00\",\"2021-05-07T00:00:00\",\"2021-05-10T00:00:00\",\"2021-05-11T00:00:00\",\"2021-05-12T00:00:00\",\"2021-05-13T00:00:00\",\"2021-05-14T00:00:00\",\"2021-05-17T00:00:00\",\"2021-05-18T00:00:00\",\"2021-05-19T00:00:00\",\"2021-05-20T00:00:00\",\"2021-05-21T00:00:00\",\"2021-05-24T00:00:00\",\"2021-05-25T00:00:00\",\"2021-05-26T00:00:00\",\"2021-05-27T00:00:00\",\"2021-05-28T00:00:00\",\"2021-06-01T00:00:00\",\"2021-06-02T00:00:00\",\"2021-06-03T00:00:00\",\"2021-06-04T00:00:00\",\"2021-06-07T00:00:00\",\"2021-06-08T00:00:00\",\"2021-06-09T00:00:00\",\"2021-06-10T00:00:00\",\"2021-06-11T00:00:00\",\"2021-06-14T00:00:00\"],\"y\":[1.6916664838790894,1.6832505464553833,1.67483389377594,1.60750412940979,1.66221022605896,1.658001184463501,1.6285450458526611,1.6411690711975098,1.6411690711975098,1.6117119789123535,1.60750412940979,1.6302279233932495,1.658001184463501,1.6201283931732178,1.6285450458526611,1.7185988426208496,1.7589962482452393,1.7817206382751465,1.7842453718185425,1.76909601688385,1.7674131393432617,1.7127069234848022,1.62433660030365,1.5738390684127808,1.516608715057373,1.5780473947525024,1.62433660030365,1.6596847772598267,1.681566834449768,1.7337478399276733,1.7000831365585327,1.603295922279358,1.5687888860702515,1.5654226541519165,1.5948799848556519,1.5561647415161133,1.540173888206482,1.5948799848556519,1.5923548936843872,1.5570068359375,1.5359660387039185,1.562056064605713,1.5990873575210571,1.6672595739364624,1.6672595739364624,1.7059745788574219,1.6832505464553833,1.6453773975372314,1.633594036102295,1.632752537727356,1.6201283931732178,1.590671420097351,1.603295922279358,1.7253315448760986,1.7531050443649292,1.750580072402954,1.8305346965789795,1.8094943761825562,1.885240077972412,1.9231137037277222,1.8566243648529053,1.8094943761825562,1.750580072402954,1.6706258058547974,1.7337478399276733,1.786770224571228,1.7993948459625244,1.7253315448760986,1.7884535789489746,1.8860818147659302,1.9744526147842407,2.037574529647827,1.9862353801727295,1.9576196670532227,2.0358901023864746,1.9567781686782837,1.9719282388687134,1.9567781686782837,1.9567781686782837,1.9315297603607178,1.893656611442566,1.914697289466858,1.885240077972412,1.9323712587356567,1.8944977521896362,1.9374213218688965,1.8953394889831543,1.9357378482818604,1.8431588411331177,1.7674131393432617,1.727014422416687,1.681566834449768,1.5948799848556519,1.6832505464553833,1.766571044921875,1.6613677740097046,1.5788887739181519,1.5570068359375,1.5999293327331543,1.6672595739364624,1.6411690711975098,1.6159204244613647,1.5511152744293213,1.4888349771499634,1.405513882637024,1.3625911474227905,1.3541748523712158,1.3499668836593628,1.3280845880508423,1.3297678232192993,1.3466005325317383,1.4804186820983887,1.429079532623291,1.476210594177246,1.540173888206482,1.5107171535491943,1.4728440046310425,1.404672384262085,1.2708542346954346,1.2918946743011475,1.3289260864257812,1.3373421430587769,1.2540215253829956,1.2834784984588623,1.3676408529281616,1.3760572671890259,1.4560112953186035,1.5233415365219116,1.5931963920593262,1.6790423393249512,1.7606801986694336,1.8052860498428345,1.7253315448760986,1.66221022605896,1.738797664642334,1.7345889806747437,1.7589962482452393,1.8036024570465088,1.750580072402954,1.6832505464553833,1.5654226541519165,1.614236831665039,1.6504268646240234,1.6874582767486572,1.7169153690338135,1.750580072402954,1.7169153690338135,1.6495851278305054,1.700924038887024,1.7185988426208496,1.6916664838790894,1.7068158388137817,1.6874582767486572,1.67483389377594,1.6344363689422607,1.653793454170227,1.737956166267395,1.7909784317016602,1.7211239337921143,1.6832505464553833,1.6664178371429443,1.6117119789123535,1.625178337097168,1.5654226541519165,1.590671420097351,1.470319151878357,1.5410157442092896,1.562897801399231,1.5772055387496948,1.6487433910369873,1.6411690711975098,1.664734959602356,1.7127069234848022,1.7547887563705444,1.6133954524993896,1.678200364112854,1.7169153690338135,1.7127069234848022,1.561214566230774,1.5149253606796265,1.5149253606796265,1.5065091848373413,1.4837849140167236,1.5216585397720337,1.5780473947525024,1.5654226541519165,1.5544813871383667,1.433287501335144,1.4644278287887573,1.5485906600952148,1.5990873575210571,1.5990873575210571,1.6975574493408203,1.7034497261047363,1.60750412940979,1.6201283931732178,1.6361193656921387,1.5570068359375,1.562056064605713,1.5570068359375,1.5713138580322266,1.5654226541519165,1.590671420097351,1.6041375398635864,1.5822553634643555,1.6201283931732178,1.6176035404205322,1.5275495052337646,1.5250247716903687,1.4484370946884155,1.5233415365219116,1.3297678232192993,1.3466005325317383,1.2540215253829956,1.1210449934005737,0.7843944430351257,0.7970190048217773,0.7911276817321777,0.770086944103241,0.7742953300476074,0.7869195342063904,0.8189013004302979,0.8247925639152527,0.8180596828460693,0.8306838870048523,0.831525444984436,0.8500415682792664,0.8542495965957642,0.8921226859092712,0.8736069798469543,0.8879143595695496,0.8332089185714722,0.8029102683067322,0.803752064704895,0.803752064704895,0.812168300151825,0.8332089185714722,0.8205845355987549,0.7919691205024719,0.7574626803398132,0.7566209435462952,0.7574626803398132,0.7465215921401978,0.715381383895874,0.6951823234558105,0.7145397663116455,0.6943406462669373,0.6733002662658691,0.6665670275688171,0.649734616279602,0.6387934684753418,0.6733002662658691,0.6665670275688171,0.6926573514938354,0.8584576845169067,0.875290036201477,0.8576159477233887,0.8921226859092712,0.871082067489624,0.8677157163619995,0.8550909757614136,0.8635072112083435,0.8837065696716309,0.9072719812393188,0.875290036201477,0.8837065696716309,0.9089552760124207,0.9190545678138733,0.8921226859092712,0.9022221565246582,0.9257879257202148,0.971235454082489,1.0183665752410889,1.022574543952942,1.0183665752410889,1.0208913087844849,0.9931176900863647,1.0200496912002563,0.9905928373336792,1.0015336275100708,1.0099501609802246,1.0099501609802246,1.0133165121078491,1.0099501609802246,1.0107920169830322,1.025099754333496,1.0082669258117676,1.0840129852294922,1.0899043083190918,1.0772802829742432,1.0570811033248901,1.0377235412597656,1.0452985763549805,1.073072075843811,1.0562397241592407,1.0629727840423584,1.0419321060180664,1.0604474544525146,1.0688639879226685,1.094112753868103,1.0436153411865234,1.0166828632354736,1.0335156917572021,1.067180871963501,1.005742073059082,0.9594526290893555,0.9476697444915771,1.0074255466461182,0.9880679845809937,1.1176784038543701,1.0983209609985352,1.1185197830200195,1.1538681983947754,1.096637487411499,1.1235694885253906,1.0932711362838745,1.094112753868103,1.0461403131484985,1.0166828632354736,1.0394072532653809,0.9720770716667175,0.9889095425605774,1.0141582489013672,1.049506664276123,1.049506664276123,1.0545562505722046,1.063814401626587,1.0621310472488403,1.0604474544525146,1.0814882516860962,1.0856964588165283,1.073072075843811,1.073072075843811,1.073072075843811,1.0697054862976074,1.073072075843811,1.1101034879684448,1.1681758165359497,1.1673341989517212,1.1395604610443115,1.1429269313812256,1.1025291681289673,1.1260948181152344,1.1109453439712524,1.0890631675720215,1.0562397241592407,1.0873795747756958,1.1101034879684448,1.144610047340393,1.1193616390228271,1.1589179039001465,1.227931022644043,1.2498135566711426,1.2035239934921265,1.182483434677124,1.2119404077529907,1.1883747577667236,1.1462936401367188,1.1361942291259766,1.1404019594192505,1.1109453439712524,1.1547096967697144,1.1159948110580444,1.1319859027862549,1.1361942291259766,1.1866915225982666,1.1993160247802734,1.19089937210083,1.144610047340393,1.138718605041504,1.1572343111038208,1.1277775764465332,1.1025291681289673,1.1058952808380127,1.0705472230911255,1.0654975175857544,1.073072075843811,1.0814882516860962,1.1025291681289673,1.1109453439712524,1.094112753868103,1.2052074670791626,1.243080496788025,1.3163015842437744,1.3701660633087158,1.3886812925338745,1.342392086982727,1.380265474319458,1.3886812925338745,1.3996224403381348,1.4560112953186035,1.495568037033081,1.5132418870925903,1.5149253606796265,1.5014592409133911,1.4896767139434814,1.4509618282318115,1.4299211502075195,1.4147716760635376,1.4475951194763184,1.4181383848190308,1.453486680984497,1.4433870315551758,1.4433870315551758,1.4122470617294312,1.4433870315551758,1.3785820007324219,1.3466005325317383,1.3676408529281616,1.3718488216400146,1.3381839990615845,1.3676408529281616,1.3954147100448608,1.4038305282592773,1.4518035650253296,1.4518035650253296,1.4374959468841553,1.4728440046310425,1.466111183166504,1.5511152744293213,1.5864633321762085,1.5923548936843872,1.5755219459533691,1.5359660387039185,1.5191330909729004,1.515766978263855,1.477051854133606,1.4316048622131348,1.3524914979934692,1.4038305282592773,1.4602199792861938,1.430762767791748,1.430762767791748,1.4156134128570557,1.314618706703186,1.3356590270996094,1.405513882637024,1.4223464727401733,1.4139305353164673,1.4013057947158813,1.4223464727401733,1.453486680984497,1.405513882637024,1.3609081506729126,1.3466005325317383,1.2750619649887085,1.2969443798065186,1.365115761756897,1.3609081506729126,1.3861567974090576,1.3575414419174194,1.3600664138793945,1.3592242002487183,1.3457587957382202,1.2834784984588623,1.2876864671707153,1.2506550550460815,1.2371889352798462,1.2346642017364502,1.2035239934921265,1.2169899940490723,1.2876864671707153,1.2742204666137695,1.2127817869186401,1.2573883533477783,1.2371889352798462,1.2750619649887085,1.295261263847351,1.2658041715621948,1.3238766193389893,1.2615959644317627,1.267487645149231,1.2961026430130005,1.3070440292358398,1.2969443798065186,1.2733789682388306,1.3516499996185303,1.5149253606796265,1.4349708557128906,1.562897801399231,1.5124003887176514,1.5115585327148438,1.4997761249542236,1.4795770645141602,1.4644278287887573,1.4728440046310425,1.4644278287887573,1.4694774150848389,1.4484370946884155,1.4299211502075195,1.4425456523895264,1.4349708557128906,1.3928894996643066,1.3886812925338745,1.3970980644226074,1.3760572671890259,1.3710074424743652,1.3735322952270508,1.3886812925338745,1.466111183166504,1.4139305353164673,1.4475951194763184,1.4728440046310425,1.4728440046310425,1.4459118843078613,1.5410157442092896,1.5191330909729004,1.519974946975708,1.5149253606796265,1.4989347457885742,1.567947506904602,1.5696306228637695,1.555323600769043,1.5696306228637695,1.562056064605713,1.5275495052337646,1.539332389831543,1.515766978263855,1.5233415365219116,1.498092770576477,1.492201328277588,1.4366543292999268,1.4189800024032593,1.5065091848373413,1.4795770645141602,1.445070505142212,1.4198216199874878,1.408038854598999,1.4366543292999268,1.3895232677459717,1.430762767791748,1.4299211502075195,1.4518035650253296,1.471160888671875,1.5258660316467285,1.5115585327148438,1.516608715057373,1.5090340375900269,1.5452237129211426,1.5536400079727173,1.5485906600952148,1.5418574810028076,1.5502737760543823,1.5527986288070679,1.5107171535491943,1.5073504447937012,1.539332389831543,1.5334409475326538,1.5376490354537964,1.5140836238861084,1.5561647415161133,1.560373306274414,1.5275495052337646,1.5283912420272827,1.538491129875183,1.5140836238861084,1.493884563446045,1.4821020364761353,1.495568037033081,1.5300745964050293,1.5216585397720337,1.5191330909729004,1.4812602996826172,1.4475951194763184,1.4728440046310425,1.4593778848648071,1.4518035650253296,1.4366543292999268,1.3912062644958496,1.3255596160888672,1.3045188188552856,1.2902110815048218,1.2961026430130005,1.295261263847351,1.2961026430130005,1.3213515281677246,1.3238766193389893,1.314618706703186,1.3062020540237427,1.3095687627792358,1.2876864671707153,1.312093734741211,1.342392086982727,1.342392086982727,1.3524914979934692,1.3314509391784668,1.2969443798065186,1.2961026430130005,1.3280845880508423,1.3053607940673828,1.2649624347686768,1.2624375820159912,1.22372305393219,1.2489715814590454,1.2397140264511108,1.2708542346954346,1.2632794380187988,1.2540215253829956,1.2809536457061768,1.2456051111221313,1.2506550550460815,1.241397500038147,1.227089524269104,1.2371889352798462,1.2456051111221313,1.2624375820159912,1.2742204666137695,1.2750619649887085,1.270012378692627,1.266645908355713,1.2456051111221313,1.2775869369506836,1.3062020540237427,1.2918946743011475,1.2254059314727783,1.226247787475586,1.2868449687957764,1.2716953754425049,1.295261263847351,1.2961026430130005,1.319668173789978,1.2876864671707153,1.279270052909851,1.2582294940948486,1.2624375820159912,1.25149667263031,1.270012378692627,1.2658041715621948,1.2548632621765137,1.2624375820159912,1.3297678232192993,1.3508081436157227,1.4088799953460693,1.4433870315551758,1.430762767791748,1.408038854598999,1.4273960590362549,1.430762767791748,1.4198216199874878,1.4299211502075195,1.4400205612182617,1.4105637073516846,1.425713062286377,1.4560112953186035,1.4526454210281372,1.4585365056991577,1.4341294765472412,1.4526454210281372,1.4509618282318115,1.4585365056991577,1.4686360359191895,1.475368857383728,1.49640953540802,1.5780473947525024,1.5233415365219116,1.5570068359375,1.5317577123641968,1.5023006200790405,1.5359660387039185,1.5081923007965088,1.49640953540802,1.5292328596115112,1.557848334312439,1.5923548936843872,1.6790423393249512,1.70260751247406,1.67399263381958,1.5923548936843872,1.5755219459533691,1.6091874837875366,1.6159204244613647,1.5864633321762085,1.5527986288070679,1.606662392616272,1.60750412940979,1.5931963920593262,1.6108702421188354,1.6394859552383423,1.6218119859695435,1.6159204244613647,1.6369609832763672,1.6840919256210327,1.67483389377594,1.6487433910369873,1.6672595739364624,1.6882998943328857,1.6798837184906006,1.7084991931915283,1.8120192289352417,1.9231137037277222,1.8507335186004639,1.8010778427124023,1.8002362251281738,1.9778190851211548,1.9483623504638672,1.8776655197143555,1.8515758514404297,1.8431588411331177,1.7286981344223022,1.6655763387680054,1.7337478399276733,1.8078110218048096,1.8263262510299683,1.7968698740005493,1.7749875783920288,1.7758287191390991,1.772462248802185,1.7674131393432617,1.7707792520523071,1.7758287191390991,1.8027606010437012,1.8027606010437012,1.8221184015274048,1.8094943761825562,1.786770224571228,1.7892948389053345,1.8069690465927124,1.7800369262695312,1.76909601688385,1.7842453718185425,1.8456838130950928,1.8061271905899048,1.7943449020385742,1.8726156949996948,1.8793491125106812,1.8902897834777832,1.8818740844726562,1.8120192289352417,1.7926617860794067,1.7909784317016602,1.7800369262695312,1.6453773975372314,1.632752537727356,1.6117119789123535,1.6024545431137085,1.5974041223526,1.603295922279358,1.6260197162628174,1.6293864250183105,1.6133954524993896,1.60750412940979,1.5721559524536133,1.5729976892471313,1.6091874837875366,1.6192872524261475,1.5822553634643555,1.606662392616272,1.6218119859695435,1.6866172552108765,1.6504268646240234,1.6546350717544556,1.6411690711975098,1.6411690711975098,1.6091874837875366,1.5923548936843872,1.6117119789123535,1.6201283931732178,1.6571598052978516,1.658001184463501,1.663050889968872,1.6436941623687744,1.5746805667877197,1.58562171459198,1.5654226541519165,1.6184452772140503,1.633594036102295,1.7059745788574219,1.7068158388137817,1.7127069234848022,1.7413228750228882,1.7514216899871826,1.7278563976287842,1.7051331996917725,1.7084991931915283,1.7076575756072998,1.6546350717544556,1.783403754234314,1.750580072402954,1.76993727684021,1.76909601688385,1.7345889806747437,1.6411690711975098,1.847367286682129,1.897864818572998,1.9710862636566162,1.8995482921600342,1.9121724367141724,1.8650413751602173,1.832217812538147,1.833059549331665,1.8608332872390747,1.8456838130950928,1.8507335186004639,1.833059549331665,1.8103361129760742,1.847367286682129,1.8111778497695923,1.7598382234573364,1.8187520503997803,1.9954936504364014,2.0283164978027344,1.9710862636566162,2.013167381286621,1.9904439449310303,2.050199508666992,2.0687148571014404,2.0594568252563477,2.0645062923431396,2.0712404251098633,2.157926559448242,2.146144151687622,2.1166868209838867,2.1713929176330566,2.173917531967163,2.167184591293335,2.1596107482910156,2.165501832962036,2.1713929176330566,2.1453022956848145,2.160452127456665,2.2050583362579346,2.2866952419281006,2.358233690261841,2.358233690261841,2.4019978046417236,2.5038340091705322,2.4062061309814453,2.480268716812134,2.5139338970184326,2.454179048538208,2.5282421112060547,2.533291816711426,2.6157708168029785,2.7378063201904297,2.6957249641418457,2.625870943069458,2.7176074981689453,2.758005142211914,2.7436976432800293,2.725182294845581,2.821127414703369,2.776522159576416,2.783254384994507,2.7260239124298096,2.697408437728882,2.7352817058563232,2.7352817058563232,2.7016162872314453,2.6578521728515625,2.728549003601074,2.732757329940796,2.752955436706543,2.7613718509674072,2.784937620162964,2.830385446548462,2.8800411224365234,2.9591541290283203,2.9852449893951416,3.004601240158081,2.986086368560791,2.97682785987854,2.961678981781006,2.944004535675049,2.944004535675049,2.9692537784576416,2.947371006011963,2.8985562324523926,2.8766751289367676,2.8657329082489014,2.94232177734375,2.975144147872925,2.890982151031494,2.8707826137542725,2.9204399585723877,2.887615442276001,2.8169198036193848,2.710033893585205,2.710874319076538,2.768946886062622,2.7723135948181152,2.7352817058563232,2.642703056335449,2.655327558517456,2.530766487121582,2.4785854816436768,2.721816301345825,2.775679349899292,2.882566213607788,2.9355883598327637,2.903607130050659,2.8993983268737793,2.8623671531677246,2.840484857559204,2.804295063018799,2.840484857559204,2.819444179534912,2.847217321395874,3.0062849521636963,3.049208164215088,3.030691623687744,3.041633129119873,3.0601491928100586,3.0500495433807373,3.0887644290924072,3.0163846015930176,3.03153395652771,3.028167247772217,2.971778631210327,2.7874622344970703,2.811027765274048,2.8446929454803467,2.801769733428955,2.7537972927093506,2.7647383213043213,2.7016162872314453,2.6485939025878906,2.606513261795044,2.6494362354278564,2.6940419673919678,2.6090376377105713,2.583789348602295,2.629237413406372,2.6006217002868652,2.5879969596862793,2.5804221630096436,2.604830026626587,2.655327558517456,2.763896942138672,2.858159065246582,2.864891767501831,2.869100332260132,2.9212803840637207,3.0020759105682373,2.851426124572754,2.780729293823242,2.901923656463623,2.986086368560791,2.996185541152954,3.050891399383545,3.1131715774536133,3.0618324279785156,3.130845308303833,3.062673807144165,3.110647201538086,3.0954978466033936,3.022275447845459,3.039108991622925,2.991136074066162,2.9835617542266846,3.0062849521636963,3.052574396133423,3.181342840194702,3.078664779663086,2.984402656555176,3.0752980709075928,2.9608373641967773,2.9448463916778564,2.8312268257141113,2.8287031650543213,2.9625205993652344,2.9355883598327637,2.945688009262085,2.890141010284424,2.916231393814087,2.8573172092437744,2.874149799346924,2.7697885036468506,2.770629405975342,2.660377025604248,2.6544859409332275,2.598097324371338,2.562748908996582,2.5913643836975098,2.5703229904174805,2.577897787094116,2.598097324371338,2.6528027057647705,2.673001289367676,2.678051471710205,2.7192912101745605,2.8152358531951904,3.140103340148926,3.2419395446777344,3.2259490489959717,3.2570900917053223,3.2974867820739746,3.243623971939087,3.2267909049987793,3.2208995819091797,3.2032248973846436,3.256247043609619,3.208275079727173,3.206591844558716,3.206591844558716,3.224266529083252,3.258772850036621,3.294121026992798,3.328627347946167,3.3925909996032715,3.5508170127868652,3.53987455368042,3.582798957824707,3.62740421295166,3.525566339492798,3.5137853622436523,3.40521502494812,3.4068994522094727,3.38249135017395,3.411107301712036,3.419523000717163,3.509577512741089,3.463287830352783,3.409423828125,3.454028844833374,3.363133668899536,3.370709180831909,3.38670015335083,3.3690247535705566,3.448979139328003,3.391749620437622,3.4506630897521973,3.4329886436462402,3.3614513874053955,3.2612977027893066,3.2192156314849854,3.265505075454712,3.2924375534057617,3.403531789779663,3.3488261699676514,3.3749165534973145,3.4590795040130615,3.484328269958496,3.787313222885132,3.8243448734283447,3.8024628162384033,3.939647912979126,3.94553804397583,3.9009313583374023,3.9556381702423096,3.9556381702423096,3.9674201011657715,3.910191535949707,4.043168067932129,4.096189498901367,4.12312126159668,4.121438980102539,4.095348834991455,3.9539554119110107,3.9648962020874023,3.9438564777374268,3.92197322845459,3.9371228218078613,3.9615304470062256,3.9994029998779297,3.9547972679138184,3.9354398250579834,3.9388058185577393,3.9876201152801514,3.985095739364624,3.972470760345459,4.006134510040283,4.041484355926514,4.037275791168213,3.9909873008728027,4.058315753936768,3.9951932430267334,4.0027689933776855,3.905982255935669,3.779738664627075,3.6989428997039795,3.6560182571411133,3.7283997535705566,3.753648519515991,3.8192946910858154,3.7847883701324463,3.6467628479003906,3.6391866207122803,3.5390336513519287,3.658545732498169,3.6678030490875244,3.5499751567840576,3.613938093185425,3.6972594261169434,3.6551783084869385,3.4481379985809326,3.5078933238983154,3.4717037677764893,3.446455240249634,3.484328269958496,3.3749165534973145,3.325261354446411,3.39848256111145,3.4717037677764893,3.3185276985168457,3.191441774368286,3.087080717086792,3.2335240840911865,3.0980231761932373,3.1704025268554688,3.1249542236328125,3.0954978466033936,3.125795602798462,3.2958035469055176,3.5348262786865234,3.3471429347991943,3.2688727378845215,3.3000121116638184,3.204909086227417,3.114854335784912,3.1409451961517334,3.106437921524048,3.310952663421631,3.2772879600524902,3.1704025268554688,3.3193695545196533,3.44392991065979,3.271397113800049,3.187234401702881,3.289071559906006,3.3892247676849365,3.43887996673584,3.4380383491516113,3.5533409118652344,3.502002000808716,3.406057119369507,3.611414909362793,3.737657308578491,3.7283997535705566,3.7620646953582764,3.732606887817383,3.685476779937744,3.750281810760498,3.909348726272583,3.8807339668273926,3.897566080093384,3.9556381702423096,3.804988384246826,3.7393405437469482,3.6248791217803955,3.6703271865844727,3.672851800918579,3.554183006286621,3.5230443477630615,3.582798957824707,3.628246307373047,3.6694865226745605,3.676218271255493,3.640871286392212,3.7183001041412354,3.6745355129241943,3.677060127258301,3.76627254486084,3.837810516357422,3.9792044162750244,4.035593032836914,3.9707870483398438,4.010344505310059,4.052424430847168,4.037275791168213,4.070940971374512,4.1113386154174805,3.9665796756744385,4.038117408752441,4.060842514038086,3.973313331604004,3.925339937210083,3.8950419425964355,3.8807339668273926,3.9825708866119385,4.038117408752441,4.059157848358154,4.006977558135986,4.044008255004883,4.03895902633667,4.128170967102051,4.2308502197265625,4.3528852462768555,4.356252670288086,4.30491304397583,4.290604591369629,4.3150129318237305,4.313329696655273,4.3840250968933105,4.283871650695801,4.181194305419922,4.339418411254883,4.346152305603027,4.283029556274414,4.297338962554932,4.215700626373291,4.233373641967773,4.5043792724609375,4.482494831085205,4.463979244232178,4.48333740234375,4.375609397888184,4.400858402252197,4.400858402252197,4.469029426574707,4.4378886222839355,4.399174213409424,4.354568004608154,4.305753707885742,4.460613250732422,4.657553672790527,4.7678070068359375,4.62977933883667,4.578440189361572,4.645771026611328,4.717308521270752,4.67775297164917,4.7358269691467285,4.776221752166748,4.836820602416992,4.814095973968506,4.863752365112305,4.816619396209717,4.746766090393066,4.736666202545166,4.796422481536865,4.76359748840332,4.667653560638428,4.6331467628479,4.642404556274414,4.670178413391113,4.649979591369629,4.630620956420898,4.688694000244141,4.695425987243652,4.638195991516113,4.6205220222473145,4.663445472717285,4.670178413391113,4.586856842041016,4.742557048797607,4.766964435577393,4.883109092712402,4.8511271476745605,4.855335235595703,4.844395160675049,4.784639835357666,4.715625762939453,4.6331467628479,4.622204780578613,4.692900657653809,4.516160488128662,4.397491931915283,4.467345714569092,4.438731670379639,4.496802806854248,4.531309127807617,4.536358833312988,4.460613250732422,4.438731670379639,4.520369529724121,4.481654167175293,4.505218505859375,4.463979244232178,4.512793064117432,4.538043975830078,4.52205228805542,4.522893905639648,4.5371994972229,4.65587043762207,4.570866584777832,4.530467987060547,4.492594242095947,4.388233184814453,4.408432483673096,4.390758514404297,4.316695690155029,4.303230285644531,4.358776569366455,4.359617233276367,4.524576663970947,4.561607837677002,4.614631652832031,4.538043975830078,4.48333740234375,4.558241844177246,4.498486518859863,4.580124855041504,4.654187202453613,4.650820732116699,4.598639488220215,4.600322246551514,4.708050727844238,5.2450079917907715,5.487395286560059,5.457098007202148,5.482346057891846,5.542944431304932,5.586708068847656,5.551358699798584,5.608590126037598,5.571557998657227,5.733150005340576,5.780282020568848,5.707901477813721,5.6877031326293945,5.694434642791748,5.714634418487549,5.642254829406738,5.559775352478027,5.731465816497803,5.882962226867676,5.748299598693848,5.692752838134766,5.728099346160889,5.657406330108643,5.583340167999268,5.638888359069824,5.689385890960693,5.654038429260254,5.596808433532715,5.606907367706299,5.632155418395996,5.638888359069824,5.541258811950684,5.494129180908203,5.551358699798584,5.76849889755249,5.933457851409912,5.992371082305908,5.990688323974609,6.244858264923096,6.34248685836792,6.034452438354492,5.926723957061768,6.024352073669434,6.06306791305542,6.130397319793701,6.224658966064453,6.34248685836792,6.4401164054870605,6.41991662979126,6.295356273651123,6.130397319793701,6.273475170135498,6.212875843048096,6.120298385620117,6.231393337249756,6.271790027618408,6.600024223327637,6.76330041885376,6.741418361663818,6.667354583740234,6.741418361663818,6.743099689483643,6.729634761810303,6.650522708892822,6.7969651222229,6.719534873962402,6.581509590148926,6.766665935516357,6.808747291564941,6.987171173095703,6.993905067443848,7.280059337615967,7.09153413772583,7.027570724487305,7.140349388122559,7.069652557373047,7.0814337730407715,7.004004001617432,7.086483478546143,7.014102458953857,7.057868957519531,6.916476726531982,7.004004001617432,7.0713348388671875,6.911425590515137,6.800332546234131,6.8541951179504395,6.7919158935546875,6.749833106994629,6.987171173095703,6.657254695892334,6.833996772766113,7.197579383850098,7.413033962249756,6.892910480499268,6.712801456451416,6.849145889282227,6.744783878326416,6.655571937561035,6.561308860778809,6.716169357299805,7.015786647796631,7.231244087219238,7.308671474456787,7.987021446228027,8.320308685302734,8.199113845825195,7.813648223876953,8.355652809143066,8.219311714172363,8.439815521240234,8.606460571289062,8.36070442199707,8.424668312072754,8.114952087402344,8.215943336486816,8.446550369262695,8.4751615524292,8.384268760681152,8.729337692260742,8.65190601348877,8.788249015808105,8.990240097045898,9.17203140258789,9.30500602722168,9.454815864562988,9.599575996398926,9.894145011901855,9.559178352355957,9.485114097595215,9.451452255249023,9.695523262023926,9.528878211975098,9.195596694946289,9.547394752502441,9.535614013671875,9.882362365722656,9.926127433776855,9.602943420410156,9.661855697631836,9.766218185424805,9.783050537109375,9.848695755004883,9.828496932983398,9.550763130187988,9.554126739501953,10.107918739318848,9.784734725952148,9.528878211975098,9.668591499328613,9.808298110961914,9.678689956665039,9.968208312988281,9.737603187561035,9.515414237976074,9.591160774230957,9.87899398803711,9.496896743774414,9.392537117004395,8.884193420410156,8.752902030944824,9.161931991577148,9.067669868469238,9.414417266845703,9.257874488830566,8.91954231262207,8.586261749267578,8.301788330078125,8.441503524780273,8.665373802185059,8.944790840148926,9.387486457824707,9.402634620666504,9.670272827148438,9.695523262023926,9.629876136779785,9.746018409729004,10.040587425231934,10.230794906616211,10.09950065612793,9.783050537109375,9.867213249206543,9.687105178833008,9.798200607299805,9.788103103637695,10.261094093322754,10.262778282165527,10.452984809875488,10.343573570251465,10.654973030090332,10.58427906036377,10.469818115234375,10.486650466918945,10.454668045043945,10.149998664855957,10.11801815032959,9.601258277893066,9.513731956481934,9.443035125732422,9.276391983032227,8.798348426818848,8.773099899291992,9.040739059448242,8.552595138549805,8.636758804321289,8.369122505187988,8.301788330078125,8.49536418914795,8.761317253112793,8.82359790802002,8.348922729492188,8.508829116821289,8.36070442199707,8.26138973236084,8.678836822509766,8.84043025970459,8.752902030944824,8.308524131774902,8.295059204101562,8.276541709899902,8.456648826599121,8.456648826599121,8.264759063720703,7.965141773223877,7.702555179595947,8.017322540283203,7.8877129554748535,7.699187755584717,7.741269111633301,7.788400173187256,7.753052234649658,7.929792404174805,7.980289936065674,7.5847272872924805,7.130248546600342,7.194210529327393,7.338973045349121,7.61334228515625,7.298573970794678,7.184112071990967,7.293525695800781,7.889393329620361,7.7850341796875,7.939888000488281,8.256341934204102,7.911276340484619,8.172181129455566,7.9079108238220215,8.446550369262695,9.087870597839355,9.064303398132324,8.91786003112793,9.089553833007812,8.73438549041748,8.704086303710938,9.370654106140137,9.370654106140137,9.493532180786133,9.496896743774414,9.436302185058594,9.316790580749512,9.037369728088379,9.289860725402832,9.18044662475586,9.239362716674805,9.400952339172363,9.537296295166016,9.601258277893066,9.533928871154785,9.353822708129883,9.232626914978027,9.293222427368164,9.42115306854248,9.456502914428711,9.278076171875,9.195596694946289,9.264609336853027,9.491848945617676,9.087870597839355,8.879146575927734,9.072717666625977,8.783201217651367,8.594677925109863,8.623291015625,9.10638427734375,9.190546035766602,9.252828598022461,9.333621978759766,9.067669868469238,8.786567687988281,8.682207107543945,8.55764389038086,8.222677230834961,8.310206413269043,8.332087516784668,8.465065002441406,8.279908180236816,8.348922729492188,8.274859428405762,8.151981353759766,7.975240230560303,8.005537986755371,7.574626445770264,7.714334964752197,7.51234769821167,7.155496597290039,7.224508762359619,7.492148399353027,8.069499969482422,7.8877129554748535,7.852363586425781,8.069499969482422,7.645322799682617,7.699187755584717,7.641955852508545,7.746320724487305,7.327186107635498,7.209359169006348,6.800332546234131,6.8592448234558105,6.802014350891113,6.527645111083984,6.625275611877441,6.852511882781982,6.628639221191406,6.551210403442383,6.6118083000183105,6.778449535369873,6.936673641204834,7.195897102355957,7.293525695800781,7.616706371307373,7.246394634246826,7.312036514282227,7.445016860961914,7.163913726806641,6.992220878601074,6.830630302429199,6.98548698425293,6.904692649841309,6.81884765625,6.704384803771973,6.637055397033691,7.221144199371338,7.200944900512695,6.972022533416748,7.443333148956299,7.7042365074157715,7.599874496459961,7.441646575927734,7.4786810874938965,7.2733259201049805,7.436600208282471,7.413033962249756,7.325504779815674,7.31877326965332,7.433233261108398,7.281742572784424,7.256492614746094,7.25480842590332,7.421451091766357,7.3844194412231445,7.638589382171631,7.389469146728516,7.394518852233887,7.344021797180176,7.45343017578125,7.330554962158203,7.197579383850098,7.187479496002197,6.936673641204834,6.547843933105469,6.746469020843506,6.329021453857422,6.478831768035889,6.345853328704834,6.1068315505981445,5.881276607513428,5.824045181274414,6.066434860229492,6.086634159088135,5.756715774536133,5.7584004402160645,6.066434860229492,6.027719497680664,5.938507556915283,5.741565227508545,5.175993919372559,5.085100173950195,4.896575927734375,4.898258686065674,5.642254829406738,5.110347747802734,4.667653560638428,5.186094760894775,5.359468936920166,5.586708068847656,5.127179145812988,4.7518157958984375,4.5565595626831055,4.331003665924072,4.243473529815674,4.86627721786499,4.953805446624756,4.953805446624756,4.6104230880737305,4.539724826812744,4.671020030975342,4.255257606506348,4.007819175720215,4.224958896636963,4.120596885681152,3.940488815307617,3.709882974624634,4.17950963973999,3.9186055660247803,3.829394578933716,3.7384989261627197,3.4607632160186768,2.945688009262085,3.0264837741851807,3.401848077774048,3.4792778491973877,3.7031517028808594,3.6779017448425293,3.2570900917053223,3.1998586654663086,3.172926664352417,3.396798849105835,3.5802738666534424,4.208126544952393,3.910191535949707,4.05495023727417,3.844542980194092,4.061681747436523,3.8916749954223633,4.324270725250244,4.32090425491333,4.105447769165039,4.14079475402832,3.8950419425964355,3.733449935913086,3.9236557483673096,3.8950419425964355,3.694734573364258,3.726715087890625,3.645920753479004,3.9034578800201416,4.011186599731445,3.959005117416382,3.8058300018310547,4.305753707885742,4.398332595825195,4.287237644195557,4.147529602050781,3.9438564777374268,4.011186599731445,4.154262065887451,3.8798913955688477,4.112180709838867,4.095348834991455,4.344468593597412,4.4707136154174805,4.438731670379639,4.736666202545166,4.430314064025879,4.1710944175720215,4.2855544090271,4.312487602233887,4.374766826629639,4.563292026519775,4.714784622192383,4.615472793579102,4.5279436111450195,4.462296962738037,4.543092250823975,4.418532371520996,4.21149206161499,4.186244010925293,4.482494831085205,4.49091100692749,4.413482189178467,4.605372905731201,4.765281677246094,4.544776916503906,4.531309127807617,4.391600608825684,4.373084545135498,4.595273017883301,3.9489052295684814,3.7671141624450684,3.8546435832977295,4.243473529815674,4.251891136169434,4.275455951690674,4.319221496582031,4.1088151931762695,4.199709415435791,4.17950963973999,4.27882194519043,4.1828765869140625,4.4808125495910645,4.553192138671875,4.517844200134277,4.41179895401001,4.684486389160156,4.5565595626831055,4.716467380523682,4.746766090393066,5.066583633422852,5.01271915435791,4.817463397979736,4.923506736755371,5.10698127746582,5.457098007202148,5.435214996337891,5.3005547523498535,5.369568347930908,4.99925422668457,4.852810382843018,4.780430316925049,5.016086101531982,5.026185512542725,5.133913993835449,5.270256042480469,5.130547046661377,4.994203567504883,5.0649003982543945,5.076682090759277,4.938656806945801,4.938656806945801,4.896575927734375,4.630620956420898,4.529626846313477,4.398332595825195,4.487545013427734,4.418532371520996,4.319221496582031,4.371400833129883,4.455564498901367,4.423581123352051,4.346152305603027,4.455564498901367,3.7671141624450684,3.795729637145996,3.9320738315582275,3.704833984375,3.9606878757476807,4.199709415435791,4.342785835266113,4.093664646148682,4.068416595458984,4.115547180175781,4.021284580230713,4.095348834991455,4.208126544952393,4.199709415435791,4.142480850219727,4.060000896453857,3.984253168106079,3.8697917461395264,3.911874771118164,3.837810516357422,3.8630595207214355,3.6964175701141357,3.679586410522461,3.6745355129241943,3.7384989261627197,3.7317655086517334,3.7317655086517334,3.704833984375,3.7805795669555664,3.5466086864471436,3.5415585041046143,3.44392991065979,3.5247275829315186,3.4826457500457764,3.4405629634857178,3.53987455368042,3.640871286392212,3.6425530910491943,3.7283997535705566,3.6964175701141357,3.760380506515503,3.85800838470459,3.9758377075195312,4.022968292236328,4.065049171447754,3.9606878757476807,3.837810516357422,3.6812684535980225,3.615622043609619,3.6846351623535156,3.8479104042053223,4.11049747467041,4.065049171447754,4.127328395843506,4.235058784484863,4.0667314529418945,4.157629013061523,4.315853118896484,4.431999206542969,4.45051383972168,4.223275184631348,4.13069486618042,4.238424301147461,3.940488815307617,3.893357753753662,3.797412872314453,3.7755300998687744,3.797412872314453,3.874842643737793,3.9505884647369385,4.006134510040283,3.925339937210083,3.9489052295684814,4.03138542175293,4.049901008605957,4.196343898773193,4.216542720794678,4.21149206161499,4.157629013061523,4.307437419891357,4.265356063842773,4.346152305603027,4.342785835266113,4.509428977966309,4.423581123352051,4.416848659515381,4.487545013427734,4.415164947509766,4.383184432983398,4.41179895401001,4.509428977966309,4.455564498901367,4.379818439483643,4.322587490081787,4.381500720977783,4.4808125495910645,4.416848659515381,4.6070556640625,4.538043975830078,4.521210193634033,4.602007865905762,4.74003267288208,4.686168193817139,4.667653560638428,4.74003267288208,4.317537307739258,4.265356063842773,4.248524188995361,4.169411659240723,4.0532660484313965,4.14079475402832,4.07851505279541,4.132379531860352,4.088615417480469,4.071780204772949,4.036435604095459,3.996035575866699,4.071780204772949,4.145845413208008,4.292288303375244,4.238424301147461,4.112180709838867,4.144162654876709,3.9876201152801514,4.107130527496338,4.034749984741211,4.05495023727417,4.123964309692383,4.290604591369629,4.319221496582031,4.255257606506348,4.309121131896973,4.261990070343018,4.1088151931762695,4.0128679275512695,3.6812684535980225,3.5937397480010986,3.5903730392456055,3.6913676261901855,3.5937397480010986,3.504526376724243,3.565124273300171,3.6560182571411133,3.750281810760498,3.755331039428711,3.7772135734558105,3.812560796737671,3.7839465141296387,3.80751371383667,3.7401814460754395,3.704833984375,3.704833984375,3.743549108505249,3.7317655086517334,3.7317655086517334,3.693052291870117,3.8546435832977295,3.959005117416382,4.044850826263428,3.44392991065979,3.4153151512145996,3.4203639030456543,3.496110439300537,3.499476671218872,3.4506630897521973,3.4506630897521973,3.5028433799743652,3.4523463249206543,3.437197685241699,3.3715498447418213,3.3547186851501465,3.3059041500091553,3.356400728225708,3.342935800552368,3.3277859687805176,3.3547186851501465,3.40521502494812,3.4523463249206543,3.3833329677581787,3.391749620437622,3.314319610595703,3.1678764820098877,3.2267909049987793,3.258772850036621,3.2267909049987793,3.1964919567108154,3.245306968688965,3.2688727378845215,3.250356674194336,3.2116410732269287,3.1762936115264893,3.1746103763580322,2.947371006011963,2.8951902389526367,2.944004535675049,2.944004535675049,3.004601240158081,2.994502305984497,3.0433170795440674,3.1089627742767334,3.039949893951416,3.076982259750366,3.2570900917053223,3.2335240840911865,3.265505075454712,3.26718807220459,3.342935800552368,3.561757802963257,3.5533409118652344,3.6358211040496826,3.73681640625,3.6543357372283936,3.66611909866333,3.7031517028808594,3.664435625076294,3.672851800918579,3.6880009174346924,3.770480155944824,3.8108785152435303,3.7889955043792725,3.8176112174987793,3.8916749954223633,3.92197322845459,3.9505884647369385,3.9825708866119385,4.03138542175293,4.11049747467041,4.176143646240234,4.258623123168945,4.275455951690674,4.231689929962158,4.213176727294922,4.245156764984131,4.2855544090271,4.13069486618042,4.160995960235596,4.206443786621094,4.091981887817383,4.231689929962158,4.164361476898193,4.125645160675049,3.9017741680145264,3.800779104232788,3.92197322845459,3.8613765239715576,3.8950419425964355,3.8176112174987793,3.6779017448425293,3.708200454711914,3.6038384437561035,3.5802738666534424,3.470862865447998,3.5853235721588135,3.5819568634033203,3.6880009174346924,3.645920753479004,3.8681087493896484,3.836127758026123,3.679586410522461,3.7250328063964844,3.8176112174987793,3.664435625076294,3.5583908557891846,3.53314208984375,3.53314208984375,3.573540449142456,3.645920753479004,3.6829521656036377,3.486011266708374,3.3059041500091553,3.258772850036621,3.2335240840911865,3.1746103763580322,3.169560670852661,3.1796600818634033,3.0921313762664795,3.115696668624878,3.156094789505005,3.0837149620056152,3.162827491760254,3.20995831489563,3.0752980709075928,3.0971813201904297,3.156094789505005,3.172926664352417,3.2032248973846436,3.2520394325256348,3.2840218544006348,3.2840218544006348,3.2857041358947754,3.1897599697113037,3.265505075454712,3.3328356742858887,3.309270143508911,3.3648173809051514,3.4506630897521973,3.516310453414917,3.4153151512145996,3.3681838512420654,3.322735548019409,3.3749165534973145,3.5533409118652344,3.477595329284668,3.578589677810669,3.5567078590393066,3.529776096343994,3.5280919075012207,3.4557127952575684,3.342935800552368,3.3176872730255127,3.294121026992798,3.3378853797912598,3.3698670864105225,3.4944279193878174,3.208275079727173,3.166193962097168,3.1005475521087646,3.087080717086792,3.1005475521087646,3.087080717086792,3.085397720336914,3.0079684257507324,3.0180680751800537,3.076982259750366,3.114013671875,3.1998586654663086,3.156094789505005,3.125795602798462,3.09381365776062,3.071932077407837,3.139261245727539,3.1325297355651855,3.129162073135376,3.265505075454712,3.260455846786499,3.2924375534057617,3.2789719104766846,3.2823381423950195,3.289071559906006,3.353034734725952,3.3362021446228027,3.346301555633545,3.316002368927002,3.3176872730255127,3.3665010929107666,3.34798526763916,3.4068994522094727,3.401848077774048,3.353034734725952,3.3799667358398438,3.4287805557250977,3.3328356742858887,3.2402567863464355,3.1678764820098877,3.0837149620056152,3.0752980709075928,3.1005475521087646,3.191441774368286,3.204909086227417,3.2200582027435303,3.2368905544281006,3.265505075454712,3.262138605117798,3.26718807220459,3.307586908340454,3.250356674194336,3.2958035469055176,3.290754795074463,3.3580846786499023,3.3648173809051514,3.4557127952575684,3.39848256111145,3.390066146850586,3.5516574382781982,3.5062100887298584,3.4876952171325684,3.509577512741089,3.5348262786865234,3.433830738067627,3.38670015335083,3.4304637908935547,3.401848077774048,3.4254138469696045,3.4506630897521973,3.38670015335083,3.353034734725952,3.4119491577148438,3.5600738525390625,3.5903730392456055,3.576907157897949,3.608888626098633,3.5886898040771484,3.6425530910491943,3.743549108505249,3.689685583114624,3.65938663482666,3.6290879249572754,3.6543357372283936,3.6476047039031982,3.578589677810669,3.6425530910491943,3.6526525020599365,3.7401814460754395,3.7452313899993896,3.7906789779663086,3.7889955043792725,3.8630595207214355,3.8512775897979736,3.8563268184661865,3.787313222885132,3.6846351623535156,3.4725453853607178,3.496110439300537,3.484328269958496,3.39848256111145,3.4792778491973877,3.4674956798553467,3.4287805557250977,3.4287805557250977,3.44392991065979,3.5365092754364014,3.5179924964904785,3.5499751567840576,3.54492449760437,3.5415585041046143,3.5466086864471436,3.5314595699310303,3.5466086864471436,3.4590795040130615,3.3362021446228027,3.2823381423950195,3.3749165534973145,3.390066146850586,3.3698670864105225,3.316002368927002,3.4287805557250977,3.4136316776275635,3.3446178436279297,3.373234510421753,3.4119491577148438,3.3850162029266357,3.3580846786499023,3.3126378059387207,3.3126378059387207,3.2840218544006348,3.3412516117095947,3.3580846786499023,3.3193695545196533,3.316002368927002,3.38838267326355,3.3749165534973145,3.3176872730255127,3.3362021446228027,3.326101779937744,3.2958035469055176,3.3277859687805176,3.3362021446228027,3.4557127952575684,3.4573962688446045,3.5314595699310303,3.5280919075012207,3.566807508468628,3.5381920337677,3.5533409118652344,3.6577019691467285,3.6560182571411133,3.698101282119751,3.7570157051086426,3.809194803237915,3.7906789779663086,3.85800838470459,3.7990965843200684,3.9691035747528076,4.022968292236328,4.044850826263428,4.007819175720215,3.9977190494537354,4.006134510040283,4.268723487854004,4.277139186859131,4.44378137588501,4.4000163078308105,4.4707136154174805,4.435364723205566,4.467345714569092,4.458930015563965,4.425265789031982,4.413482189178467,4.410116672515869,4.322587490081787,4.339418411254883,4.3528852462768555,4.322587490081787,4.354568004608154,4.2855544090271,4.288920879364014,4.339418411254883,4.342785835266113,4.364668846130371,4.497645854949951,4.45724630355835,4.435364723205566,4.49091100692749,4.598639488220215,4.692900657653809,4.65587043762207,4.649137020111084,4.671020030975342,4.671020030975342,4.748448371887207,4.709735870361328,4.623889446258545,4.588540077209473,4.499327659606934,4.472395420074463,4.406749248504639,4.421899795532227,4.460613250732422,4.420215129852295,4.418532371520996,4.448830604553223,4.3966498374938965,4.410116672515869,4.45051383972168,4.511110305786133,4.630620956420898,4.467345714569092,4.420215129852295,4.3966498374938965,4.341103553771973,4.435364723205566,4.374766826629639,4.489228248596191,4.532992839813232,4.612105846405029,4.596957206726074,4.581806659698486,4.519526481628418,4.368034839630127,4.176143646240234,4.07851505279541,4.011186599731445,3.9707870483398438,3.9421725273132324,3.9909873008728027,3.9186055660247803,3.925339937210083,3.9505884647369385,3.9775209426879883,3.9994029998779297,3.9556381702423096,3.965737819671631,3.9691035747528076,3.8899922370910645,3.8563268184661865,3.8462274074554443,3.6829521656036377,3.7250328063964844,3.4607632160186768,3.5954225063323975,3.4573962688446045,3.608888626098633,3.4876952171325684,3.5264089107513428,3.6004724502563477,3.44392991065979,3.6072049140930176,3.630770444869995,3.6375041007995605,3.800779104232788,3.9303901195526123,3.787313222885132,3.834444284439087,3.88830828666687,3.9320738315582275,4.028017520904541,3.8782083988189697,3.7283997535705566,3.8394930362701416,3.908506393432617,3.8563268184661865,3.893357753753662,3.908506393432617,3.9000911712646484,4.024651527404785,4.147529602050781,4.189609527587891,4.07851505279541,4.036435604095459,3.94553804397583,3.8058300018310547,3.7889955043792725,3.9741523265838623,4.019601345062256,3.959005117416382,4.038117408752441,3.88830828666687,3.8664262294769287,4.004453182220459,4.017918586730957,4.049901008605957,4.095348834991455,4.137429714202881,4.194660186767578,4.317537307739258,4.245156764984131,4.235058784484863,4.080198764801025,4.204759120941162,4.186244010925293,4.218225002288818,4.214857578277588,4.305753707885742,4.309121131896973,4.214857578277588,4.361302375793457,4.410116672515869,4.304071426391602,4.214857578277588,4.224958896636963,4.347835063934326,4.324270725250244,4.283871650695801,4.315853118896484,4.194660186767578,4.14079475402832,4.236741065979004,4.147529602050781,3.965737819671631,3.7906789779663086,3.6913676261901855,3.7805795669555664,3.8243448734283447,3.7755300998687744,3.7216665744781494,3.6206722259521484,3.7637481689453125,3.829394578933716,3.8916749954223633,3.9320738315582275,3.908506393432617,3.9859366416931152,3.928705930709839,3.9876201152801514,3.9674201011657715,4.0734663009643555,4.159311294555664,4.051584243774414,3.9539554119110107,3.9893033504486084,3.928705930709839,3.8159289360046387,3.9505884647369385,3.962371349334717,4.004453182220459,4.026334762573242,4.026334762573242,4.051584243774414,4.098715305328369,4.061681747436523,4.004453182220459,4.061681747436523,4.251891136169434,4.186244010925293,4.038117408752441,4.07851505279541,4.103764057159424,4.070099830627441,3.9573216438293457,3.910191535949707,4.043168067932129,4.181194305419922,4.132379531860352,4.167728424072266,4.166043758392334,4.208126544952393,4.157629013061523,4.093664646148682,3.996035575866699,3.9320738315582275,3.9236557483673096,3.916924476623535,3.9792044162750244,3.940488815307617,3.994353771209717,4.122280120849609,4.0532660484313965,3.8512775897979736,3.8613765239715576,3.8681087493896484,3.8394930362701416,3.903881549835205,3.9276018142700195,3.9479355812072754,3.8920202255249023,3.9462404251098633,3.8513541221618652,3.8971033096313477,3.9530189037323,3.8598270416259766,4.039432048797607,4.044515132904053,4.093652248382568,4.030960559844971,4.049598693847656,4.1021246910095215,4.049598693847656,4.027571678161621,4.030960559844971,3.981822967529297,4.034348011016846,3.9919893741607666,4.058071136474609,4.068236827850342,4.1800665855407715,3.9242138862609863,4.002156734466553,4.03265380859375,4.025877475738525,3.9801292419433594,3.827633857727051,3.7005529403686523,3.805605888366699,3.734440565109253,3.7191929817199707,3.6819143295288086,3.7022478580474854,3.6293880939483643,3.6039743423461914,3.653110980987549,3.597195863723755,3.6768319606781006,3.753079652786255,3.7768020629882812,3.7768020629882812,3.79205060005188,3.7903554439544678,3.7751071453094482,3.8259387016296387,3.8259387016296387,3.842883348464966,3.856438636779785,3.8733813762664795,3.85813307762146,3.808995008468628,3.6988589763641357,3.573474645614624,3.57686185836792,3.5429751873016357,3.5700864791870117,3.4447011947631836,3.5378921031951904,3.4938385486602783,3.5311145782470703,3.138015031814575,3.2312066555023193,3.2159571647644043,3.2261247634887695,3.232901096343994,3.27388858795166,3.333662271499634,3.3661108016967773,3.3575713634490967,3.275597333908081,3.279012680053711,3.279012680053711,3.337078094482422,3.3046298027038574,3.2106988430023193,3.249979257583618,3.1218934059143066,3.171419858932495,3.092860221862793,3.0296707153320312,3.045041561126709,3.1116461753845215,3.1372642517089844,3.0979831218719482,2.9989302158355713,3.021131753921509,2.9357409477233887,2.9852681159973145,3.043332576751709,3.0416259765625,3.1355550289154053,3.0706584453582764,3.1372642517089844,3.120185613632202,3.096275568008423,2.9920990467071533,2.9972217082977295,2.9391560554504395,2.920370101928711,2.8742597103118896,2.8298561573028564,2.8588883876800537,2.886214017868042,2.869136333465576,2.7837445735931396,2.7564196586608887,2.686398983001709,2.693230628967285,2.7273871898651123,2.7564196586608887,2.735926389694214,2.735926389694214,2.744464874267578,2.6898140907287598,2.7154324054718018,2.734218120574951,2.8708438873291016,2.8571810722351074,2.8742597103118896,3.0296707153320312,3.055288553237915,2.9511115550994873,2.9118306636810303,3.0706584453582764,3.171419858932495,3.3285396099090576,3.3285396099090576,3.2089920043945312,3.2277779579162598,3.187971353530884,3.141242265701294,3.1395111083984375,3.2208547592163086,3.316044330596924,3.302198648452759,3.532383680343628,3.556612730026245,3.644879102706909,3.748723030090332,3.7366085052490234,3.7677595615386963,3.8196825981140137,3.87333345413208,4.00659704208374,3.857758045196533,3.881988048553467,3.9512152671813965,3.9356393814086914,3.859487771987915,3.8300650119781494,3.613725423812866,3.655263662338257,3.620650053024292,3.634495496749878,3.6760318279266357,3.691608428955078,3.6864166259765625,3.871603488922119,3.99448299407959,4.0239057540893555,4.151978492736816,3.9737133979797363,3.956406831741333,3.940831422805786,3.9425621032714844,3.9719836711883545,3.9702532291412354,4.056789875030518,4.001406192779541,4.015251636505127,3.9979450702667236,4.029097557067871,4.10524845123291,3.9806365966796875,3.9512152671813965,4.084481716156006,4.120825290679932,4.10524845123291,4.139863014221191,4.04986572265625,3.897564172744751,3.8266043663024902,3.996213436126709,4.025636196136475,4.063712120056152,4.240245342254639,4.421968936920166,4.486004829406738,4.581193447113037,4.686767578125,4.685036659240723,4.685036659240723,4.660581588745117,4.61865758895874,4.578478813171387,4.585468292236328,4.512099742889404,4.520833492279053,4.536556243896484,4.653594017028809,4.768885135650635,4.7933430671691895,4.840506553649902,4.861467361450195,4.823037147521973,4.805569648742676,4.807316303253174,4.842253684997559,4.812557697296143,4.564505100250244,4.466681480407715,4.468428611755371,4.347896575927734,4.309466361999512,4.285009860992432,4.382833003997803,4.482403755187988,4.255312442779541,4.332174301147461,4.323440074920654,4.05093240737915,3.949615716934204,3.9810595512390137,4.061413764953613,4.019489288330078,4.045691967010498,4.029969692230225,4.10333776473999,4.066654205322266,4.073642253875732,4.043946266174316,4.099842548370361,4.141767978668213,4.15399694442749,4.195920467376709,4.129541397094727,4.052680015563965,4.31295919418335,4.410782337188721,4.683290958404541,4.402048587799072,4.438733100891113,4.552277565002441,4.576733112335205,4.515593528747559,4.547037124633789,4.4981255531311035,4.43174409866333,4.454452991485596,4.424757957458496,4.3199462890625,4.335667133331299,4.298985958099365,4.330428123474121,4.4090352058410645,4.377592086791992,4.247774600982666,4.157697677612305,4.291930675506592,4.311359882354736,4.334319591522217,4.357281684875488,4.461487770080566,4.500345230102539,4.530371189117432,4.487982749938965,4.495047092437744,4.542736053466797,4.457955360412598,4.495047092437744,4.457955360412598,4.532137870788574,4.4826836585998535,4.6557745933532715,4.671670436859131,4.940136909484863,5.256290912628174,5.341068267822266,5.342836380004883,5.279250621795654,5.291615009307861,5.344603538513184,5.277483940124512,5.282783508300781,5.595405578613281,5.655457973480225,5.54241943359375,5.704911708831787,5.7879252433776855,5.772028923034668,5.780860424041748,5.74376916885376,5.862105846405029,6.0457940101623535,6.04755973815918,6.114675998687744,6.105845928192139,6.164131164550781,6.135871410369873,6.413169860839844,6.5615315437316895,6.568596363067627,6.586259841918945,6.5597662925720215,6.550934314727783,6.778778553009033,6.7593512535095215,6.824702739715576,6.886517524719238,6.720491409301758,7.022517204284668,6.845894813537598,6.496181011199951,6.402571201324463,6.36018180847168,5.671353816986084,5.602470397949219,5.6201324462890625,5.916859149932861,5.905283451080322,6.126108169555664,6.320219993591309,6.20802640914917,6.165287017822266,6.544607639312744,6.231178283691406,6.717350006103516,6.516114234924316,6.683512210845947,6.947080135345459,6.856254577636719,6.849131107330322,6.861596584320068,7.2907819747924805,7.262290000915527,7.105574131011963,7.134067058563232,7.1910552978515625,7.27831506729126,7.484894275665283,7.5169477462768555,7.509824275970459,7.547224998474121,7.655856132507324,7.591745376586914,7.6024274826049805,7.554346561431885,7.5864033699035645,7.687910079956055,7.7431159019470215,7.807225704193115,7.7431159019470215,7.769828796386719,7.739555358886719,7.661197185516357,7.554346561431885,7.700376033782959,7.908734321594238,8.15627384185791,8.083257675170898,8.3539457321167,8.736830711364746,8.900667190551758,8.97368049621582,8.955872535705566,8.724361419677734,8.526687622070312,8.635321617126465,8.720800399780273,8.811624526977539,8.768882751464844,8.67093563079834,8.492853164672852,8.473262786865234,8.494634628295898,8.590798377990723,8.480385780334473,9.244369506835938,9.192726135253906,9.328069686889648,8.792033195495605,8.886419296264648,9.071759223937988,8.99117660522461,8.948198318481445,8.889103889465332,9.168456077575684,8.883733749389648,8.971480369567871,9.014455795288086,8.87477970123291,8.855082511901855,9.392295837402344,9.333202362060547,9.422736167907715,9.200690269470215,9.283062934875488,8.85150146484375,8.919548988342285,9.141596794128418,9.096830368041992,9.030571937561035,8.890897750854492,8.890897750854492,9.170248031616211,9.010872840881348,8.921337127685547,9.0789213180542,8.878362655639648,8.831802368164062,8.9571533203125,9.292014122009277,9.232922554016113,9.272317886352539,9.186365127563477,9.250829696655273,9.43169116973877,9.648368835449219,9.7862548828125,9.805951118469238,9.754020690917969,9.81311321258545,9.827439308166504,9.743276596069336,9.929510116577148,9.888323783874512,9.816694259643555,9.857882499694824,9.902649879455566,10.128279685974121,10.036953926086426,9.637622833251953,9.934884071350098,9.916975975036621,10.199909210205078,10.312723159790039,10.284069061279297,10.122905731201172,9.85609245300293,9.524807929992676,9.39050579071045,8.738683700561523,8.92850112915039,8.756593704223633,8.641987800598145,8.554242134094238,8.6401948928833,8.459197998046875,8.275498390197754,8.243082046508789,8.127819061279297,8.11881160736084,8.2088623046875,8.243082046508789,8.142224311828613,8.214263916015625,8.516829490661621,8.664509773254395,8.821194648742676,8.992286682128906,8.981483459472656,8.869821548461914,9.098546028137207,9.179588317871094,9.069727897644043,8.831998825073242,8.873422622680664,8.871622085571289,8.94186019897461,8.868019104003906,8.675314903259277,7.949520111083984,8.167437553405762,8.09900188446045,8.198054313659668,8.162035942077637,6.5393548011779785,6.658220291137695,6.798695087432861,6.7806854248046875,6.8815412521362305,7.068841934204102,6.888744831085205,6.577176570892334,6.721253395080566,6.49252986907959,6.316032409667969,6.359256267547607,6.316032409667969,6.092711925506592,6.114323616027832,6.260202407836914,6.366458892822266,6.393474578857422,6.5591654777526855,6.438499450683594,6.575372219085693,6.458310127258301,6.4132866859436035,6.5087385177612305,6.411484241485596,6.4186882972717285,6.404281139373779,6.49252986907959,6.928366184234619,6.856327056884766,6.708645343780518,6.719452857971191,6.697840690612793,6.726656913757324,6.978792190551758,6.967987060546875,6.937371253967285,6.935571193695068,6.931967258453369,6.933770656585693,6.743030548095703,7.08090877532959,7.2207818031311035,6.973732948303223,6.832041263580322,6.982814788818359,6.8701910972595215,6.922869682312012,6.864740371704102,7.066376209259033,6.781178951263428,7.378823280334473,7.466017246246338,7.734866619110107,7.8783745765686035,8.063661575317383,7.782096862792969,7.905622482299805,7.945587635040283,7.843858242034912,7.486000061035156,7.360657215118408,7.478732109069824,7.52959680557251,7.400622844696045,7.533230304718018,7.4424028396606445,7.678554058074951,7.24984884262085,7.304343223571777,7.151754379272461,7.327960968017578,7.329776763916016,7.208067417144775,7.131771564483643,7.251665115356445,6.930136203765869,6.84112548828125,6.510512351989746,6.543209552764893,6.641304016113281,6.688535213470459,6.875638484954834,6.623139381408691,6.515961647033691,6.57954216003418,6.717599868774414,6.61768913269043,6.710333347320557,6.699434757232666,6.98099946975708,6.77391242980957,6.941035270690918,6.9337687492370605,6.875638484954834,6.699717044830322,6.701549053192139,6.827992916107178,6.723538875579834,6.831657886505127,6.692388534545898,6.833491325378418,6.915955543518066,6.652071952819824,6.7785162925720215,6.912289142608643,7.383249759674072,7.330106258392334,7.322774410247803,7.35026216506958,7.403407096862793,7.374086380004883,7.368587970733643,7.434558391571045,7.394244194030762,7.416233539581299,7.421731948852539,7.489534854888916,7.6526288986206055,7.62147855758667,7.63063907623291,7.658128261566162,7.656294345855713,7.557338714599609,7.656294345855713,7.517023086547852,7.612316608428955,7.559170246124268,7.848711967468262,7.852375507354736,8.079609870910645,8.195058822631836,8.447946548461914,8.370980262756348,8.444280624389648,7.958662986755371,7.905519008636475,7.691113471984863,7.553675174713135,7.639801502227783,7.573830604553223,7.604983329772949,7.489534854888916,7.458382606506348,7.63063907623291,7.50053071975708,7.575664520263672,7.665456295013428,7.264133930206299,7.449219703674316,7.491368293762207,7.573830604553223,7.419899940490723,7.861537933349609,7.771744251251221,7.837715148925781,7.878031253814697,7.91101598739624,7.792832374572754,8.079060554504395,8.038435935974121,8.206478118896484,8.35421085357666,8.176934242248535,7.970109462738037,7.966415882110596,8.117838859558105,8.053208351135254,8.034741401672363,8.28219223022461,8.12891960144043,8.167701721191406,8.010735511779785,8.010735511779785,7.826071739196777,7.971954345703125,7.766979694366455,7.763283729553223,7.766979694366455,7.6081671714782715,7.456743240356445,7.549073696136475,7.471515655517578,7.305318832397461,7.203751564025879,7.320091247558594,7.072639465332031,7.074487209320068,6.869510173797607,6.869510173797607,7.10218620300293,7.244378566741943,7.360718250274658,7.508450031280518,7.517680644989014,7.497367858886719,7.619246482849121,7.761436462402344,7.7208123207092285,7.5767741203308105,7.669105529785156,7.7706732749938965,7.896245002746582,7.8870086669921875,7.890702724456787,7.9479498863220215,8.260031700134277,8.067980766296387,7.892550468444824,7.848231315612793,8.016276359558105,8.210173606872559,8.199091911315918,8.143692016601562,8.12891960144043,8.053208351135254,8.101222038269043,7.04437780380249,7.025771617889404,6.958789348602295,6.921576499938965,7.035073757171631,6.666667938232422,6.612709999084473,6.811798095703125,6.897387981414795,6.962509632110596,6.547586917877197,6.618292331695557,6.201508522033691,6.309426784515381,6.009862899780273,6.127082824707031,5.939158916473389,6.082427501678467,6.158713340759277,6.419201850891113,6.3484978675842285,6.443391799926758,6.212672233581543,6.261049270629883,6.261049270629883,6.294541358947754,6.2889580726623535,6.2889580726623535,6.460137367248535,6.268492221832275,6.195926189422607,6.268492221832275,6.0042805671691895,6.283376216888428,6.0973124504089355,6.737372398376465,6.411761283874512,6.763420581817627,6.7113237380981445,6.854592800140381,6.90669059753418,6.958789348602295,7.100198268890381,7.122524261474609,6.997861385345459,6.748535633087158,6.558751106262207,6.8527326583862305,6.977395057678223,6.815518856048584,6.828543663024902,6.839707851409912,6.917854309082031,7.077871322631836,6.981115818023682,6.93087911605835,6.949485778808594,6.951346397399902,6.977395057678223,6.982975959777832,6.975533485412598,6.949485778808594,6.910411834716797,6.936460494995117,6.889943599700928,6.878781318664551,7.1950883865356445,7.196950912475586,7.4481353759765625,7.4425554275512695,7.472325325012207,7.596987247467041,7.563495635986328,7.34580135345459,7.383013725280762,7.6421332359313965,7.715363025665283,7.6815643310546875,7.7209954261779785,7.659033298492432,7.683441162109375,7.762304782867432,7.6815643310546875,7.475020408630371,7.283496379852295,7.202757358551025,7.07695198059082,7.127651214599609,7.093851089477539,7.172715187072754,7.204634666442871,7.131406784057617,7.2684760093688965,7.50881814956665,7.585803031921387,7.589557647705078,7.585803031921387,7.67780876159668,7.687197685241699,7.446854114532471,7.570781707763672,7.525717735290527,7.555761337280273,7.570781707763672,7.644009590148926,7.563269138336182,7.583925247192383,7.384892463684082,7.2365546226501465,7.354848861694336,7.533227443695068,7.51445198059082,7.3473381996154785,7.4186882972717285,7.546370029449463,7.465629577636719,7.332315921783447,7.360480308532715,7.354848861694336,7.5219621658325195,7.555761337280273,7.568904399871826,7.536984443664551,7.655277729034424,7.660909175872803,7.54449462890625,7.411180019378662,7.683441162109375,8.150981903076172,8.162247657775879,8.256132125854492,8.209190368652344,8.265521049499512,8.288052558898926,8.149855613708496,8.1214599609375,8.111992835998535,8.140390396118164,8.132818222045898,8.049522399902344,8.047627449035645,8.146068572998047,8.176358222961426,8.157426834106445,8.308878898620605,8.397852897644043,8.433821678161621,8.265336036682129,8.337274551391602,8.096848487854004,8.132818222045898,8.352418899536133,8.246403694152832,8.390280723571777,8.714003562927246,8.659104347229004,8.878704071044922,8.89006233215332,8.96389389038086,8.84652328491211,8.787835121154785,8.941177368164062,8.835162162780762,8.86545467376709,8.886275291442871,8.93549919128418,8.886275291442871,8.611776351928711,8.57959270477295,8.572016716003418,8.6837158203125,8.738614082336426,8.679926872253418,8.50954818725586,8.626919746398926,8.782155990600586,8.585272789001465,8.551197052001953,8.672355651855469,8.655317306518555,8.63638687133789,8.727253913879395,8.98093318939209,8.88817024230957,8.895742416381836,8.793517112731934,8.562553405761719,8.48682975769043,8.132818222045898,8.308878898620605,8.587163925170898,8.746186256408691,8.043843269348145,8.041948318481445,7.79584264755249,7.9151082038879395,7.896177291870117,7.877082347869873,7.980200290679932,7.980200290679932,8.087138175964355,8.169249534606934,8.243725776672363,8.211261749267578,8.398401260375977,8.32774829864502,8.071861267089844,7.96683406829834,7.896178245544434,7.844621181488037,7.86753511428833,7.829343318939209,7.695671081542969,7.720495223999023,7.869444370269775,7.737682819366455,7.924821853637695,8.111963272094727,8.276187896728516,8.29528522491455,8.398401260375977,8.480514526367188,8.390763282775879,8.310562133789062,8.220809936523438,8.388855934143066,8.490063667297363,8.539711952209473,8.612277030944824,8.791779518127441,8.971280097961426,8.660017967224121,8.530163764953613,8.449962615966797,8.698208808898926,8.728761672973633,8.797508239746094,8.818514823913574,8.927362442016602,8.946455955505371,8.963641166687012,8.940727233886719,8.688661575317383,8.772683143615723,8.512978553771973,8.50343132019043,7.09987735748291,7.2736496925354,7.096056938171387,7.220181465148926,7.34430456161499,7.497072219848633,7.181990146636963,7.2392778396606445,6.996758460998535,6.876453876495361,6.689313888549805,6.695102214813232,6.5349602699279785,6.324652671813965,6.424983024597168,6.380606174468994,6.509877681732178,6.25905179977417,6.176087379455566,5.788272857666016,5.840366363525391,5.892462730407715,5.896320819854736,5.604977607727051,5.54902458190918,5.547094821929932,5.518154144287109,5.547094821929932,5.473776817321777,5.49307107925415,5.485353469848633,5.494999885559082,5.4101057052612305,5.462199687957764,5.5509538650512695,5.473776817321777,5.489212512969971,5.473776817321777,5.6686482429504395,5.37923526763916,5.197869300842285,4.935467720031738,4.9470438957214355,4.921961784362793,4.860219955444336,4.879514694213867,4.952832221984863,4.835137367248535,5.028079509735107,5.045444488525391,4.960550308227539,5.057021617889404,5.172786712646484,5.001068592071533,5.049304485321045,5.211375713348389,5.176645278930664,5.38116455078125,5.232599258422852,5.141915798187256,5.14577579498291,5.2055864334106445,5.402387619018555,5.545165538787842,5.641636371612549,5.439047336578369,5.635848045349121,5.680225849151611,5.767049312591553,5.780555248260498,5.892462730407715,5.9464850425720215,5.969638824462891,6.037168502807617,6.3111467361450195,6.0945305824279785,5.998907089233398,5.877914905548096,6.106239318847656,5.940361976623535,6.000858783721924,6.178444862365723,6.006713390350342,6.227231979370117,6.119900226593018,6.016470432281494,6.0203728675842285,5.889623641967773,5.926701545715332,5.907186508178711,5.8720598220825195,6.149173259735107,6.197959899902344,6.192105770111084,6.115997314453125,6.035985469818115,5.911089897155762,5.8720598220825195,5.682764530181885,5.754970073699951,5.83107852935791,5.8720598220825195,6.141366004943848,6.176493167877197,6.20381498336792,6.285777568817139,6.332613468170166,6.4184794425964355,6.305293083190918,6.400915622711182,6.400915622711182,6.502394199371338,6.514103412628174,6.420431613922119,6.400915622711182,6.315049648284912,6.108190536499023,5.998907089233398,5.8759636878967285,5.8720598220825195,5.891573905944824,5.955974578857422,5.698375701904297,5.678861141204834,5.606656074523926,5.663249969482422,5.553965091705322,5.4700517654418945,5.571528911590576,5.557868480682373,5.5559163093566895,5.60080099105835,5.8018059730529785,5.850593090057373,5.620316028594971,5.678861141204834,5.6495890617370605,5.637879848480225,5.5871405601501465,5.628657817840576,5.626681327819824,5.581209659576416,5.39141321182251,5.245110511779785,5.146259307861328,5.086946964263916,5.16602897644043,5.126489162445068,5.169983386993408,5.219409942626953,5.108695030212402,5.1403279304504395,5.205570220947266,5.009842872619629,5.041475296020508,5.15021276473999,5.2213873863220215,5.2549967765808105,5.3498945236206055,5.199639320373535,5.233249664306641,5.205570220947266,5.411183834075928,5.624704360961914,5.682039737701416,5.703787326812744,5.658314228057861,5.5337605476379395,5.968710899353027,5.968710899353027,6.152576923370361,6.130829811096191,6.091287612915039,6.105127811431885,6.178278923034668,6.192117214202881,6.162461757659912,6.118967533111572,6.000344753265381,5.780890941619873,5.859973430633545,5.863927364349365,5.939055442810059,5.889629364013672,5.857996463775635,5.960803031921387,6.150599956512451,6.198049545288086,6.273177146911621,6.162461757659912,6.093265533447266,6.162461757659912,6.2711992263793945,6.219796180725098,6.344350337982178,6.269222736358643,6.358189582824707,5.682039737701416,5.727511405944824,5.632612705230713,5.612842559814453,5.54166841506958,5.612842559814453,5.608888626098633,5.634929656982422,5.5648193359375,5.4446282386779785,5.416584014892578,5.40656852722168,5.414580821990967,5.458651065826416,5.426599979400635,5.588857173919678,5.552800178527832,5.634929656982422,5.6629743576049805,5.646949291229248,5.536774158477783,5.4947075843811035,5.5067267417907715,5.436614990234375,5.526758193969727,5.5648193359375,5.434613227844238,5.448634147644043,5.3444695472717285,5.3444695472717285,5.37451696395874,5.218269348144531,5.2322916984558105,5.102085590362549,5.084056854248047,4.947840690612793,4.971879005432129,5.007935523986816,5.029970645904541,5.009939193725586,5.035980701446533,4.957857131958008,4.961863040924072,4.805615425109863,4.787586688995361,4.817634105682373,4.719478607177734,4.192644119262695,4.172612190246582,4.152580261230469,4.254742622375488,4.188637733459473,4.3128342628479,4.3809428215026855,4.471085548400879,4.605297565460205,4.537189483642578,4.619319915771484,4.699447154998779,4.699447154998779,4.699447154998779,4.829653263092041,5.220272064208984,5.172197341918945,5.0379838943481445,4.979024887084961,5.019685745239258,5.009520530700684,4.93429708480835,4.985123634338379,5.060347557067871,5.273821830749512,5.279921531677246,5.29008674621582,5.371409893035889,5.3653106689453125,5.139636993408203,5.15183687210083,5.1681013107299805,5.265689373016357,5.310417175292969,5.3653106689453125,5.09490966796875,5.166068077087402,5.27585506439209,5.1376051902771,5.15183687210083,5.135571002960205,5.157935619354248,5.269756317138672,5.082711219787598,4.985123634338379,4.979024887084961,5.009520530700684,5.003421306610107,5.025785446166992,4.621201038360596,4.7452192306518555,4.7757158279418945,4.7391204833984375,4.794013977050781,4.865170955657959,4.852973461151123,4.913965225219727,4.924130439758301,4.9424285888671875,4.915998458862305,4.979024887084961,4.940395355224609,4.95665979385376,5.02985143661499,5.017652988433838,5.0074872970581055,5.0400166511535645,5.162002086639404,5.216895580291748,5.157935619354248,5.233160018920898,5.241293430328369,5.1681013107299805,5.198597431182861,5.330747604370117,5.338881015777588,5.1965651512146,5.342946529388428,5.391740322113037,4.9688591957092285,4.976991176605225,5.0786452293396,5.139636993408203,5.064413547515869,5.015619277954102,5.082711219787598,5.082711219787598,5.198321342468262,4.993939399719238,5.070324420928955,5.093033313751221,5.0083909034729,5.086840629577637,4.929941654205322,4.9567790031433105,4.973294734954834,4.9464569091796875,4.273441314697266,4.304409027099609,4.484017848968506,4.53149938583374,4.636786937713623,4.655368328094482,4.54182243347168,4.537693023681641,4.492275238037109,4.508790969848633,4.471630573272705,4.517048358917236,4.564531326293945,4.556272983551025,4.620271682739258,4.725559234619141,4.715236663818359,4.702850818634033,4.787493705749512,4.787493705749512,4.7936859130859375,4.83084774017334,4.882458209991455,4.7689127922058105,4.684269905090332,4.702850818634033,4.839105606079102,4.948521614074707,4.86594295501709,4.954714775085449,5.033164024353027,5.055874347686768,5.150839805603027,5.026971340179443,4.96090841293335,5.029036045074463,5.051745414733887,4.921683311462402,4.909297466278076,5.0001325607299805,4.965036869049072,4.67807674407959,4.688398838043213,4.876265525817871,4.587240219116211,4.659496784210205,4.570724010467529,4.702850818634033,4.680140972137451,4.720034599304199,4.598254203796387,4.627649784088135,4.486972808837891,4.62135124206543,4.558360576629639,4.61505126953125,4.541563510894775,4.455477237701416,4.323199272155762,4.367291450500488,4.33369779586792,4.295903205871582,4.312701225280762,4.335797309875488,4.436580657958984,4.489071369171143,4.516368389129639,4.537364482879639,4.537364482879639,4.535264492034912,4.516368389129639,4.434481620788574,4.390388011932373,4.386188983917236,4.400886535644531,4.407185077667236,4.4428791999816895,4.413484573364258,4.468076229095459,4.428182601928711,4.482773303985596,4.430282115936279,4.36309289932251,4.367291450500488,4.463876247406006,4.417684078216553,4.556262016296387,4.514267921447754,4.55416202545166,4.484873294830322,4.489071369171143,4.547863006591797,4.604554176330566,4.654944896697998,4.606653690338135,4.636048316955566,4.507969379425049,4.568859577178955,4.587756156921387,4.39458703994751,4.491171836853027,4.430282115936279,4.455477237701416,4.405086040496826,4.543663501739502,4.510068893432617,4.573058605194092,4.073339462280273,4.020848274230957,3.936861276626587,3.945261240005493,3.8843698501586914,3.920064687728882,3.9767558574676514,4.060741901397705,4.037182807922363,4.101434707641602,4.112143516540527,4.182821273803711,4.287765979766846,4.30061674118042,4.345593452453613,4.319892406463623,4.324175834655762,4.304900169372559,4.259923458099365,4.2856245040893555,4.377718925476074,4.422696113586426,4.465530872344971,4.452680587768555,4.424837589263916,4.384144306182861,4.3284592628479,4.3370256423950195,4.394852638244629,4.287765979766846,4.315608501434326,4.332742214202881,4.195671081542969,4.176395893096924,4.221371650695801,4.157119274139404,4.210663318634033,4.294190883636475,4.294190883636475,4.3113250732421875,4.343451499938965,4.2749152183532715,4.199954509735107,4.178537845611572,4.142127513885498,4.020048141479492,4.002914905548096,3.9836390018463135,3.9643635749816895,3.8765523433685303,3.8187248706817627,3.6645193099975586,3.683795213699341,3.760897636413574,3.51888108253479,3.469620943069458,3.4674789905548096,3.426785945892334,3.4653372764587402,3.4931800365448,3.5210230350494385,3.5831332206726074,3.720205068588257,3.7309131622314453,3.8915443420410156,4.073591709136963,4.1806793212890625,4.095492839813232,4.0998616218566895,4.237469673156738,4.2090744972229,4.152283668518066,4.069281578063965,4.193784713745117,4.165389537811279,4.174126625061035,4.078019142150879,4.014675140380859,4.0059380531311035,4.075835227966309,4.01685905456543,3.9862797260284424,4.029965400695801,3.995016574859619,4.0430707931518555,3.9862797260284424,3.9688057899475098,3.9207520484924316,3.98846435546875,3.975358486175537,4.0015692710876465,4.080203056335449,4.200337886810303,4.270234107971191,4.298629283905029,4.35978889465332,3.87925124168396,3.7481954097747803,3.822460174560547,3.9010934829711914,3.960068464279175,3.8333816528320312,3.8006176948547363,3.7088780403137207,3.6782987117767334,3.7263524532318115,3.7460110187530518,3.728536605834961,3.671745538711548,3.638981819152832,3.5450587272644043,3.4183712005615234,3.525400400161743,3.5974810123443604,3.457688093185425,3.5319530963897705,3.4511353969573975,3.4030816555023193,3.5428740978240967,3.5843753814697266,3.582190990447998,3.464240789413452,3.4271085262298584,3.411818742752075,3.488267660140991,3.5122945308685303,3.400897264480591,3.4271085262298584,3.488267660140991,3.564343214035034,3.5911927223205566,3.593430280685425,3.5665805339813232,3.499455213546753,3.546442985534668,3.4793179035186768,3.4927427768707275,3.4591803550720215,3.4256174564361572,3.450230121612549,3.3137426376342773,3.2376675605773926,3.136979818344116,3.0944674015045166,3.020629644393921,3.1414546966552734,3.1056549549102783,3.166067361831665,2.8237290382385254,2.8684792518615723,2.910991907119751,2.9848296642303467,3.034054756164551,3.004967212677002,3.0161545276641846,3.0609045028686523,3.0967047214508057,3.0497171878814697,3.0452418327331543,3.0899922847747803,3.11907958984375,3.056429624557495,3.0251047611236572,2.881904125213623,2.9535045623779297,3.0004920959472656,3.0116794109344482,3.0586671829223633,3.101179838180542,3.054192066192627,3.098942279815674,3.009442090988159,2.8707168102264404,2.908754348754883,2.8841419219970703,2.861767053604126,2.893091917037964,2.915466785430908,2.8438668251037598,2.9669291973114014,3.022867202758789,3.0318171977996826,3.0474796295166016,2.7879292964935303,2.859529495239258,2.834916830062866,2.846104383468628,2.850579261779785,2.834916830062866,2.9199419021606445,3.002729654312134,2.9535045623779297,3.069854736328125,3.186204671859741,3.2667551040649414,3.226480007171631,3.24214243888855,3.2510926723480225,3.2832586765289307,3.228116512298584,3.062689781188965,2.9524056911468506,3.2074382305145264,3.4923393726348877,3.6187071800231934,3.6095168590545654,3.568160057067871,3.5658624172210693,3.47166109085083,3.439495086669922,3.3544843196868896,3.418816566467285,3.3475911617279053,3.253389835357666,3.228116512298584,3.361377000808716,3.480851650238037,3.5543746948242188,3.4142212867736816,3.37746000289917,3.4670660495758057,3.5107202529907227,3.4969348907470703,3.349888801574707,3.349888801574707,3.428007125854492,3.464768648147583,3.421114206314087,3.395840644836426,3.333805799484253,3.402733564376831,3.4073286056518555,3.37746000289917,3.3108296394348145,3.384352684020996,3.359079122543335,3.411924123764038,3.4142212867736816,3.473958730697632,3.5038273334503174,3.4946370124816895,3.5199105739593506,3.4946370124816895,3.561267375946045,3.54288649559021,3.4969348907470703,3.5222082138061523,3.6416831016540527,3.788728713989258,3.901310443878174,3.8507637977600098,3.80251407623291,3.3797576427459717,3.2235212326049805,3.244199514389038,3.1201295852661133,3.0489044189453125,3.228116512298584,3.735884428024292,3.708313226699829,3.7060155868530273,3.676146984100342,3.7129085063934326,3.8277878761291504,3.9150965213775635,3.857656717300415,3.904672622680664,3.8788137435913086,3.9023218154907227,3.876462936401367,3.8835155963897705,3.6484358310699463,3.7659759521484375,3.664891481399536,3.6554882526397705,3.5896661281585693,3.5920166969299316,3.495634078979492,3.507388114929199,3.483880043029785,3.4509689807891846,3.5214927196502686,3.4697751998901367,3.4862308502197266,3.4462673664093018,3.4791786670684814,3.4979848861694336,3.594367742538452,3.6014199256896973,3.540299415588379,3.4627230167388916,3.5544040203094482,3.5896661281585693,3.542649984359741,3.394549608230591,3.2229416370391846,3.4157071113586426,3.448618173599243,3.4321627616882324,3.6084723472595215,3.669593095779419,3.52384352684021,3.5144405364990234,3.5026862621307373,3.493283271789551,3.441565990447998,3.2629053592681885,3.2629053592681885,3.0466320514678955,3.0865957736968994,3.0066685676574707,3.0630874633789062,2.886777639389038,3.2229416370391846,3.173574924468994,3.4274609088897705,3.46037220954895,3.528545379638672,3.4392151832580566,3.2111878395080566,3.260554552078247,3.173574924468994,3.1876800060272217,3.2158892154693604,3.1989636421203613,3.131260633468628,3.1989636421203613,3.092573404312134,3.0853195190429688,3.0587217807769775,3.0780653953552246,3.0417962074279785,3.0055267810821533,2.8918824195861816,2.8217616081237793,2.998272657394409,2.945077657699585,2.969257116317749,3.0514678955078125,3.160276174545288,3.136096715927124,3.684973955154419,3.7430050373077393,3.822798013687134,3.863903045654297,3.85906720161438,3.8324697017669678,3.7816925048828125,3.7550947666168213,3.7913644313812256,3.8131260871887207,3.851813554763794,3.692228078842163,3.7430050373077393,3.8203799724578857,3.84455943107605,3.7478411197662354,2.727461099624634,2.7081172466278076,2.741968870162964,2.7177891731262207,2.749222755432129,2.8507771492004395,2.783074378967285,2.773402452468872,2.744386911392212,2.732296943664551,2.792746067047119,2.773402452468872,2.739550828933716,2.763730525970459,2.7081172466278076,2.7081172466278076,2.6670119762420654,2.749222755432129,2.792746067047119,2.8145077228546143,2.8217616081237793,2.8290154933929443,2.8411052227020264,2.797581911087036,2.8048360347747803,2.795164108276367,2.8024179935455322,2.6525044441223145,2.722625255584717,2.773402452468872,2.799999952316284,2.737499952316284,2.765000104904175,2.7674999237060547,2.740000009536743,2.625,2.637500047683716,2.612499952316284,2.5350000858306885,2.5875000953674316,2.572499990463257,2.547499895095825,2.5399999618530273,2.5924999713897705,2.5250000953674316,2.4075000286102295,2.507499933242798,2.4649999141693115,2.484999895095825,2.4549999237060547,2.492500066757202,2.440000057220459,2.3299999237060547,2.234999895095825,2.2699999809265137,2.234999895095825,2.192500114440918,2.1624999046325684,2.2225000858306885,2.252500057220459,2.237499952316284,2.2225000858306885,2.190000057220459,2.1624999046325684,2.127500057220459,2.192500114440918,2.242500066757202,2.2125000953674316,2.192500114440918,2.172499895095825,2.130000114440918,2.119999885559082,2.065000057220459,2.132499933242798,2.172499895095825,2.1675000190734863,2.1524999141693115,2.015000104904175,2.0325000286102295,1.975000023841858,1.9249999523162842,1.9550000429153442,1.934999942779541,1.8925000429153442,1.899999976158142,1.8949999809265137,1.8674999475479126,1.9550000429153442,1.2599999904632568,1.2825000286102295,1.2549999952316284,1.3600000143051147,1.4299999475479126,1.375,1.4249999523162842,1.4075000286102295,1.4249999523162842,1.4325000047683716,1.4075000286102295,1.3825000524520874,1.3550000190734863,1.3424999713897705,1.3624999523162842,1.3674999475479126,1.3849999904632568,1.3674999475479126,1.340000033378601,1.3450000286102295,1.3274999856948853,1.3799999952316284,1.3624999523162842,1.3274999856948853,1.2949999570846558,1.2100000381469727,1.2274999618530273,1.1875,1.1575000286102295,1.0950000286102295,1.0499999523162842,1.0800000429153442,1.034999966621399,1.0225000381469727,1.0199999809265137,0.9950000047683716,1.002500057220459,1.0299999713897705,1.0075000524520874,1.0049999952316284,0.9599999785423279,0.9449999928474426,0.9275000095367432,0.9524999856948853,0.9524999856948853,0.9725000262260437,0.8974999785423279,0.8774999976158142,0.8675000071525574,0.8299999833106995,0.8025000095367432,0.8299999833106995,0.8450000286102295,0.8550000190734863,0.8849999904632568,0.9674999713897705,0.9125000238418579,0.9549999833106995,0.925000011920929,0.9700000286102295,1.0575000047683716,0.9925000071525574,0.9524999856948853,0.9950000047683716,1.0575000047683716,1.0774999856948853,1.190000057220459,1.2725000381469727,1.1475000381469727,1.1449999809265137,1.1024999618530273,1.087499976158142,1.0824999809265137,1.149999976158142,1.1100000143051147,1.1749999523162842,1.2549999952316284,1.252500057220459,1.2999999523162842,1.3200000524520874,1.3350000381469727,1.3799999952316284,1.3949999809265137,1.3300000429153442,1.3550000190734863,1.3875000476837158,1.372499942779541,1.3075000047683716,1.247499942779541,1.2625000476837158,1.3424999713897705,1.3949999809265137,1.402500033378601,1.4700000286102295,1.5075000524520874,1.4850000143051147,1.4824999570846558,1.597499966621399,1.6074999570846558,1.6050000190734863,1.587499976158142,1.5475000143051147,1.4524999856948853,1.4325000047683716,1.3600000143051147,1.4600000381469727,1.462499976158142,1.4774999618530273,1.5225000381469727,1.5549999475479126,1.5225000381469727,1.5049999952316284,1.4800000190734863,1.4850000143051147,1.4950000047683716,1.4700000286102295,1.4049999713897705,1.375,1.3650000095367432,1.375,1.4149999618530273,1.5075000524520874,1.524999976158142,1.587499976158142,1.5850000381469727,1.5425000190734863,1.5299999713897705,1.6074999570846558,1.600000023841858,1.6699999570846558,1.5824999809265137,1.627500057220459,1.3825000524520874,1.3949999809265137,1.3624999523162842,1.375,1.5149999856948853,1.5399999618530273,1.5149999856948853,1.497499942779541,1.402500033378601,1.3600000143051147,1.350000023841858,1.475000023841858,1.5325000286102295,1.5199999809265137,1.5774999856948853,1.4700000286102295,1.462499976158142,1.3799999952316284,1.4299999475479126,1.3875000476837158,1.3574999570846558,1.3574999570846558,1.1775000095367432,1.152500033378601,1.1549999713897705,1.1875,1.1475000381469727,1.1399999856948853,1.1549999713897705,1.0800000429153442,1.0700000524520874,1.0525000095367432,1.0325000286102295,0.9825000166893005,0.9599999785423279,0.987500011920929,1.0175000429153442,1.0449999570846558,1.034999966621399,0.9524999856948853,0.9850000143051147,1.0049999952316284,1.0475000143051147,1.027500033378601,1.0049999952316284,1.0149999856948853,1.037500023841858,1.034999966621399,1.0099999904632568,0.925000011920929,0.8899999856948853,0.8475000262260437,0.8675000071525574,0.8999999761581421,0.9574999809265137,0.9075000286102295,0.9424999952316284,0.9900000095367432,0.9800000190734863,0.925000011920929,1.0575000047683716,1.034999966621399,0.9950000047683716,1.1475000381469727,1.0924999713897705,1.0575000047683716,0.9424999952316284,1.0475000143051147,0.9399999976158142,0.9524999856948853,1.0399999618530273,1.0425000190734863,1.1024999618530273,1.0549999475479126,0.9125000238418579,0.875,0.8125,0.7124999761581421,0.699999988079071,0.7724999785423279,0.8174999952316284,0.8525000214576721,0.9725000262260437,1.184999942779541,1.4874999523162842,1.3174999952316284,1.2575000524520874,1.2200000286102295,1.402500033378601,1.1950000524520874,1.222499966621399,1.1749999523162842,1.1924999952316284,1.4550000429153442,1.409999966621399,1.5099999904632568,1.4325000047683716,1.5125000476837158,1.3700000047683716,1.347499966621399,1.2324999570846558,1.2174999713897705,1.2450000047683716,1.190000057220459,1.1349999904632568,1.0525000095367432,1.0325000286102295,1.0549999475479126,1.1449999809265137,1.1100000143051147,1.1074999570846558,1.1100000143051147,1.0449999570846558,1.1050000190734863,1.1725000143051147,1.0824999809265137,1.0149999856948853,1.0325000286102295,1.0449999570846558,1.1100000143051147,1.1174999475479126,1.034999966621399,1.252500057220459,1.2400000095367432,1.2675000429153442,1.0924999713897705,1.1799999475479126,1.1725000143051147,1.159999966621399,1.190000057220459,1.2374999523162842,1.2200000286102295,1.2174999713897705,1.2074999809265137,1.1024999618530273,1.1150000095367432,1.087499976158142,1.0950000286102295,1.0850000381469727,1.1100000143051147,1.0724999904632568,1.059999942779541,1.0225000381469727,1.065000057220459,1.0525000095367432,1.0850000381469727,1.065000057220459,1.0199999809265137,1.0475000143051147,1.0425000190734863,0.9900000095367432,0.9624999761581421,1.002500057220459,1.027500033378601,1.027500033378601,1.0075000524520874,1.002500057220459,0.9850000143051147,1.0149999856948853,1.024999976158142,1.002500057220459,1.037500023841858,1.1074999570846558,1.1575000286102295,1.1074999570846558,1.0399999618530273,1.0824999809265137,1.087499976158142,1.1299999952316284,1.159999966621399,1.1875,1.1575000286102295,1.2024999856948853,1.1799999475479126,1.152500033378601,1.2575000524520874,1.2174999713897705,1.2450000047683716,1.277500033378601,1.3125,1.347499966621399,1.6699999570846558,1.912500023841858,1.9275000095367432,1.9550000429153442,1.912500023841858,1.9249999523162842,1.837499976158142,1.5575000047683716,1.5225000381469727,1.7274999618530273,1.7725000381469727,2.1700000762939453,2.299999952316284,2.367500066757202,2.1875,2.640000104904175,2.509999990463257,2.2850000858306885,2.505000114440918,2.5225000381469727,2.5875000953674316,2.549999952316284,2.442500114440918,2.3475000858306885,2.365000009536743,2.2825000286102295,2.3399999141693115,3.372499942779541,3.005000114440918,2.950000047683716,2.9700000286102295,3.0625,3.4574999809265137,3.327500104904175,3.4774999618530273,3.4649999141693115,3.5250000953674316,3.7274999618530273,3.75,3.362499952316284,3.172499895095825,2.9549999237060547,2.932499885559082,2.617500066757202,2.6875,2.8924999237060547,2.7274999618530273,2.862499952316284,2.9649999141693115,2.872499942779541,2.7750000953674316,2.9375,2.7825000286102295,2.752500057220459,3.015000104904175,2.9075000286102295,2.8924999237060547,3.115000009536743,3.177500009536743,3.4749999046325684,3.4175000190734863,3.6875,4.019999980926514,4.139999866485596,3.950000047683716,4.144999980926514,4.03000020980835,4.224999904632568,4.087500095367432,4.235000133514404,3.4149999618530273,3.5299999713897705,3.327500104904175,3.180000066757202,3.4625000953674316,3.4625000953674316,3.7074999809265137,3.9075000286102295,3.882499933242798,4.864999771118164,5.142499923706055,5.037499904632568,5.247499942779541,4.84499979019165,4.815000057220459,4.710000038146973,4.3125,4.34250020980835,4.590000152587891,4.519999980926514,4.422500133514404,4.985000133514404,4.987500190734863,7.849999904632568,9.977499961853027,8.875,9.84000015258789,9.779999732971191,10.757499694824219,16.252500534057617,19.197500228881836,36.994998931884766,86.87750244140625,48.400001525878906,81.25,56.25,22.5,23.102500915527344,13.375,15.942500114440918,15.0,12.577500343322754,12.800000190734863,12.774999618530273,13.100000381469727,12.3774995803833,11.484999656677246,10.172499656677246,10.147500038146973,11.5,11.242500305175781,22.927499771118164,27.1825008392334,25.434999465942383,30.100000381469727,29.545000076293945,31.045000076293945,33.087501525878906,34.435001373291016,48.625,61.724998474121094,66.25,65.0,66.125,55.03499984741211,52.04249954223633,52.45249938964844,50.4375,50.067501068115234,48.622501373291016,45.4375,30.084999084472656,45.9375,45.25,45.32500076293945,48.6150016784668,47.45500183105469,47.86249923706055,46.73749923706055,46.125,44.49250030517578,42.564998626708984,39.59000015258789,35.272499084472656,35.247501373291016,41.63249969482422,39.11000061035156,38.67250061035156,41.092498779296875,39.63249969482422,39.627498626708984,37.79249954223633,37.79499816894531,42.23249816894531,44.442501068115234,44.64500045776367,44.04750061035156,43.397499084472656,40.54999923706055,40.182498931884766,39.869998931884766,40.252498626708984,40.27750015258789,35.80500030517578,36.72999954223633,36.1974983215332,41.125,39.97999954223633,45.150001525878906,45.16749954223633,42.20750045776367,42.622501373291016,44.1974983215332,45.002498626708984,52.35749816894531,60.63999938964844,63.532501220703125,55.5,62.255001068115234,70.55999755859375,64.54499816894531,62.09000015258789,70.00250244140625,75.0,75.63999938964844,55.09749984741211,58.334999084472656,57.36000061035156],\"type\":\"scatter\",\"xaxis\":\"x\",\"yaxis\":\"y\"},{\"name\":\"Revenue\",\"x\":[\"2020-04-30T00:00:00\",\"2020-01-31T00:00:00\",\"2019-10-31T00:00:00\",\"2019-07-31T00:00:00\",\"2019-04-30T00:00:00\",\"2019-01-31T00:00:00\",\"2018-10-31T00:00:00\",\"2018-07-31T00:00:00\",\"2018-04-30T00:00:00\",\"2018-01-31T00:00:00\",\"2017-10-31T00:00:00\",\"2017-07-31T00:00:00\",\"2017-04-30T00:00:00\",\"2017-01-31T00:00:00\",\"2016-10-31T00:00:00\",\"2016-07-31T00:00:00\",\"2016-04-30T00:00:00\",\"2016-01-31T00:00:00\",\"2015-10-31T00:00:00\",\"2015-07-31T00:00:00\",\"2015-04-30T00:00:00\",\"2015-01-31T00:00:00\",\"2014-10-31T00:00:00\",\"2014-07-31T00:00:00\",\"2014-04-30T00:00:00\",\"2014-01-31T00:00:00\",\"2013-10-31T00:00:00\",\"2013-07-31T00:00:00\",\"2013-04-30T00:00:00\",\"2013-01-31T00:00:00\",\"2012-10-31T00:00:00\",\"2012-07-31T00:00:00\",\"2012-04-30T00:00:00\",\"2012-01-31T00:00:00\",\"2011-10-31T00:00:00\",\"2011-07-31T00:00:00\",\"2011-04-30T00:00:00\",\"2011-01-31T00:00:00\",\"2010-10-31T00:00:00\",\"2010-07-31T00:00:00\",\"2010-04-30T00:00:00\",\"2010-01-31T00:00:00\",\"2009-10-31T00:00:00\",\"2009-07-31T00:00:00\",\"2009-04-30T00:00:00\",\"2009-01-31T00:00:00\",\"2008-10-31T00:00:00\",\"2008-07-31T00:00:00\",\"2008-04-30T00:00:00\",\"2008-01-31T00:00:00\",\"2007-10-31T00:00:00\",\"2007-07-31T00:00:00\",\"2007-04-30T00:00:00\",\"2007-01-31T00:00:00\",\"2006-10-31T00:00:00\",\"2006-07-31T00:00:00\",\"2006-04-30T00:00:00\",\"2006-01-31T00:00:00\",\"2005-10-31T00:00:00\",\"2005-07-31T00:00:00\",\"2005-04-30T00:00:00\",\"2005-01-31T00:00:00\"],\"y\":[1021.0,2194.0,1439.0,1286.0,1548.0,3063.0,1935.0,1501.0,1786.0,2825.0,1989.0,1688.0,2046.0,2403.0,1959.0,1632.0,1972.0,3525.0,2016.0,1762.0,2061.0,3476.0,2092.0,1731.0,1996.0,3684.0,2107.0,1384.0,1865.0,3562.0,1773.0,1550.0,2002.0,3579.0,1947.0,1744.0,2281.0,3693.0,1899.0,1799.0,2083.0,3524.0,1835.0,1739.0,1981.0,3492.0,1696.0,1804.0,1814.0,2866.0,1611.0,1338.0,1279.0,2304.0,1012.0,963.0,1040.0,1667.0,534.0,416.0,475.0,709.0],\"type\":\"scatter\",\"xaxis\":\"x2\",\"yaxis\":\"y2\"}],                        {\"template\":{\"data\":{\"bar\":[{\"error_x\":{\"color\":\"#2a3f5f\"},\"error_y\":{\"color\":\"#2a3f5f\"},\"marker\":{\"line\":{\"color\":\"#E5ECF6\",\"width\":0.5},\"pattern\":{\"fillmode\":\"overlay\",\"size\":10,\"solidity\":0.2}},\"type\":\"bar\"}],\"barpolar\":[{\"marker\":{\"line\":{\"color\":\"#E5ECF6\",\"width\":0.5},\"pattern\":{\"fillmode\":\"overlay\",\"size\":10,\"solidity\":0.2}},\"type\":\"barpolar\"}],\"carpet\":[{\"aaxis\":{\"endlinecolor\":\"#2a3f5f\",\"gridcolor\":\"white\",\"linecolor\":\"white\",\"minorgridcolor\":\"white\",\"startlinecolor\":\"#2a3f5f\"},\"baxis\":{\"endlinecolor\":\"#2a3f5f\",\"gridcolor\":\"white\",\"linecolor\":\"white\",\"minorgridcolor\":\"white\",\"startlinecolor\":\"#2a3f5f\"},\"type\":\"carpet\"}],\"choropleth\":[{\"colorbar\":{\"outlinewidth\":0,\"ticks\":\"\"},\"type\":\"choropleth\"}],\"contour\":[{\"colorbar\":{\"outlinewidth\":0,\"ticks\":\"\"},\"colorscale\":[[0.0,\"#0d0887\"],[0.1111111111111111,\"#46039f\"],[0.2222222222222222,\"#7201a8\"],[0.3333333333333333,\"#9c179e\"],[0.4444444444444444,\"#bd3786\"],[0.5555555555555556,\"#d8576b\"],[0.6666666666666666,\"#ed7953\"],[0.7777777777777778,\"#fb9f3a\"],[0.8888888888888888,\"#fdca26\"],[1.0,\"#f0f921\"]],\"type\":\"contour\"}],\"contourcarpet\":[{\"colorbar\":{\"outlinewidth\":0,\"ticks\":\"\"},\"type\":\"contourcarpet\"}],\"heatmap\":[{\"colorbar\":{\"outlinewidth\":0,\"ticks\":\"\"},\"colorscale\":[[0.0,\"#0d0887\"],[0.1111111111111111,\"#46039f\"],[0.2222222222222222,\"#7201a8\"],[0.3333333333333333,\"#9c179e\"],[0.4444444444444444,\"#bd3786\"],[0.5555555555555556,\"#d8576b\"],[0.6666666666666666,\"#ed7953\"],[0.7777777777777778,\"#fb9f3a\"],[0.8888888888888888,\"#fdca26\"],[1.0,\"#f0f921\"]],\"type\":\"heatmap\"}],\"heatmapgl\":[{\"colorbar\":{\"outlinewidth\":0,\"ticks\":\"\"},\"colorscale\":[[0.0,\"#0d0887\"],[0.1111111111111111,\"#46039f\"],[0.2222222222222222,\"#7201a8\"],[0.3333333333333333,\"#9c179e\"],[0.4444444444444444,\"#bd3786\"],[0.5555555555555556,\"#d8576b\"],[0.6666666666666666,\"#ed7953\"],[0.7777777777777778,\"#fb9f3a\"],[0.8888888888888888,\"#fdca26\"],[1.0,\"#f0f921\"]],\"type\":\"heatmapgl\"}],\"histogram\":[{\"marker\":{\"pattern\":{\"fillmode\":\"overlay\",\"size\":10,\"solidity\":0.2}},\"type\":\"histogram\"}],\"histogram2d\":[{\"colorbar\":{\"outlinewidth\":0,\"ticks\":\"\"},\"colorscale\":[[0.0,\"#0d0887\"],[0.1111111111111111,\"#46039f\"],[0.2222222222222222,\"#7201a8\"],[0.3333333333333333,\"#9c179e\"],[0.4444444444444444,\"#bd3786\"],[0.5555555555555556,\"#d8576b\"],[0.6666666666666666,\"#ed7953\"],[0.7777777777777778,\"#fb9f3a\"],[0.8888888888888888,\"#fdca26\"],[1.0,\"#f0f921\"]],\"type\":\"histogram2d\"}],\"histogram2dcontour\":[{\"colorbar\":{\"outlinewidth\":0,\"ticks\":\"\"},\"colorscale\":[[0.0,\"#0d0887\"],[0.1111111111111111,\"#46039f\"],[0.2222222222222222,\"#7201a8\"],[0.3333333333333333,\"#9c179e\"],[0.4444444444444444,\"#bd3786\"],[0.5555555555555556,\"#d8576b\"],[0.6666666666666666,\"#ed7953\"],[0.7777777777777778,\"#fb9f3a\"],[0.8888888888888888,\"#fdca26\"],[1.0,\"#f0f921\"]],\"type\":\"histogram2dcontour\"}],\"mesh3d\":[{\"colorbar\":{\"outlinewidth\":0,\"ticks\":\"\"},\"type\":\"mesh3d\"}],\"parcoords\":[{\"line\":{\"colorbar\":{\"outlinewidth\":0,\"ticks\":\"\"}},\"type\":\"parcoords\"}],\"pie\":[{\"automargin\":true,\"type\":\"pie\"}],\"scatter\":[{\"marker\":{\"colorbar\":{\"outlinewidth\":0,\"ticks\":\"\"}},\"type\":\"scatter\"}],\"scatter3d\":[{\"line\":{\"colorbar\":{\"outlinewidth\":0,\"ticks\":\"\"}},\"marker\":{\"colorbar\":{\"outlinewidth\":0,\"ticks\":\"\"}},\"type\":\"scatter3d\"}],\"scattercarpet\":[{\"marker\":{\"colorbar\":{\"outlinewidth\":0,\"ticks\":\"\"}},\"type\":\"scattercarpet\"}],\"scattergeo\":[{\"marker\":{\"colorbar\":{\"outlinewidth\":0,\"ticks\":\"\"}},\"type\":\"scattergeo\"}],\"scattergl\":[{\"marker\":{\"colorbar\":{\"outlinewidth\":0,\"ticks\":\"\"}},\"type\":\"scattergl\"}],\"scattermapbox\":[{\"marker\":{\"colorbar\":{\"outlinewidth\":0,\"ticks\":\"\"}},\"type\":\"scattermapbox\"}],\"scatterpolar\":[{\"marker\":{\"colorbar\":{\"outlinewidth\":0,\"ticks\":\"\"}},\"type\":\"scatterpolar\"}],\"scatterpolargl\":[{\"marker\":{\"colorbar\":{\"outlinewidth\":0,\"ticks\":\"\"}},\"type\":\"scatterpolargl\"}],\"scatterternary\":[{\"marker\":{\"colorbar\":{\"outlinewidth\":0,\"ticks\":\"\"}},\"type\":\"scatterternary\"}],\"surface\":[{\"colorbar\":{\"outlinewidth\":0,\"ticks\":\"\"},\"colorscale\":[[0.0,\"#0d0887\"],[0.1111111111111111,\"#46039f\"],[0.2222222222222222,\"#7201a8\"],[0.3333333333333333,\"#9c179e\"],[0.4444444444444444,\"#bd3786\"],[0.5555555555555556,\"#d8576b\"],[0.6666666666666666,\"#ed7953\"],[0.7777777777777778,\"#fb9f3a\"],[0.8888888888888888,\"#fdca26\"],[1.0,\"#f0f921\"]],\"type\":\"surface\"}],\"table\":[{\"cells\":{\"fill\":{\"color\":\"#EBF0F8\"},\"line\":{\"color\":\"white\"}},\"header\":{\"fill\":{\"color\":\"#C8D4E3\"},\"line\":{\"color\":\"white\"}},\"type\":\"table\"}]},\"layout\":{\"annotationdefaults\":{\"arrowcolor\":\"#2a3f5f\",\"arrowhead\":0,\"arrowwidth\":1},\"autotypenumbers\":\"strict\",\"coloraxis\":{\"colorbar\":{\"outlinewidth\":0,\"ticks\":\"\"}},\"colorscale\":{\"diverging\":[[0,\"#8e0152\"],[0.1,\"#c51b7d\"],[0.2,\"#de77ae\"],[0.3,\"#f1b6da\"],[0.4,\"#fde0ef\"],[0.5,\"#f7f7f7\"],[0.6,\"#e6f5d0\"],[0.7,\"#b8e186\"],[0.8,\"#7fbc41\"],[0.9,\"#4d9221\"],[1,\"#276419\"]],\"sequential\":[[0.0,\"#0d0887\"],[0.1111111111111111,\"#46039f\"],[0.2222222222222222,\"#7201a8\"],[0.3333333333333333,\"#9c179e\"],[0.4444444444444444,\"#bd3786\"],[0.5555555555555556,\"#d8576b\"],[0.6666666666666666,\"#ed7953\"],[0.7777777777777778,\"#fb9f3a\"],[0.8888888888888888,\"#fdca26\"],[1.0,\"#f0f921\"]],\"sequentialminus\":[[0.0,\"#0d0887\"],[0.1111111111111111,\"#46039f\"],[0.2222222222222222,\"#7201a8\"],[0.3333333333333333,\"#9c179e\"],[0.4444444444444444,\"#bd3786\"],[0.5555555555555556,\"#d8576b\"],[0.6666666666666666,\"#ed7953\"],[0.7777777777777778,\"#fb9f3a\"],[0.8888888888888888,\"#fdca26\"],[1.0,\"#f0f921\"]]},\"colorway\":[\"#636efa\",\"#EF553B\",\"#00cc96\",\"#ab63fa\",\"#FFA15A\",\"#19d3f3\",\"#FF6692\",\"#B6E880\",\"#FF97FF\",\"#FECB52\"],\"font\":{\"color\":\"#2a3f5f\"},\"geo\":{\"bgcolor\":\"white\",\"lakecolor\":\"white\",\"landcolor\":\"#E5ECF6\",\"showlakes\":true,\"showland\":true,\"subunitcolor\":\"white\"},\"hoverlabel\":{\"align\":\"left\"},\"hovermode\":\"closest\",\"mapbox\":{\"style\":\"light\"},\"paper_bgcolor\":\"white\",\"plot_bgcolor\":\"#E5ECF6\",\"polar\":{\"angularaxis\":{\"gridcolor\":\"white\",\"linecolor\":\"white\",\"ticks\":\"\"},\"bgcolor\":\"#E5ECF6\",\"radialaxis\":{\"gridcolor\":\"white\",\"linecolor\":\"white\",\"ticks\":\"\"}},\"scene\":{\"xaxis\":{\"backgroundcolor\":\"#E5ECF6\",\"gridcolor\":\"white\",\"gridwidth\":2,\"linecolor\":\"white\",\"showbackground\":true,\"ticks\":\"\",\"zerolinecolor\":\"white\"},\"yaxis\":{\"backgroundcolor\":\"#E5ECF6\",\"gridcolor\":\"white\",\"gridwidth\":2,\"linecolor\":\"white\",\"showbackground\":true,\"ticks\":\"\",\"zerolinecolor\":\"white\"},\"zaxis\":{\"backgroundcolor\":\"#E5ECF6\",\"gridcolor\":\"white\",\"gridwidth\":2,\"linecolor\":\"white\",\"showbackground\":true,\"ticks\":\"\",\"zerolinecolor\":\"white\"}},\"shapedefaults\":{\"line\":{\"color\":\"#2a3f5f\"}},\"ternary\":{\"aaxis\":{\"gridcolor\":\"white\",\"linecolor\":\"white\",\"ticks\":\"\"},\"baxis\":{\"gridcolor\":\"white\",\"linecolor\":\"white\",\"ticks\":\"\"},\"bgcolor\":\"#E5ECF6\",\"caxis\":{\"gridcolor\":\"white\",\"linecolor\":\"white\",\"ticks\":\"\"}},\"title\":{\"x\":0.05},\"xaxis\":{\"automargin\":true,\"gridcolor\":\"white\",\"linecolor\":\"white\",\"ticks\":\"\",\"title\":{\"standoff\":15},\"zerolinecolor\":\"white\",\"zerolinewidth\":2},\"yaxis\":{\"automargin\":true,\"gridcolor\":\"white\",\"linecolor\":\"white\",\"ticks\":\"\",\"title\":{\"standoff\":15},\"zerolinecolor\":\"white\",\"zerolinewidth\":2}}},\"xaxis\":{\"anchor\":\"y\",\"domain\":[0.0,1.0],\"matches\":\"x2\",\"showticklabels\":false,\"title\":{\"text\":\"Date\"},\"rangeslider\":{\"visible\":true}},\"yaxis\":{\"anchor\":\"x\",\"domain\":[0.6499999999999999,0.9999999999999999],\"title\":{\"text\":\"Price ($US)\"}},\"xaxis2\":{\"anchor\":\"y2\",\"domain\":[0.0,1.0],\"title\":{\"text\":\"Date\"}},\"yaxis2\":{\"anchor\":\"x2\",\"domain\":[0.0,0.35],\"title\":{\"text\":\"Revenue ($US Millions)\"}},\"annotations\":[{\"font\":{\"size\":16},\"showarrow\":false,\"text\":\"Historical Share Price\",\"x\":0.5,\"xanchor\":\"center\",\"xref\":\"paper\",\"y\":0.9999999999999999,\"yanchor\":\"bottom\",\"yref\":\"paper\"},{\"font\":{\"size\":16},\"showarrow\":false,\"text\":\"Historical Revenue\",\"x\":0.5,\"xanchor\":\"center\",\"xref\":\"paper\",\"y\":0.35,\"yanchor\":\"bottom\",\"yref\":\"paper\"}],\"showlegend\":false,\"height\":900,\"title\":{\"text\":\"GameStop\"}},                        {\"responsive\": true}                    ).then(function(){\n",
              "                            \n",
              "var gd = document.getElementById('aea186b7-113d-4b15-9c8d-279adeca8806');\n",
              "var x = new MutationObserver(function (mutations, observer) {{\n",
              "        var display = window.getComputedStyle(gd).display;\n",
              "        if (!display || display === 'none') {{\n",
              "            console.log([gd, 'removed!']);\n",
              "            Plotly.purge(gd);\n",
              "            observer.disconnect();\n",
              "        }}\n",
              "}});\n",
              "\n",
              "// Listen for the removal of the full notebook cells\n",
              "var notebookContainer = gd.closest('#notebook-container');\n",
              "if (notebookContainer) {{\n",
              "    x.observe(notebookContainer, {childList: true});\n",
              "}}\n",
              "\n",
              "// Listen for the clearing of the current output cell\n",
              "var outputEl = gd.closest('.output');\n",
              "if (outputEl) {{\n",
              "    x.observe(outputEl, {childList: true});\n",
              "}}\n",
              "\n",
              "                        })                };                            </script>        </div>\n",
              "</body>\n",
              "</html>"
            ]
          },
          "metadata": {}
        }
      ],
      "source": [
        "make_graph(gme_data,gme_revenue,'GameStop')"
      ]
    },
    {
      "cell_type": "markdown",
      "metadata": {
        "id": "vxo6nGWv-0ix"
      },
      "source": [
        "<h2>About the Authors:</h2> \n",
        "\n",
        "<a href=\"https://www.linkedin.com/in/joseph-s-50398b136/?utm_medium=Exinfluencer&utm_source=Exinfluencer&utm_content=000026UJ&utm_term=10006555&utm_id=NA-SkillsNetwork-Channel-SkillsNetworkCoursesIBMDeveloperSkillsNetworkPY0220ENSkillsNetwork23455606-2022-01-01\">Joseph Santarcangelo</a> has a PhD in Electrical Engineering, his research focused on using machine learning, signal processing, and computer vision to determine how videos impact human cognition. Joseph has been working for IBM since he completed his PhD.\n",
        "\n",
        "Azim Hirjani\n"
      ]
    },
    {
      "cell_type": "markdown",
      "metadata": {
        "id": "PQMRIQ3F-0ix"
      },
      "source": [
        "## Change Log\n",
        "\n",
        "| Date (YYYY-MM-DD) | Version | Changed By    | Change Description          |\n",
        "| ----------------- | ------- | ------------- | --------------------------- |\n",
        "| 2022-02-28        | 1.2     | Lakshmi Holla | Changed the URL of GameStop |\n",
        "| 2020-11-10        | 1.1     | Malika Singla | Deleted the Optional part   |\n",
        "| 2020-08-27        | 1.0     | Malika Singla | Added lab to GitLab         |\n",
        "\n",
        "<hr>\n",
        "\n",
        "## <h3 align=\"center\"> © IBM Corporation 2020. All rights reserved. <h3/>\n",
        "\n",
        "<p>\n"
      ]
    }
  ],
  "metadata": {
    "kernelspec": {
      "display_name": "Python 3",
      "language": "python",
      "name": "python3"
    },
    "language_info": {
      "codemirror_mode": {
        "name": "ipython",
        "version": 3
      },
      "file_extension": ".py",
      "mimetype": "text/x-python",
      "name": "python",
      "nbconvert_exporter": "python",
      "pygments_lexer": "ipython3",
      "version": "3.8.8"
    },
    "colab": {
      "name": "Final Assignment.ipynb",
      "provenance": [],
      "collapsed_sections": []
    }
  },
  "nbformat": 4,
  "nbformat_minor": 0
}